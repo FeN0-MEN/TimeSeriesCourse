{
  "cells": [
    {
      "cell_type": "markdown",
      "metadata": {
        "id": "bfrbKvRU6Nmf"
      },
      "source": [
        "# Анализ и прогнозирование временных рядов методами искусственного интеллекта\n",
        "\n",
        "## **Практическая работа 2. Поиск по образцу.**"
      ]
    },
    {
      "cell_type": "markdown",
      "metadata": {
        "id": "2952siVr43gU"
      },
      "source": [
        "Смените рабочую директорию с помощью команды `chdir()`. Для этого передайте этой команде свой путь до каталога, в котором содержатся материалы второй практической работы. После выполнения этой команды все последующие операции с файлами и каталогами будут производиться относительно указанного каталога."
      ]
    },
    {
      "cell_type": "code",
      "execution_count": 4,
      "metadata": {
        "id": "TQZ4rNEl6ICx"
      },
      "outputs": [],
      "source": [
        "import os\n",
        "\n",
        "practice_dir_path = 'c:/TimeSeriesCourse/practice/02 Similarity search'\n",
        "os.chdir(practice_dir_path)"
      ]
    },
    {
      "cell_type": "markdown",
      "metadata": {
        "id": "50ggs2mK46lM"
      },
      "source": [
        "Выполните команды, которые автоматически перезагружают все импортированные модули при их изменении."
      ]
    },
    {
      "cell_type": "code",
      "execution_count": 5,
      "metadata": {
        "id": "yiV3X0-STnFk"
      },
      "outputs": [],
      "source": [
        "%load_ext autoreload\n",
        "%autoreload 2"
      ]
    },
    {
      "cell_type": "markdown",
      "metadata": {
        "id": "SkBt8uY9_J9u"
      },
      "source": [
        "Импортируйте библиотеки и модули, необходимые для реализации практической работы 2."
      ]
    },
    {
      "cell_type": "code",
      "execution_count": 6,
      "metadata": {
        "id": "vNKNrQ6_UIq6"
      },
      "outputs": [
        {
          "name": "stdout",
          "output_type": "stream",
          "text": [
            "Defaulting to user installation because normal site-packages is not writeable\n",
            "Collecting mass-ts\n",
            "  Downloading mass_ts-0.1.4-py2.py3-none-any.whl.metadata (5.6 kB)\n",
            "Requirement already satisfied: numpy in c:\\users\\delsi\\appdata\\roaming\\python\\python313\\site-packages (from mass-ts) (2.2.6)\n",
            "Downloading mass_ts-0.1.4-py2.py3-none-any.whl (15 kB)\n",
            "Installing collected packages: mass-ts\n",
            "Successfully installed mass-ts-0.1.4\n"
          ]
        },
        {
          "name": "stderr",
          "output_type": "stream",
          "text": [
            "\n",
            "[notice] A new release of pip is available: 25.0.1 -> 25.2\n",
            "[notice] To update, run: python.exe -m pip install --upgrade pip\n"
          ]
        },
        {
          "name": "stdout",
          "output_type": "stream",
          "text": [
            "Defaulting to user installation because normal site-packages is not writeable\n",
            "Requirement already satisfied: sktime in c:\\users\\delsi\\appdata\\roaming\\python\\python313\\site-packages (0.39.0)\n",
            "Requirement already satisfied: joblib<1.6,>=1.2.0 in c:\\users\\delsi\\appdata\\roaming\\python\\python313\\site-packages (from sktime) (1.5.2)\n",
            "Requirement already satisfied: numpy<2.4,>=1.21 in c:\\users\\delsi\\appdata\\roaming\\python\\python313\\site-packages (from sktime) (2.2.6)\n",
            "Requirement already satisfied: packaging in c:\\python313\\lib\\site-packages (from sktime) (25.0)\n",
            "Requirement already satisfied: pandas<2.4.0,>=1.1 in c:\\users\\delsi\\appdata\\roaming\\python\\python313\\site-packages (from sktime) (2.3.3)\n",
            "Requirement already satisfied: scikit-base<0.13.0,>=0.6.1 in c:\\users\\delsi\\appdata\\roaming\\python\\python313\\site-packages (from sktime) (0.12.6)\n",
            "Requirement already satisfied: scikit-learn<1.8.0,>=0.24 in c:\\users\\delsi\\appdata\\roaming\\python\\python313\\site-packages (from sktime) (1.7.2)\n",
            "Requirement already satisfied: scipy<2.0.0,>=1.2 in c:\\users\\delsi\\appdata\\roaming\\python\\python313\\site-packages (from sktime) (1.16.2)\n",
            "Requirement already satisfied: python-dateutil>=2.8.2 in c:\\users\\delsi\\appdata\\roaming\\python\\python313\\site-packages (from pandas<2.4.0,>=1.1->sktime) (2.9.0.post0)\n",
            "Requirement already satisfied: pytz>=2020.1 in c:\\users\\delsi\\appdata\\roaming\\python\\python313\\site-packages (from pandas<2.4.0,>=1.1->sktime) (2025.2)\n",
            "Requirement already satisfied: tzdata>=2022.7 in c:\\users\\delsi\\appdata\\roaming\\python\\python313\\site-packages (from pandas<2.4.0,>=1.1->sktime) (2025.2)\n",
            "Requirement already satisfied: threadpoolctl>=3.1.0 in c:\\users\\delsi\\appdata\\roaming\\python\\python313\\site-packages (from scikit-learn<1.8.0,>=0.24->sktime) (3.6.0)\n",
            "Requirement already satisfied: six>=1.5 in c:\\users\\delsi\\appdata\\roaming\\python\\python313\\site-packages (from python-dateutil>=2.8.2->pandas<2.4.0,>=1.1->sktime) (1.17.0)\n"
          ]
        },
        {
          "name": "stderr",
          "output_type": "stream",
          "text": [
            "\n",
            "[notice] A new release of pip is available: 25.0.1 -> 25.2\n",
            "[notice] To update, run: python.exe -m pip install --upgrade pip\n"
          ]
        }
      ],
      "source": [
        "!pip install mass-ts\n",
        "!pip install sktime"
      ]
    },
    {
      "cell_type": "code",
      "execution_count": 8,
      "metadata": {
        "id": "8jNrqLRB6H33"
      },
      "outputs": [
        {
          "data": {
            "text/html": [
              "        <script type=\"text/javascript\">\n",
              "        window.PlotlyConfig = {MathJaxConfig: 'local'};\n",
              "        if (window.MathJax && window.MathJax.Hub && window.MathJax.Hub.Config) {window.MathJax.Hub.Config({SVG: {font: \"STIX-Web\"}});}\n",
              "        </script>\n",
              "        <script type=\"module\">import \"https://cdn.plot.ly/plotly-3.1.1.min\"</script>\n",
              "        "
            ]
          },
          "metadata": {},
          "output_type": "display_data"
        }
      ],
      "source": [
        "import numpy as np\n",
        "import pandas as pd\n",
        "import math\n",
        "import timeit\n",
        "import random\n",
        "import mass_ts as mts\n",
        "from IPython.display import display\n",
        "\n",
        "from modules.distance_profile import brute_force\n",
        "from modules.prediction import *\n",
        "from modules.bestmatch import *\n",
        "from modules.utils import *\n",
        "from modules.plots import *"
      ]
    },
    {
      "cell_type": "markdown",
      "metadata": {
        "id": "gZTpYia6TO6c"
      },
      "source": [
        "## **Часть 1.** Поиск по образцу на основе вычисленного профиля расстояния.\n",
        "\n",
        "**Задача поиска по образцу (subsequence matching)** заключается в нахождении $topK$ наиболее похожих подпоследовательностей временного ряда $T$ длины $n$ на заданный пользователем существенно более короткий временной ряд $Q$ длины $m$, называемый запросом, в смысле некоторой функции расстояния, $m \\ll n$. При этом среди найденных подпоследовательностей не должно быть тривиальных совпадений.\n",
        "\n",
        "Две подпоследовательности $T_{i,m}$ и $T_{j,m}$ временного ряда $T$ являются **тривиальными совпадениями (trivial matches)**, если они пересекаются:\n",
        "\\begin{equation}\n",
        "|i-j| \\leqslant m.\n",
        "\\end{equation}\n",
        "\n",
        "В общем случае условие пересечения записывается как $|i-j| \\leqslant \\xi m$, где задаваемый экспертом вещественный параметр $\\xi$ $(0 < \\xi \\leqslant 1)$ имеет типичные значения 0.25, 0.5 или 1.\n",
        "\n",
        "Одним из вариантов решения данной задачи является вычисление профиля расстояния. Под **профилем расстояния** $DistProfile\\in \\mathbb{R}^{n-m+1}$ понимается вектор, содержащий расстояния между подпоследовательностями временного ряда $T \\in \\mathbb{R}^n$ и запросом $Q \\in \\mathbb{R}^m$, вычисленные с помощью некоторой неотрицательной симметричной функции расстояния $dist(\\cdot,\\cdot)$:  \n",
        "\\begin{equation}\n",
        "DistProfile(i) = dist(Q, T_{i,m}), \\quad 1 \\leqslant i \\leqslant n-m+1.\n",
        "\\end{equation}\n",
        "\n",
        "На основе вычисленного профиля расстояния в качестве $topK$ похожих подпоследовательностей ряда берутся те, которые имеют наименьшие расстояния до запроса:\n",
        "\\begin{equation}\n",
        "C_{match} = \\{T_{i,m}^k\\}_{k=1}^{topK},\\; где \\; T_{i,m}^k \\in T, \\; i = argsort(DistProfile)(k), \\; 1 \\leqslant i \\leqslant n-m+1.\n",
        "\\end{equation}\n",
        "\n",
        "В части 1 практической работы 2 вы рассмотрите несколько алгоритмов вычисления профиля расстояния на примере алгоритмов грубой силы и MASS, а также примените результаты их выполнения для решения задачи поиска по образцу. В таблице ниже представлено их тезисное описание.\n",
        "\n",
        "| <h5> **Алгоритм** </h5> | <h5> **Описание** </h5> | <h5> **Вычислительная <br> сложность** </h5> |\n",
        "|--------------|------------------------------------------------------------------|:-----------------------------:|\n",
        "| <p>Brute Force</p>  | <ul><li>Наивный алгоритм</li><li>Z-нормализация запроса и подпоследовательностей ряда по стандартным формулам</li><li>Полное вычисление расстояний между запросом и подпоследовательностями ряда</li></ul> |            <p>$O(mn)$</p>            |\n",
        "| <p>MASS 1</p>       | <ul><li>Z-нормализация &#171;на лету&#187;</li><li>Применение свертки для вычисления скалярных произведений <br> между запросом и подпоследовательностями ряда</li><li>Выполнение свертки с помощью быстрого преобразования Фурье</li><li>Дополнение справа нулями запроса и временного ряда до удвоенной длины ряда</li><li>Реверс запроса</li></ul> |          <p>$O(n\\log{n})$</p>          |\n",
        "| <p>MASS 2</p>       | <ul><li>MASS 1 – это алгоритм, на котором основан MASS 2</li><li>Вычисление половины свертки</li><li>Дополнение нулями справа только запроса до длины временного ряда</li></ul> |          <p>$O(n\\log{n})$</p>          |\n",
        "| <font size=\"3\">MASS 3</font>       | <ul><li>MASS 2 – это алгоритм, на котором основан MASS 3</li><li>Посегментная обработка временного ряда</li><li>Длина каждого сегмента (кроме, возможно, последнего) – степень двойки</li><li>Сегменты перекрываются на $m-1$ элементов</li></ul> |             <p>$O(\\frac{n-k}{k-m}k\\log{k})$, <br> где $k$ – длина сегмента </p>           |"
      ]
    },
    {
      "cell_type": "markdown",
      "metadata": {
        "id": "eQUZH3Ix_LNU"
      },
      "source": [
        "### **Задача 1.**\n",
        "\n",
        "В данном задании вам предстоит определить, имеет ли пациент заболевание сердца по снятой записи ЭКГ или нет. Решать данную задачу будем с помощью алгоритмов поиска по образцу.\n",
        "\n",
        "Сначала выполните считывание временного ряда и образца поиска из файлов *ECG.csv* и *ECG_query.csv* соответственно из директории *./datasets/part1*. Временной ряд представляет собой показания ЭКГ пациента, образец поиска – фрагмент ЭКГ, обозначающий некоторое кардиологическое заболевание."
      ]
    },
    {
      "cell_type": "code",
      "execution_count": 9,
      "metadata": {
        "id": "CcvqgHFk_DIg"
      },
      "outputs": [
        {
          "name": "stderr",
          "output_type": "stream",
          "text": [
            "c:\\TimeSeriesCourse\\practice\\02 Similarity search\\modules\\utils.py:20: FutureWarning:\n",
            "\n",
            "The 'delim_whitespace' keyword in pd.read_csv is deprecated and will be removed in a future version. Use ``sep='\\s+'`` instead\n",
            "\n",
            "c:\\TimeSeriesCourse\\practice\\02 Similarity search\\modules\\utils.py:20: FutureWarning:\n",
            "\n",
            "The 'delim_whitespace' keyword in pd.read_csv is deprecated and will be removed in a future version. Use ``sep='\\s+'`` instead\n",
            "\n"
          ]
        }
      ],
      "source": [
        "ts_url = './datasets/part1/ECG.csv'\n",
        "query_url = './datasets/part1/ECG_query.csv'\n",
        "\n",
        "ts = read_ts(ts_url).reshape(-1)\n",
        "query = read_ts(query_url).reshape(-1)"
      ]
    },
    {
      "cell_type": "markdown",
      "metadata": {
        "id": "O79mW9qO61RM"
      },
      "source": [
        "Далее выполните визулизацию временного ряда и образца поиска с помощью функции `plot_bestmatch_data()` из модуля *plots.py*."
      ]
    },
    {
      "cell_type": "code",
      "execution_count": 10,
      "metadata": {
        "id": "7evaiNyB9Hmy"
      },
      "outputs": [
        {
          "data": {
            "text/html": [
              "<html>\n",
              "<head><meta charset=\"utf-8\" /></head>\n",
              "<body>\n",
              "    <div>            <script src=\"https://cdnjs.cloudflare.com/ajax/libs/mathjax/2.7.5/MathJax.js?config=TeX-AMS-MML_SVG\"></script><script type=\"text/javascript\">if (window.MathJax && window.MathJax.Hub && window.MathJax.Hub.Config) {window.MathJax.Hub.Config({SVG: {font: \"STIX-Web\"}});}</script>                <script type=\"text/javascript\">window.PlotlyConfig = {MathJaxConfig: 'local'};</script>\n",
              "        <script charset=\"utf-8\" src=\"https://cdn.plot.ly/plotly-3.1.1.min.js\" integrity=\"sha256-HUEFyfiTnZJxCxur99FjbKYTvKSzwDaD3/x5TqHpFu4=\" crossorigin=\"anonymous\"></script>                <div id=\"4e611251-d7d8-4821-908c-0c29e5c925c1\" class=\"plotly-graph-div\" style=\"height:525px; width:100%;\"></div>            <script type=\"text/javascript\">                window.PLOTLYENV=window.PLOTLYENV || {};                                if (document.getElementById(\"4e611251-d7d8-4821-908c-0c29e5c925c1\")) {                    Plotly.newPlot(                        \"4e611251-d7d8-4821-908c-0c29e5c925c1\",                        [{\"line\":{\"color\":\"#EF553B\"},\"x\":{\"dtype\":\"i2\",\"bdata\":\"AAABAAIAAwAEAAUABgAHAAgACQAKAAsADAANAA4ADwAQABEAEgATABQAFQAWABcAGAAZABoAGwAcAB0AHgAfACAAIQAiACMAJAAlACYAJwAoACkAKgArACwALQAuAC8AMAAxADIAMwA0ADUANgA3ADgAOQA6ADsAPAA9AD4APwBAAEEAQgBDAEQARQBGAEcASABJAEoASwBMAE0ATgBPAFAAUQBSAFMAVABVAFYAVwBYAFkAWgBbAFwAXQBeAF8AYABhAGIAYwBkAGUAZgBnAGgAaQBqAGsAbABtAG4AbwBwAHEAcgBzAHQAdQB2AHcAeAB5AHoAewB8AH0AfgB\\u002fAIAAgQCCAIMAhACFAIYAhwCIAIkAigCLAIwAjQCOAI8AkACRAJIAkwCUAJUAlgCXAJgAmQCaAJsAnACdAJ4AnwCgAKEAogCjAKQApQCmAKcAqACpAKoAqwCsAK0ArgCvALAAsQCyALMAtAC1ALYAtwC4ALkAugC7ALwAvQC+AL8AwADBAMIAwwDEAMUAxgDHAMgAyQDKAMsAzADNAM4AzwDQANEA0gDTANQA1QDWANcA2ADZANoA2wDcAN0A3gDfAOAA4QDiAOMA5ADlAOYA5wDoAOkA6gDrAOwA7QDuAO8A8ADxAPIA8wD0APUA9gD3APgA+QD6APsA\\u002fAD9AP4A\\u002fwAAAQEBAgEDAQQBBQEGAQcBCAEJAQoBCwEMAQ0BDgEPARABEQESARMBFAEVARYBFwEYARkBGgEbARwBHQEeAR8BIAEhASIBIwEkASUBJgEnASgBKQEqASsBLAEtAS4BLwEwATEBMgEzATQBNQE2ATcBOAE5AToBOwE8AT0BPgE\\u002fAUABQQFCAUMBRAFFAUYBRwFIAUkBSgFLAUwBTQFOAU8BUAFRAVIBUwFUAVUBVgFXAVgBWQFaAVsBXAFdAV4BXwFgAWEBYgFjAWQBZQFmAWcBaAFpAWoBawFsAW0BbgFvAXABcQFyAXMBdAF1AXYBdwF4AXkBegF7AXwBfQF+AX8BgAGBAYIBgwGEAYUBhgGHAYgBiQGKAYsBjAGNAY4BjwGQAZEBkgGTAZQBlQGWAZcBmAGZAZoBmwGcAZ0BngGfAaABoQGiAaMBpAE=\"},\"y\":{\"dtype\":\"f8\",\"bdata\":\"5x2n6Egu9j9SSZ2AJsL7P8uhRbbzfQFA0ZFc\\u002fkP6BUAy5q4l5AMOQIEmwoanFxRARIts5\\u002fvpGUBv8IXJVAEgQCS5\\u002fIf0+yJAnzws1JqmJUB4eqUsQ7wnQLdif9k9+ShAseHplbIsKUBhMlUwKkkoQKjGSzeJYSZA6+I2GsCbI0CNl24SgyAgQBsv3SQGQRhAF0hQ\\u002fBhzD0DxY8xdS8j8P1wgQfFjzM2\\u002fm1Wfq63YAMAW+8vuyUMOwAMJih9j7hTA4JwRpb3BGcARNjy9UpYdwK7YX3ZPPiDAhXzQs1lVIcD6fmq8dDMiwJayDHGs6yLA8fRKWYZ4I8C\\u002fDpwzotQjwG3n+6nxEiTAPnlYqDVNJMAOvjCZKngkwDEIrBxahCTAjgbwFkhwJMAH8BZIUBwkwKCJsOHp1SPAyeU\\u002fpN++IsCSy39Iv30fwO2ePCzUGgHAescpOpJLJUC+wRcmU1U+QJhMFYxKkkpAM8SxLm4bUkB3LSEf9PxUQM07TtGRpFVAEqW9wRcGVEAAAAAAAEBQQN21hHzQc0ZAidLe4AvDNUBIv30dOOcAQKTfvg6ccyTAUwWjkjpBLcDAWyBB8cMrwDhnRGlvsCbAirDh6ZVSJcDD9Shcj6IkwEXY8PRK2STAsi5uowHcJMDFjzF3LcEkwK36XG3F\\u002fiTAc2iR7XxfJcAqOpLLf4glwBUdyeU\\u002fJCXAMlUwKqmTI8AmUwWjkvohwEATYcPTSyDAEhQ\\u002fxtx1HcAJG55eKcsawDSAt0CCohjAcM6I0t7gFsCEDU+vlGUVwLRZ9bnaChTA46WbxCCwEsBfmEwVjEoRwDGZKhiV1A\\u002fA9+RhodY0DcA5tMh2vp8KwIPAyqFFNgjAylTBqKROBsCQMXctIR8FwD\\u002fG3LWEfATA2c73U+MlBMC+wRcmUwUEwEI+6Nms+gPAc9cS8kHPA8ClLEMc62IDwO0NvjCZqgLAhA1Pr5RlAcDKVMGopE7+v+AtkKD4Mfe\\u002fIGPuWkI+6r90RpT2Bl+oPwWjkjoBTfM\\u002fx0s3iUFgBUCfPCzUmqYRQOviNhrAmxlA0ZFc\\u002fkM6IUAmUwWjkvolQJYhjnVx2ypAU5YhjnWxL0BU46WbxDAyQAK8BRIUbzRA\\u002fkP67euQNkAPnDOitJc4QNv5fmq8hDpA9GxWfa5WPEDtnjws1Ao+QMWPMXctoT9AtaZ5xymKQEBxPQrXoyhBQCBB8WPMnUFABcWPMXfdQUBEaW\\u002fwheFBQESLbOf7qUFAnDOitDc4QUCQoPgx5o5AQLu4jQbwZj9AF7fRAN5iPUB6Nqs+Vys7QPMf0m9f1zhAS1mGONZ1NkA0orQ3+BI0QGaIY13ctjFATx4Wak3TLkAVHcnlP2QqQI0o7Q2+MCZAGy\\u002fdJAZBIkCrPldbsT8dQKFns+pztRZARGlv8IUJEUCdEaW9wZcIQAMJih9j7gBASFD8GHPX9T\\u002f1udqK\\u002fWXpP+Olm8QgsNY\\u002fuY0G8BZIkL\\u002f8qfHSTWLYv+m3rwPnjOi\\u002fObTIdr6f8r\\u002fpt68D54z4vy7\\u002fIf32df2\\u002fgQTFjzF3AMAdWmQ7308BwLdif9k9+QDAYqHWNO84\\u002fr9LWYY41sX2v7MMcayL2+a\\u002fgnNGlPYGxz9qTfOOU3TyP2iz6nO1FQBAvsEXJlMFBECjI7n8h3QCQAMJih9j7vA\\u002f6Ugu\\u002fyH9+b\\u002f129eBc0YYwNxGA3gLBCnAowG8BRIENcAy5q4l5KM\\u002fwEw3iUFgLUbAI0p7gy+MTcAoDwu1pulSwH6MuWsJbVfA\\u002fYf029c1XMC5\\u002fIf02wVhwO2ePCzUrGPAy6FFtvP9ZcB\\u002f2T15WOhnwFYOLbKdX2nA6Ugu\\u002fyFjasDY8PRKWchqwPcGX5hMF2rAuECC4scIacAJG55eKaFnwHgLJCh+6GXAkxgEVg7lY8CjkjoBTZhhwO7rwDkjal7AS+oENBGeWcBvgQTFjyFVwDnWxW00BFHAak3zjlOcSsDByqFFthNEwGiR7Xw\\u002f5TzApN++DpyDM8AE54wo7e0nwLraiv1ldxXAGsBbIEHxyz+HFtnO9xMTQNCzWfW5miBAKe0NvjC5JUCEns2qz1UpQJZDi2zn2ytA5\\u002fup8dKtLUAy5q4l5CMvQL1SliGORTBAGQRWDi0SMUCLbOf7qREyQLprCfmgVzNAGXPXEvLxNECZu5aQD+o2QEvIBz2bRTlAl\\u002f+Qfvv6O0DM7snDQv0+QFg5tMh2HkFATfOOU3TUQkAOLbKd77dEQBE2PL1SxkZA+THmriX8SECzDHGsi1tLQOXyH9Jv501AswxxrIszUEDu68A5I3JRQNEi2\\u002fl+plJAPzVeuknYU0ADCYofY45VQJyiI7n8U1dAqaROQBMlWUBlGeJYFxdbQHQkl\\u002f+QHl1ArIvbaAAvX0Dc14FzRpxgQHEbDeAtVmFAMZkqGJX6YUDy0k1iEIRiQF5LyAc972JAyJi7lpA5Y0AUP8bctWJjQDj4wmSqamNAcF8HzhlRY0DY8PRKWRZjQOzAOSNKvWJAWmQ7309JYkCHFtnO971hQHctIR\\u002f0HGFAvw6cM6JoYEAW+8vuyUdfQJvmHafopF1A1QloImzwW0CmCkYldTJaQKYKRiV1clhA6gQ0ETa4VkCfzarP1QpVQKYKRiV1clNAkX77OnDCUUDwFkhQ\\u002fEhQQPkP6bevC05APL1SliHuS0DjpZvEIDBKQIXrUbgerUhAPSzUmuZVR0C0yHa+n4JGQNk9eViolUVAV+wvuyePREC28\\u002f3UeHFDQBx8YTJVQEJAumsJ+aAXQUDQ1VbsL\\u002fs\\u002fQGKh1jTv+D1A5IOezao\\u002fPEBTliGOdeE6QIPAyqFF5jlA6Nms+lxNOUDmP6Tfvg45QJT2Bl+YHDlAio7k8h9iOUAUP8bctcQ5QGN\\u002f2T15KDpAoBov3SR2OkCt+lxtxZ46QOoENBE2nDpAlWWIY11sOkA7AU2EDQ86QEku\\u002fyH9hjlAQmDl0CLbOECh1jTvOBU4QFg5tMh2PjdA54wo7Q1eNkDRItv5fno1QNGRXP5DmjRAMlUwKqnDM0CTqYJRSf0yQOqVsgxxTDJATtGRXP6zMUBPQBNhwzMxQNGRXP5DyjBAS1mGONZ1MEBseHqlLDMwQAwCK4cW+S9Afoy5awmZL0Ct+lxtxT4vQA8LtaZ55y5A3nGKjuSSLkBv8IXJVEEuQBkEVg4t8i1AcM6I0t6gLUAPC7WmeUctQHKKjuTy3yxAat5xio5kLEBz1xLyQc8rQAmKH2PuGitAoBov3SRGKkDdtYR80FMpQCh+jLlrSShAdLUV+8suJ0DM7snDQg0mQMNkqmBU8iRABOeMKO3tI0DnHafoSA4jQM4ZUdobXCJARPrt68DZIUDVeOkmMYghQJvmHafoaCFA7nw\\u002fNV56IUAwuycPC7UhQGFUUiegCSJAa5p3nKJjIkBVMCqpE7AiQBsN4C2Q4CJAlPYGX5jsIkBcIEHxY8wiQC1DHOvidiJAumsJ+aDnIUD5D+m3ryMhQCntDb4wOSBATx4Wak1zHkC94xQdyWUcQOhqK\\u002faXXRpA7Q2+MJlqGECsHFpkO58WQPs6cM6IEhVAhJ7Nqs\\u002fVE0AFxY8xd+0SQIqO5PIfUhJAzhlR2hv8EUBEi2zn++kRQM07TtGRHBJASOF6FK6HEkAv3SQGgRUTQMoyxLEurhNAih9j7lpCFEA\\u002fxty1hPwUQPtcbcX+shVAMCqpE9BEFkC62or9ZbcWQBBYObTINhdAexSuR+H6F0AIrBxaZDsZQAK8BRIU\\u002fxpAhJ7Nqs+VHUAi\\u002ffZ14HwgQL3jFB3JpSJA7MA5I0o7JUACvAUSFB8oQMdLN4lBICtAtFn1udoKLkD0bFZ9rlYwQLivA+eMeDFAPnlYqDVNMkCvJeSDnr0yQOXQItv5vjJAGCZTBaNSMkAlBoGVQ3sxQBsv3SQGQTBAhA1Pr5RlLUBz1xLyQc8pQLn8h\\u002fTb9yVARpT2Bl8YIkDBqKROQNMcQGKh1jTvOBZA6Nms+lytEEA5tMh2vp8IQMBbIEHxYwJAArwFEhQ\\u002f\\u002fT\\u002fOiNLe4Av6P52AJsKGp\\u002fs\\u002fOGdEaW\\u002fw\\u002fT9B8WPMXUv\\u002fP5p3nKIjuf4\\u002flrIMcayL\\u002fD9a9bnaiv34P7MMcayL2\\u002fY\\u002fswxxrIvb9j+Zu5aQD3r+P+0NvjCZqgpAumsJ+aDnGUC6awn5oOctQMsQx7q4bTxAZohjXdy2RkDuWkI+6PlMQLyWkA96HlBA3bWEfNDzT0DNO07RkaRNQO5aQj7o+UdAz2bV52rbP0Coxks3iWEqQAAAAAAAAACA5q4l5IOeG8AJ+aBns6oewPcGX5hMVRnAAAAAAAAAEMC6awn5oOcBwE3zjlN0JPm\\u002fmbuWkA96\\u002fr+neccpOpIEwMxdS8gHPQfARpT2Bl8YBsAAAAAAAAAAwBpR2ht8Yei\\u002fNKK0N\\u002fjC4D8aUdobfGH4PzSitDf4wgBA7Q2+MJmqAkA\\u002fNV66SQwDQD81XrpJDANAejarPlfbAkAAAAAAAAACQM3MzMzMzABA2ht8YTJV\\u002fz8=\"},\"type\":\"scatter\",\"xaxis\":\"x\",\"yaxis\":\"y\"},{\"line\":{\"color\":\"#636EFA\"},\"x\":{\"dtype\":\"i2\",\"bdata\":\"AAABAAIAAwAEAAUABgAHAAgACQAKAAsADAANAA4ADwAQABEAEgATABQAFQAWABcAGAAZABoAGwAcAB0AHgAfACAAIQAiACMAJAAlACYAJwAoACkAKgArACwALQAuAC8AMAAxADIAMwA0ADUANgA3ADgAOQA6ADsAPAA9AD4APwBAAEEAQgBDAEQARQBGAEcASABJAEoASwBMAE0ATgBPAFAAUQBSAFMAVABVAFYAVwBYAFkAWgBbAFwAXQBeAF8AYABhAGIAYwBkAGUAZgBnAGgAaQBqAGsAbABtAG4AbwBwAHEAcgBzAHQAdQB2AHcAeAB5AHoAewB8AH0AfgB\\u002fAIAAgQCCAIMAhACFAIYAhwCIAIkAigCLAIwAjQCOAI8AkACRAJIAkwCUAJUAlgCXAJgAmQCaAJsAnACdAJ4AnwCgAKEAogCjAKQApQCmAKcAqACpAKoAqwCsAK0ArgCvALAAsQCyALMAtAC1ALYAtwC4ALkAugC7ALwAvQC+AL8AwADBAMIAwwDEAMUAxgDHAMgAyQDKAMsAzADNAM4AzwDQANEA0gDTANQA1QDWANcA2ADZANoA2wDcAN0A3gDfAOAA4QDiAOMA5ADlAOYA5wDoAOkA6gDrAOwA7QDuAO8A8ADxAPIA8wD0APUA9gD3APgA+QD6APsA\\u002fAD9AP4A\\u002fwAAAQEBAgEDAQQBBQEGAQcBCAEJAQoBCwEMAQ0BDgEPARABEQESARMBFAEVARYBFwEYARkBGgEbARwBHQEeAR8BIAEhASIBIwEkASUBJgEnASgBKQEqASsBLAEtAS4BLwEwATEBMgEzATQBNQE2ATcBOAE5AToBOwE8AT0BPgE\\u002fAUABQQFCAUMBRAFFAUYBRwFIAUkBSgFLAUwBTQFOAU8BUAFRAVIBUwFUAVUBVgFXAVgBWQFaAVsBXAFdAV4BXwFgAWEBYgFjAWQBZQFmAWcBaAFpAWoBawFsAW0BbgFvAXABcQFyAXMBdAF1AXYBdwF4AXkBegF7AXwBfQF+AX8BgAGBAYIBgwGEAYUBhgGHAYgBiQGKAYsBjAGNAY4BjwGQAZEBkgGTAZQBlQGWAZcBmAGZAZoBmwGcAZ0BngGfAaABoQGiAaMBpAGlAaYBpwGoAakBqgGrAawBrQGuAa8BsAGxAbIBswG0AbUBtgG3AbgBuQG6AbsBvAG9Ab4BvwHAAcEBwgHDAcQBxQHGAccByAHJAcoBywHMAc0BzgHPAdAB0QHSAdMB1AHVAdYB1wHYAdkB2gHbAdwB3QHeAd8B4AHhAeIB4wHkAeUB5gHnAegB6QHqAesB7AHtAe4B7wHwAfEB8gHzAfQB9QH2AfcB+AH5AfoB+wH8Af0B\\u002fgH\\u002fAQACAQICAgMCBAIFAgYCBwIIAgkCCgILAgwCDQIOAg8CEAIRAhICEwIUAhUCFgIXAhgCGQIaAhsCHAIdAh4CHwIgAiECIgIjAiQCJQImAicCKAIpAioCKwIsAi0CLgIvAjACMQIyAjMCNAI1AjYCNwI4AjkCOgI7AjwCPQI+Aj8CQAJBAkICQwJEAkUCRgJHAkgCSQJKAksCTAJNAk4CTwJQAlECUgJTAlQCVQJWAlcCWAJZAloCWwJcAl0CXgJfAmACYQJiAmMCZAJlAmYCZwJoAmkCagJrAmwCbQJuAm8CcAJxAnICcwJ0AnUCdgJ3AngCeQJ6AnsCfAJ9An4CfwKAAoECggKDAoQChQKGAocCiAKJAooCiwKMAo0CjgKPApACkQKSApMClAKVApYClwKYApkCmgKbApwCnQKeAp8CoAKhAqICowKkAqUCpgKnAqgCqQKqAqsCrAKtAq4CrwKwArECsgKzArQCtQK2ArcCuAK5AroCuwK8Ar0CvgK\\u002fAsACwQLCAsMCxALFAsYCxwLIAskCygLLAswCzQLOAs8C0ALRAtIC0wLUAtUC1gLXAtgC2QLaAtsC3ALdAt4C3wLgAuEC4gLjAuQC5QLmAucC6ALpAuoC6wLsAu0C7gLvAvAC8QLyAvMC9AL1AvYC9wL4AvkC+gL7AvwC\\u002fQL+Av8CAAMBAwIDAwMEAwUDBgMHAwgDCQMKAwsDDAMNAw4DDwMQAxEDEgMTAxQDFQMWAxcDGAMZAxoDGwMcAx0DHgMfAyADIQMiAyMDJAMlAyYDJwMoAykDKgMrAywDLQMuAy8DMAMxAzIDMwM0AzUDNgM3AzgDOQM6AzsDPAM9Az4DPwNAA0EDQgNDA0QDRQNGA0cDSANJA0oDSwNMA00DTgNPA1ADUQNSA1MDVANVA1YDVwNYA1kDWgNbA1wDXQNeA18DYANhA2IDYwNkA2UDZgNnA2gDaQNqA2sDbANtA24DbwNwA3EDcgNzA3QDdQN2A3cDeAN5A3oDewN8A30DfgN\\u002fA4ADgQOCA4MDhAOFA4YDhwOIA4kDigOLA4wDjQOOA48DkAORA5IDkwOUA5UDlgOXA5gDmQOaA5sDnAOdA54DnwOgA6EDogOjA6QDpQOmA6cDqAOpA6oDqwOsA60DrgOvA7ADsQOyA7MDtAO1A7YDtwO4A7kDugO7A7wDvQO+A78DwAPBA8IDwwPEA8UDxgPHA8gDyQPKA8sDzAPNA84DzwPQA9ED0gPTA9QD1QPWA9cD2APZA9oD2wPcA90D3gPfA+AD4QPiA+MD5APlA+YD5wPoA+kD6gPrA+wD7QPuA+8D8APxA\\u002fID8wP0A\\u002fUD9gP3A\\u002fgD+QP6A\\u002fsD\\u002fAP9A\\u002f4D\\u002fwMABAEEAgQDBAQEBQQGBAcECAQJBAoECwQMBA0EDgQPBBAEEQQSBBMEFAQVBBYEFwQYBBkEGgQbBBwEHQQeBB8EIAQhBCIEIwQkBCUEJgQnBCgEKQQqBCsELAQtBC4ELwQwBDEEMgQzBDQENQQ2BDcEOAQ5BDoEOwQ8BD0EPgQ\\u002fBEAEQQRCBEMERARFBEYERwRIBEkESgRLBEwETQROBE8EUARRBFIEUwRUBFUEVgRXBFgEWQRaBFsEXARdBF4EXwRgBGEEYgRjBGQEZQRmBGcEaARpBGoEawRsBG0EbgRvBHAEcQRyBHMEdAR1BHYEdwR4BHkEegR7BHwEfQR+BH8EgASBBIIEgwSEBIUEhgSHBIgEiQSKBIsEjASNBI4EjwSQBJEEkgSTBJQElQSWBJcEmASZBJoEmwScBJ0EngSfBKAEoQSiBKMEpASlBKYEpwSoBKkEqgSrBKwErQSuBK8EsASxBLIEswS0BLUEtgS3BLgEuQS6BLsEvAS9BL4EvwTABMEEwgTDBMQExQTGBMcEyATJBMoEywTMBM0EzgTPBNAE0QTSBNME1ATVBNYE1wTYBNkE2gTbBNwE3QTeBN8E4AThBOIE4wTkBOUE5gTnBOgE6QTqBOsE7ATtBO4E7wTwBPEE8gTzBPQE9QT2BPcE+AT5BPoE+wT8BP0E\\u002fgT\\u002fBAAFAQUCBQMFBAUFBQYFBwUIBQkFCgULBQwFDQUOBQ8FEAURBRIFEwUUBRUFFgUXBRgFGQUaBRsFHAUdBR4FHwUgBSEFIgUjBSQFJQUmBScFKAUpBSoFKwUsBS0FLgUvBTAFMQUyBTMFNAU1BTYFNwU4BTkFOgU7BTwFPQU+BT8FQAVBBUIFQwVEBUUFRgVHBUgFSQVKBUsFTAVNBU4FTwVQBVEFUgVTBVQFVQVWBVcFWAVZBVoFWwVcBV0FXgVfBWAFYQViBWMFZAVlBWYFZwVoBWkFagVrBWwFbQVuBW8FcAVxBXIFcwV0BXUFdgV3BXgFeQV6BXsFfAV9BX4FfwWABYEFggWDBYQFhQWGBYcFiAWJBYoFiwWMBY0FjgWPBZAFkQWSBZMFlAWVBZYFlwWYBZkFmgWbBZwFnQWeBZ8FoAWhBaIFowWkBaUFpgWnBagFqQWqBasFrAWtBa4FrwWwBbEFsgWzBbQFtQW2BbcFuAW5BboFuwW8Bb0FvgW\\u002fBcAFwQXCBcMFxAXFBcYFxwXIBckFygXLBcwFzQXOBc8F0AXRBdIF0wXUBdUF1gXXBdgF2QXaBdsF3AXdBd4F3wXgBeEF4gXjBeQF5QXmBecF6AXpBeoF6wXsBe0F7gXvBfAF8QXyBfMF9AX1BfYF9wX4BfkF+gX7BfwF\\u002fQX+Bf8FAAYBBgIGAwYEBgUGBgYHBggGCQYKBgsGDAYNBg4GDwYQBhEGEgYTBhQGFQYWBhcGGAYZBhoGGwYcBh0GHgYfBiAGIQYiBiMGJAYlBiYGJwYoBikGKgYrBiwGLQYuBi8GMAYxBjIGMwY0BjUGNgY3BjgGOQY6BjsGPAY9Bj4GPwZABkEGQgZDBkQGRQZGBkcGSAZJBkoGSwZMBk0GTgZPBlAGUQZSBlMGVAZVBlYGVwZYBlkGWgZbBlwGXQZeBl8GYAZhBmIGYwZkBmUGZgZnBmgGaQZqBmsGbAZtBm4GbwZwBnEGcgZzBnQGdQZ2BncGeAZ5BnoGewZ8Bn0GfgZ\\u002fBoAGgQaCBoMGhAaFBoYGhwaIBokGigaLBowGjQaOBo8GkAaRBpIGkwaUBpUGlgaXBpgGmQaaBpsGnAadBp4GnwagBqEGogajBqQGpQamBqcGqAapBqoGqwasBq0GrgavBrAGsQayBrMGtAa1BrYGtwa4BrkGuga7BrwGvQa+Br8GwAbBBsIGwwbEBsUGxgbHBsgGyQbKBssGzAbNBs4GzwbQBtEG0gbTBtQG1QbWBtcG2AbZBtoG2wbcBt0G3gbfBuAG4QbiBuMG5AblBuYG5wboBukG6gbrBuwG7QbuBu8G8AbxBvIG8wb0BvUG9gb3BvgG+Qb6BvsG\\u002fAb9Bv4G\\u002fwYABwEHAgcDBwQHBQcGBwcHCAcJBwoHCwcMBw0HDgcPBxAHEQcSBxMHFAcVBxYHFwcYBxkHGgcbBxwHHQceBx8HIAchByIHIwckByUHJgcnBygHKQcqBysHLActBy4HLwcwBzEHMgczBzQHNQc2BzcHOAc5BzoHOwc8Bz0HPgc\\u002fB0AHQQdCB0MHRAdFB0YHRwdIB0kHSgdLB0wHTQdOB08HUAdRB1IHUwdUB1UHVgdXB1gHWQdaB1sHXAddB14HXwdgB2EHYgdjB2QHZQdmB2cHaAdpB2oHawdsB20HbgdvB3AHcQdyB3MHdAd1B3YHdwd4B3kHegd7B3wHfQd+B38HgAeBB4IHgweEB4UHhgeHB4gHiQeKB4sHjAeNB44HjweQB5EHkgeTB5QHlQeWB5cHmAeZB5oHmwecB50HngefB6AHoQeiB6MHpAelB6YHpweoB6kHqgerB6wHrQeuB68HsAexB7IHswe0B7UHtge3B7gHuQe6B7sHvAe9B74HvwfAB8EHwgfDB8QHxQfGB8cHyAfJB8oHywfMB80HzgfPB9AH0QfSB9MH1AfVB9YH1wfYB9kH2gfbB9wH3QfeB98H4AfhB+IH4wfkB+UH5gfnB+gH6QfqB+sH7AftB+4H7wfwB\\u002fEH8gfzB\\u002fQH9Qf2B\\u002fcH+Af5B\\u002foH+wf8B\\u002f0H\\u002fgf\\u002fBwAIAQgCCAMIBAgFCAYIBwgICAkICggLCAwIDQgOCA8IEAgRCBIIEwgUCBUIFggXCBgIGQgaCBsIHAgdCB4IHwggCCEIIggjCCQIJQgmCCcIKAgpCCoIKwgsCC0ILggvCDAIMQgyCDMINAg1CDYINwg4CDkIOgg7CDwIPQg+CD8IQAhBCEIIQwhECEUIRghHCEgISQhKCEsITAhNCE4ITwhQCFEIUghTCFQIVQhWCFcIWAhZCFoIWwhcCF0IXghfCGAIYQhiCGMIZAhlCGYIZwhoCGkIaghrCGwIbQhuCG8IcAhxCHIIcwh0CHUIdgh3CHgIeQh6CHsIfAh9CH4IfwiACIEIggiDCIQIhQiGCIcIiAiJCIoIiwiMCI0IjgiPCJAIkQiSCJMIlAiVCJYIlwiYCJkImgibCJwInQieCJ8IoAihCKIIowikCKUIpginCKgIqQiqCKsIrAitCK4IrwiwCLEIsgizCLQItQi2CLcIuAi5CLoIuwi8CL0Ivgi\\u002fCMAIwQjCCMMIxAjFCMYIxwjICMkIygjLCMwIzQjOCM8I0AjRCNII0wjUCNUI1gjXCNgI2QjaCNsI3AjdCN4I3wjgCOEI4gjjCOQI5QjmCOcI6AjpCOoI6wjsCO0I7gjvCPAI8QjyCPMI9Aj1CPYI9wj4CPkI+gj7CPwI\\u002fQj+CP8IAAkBCQIJAwkECQUJBgkHCQgJCQkKCQsJDAkNCQ4JDwkQCREJEgkTCRQJFQkWCRcJGAkZCRoJGwkcCR0JHgkfCSAJIQkiCSMJJAklCSYJJwkoCSkJKgkrCSwJLQkuCS8JMAkxCTIJMwk0CTUJNgk3CTgJOQk6CTsJPAk9CT4JPwlACUEJQglDCUQJRQlGCUcJSAlJCUoJSwlMCU0JTglPCVAJUQlSCVMJVAlVCVYJVwlYCVkJWglbCVwJXQleCV8JYAlhCWIJYwlkCWUJZglnCWgJaQlqCWsJbAltCW4JbwlwCXEJcglzCXQJdQl2CXcJeAl5CXoJewl8CX0Jfgl\\u002fCYAJgQmCCYMJhAmFCYYJhwmICYkJigmLCYwJjQmOCY8JkAmRCZIJkwmUCZUJlgmXCZgJmQmaCZsJnAmdCZ4JnwmgCaEJogmjCaQJpQmmCacJqAmpCaoJqwmsCa0JrgmvCbAJsQmyCbMJtAm1CbYJtwm4CbkJugm7CbwJvQm+Cb8JwAnBCcIJwwnECcUJxgnHCcgJyQnKCcsJzAnNCc4JzwnQCdEJ0gnTCdQJ1QnWCdcJ2AnZCdoJ2wncCd0J3gnfCeAJ4QniCeMJ5AnlCeYJ5wnoCekJ6gnrCewJ7QnuCe8J8AnxCfIJ8wn0CfUJ9gn3CfgJ+Qn6CfsJ\\u002fAn9Cf4J\\u002fwkACgEKAgoDCgQKBQoGCgcKCAoJCgoKCwoMCg0KDgoPChAKEQoSChMKFAoVChYKFwoYChkKGgobChwKHQoeCh8KIAohCiIKIwokCiUKJgonCigKKQoqCisKLAotCi4KLwowCjEKMgozCjQKNQo2CjcKOAo5CjoKOwo8Cj0KPgo\\u002fCkAKQQpCCkMKRApFCkYKRwpICkkKSgpLCkwKTQpOCk8KUApRClIKUwpUClUKVgpXClgKWQpaClsKXApdCl4KXwpgCmEKYgpjCmQKZQpmCmcKaAppCmoKawpsCm0KbgpvCnAKcQpyCnMKdAp1CnYKdwp4CnkKegp7CnwKfQp+Cn8KgAqBCoIKgwqECoUKhgqHCogKiQqKCosKjAqNCo4KjwqQCpEKkgqTCpQKlQqWCpcKmAqZCpoKmwqcCp0KngqfCqAKoQqiCqMKpAqlCqYKpwqoCqkKqgqrCqwKrQquCq8KsAqxCrIKswq0CrUKtgq3CrgKuQq6CrsKvAq9Cr4KvwrACsEKwgrDCsQKxQrGCscKyArJCsoKywrMCs0KzgrPCtAK0QrSCtMK1ArVCtYK1wrYCtkK2grbCtwK3QreCt8K4ArhCuIK4wrkCuUK5grnCugK6QrqCusK7ArtCu4K7wrwCvEK8grzCvQK9Qr2CvcK+Ar5CvoK+wr8Cv0K\\u002fgr\\u002fCgALAQsCCwMLBAsFCwYLBwsICwkLCgsLCwwLDQsOCw8LEAsRCxILEwsUCxULFgsXCxgLGQsaCxsLHAsdCx4LHwsgCyELIgsjCyQLJQsmCycLKAspCyoLKwssCy0LLgsvCzALMQsyCzMLNAs1CzYLNws4CzkLOgs7CzwLPQs+Cz8LQAtBC0ILQwtEC0ULRgtHC0gLSQtKC0sLTAtNC04LTwtQC1ELUgtTC1QLVQtWC1cLWAtZC1oLWwtcC10LXgtfC2ALYQtiC2MLZAtlC2YLZwtoC2kLagtrC2wLbQtuC28LcAtxC3ILcwt0C3ULdgt3C3gLeQt6C3sLfAt9C34LfwuAC4ELgguDC4QLhQuGC4cLiAuJC4oLiwuMC40LjguPC5ALkQuSC5MLlAuVC5YLlwuYC5kLmgubC5wLnQueC58LoAuhC6ILowukC6ULpgunC6gLqQuqC6sLrAutC64LrwuwC7ELsguzC7QLtQu2C7cL\"},\"y\":{\"dtype\":\"f8\",\"bdata\":\"exSuR+F6tL\\u002fsUbgeheuxvzMzMzMzM7O\\u002fexSuR+F6tL+kcD0K16Owvylcj8L1KKy\\u002fuB6F61G4rr+kcD0K16Owv6RwPQrXo7C\\u002fpHA9CtejsL+kcD0K16Owv6RwPQrXo7C\\u002fpHA9CtejsL+4HoXrUbiuvylcj8L1KKy\\u002fCtejcD0Kp7\\u002fsUbgeheuhv5qZmZmZmZm\\u002fmpmZmZmZmb+amZmZmZmZv5qZmZmZmZm\\u002fexSuR+F6lL97FK5H4XqEv3sUrkfheoS\\u002fexSuR+F6hL8AAAAAAAAAAHsUrkfhepQ\\u002f7FG4HoXroT+amZmZmZmpP6RwPQrXo7A\\u002fexSuR+F6tD\\u002fD9Shcj8K1P8P1KFyPwrU\\u002fmpmZmZmZuT8AAAAAAADAP6RwPQrXo8A\\u002fpHA9CtejwD\\u002fXo3A9CtfDP65H4XoUrsc\\u002frkfhehSuxz+uR+F6FK7HP5qZmZmZmck\\u002fKVyPwvUozD8pXI\\u002fC9SjMPylcj8L1KMw\\u002fKVyPwvUozD8pXI\\u002fC9SjMPz0K16NwPco\\u002fUrgehetRyD+uR+F6FK7HPwrXo3A9Csc\\u002f16NwPQrXwz8AAAAAAADAPwrXo3A9Crc\\u002fpHA9CtejsD8pXI\\u002fC9SisP+xRuB6F66E\\u002fexSuR+F6dD+4HoXrUbiOv3sUrkfhepS\\u002fuB6F61G4nr8K16NwPQqnvylcj8L1KKy\\u002fKVyPwvUorL+kcD0K16OwvzMzMzMzM7O\\u002fw\\u002fUoXI\\u002fCtb\\u002fD9Shcj8K1v8P1KFyPwrW\\u002fUrgehetRuL+amZmZmZm5v5qZmZmZmbm\\u002fmpmZmZmZub+amZmZmZm5v1K4HoXrUbi\\u002fUrgehetRuL9SuB6F61G4v1K4HoXrUbi\\u002fUrgehetRuL+amZmZmZm5v+F6FK5H4bq\\u002f4XoUrkfhur9SuB6F61G4vwrXo3A9Cre\\u002fexSuR+F6tL8zMzMzMzOzvzMzMzMzM7O\\u002f7FG4HoXrsb\\u002fsUbgeheuxv+xRuB6F67G\\u002f7FG4HoXrsb\\u002fsUbgeheuxv7gehetRuK6\\u002fmpmZmZmZqb+amZmZmZmpvwrXo3A9Cqe\\u002fCtejcD0Kp78K16NwPQqnvwrXo3A9Cqe\\u002fmpmZmZmZqb+amZmZmZmpvylcj8L1KKy\\u002fpHA9CtejsL+kcD0K16Owv5qZmZmZmam\\u002fCtejcD0Kp78K16NwPQqnv3sUrkfheqS\\u002fuB6F61G4nr\\u002fsUbgeheuhvwrXo3A9Cqe\\u002fmpmZmZmZqb+4HoXrUbiuv7gehetRuK6\\u002fKVyPwvUorL+amZmZmZmpv5qZmZmZmam\\u002fCtejcD0Kp78K16NwPQqnvwrXo3A9Cqe\\u002fmpmZmZmZqb\\u002fsUbgeheuhv7gehetRuI6\\u002f7FG4HoXrob+4HoXrUbiuv3sUrkfheqS\\u002fexSuR+F6lL97FK5H4Xqkv6RwPQrXo7C\\u002fpHA9CtejsL+kcD0K16Owv+F6FK5H4bq\\u002fSOF6FK5Hwb+amZmZmZm5vzMzMzMzM7O\\u002fCtejcD0Kt7+amZmZmZm5vzMzMzMzM7O\\u002f7FG4HoXrsb8K16NwPQq3vylcj8L1KLy\\u002fcT0K16Nwvb+4HoXrUbi+vwAAAAAAAMC\\u002fAAAAAAAAwL9xPQrXo3C9v7gehetRuL6\\u002fpHA9CtejwL+kcD0K16PAv3E9CtejcL2\\u002fKVyPwvUovL9xPQrXo3C9v7gehetRuL6\\u002fuB6F61G4vr9xPQrXo3C9v3E9CtejcL2\\u002fcT0K16Nwvb9xPQrXo3C9vylcj8L1KLy\\u002f4XoUrkfhur9SuB6F61G4v8P1KFyPwrW\\u002fpHA9CtejsL+amZmZmZmpv7gehetRuJ4\\u002fAAAAAAAAwD\\u002fD9Shcj8LFP+F6FK5H4co\\u002fUrgehetRuD+4HoXrUbiOv8P1KFyPwsW\\u002fKVyPwvUo1L8UrkfhehTWv7gehetRuNa\\u002fSOF6FK5H0b+uR+F6FK7HvwAAAAAAAMC\\u002fexSuR+F6tL9xPQrXo3C9v4\\u002fC9Shcj8K\\u002fj8L1KFyPwr+PwvUoXI\\u002fCv0jhehSuR8G\\u002fAAAAAAAAwL8pXI\\u002fC9Si8v5qZmZmZmbm\\u002fmpmZmZmZub9SuB6F61G4v8P1KFyPwrW\\u002fCtejcD0Kt7+amZmZmZm5vwrXo3A9Cre\\u002f7FG4HoXrsb8zMzMzMzOzv5qZmZmZmbm\\u002fmpmZmZmZub\\u002fD9Shcj8K1v8P1KFyPwrW\\u002fw\\u002fUoXI\\u002fCtb97FK5H4Xq0v+xRuB6F67G\\u002fMzMzMzMzs797FK5H4Xq0v+xRuB6F67G\\u002fKVyPwvUorL+amZmZmZmpv5qZmZmZmam\\u002fuB6F61G4rr\\u002fsUbgeheuxv5qZmZmZmam\\u002fuB6F61G4nr8K16NwPQqnv7gehetRuK6\\u002fmpmZmZmZmb8AAAAAAAAAAHsUrkfhenS\\u002fexSuR+F6hL97FK5H4Xp0P7gehetRuI4\\u002fuB6F61G4jj97FK5H4XqUP3sUrkfheqQ\\u002fuB6F61G4rj+4HoXrUbiuPzMzMzMzM7M\\u002f4XoUrkfhuj+kcD0K16PAP6RwPQrXo8A\\u002f7FG4HoXrwT97FK5H4XrEP8P1KFyPwsU\\u002fw\\u002fUoXI\\u002fCxT9mZmZmZmbGP2ZmZmZmZsY\\u002frkfhehSuxz+amZmZmZnJP+F6FK5H4co\\u002f4XoUrkfhyj+amZmZmZnJP65H4XoUrsc\\u002fH4XrUbgexT\\u002fsUbgehevBP3E9CtejcL0\\u002fUrgehetRuD+kcD0K16OwP7gehetRuJ4\\u002fexSuR+F6lD97FK5H4XqUPwAAAAAAAAAAuB6F61G4jr\\u002fsUbgeheuhv7gehetRuK6\\u002fpHA9CtejsL8zMzMzMzOzv8P1KFyPwrW\\u002fUrgehetRuL9SuB6F61G4vwrXo3A9Cre\\u002fCtejcD0Kt78K16NwPQq3v1K4HoXrUbi\\u002fmpmZmZmZub+amZmZmZm5v5qZmZmZmbm\\u002fmpmZmZmZub+amZmZmZm5v+F6FK5H4bq\\u002f4XoUrkfhur9SuB6F61G4vwrXo3A9Cre\\u002fexSuR+F6tL8zMzMzMzOzv8P1KFyPwrW\\u002fw\\u002fUoXI\\u002fCtb\\u002fD9Shcj8K1v8P1KFyPwrW\\u002fw\\u002fUoXI\\u002fCtb97FK5H4Xq0v6RwPQrXo7C\\u002fmpmZmZmZqb8K16NwPQqnvwrXo3A9Cqe\\u002fCtejcD0Kp78K16NwPQqnvwrXo3A9Cqe\\u002fexSuR+F6pL\\u002fsUbgeheuhv3sUrkfheqS\\u002fmpmZmZmZqb97FK5H4Xqkv7gehetRuJ6\\u002f7FG4HoXrob97FK5H4Xqkv+xRuB6F66G\\u002f7FG4HoXrob97FK5H4XqkvwrXo3A9Cqe\\u002fCtejcD0Kp7+amZmZmZmpvylcj8L1KKy\\u002fKVyPwvUorL\\u002fsUbgeheuhv5qZmZmZmZm\\u002fCtejcD0Kp7+4HoXrUbiuv7gehetRuK6\\u002fuB6F61G4rr+kcD0K16Owv+xRuB6F67G\\u002fw\\u002fUoXI\\u002fCtb97FK5H4Xq0vylcj8L1KKy\\u002fCtejcD0Kp78K16NwPQqnv3sUrkfheqS\\u002fuB6F61G4nr+4HoXrUbiev3sUrkfheqS\\u002fexSuR+F6pL+4HoXrUbiev3sUrkfheqS\\u002fuB6F61G4rr+kcD0K16Owv7gehetRuK6\\u002fMzMzMzMzs79SuB6F61G4vwrXo3A9Cre\\u002fMzMzMzMzs797FK5H4Xq0v8P1KFyPwrW\\u002fCtejcD0Kt78K16NwPQq3v1K4HoXrUbi\\u002fUrgehetRuL+amZmZmZm5v5qZmZmZmbm\\u002fmpmZmZmZub+amZmZmZm5v1K4HoXrUbi\\u002fUrgehetRuL+amZmZmZm5v+F6FK5H4bq\\u002fmpmZmZmZub+amZmZmZm5v5qZmZmZmbm\\u002f4XoUrkfhur\\u002fhehSuR+G6v+F6FK5H4bq\\u002fKVyPwvUovL8pXI\\u002fC9Si8vylcj8L1KLy\\u002fcT0K16Nwvb8AAAAAAADAv3E9CtejcL2\\u002f7FG4HoXrsb97FK5H4XqEv+xRuB6F67E\\u002fSOF6FK5HwT+uR+F6FK7HP0jhehSuR8E\\u002fuB6F61G4jj9I4XoUrkfBv4XrUbgehdO\\u002fpHA9Ctej2L\\u002fhehSuR+Hav2ZmZmZmZta\\u002fFK5H4XoUzr97FK5H4XrEv1K4HoXrUbi\\u002fcT0K16Nwvb8zMzMzMzPDvzMzMzMzM8O\\u002fj8L1KFyPwr\\u002fsUbgehevBv+xRuB6F68G\\u002fmpmZmZmZub+4HoXrUbiuv+xRuB6F67G\\u002fexSuR+F6tL+kcD0K16Owv5qZmZmZmam\\u002fpHA9CtejsL97FK5H4Xq0v7gehetRuK6\\u002fmpmZmZmZqb\\u002fsUbgeheuxvzMzMzMzM7O\\u002fmpmZmZmZqb\\u002fsUbgeheuhv5qZmZmZmam\\u002fKVyPwvUorL+amZmZmZmpvwrXo3A9Cqe\\u002fCtejcD0Kp78K16NwPQqnvwrXo3A9Cqe\\u002fexSuR+F6pL97FK5H4XqUv3sUrkfheoS\\u002fexSuR+F6hL97FK5H4Xp0vwAAAAAAAAAAexSuR+F6dD97FK5H4Xp0P3sUrkfheoQ\\u002fuB6F61G4jj+4HoXrUbieP5qZmZmZmak\\u002fpHA9CtejsD97FK5H4Xq0PwrXo3A9Crc\\u002fmpmZmZmZuT+4HoXrUbi+P0jhehSuR8E\\u002f7FG4HoXrwT+PwvUoXI\\u002fCP8P1KFyPwsU\\u002f9ihcj8L1yD+F61G4HoXLP3E9CtejcM0\\u002fuB6F61G4zj9SuB6F61HQP1K4HoXrUdA\\u002fpHA9Ctej0D\\u002fsUbgehevRP+F6FK5H4dI\\u002fPQrXo3A90j+amZmZmZnRP+F6FK5H4dI\\u002fMzMzMzMz0z\\u002fsUbgehevRP1K4HoXrUdA\\u002fFK5H4XoUzj+F61G4HoXLP1K4HoXrUcg\\u002f16NwPQrXwz+4HoXrUbi+P5qZmZmZmbk\\u002fmpmZmZmZuT\\u002fD9Shcj8K1PwrXo3A9Cqc\\u002fmpmZmZmZmT+amZmZmZmZP3sUrkfheoQ\\u002fAAAAAAAAAAB7FK5H4XqEv3sUrkfheoS\\u002fmpmZmZmZmb97FK5H4Xqkv+xRuB6F66G\\u002fexSuR+F6lL+4HoXrUbiev3sUrkfheqS\\u002fCtejcD0Kp78K16NwPQqnv3sUrkfheqS\\u002f7FG4HoXrob\\u002fsUbgeheuhv+xRuB6F66G\\u002fexSuR+F6lL97FK5H4XqEv3sUrkfhepS\\u002fmpmZmZmZmb97FK5H4XqUv7gehetRuI6\\u002fuB6F61G4jr97FK5H4XqEv3sUrkfheoS\\u002fexSuR+F6dL97FK5H4Xp0vwAAAAAAAAAAexSuR+F6dD97FK5H4XqEP3sUrkfhenQ\\u002fexSuR+F6dD97FK5H4XqEP3sUrkfheoQ\\u002fexSuR+F6hD97FK5H4XqEP7gehetRuI4\\u002fuB6F61G4jj+4HoXrUbiOP7gehetRuI4\\u002fexSuR+F6lD+4HoXrUbiOP3sUrkfhenQ\\u002fAAAAAAAAAAAAAAAAAAAAAHsUrkfhenS\\u002fexSuR+F6dL8AAAAAAAAAAAAAAAAAAAAAAAAAAAAAAAAAAAAAAAAAAAAAAAAAAAAAexSuR+F6dL97FK5H4XqEv3sUrkfheoS\\u002fuB6F61G4jr+amZmZmZmZv3sUrkfhepS\\u002fexSuR+F6hL+4HoXrUbiOv3sUrkfhepS\\u002fexSuR+F6hL97FK5H4Xp0v3sUrkfhenS\\u002fexSuR+F6dL97FK5H4XqEv3sUrkfheoS\\u002fexSuR+F6hL97FK5H4Xp0vwAAAAAAAAAAAAAAAAAAAAB7FK5H4Xp0v3sUrkfhepS\\u002fmpmZmZmZqb\\u002fsUbgeheuxv+xRuB6F67G\\u002fpHA9CtejsL+kcD0K16Owv5qZmZmZmam\\u002fmpmZmZmZmb+amZmZmZmZv5qZmZmZmam\\u002f7FG4HoXrsb97FK5H4Xq0v8P1KFyPwrW\\u002fw\\u002fUoXI\\u002fCtb8K16NwPQq3v1K4HoXrUbi\\u002fw\\u002fUoXI\\u002fCtb+kcD0K16Owv+xRuB6F67G\\u002fCtejcD0Kt7\\u002fD9Shcj8K1vzMzMzMzM7O\\u002fMzMzMzMzs78zMzMzMzOzv3sUrkfherS\\u002fCtejcD0Kt79SuB6F61G4v1K4HoXrUbi\\u002fexSuR+F6tL+kcD0K16Owv7gehetRuK6\\u002fmpmZmZmZqb8AAAAAAAAAALgehetRuK4\\u002fj8L1KFyPwj+F61G4HoXLP1K4HoXrUcg\\u002fSOF6FK5HwT8AAAAAAAAAAOxRuB6F68G\\u002f9ihcj8L10L\\u002fD9Shcj8LVvylcj8L1KNS\\u002f9ihcj8L10L8fhetRuB7Fv1K4HoXrUbi\\u002f7FG4HoXrsb+kcD0K16Owv8P1KFyPwrW\\u002fUrgehetRuL9SuB6F61G4vwrXo3A9Cre\\u002fw\\u002fUoXI\\u002fCtb97FK5H4Xq0v+xRuB6F67G\\u002fpHA9CtejsL+kcD0K16Owv7gehetRuK6\\u002fKVyPwvUorL+amZmZmZmpvwrXo3A9Cqe\\u002fCtejcD0Kp7+amZmZmZmpvylcj8L1KKy\\u002fKVyPwvUorL8pXI\\u002fC9Sisv7gehetRuK6\\u002fKVyPwvUorL8K16NwPQqnv3sUrkfheqS\\u002f7FG4HoXrob\\u002fsUbgeheuhv+xRuB6F66G\\u002fexSuR+F6pL97FK5H4Xqkv+xRuB6F66G\\u002f7FG4HoXrob\\u002fsUbgeheuhv7gehetRuJ6\\u002fuB6F61G4jr8AAAAAAAAAAAAAAAAAAAAAAAAAAAAAAAAAAAAAAAAAAHsUrkfhenQ\\u002fuB6F61G4jj97FK5H4XqUP3sUrkfhepQ\\u002fmpmZmZmZmT8K16NwPQqnP7gehetRuK4\\u002fMzMzMzMzsz8K16NwPQq3Pylcj8L1KLw\\u002fcT0K16NwvT9xPQrXo3C9P6RwPQrXo8A\\u002fexSuR+F6xD\\u002fD9Shcj8LFP8P1KFyPwsU\\u002frkfhehSuxz89CtejcD3KP+F6FK5H4co\\u002f4XoUrkfhyj\\u002fhehSuR+HKP+F6FK5H4co\\u002f4XoUrkfhyj\\u002fhehSuR+HKP\\u002fYoXI\\u002fC9cg\\u002fZmZmZmZmxj8fhetRuB7FP3sUrkfhesQ\\u002f7FG4HoXrwT8AAAAAAADAP5qZmZmZmbk\\u002f7FG4HoXrsT97FK5H4XqkP7gehetRuI4\\u002fuB6F61G4jj97FK5H4XqEP7gehetRuI6\\u002fuB6F61G4nr97FK5H4XqUv7gehetRuI6\\u002fuB6F61G4nr8K16NwPQqnvwrXo3A9Cqe\\u002fCtejcD0Kp78pXI\\u002fC9Sisvylcj8L1KKy\\u002fKVyPwvUorL8pXI\\u002fC9Sisv6RwPQrXo7C\\u002fpHA9CtejsL8pXI\\u002fC9Sisvylcj8L1KKy\\u002fuB6F61G4rr+4HoXrUbiuvylcj8L1KKy\\u002fKVyPwvUorL8pXI\\u002fC9Sisvylcj8L1KKy\\u002fKVyPwvUorL+amZmZmZmpvwrXo3A9Cqe\\u002fCtejcD0Kp78K16NwPQqnv+xRuB6F66G\\u002fuB6F61G4nr97FK5H4Xp0v3sUrkfheoQ\\u002fuB6F61G4jj97FK5H4XqUP3sUrkfheqQ\\u002fuB6F61G4rj8zMzMzMzOzP8P1KFyPwrU\\u002fMzMzMzMzsz+kcD0K16OwPwrXo3A9Cqc\\u002fuB6F61G4nj+amZmZmZmZP7gehetRuI4\\u002fAAAAAAAAAAB7FK5H4XqUv5qZmZmZmZm\\u002fuB6F61G4nr+4HoXrUbiev+xRuB6F66G\\u002fCtejcD0Kp78pXI\\u002fC9Sisv7gehetRuK6\\u002f7FG4HoXrsb97FK5H4Xq0v8P1KFyPwrW\\u002fMzMzMzMzs7\\u002fsUbgeheuxv+xRuB6F67G\\u002f7FG4HoXrsb\\u002fsUbgeheuxv+xRuB6F67G\\u002f7FG4HoXrsb8zMzMzMzOzvzMzMzMzM7O\\u002fMzMzMzMzs797FK5H4Xq0v8P1KFyPwrW\\u002fw\\u002fUoXI\\u002fCtb97FK5H4Xq0vzMzMzMzM7O\\u002fmpmZmZmZmb+amZmZmZmZP7gehetRuL4\\u002fzczMzMzMzD8pXI\\u002fC9SjMPz0K16NwPco\\u002fuB6F61G4nj9I4XoUrkfBv83MzMzMzMy\\u002fMzMzMzMz07+amZmZmZnRv7gehetRuM6\\u002fAAAAAAAAwL+4HoXrUbiev5qZmZmZmZm\\u002fuB6F61G4nr8pXI\\u002fC9Sisv3sUrkfherS\\u002fcT0K16Nwvb8AAAAAAADAv1K4HoXrUbi\\u002fexSuR+F6tL9SuB6F61G4v1K4HoXrUbi\\u002fMzMzMzMzs7+kcD0K16Owv6RwPQrXo7C\\u002f7FG4HoXrsb\\u002fsUbgeheuxv+xRuB6F67G\\u002f7FG4HoXrsb+4HoXrUbiuv5qZmZmZmam\\u002fKVyPwvUorL\\u002fsUbgeheuxvzMzMzMzM7O\\u002fMzMzMzMzs7+kcD0K16Owv7gehetRuK6\\u002fuB6F61G4rr+4HoXrUbiuvylcj8L1KKy\\u002fmpmZmZmZqb8K16NwPQqnvwrXo3A9Cqe\\u002fuB6F61G4nr+4HoXrUbiOv7gehetRuI6\\u002fexSuR+F6lL+4HoXrUbiev3sUrkfheqS\\u002fuB6F61G4nr97FK5H4XqUvwAAAAAAAAAAexSuR+F6lD+amZmZmZmZP7gehetRuJ4\\u002fexSuR+F6pD+amZmZmZmpPylcj8L1KKw\\u002f7FG4HoXrsT8K16NwPQq3P+F6FK5H4bo\\u002fKVyPwvUovD+4HoXrUbi+P+xRuB6F68E\\u002f16NwPQrXwz8fhetRuB7FP8P1KFyPwsU\\u002fCtejcD0Kxz+uR+F6FK7HP1K4HoXrUcg\\u002fUrgehetRyD9SuB6F61HIPwrXo3A9Csc\\u002fZmZmZmZmxj\\u002fD9Shcj8LFP8P1KFyPwsU\\u002fj8L1KFyPwj9xPQrXo3C9PwrXo3A9Crc\\u002f7FG4HoXrsT+amZmZmZmpP7gehetRuJ4\\u002fexSuR+F6dD97FK5H4XqEv7gehetRuI6\\u002fuB6F61G4jr+amZmZmZmZv+xRuB6F66G\\u002fexSuR+F6pL+amZmZmZmpvylcj8L1KKy\\u002fpHA9CtejsL+kcD0K16Owv+xRuB6F67G\\u002fMzMzMzMzs797FK5H4Xq0v6RwPQrXo7C\\u002fuB6F61G4rr+4HoXrUbiuv6RwPQrXo7C\\u002f7FG4HoXrsb\\u002fsUbgeheuxv+xRuB6F67G\\u002f7FG4HoXrsb\\u002fsUbgeheuxv+xRuB6F67G\\u002f7FG4HoXrsb+4HoXrUbiuv5qZmZmZmam\\u002fCtejcD0Kp78K16NwPQqnvwrXo3A9Cqe\\u002fCtejcD0Kp7\\u002fsUbgeheuhv5qZmZmZmZm\\u002fmpmZmZmZmb+4HoXrUbiev3sUrkfheqS\\u002fmpmZmZmZqb97FK5H4Xqkv3sUrkfhepS\\u002fmpmZmZmZmb+4HoXrUbiev7gehetRuJ6\\u002fmpmZmZmZmb+4HoXrUbiev3sUrkfheqS\\u002fexSuR+F6pL\\u002fsUbgeheuhv3sUrkfheqS\\u002fCtejcD0Kp7\\u002fsUbgeheuhv7gehetRuJ6\\u002fCtejcD0Kp78pXI\\u002fC9Sisv5qZmZmZmam\\u002fCtejcD0Kp7+amZmZmZmpv7gehetRuK6\\u002fpHA9CtejsL\\u002fsUbgeheuxv3sUrkfherS\\u002fexSuR+F6tL+kcD0K16Owv5qZmZmZmam\\u002f7FG4HoXrob+4HoXrUbiOv3sUrkfhenS\\u002fAAAAAAAAAAB7FK5H4Xp0PwAAAAAAAAAAexSuR+F6dL97FK5H4XqEv7gehetRuI6\\u002fexSuR+F6lL97FK5H4XqUv7gehetRuJ6\\u002fCtejcD0Kp7+kcD0K16OwvwrXo3A9Cre\\u002fCtejcD0Kt78zMzMzMzOzv1K4HoXrUbi\\u002fAAAAAAAAwL8pXI\\u002fC9Si8v1K4HoXrUbi\\u002fmpmZmZmZub\\u002fhehSuR+G6v5qZmZmZmbm\\u002fUrgehetRuL+amZmZmZm5v5qZmZmZmbm\\u002fmpmZmZmZub+amZmZmZm5v+F6FK5H4bq\\u002f4XoUrkfhur+amZmZmZm5v1K4HoXrUbi\\u002fUrgehetRuL9SuB6F61G4vwrXo3A9Cre\\u002f7FG4HoXrsb+amZmZmZmZv7gehetRuJ4\\u002fuB6F61G4vj9mZmZmZmbGPwrXo3A9Csc\\u002fSOF6FK5HwT97FK5H4XqUP1K4HoXrUbi\\u002fFK5H4XoUzr+F61G4HoXTv9ejcD0K19O\\u002fpHA9Ctej0L8fhetRuB7Fvylcj8L1KLy\\u002fexSuR+F6tL97FK5H4Xq0v5qZmZmZmbm\\u002fKVyPwvUovL9xPQrXo3C9v3E9CtejcL2\\u002fcT0K16Nwvb+amZmZmZm5v8P1KFyPwrW\\u002fw\\u002fUoXI\\u002fCtb\\u002fD9Shcj8K1v8P1KFyPwrW\\u002fCtejcD0Kt78K16NwPQq3v8P1KFyPwrW\\u002fMzMzMzMzs7\\u002fsUbgeheuxv+xRuB6F67G\\u002f7FG4HoXrsb\\u002fsUbgeheuxv+xRuB6F67G\\u002f7FG4HoXrsb\\u002fsUbgeheuxv+xRuB6F67G\\u002fpHA9CtejsL+4HoXrUbiuv5qZmZmZmam\\u002fmpmZmZmZqb8K16NwPQqnvwrXo3A9Cqe\\u002fexSuR+F6pL\\u002fsUbgeheuhv+xRuB6F66G\\u002f7FG4HoXrob+4HoXrUbiev7gehetRuJ6\\u002fexSuR+F6lL97FK5H4Xp0vwAAAAAAAAAAexSuR+F6dD97FK5H4XqEP3sUrkfhepQ\\u002fuB6F61G4nj8K16NwPQqnPylcj8L1KKw\\u002fuB6F61G4rj8zMzMzMzOzPwrXo3A9Crc\\u002f4XoUrkfhuj8AAAAAAADAP0jhehSuR8E\\u002f7FG4HoXrwT\\u002fXo3A9CtfDP8P1KFyPwsU\\u002frkfhehSuxz\\u002f2KFyPwvXIP1K4HoXrUcg\\u002frkfhehSuxz9SuB6F61HIP5qZmZmZmck\\u002f4XoUrkfhyj+F61G4HoXLP\\u002fYoXI\\u002fC9cg\\u002fZmZmZmZmxj\\u002fXo3A9CtfDP+xRuB6F68E\\u002fuB6F61G4vj+amZmZmZm5P3sUrkfherQ\\u002fKVyPwvUorD+4HoXrUbieP7gehetRuI4\\u002fexSuR+F6lD+4HoXrUbiOPwAAAAAAAAAAexSuR+F6hL97FK5H4XqUv7gehetRuJ6\\u002fCtejcD0Kp7+amZmZmZmpv7gehetRuK6\\u002fuB6F61G4rr+amZmZmZmpv5qZmZmZmam\\u002fmpmZmZmZqb+amZmZmZmpvwrXo3A9Cqe\\u002fKVyPwvUorL\\u002fsUbgeheuxvylcj8L1KKy\\u002f7FG4HoXrob8pXI\\u002fC9Sisv8P1KFyPwrW\\u002fuB6F61G4rr+4HoXrUbiev+xRuB6F66G\\u002fCtejcD0Kp7\\u002fsUbgeheuhv3sUrkfhepS\\u002fexSuR+F6pL8pXI\\u002fC9Sisv3sUrkfheqS\\u002fmpmZmZmZmb97FK5H4Xqkvylcj8L1KKy\\u002fuB6F61G4nr97FK5H4XqEv7gehetRuI6\\u002fuB6F61G4jr97FK5H4XqEv3sUrkfheoS\\u002fexSuR+F6hL97FK5H4Xp0vwAAAAAAAAAAAAAAAAAAAAB7FK5H4XqEv3sUrkfheoS\\u002fAAAAAAAAAAAAAAAAAAAAAHsUrkfhenS\\u002fexSuR+F6dL97FK5H4Xp0v3sUrkfhenS\\u002fuB6F61G4jr97FK5H4XqUv3sUrkfhepS\\u002fuB6F61G4nr97FK5H4Xqkv+xRuB6F66G\\u002fexSuR+F6lL+4HoXrUbiev5qZmZmZmam\\u002fexSuR+F6pL97FK5H4XqUv3sUrkfhenS\\u002fAAAAAAAAAAB7FK5H4XqEP3sUrkfhepQ\\u002fexSuR+F6lD+4HoXrUbiOP7gehetRuI4\\u002fexSuR+F6hD8AAAAAAAAAALgehetRuI6\\u002fuB6F61G4jr+4HoXrUbiOv+xRuB6F66G\\u002fKVyPwvUorL+kcD0K16OwvzMzMzMzM7O\\u002fw\\u002fUoXI\\u002fCtb8K16NwPQq3v3sUrkfherS\\u002fMzMzMzMzs7\\u002fD9Shcj8K1vwrXo3A9Cre\\u002fCtejcD0Kt79SuB6F61G4v5qZmZmZmbm\\u002f4XoUrkfhur\\u002fhehSuR+G6v5qZmZmZmbm\\u002fmpmZmZmZub9SuB6F61G4v1K4HoXrUbi\\u002fUrgehetRuL+amZmZmZm5v5qZmZmZmbm\\u002fmpmZmZmZub97FK5H4Xq0v7gehetRuK6\\u002fexSuR+F6dL+amZmZmZmpP7gehetRuL4\\u002f9ihcj8L1yD8fhetRuB7FP3E9CtejcL0\\u002fexSuR+F6hL+PwvUoXI\\u002fCv1yPwvUoXM+\\u002fw\\u002fUoXI\\u002fC1b\\u002fhehSuR+HSv7gehetRuM6\\u002fMzMzMzMzw7+kcD0K16Owv6RwPQrXo7C\\u002f7FG4HoXrsb9SuB6F61G4v7gehetRuL6\\u002fAAAAAAAAwL8AAAAAAADAv+F6FK5H4bq\\u002fCtejcD0Kt78K16NwPQq3v8P1KFyPwrW\\u002fMzMzMzMzs7+kcD0K16Owv6RwPQrXo7C\\u002fuB6F61G4rr+4HoXrUbiuv7gehetRuK6\\u002f7FG4HoXrsb\\u002fsUbgeheuxv7gehetRuK6\\u002fpHA9CtejsL97FK5H4Xq0v+xRuB6F67G\\u002fexSuR+F6pL\\u002fsUbgeheuhvwrXo3A9Cqe\\u002fexSuR+F6pL+4HoXrUbiev+xRuB6F66G\\u002fmpmZmZmZqb97FK5H4Xqkv3sUrkfhepS\\u002fexSuR+F6lL97FK5H4XqUv3sUrkfhenS\\u002fexSuR+F6hD8AAAAAAAAAAHsUrkfhenS\\u002fexSuR+F6dD+amZmZmZmZP3sUrkfhepQ\\u002fexSuR+F6lD\\u002fsUbgeheuhP5qZmZmZmak\\u002fmpmZmZmZqT+amZmZmZmpP8P1KFyPwrU\\u002fcT0K16NwvT9xPQrXo3C9P7gehetRuL4\\u002fpHA9CtejwD+PwvUoXI\\u002fCPx+F61G4HsU\\u002fCtejcD0Kxz8K16NwPQrHP1K4HoXrUcg\\u002fPQrXo3A9yj+F61G4HoXLP4XrUbgehcs\\u002fKVyPwvUozD8pXI\\u002fC9SjMP+F6FK5H4co\\u002fmpmZmZmZyT+uR+F6FK7HP2ZmZmZmZsY\\u002fMzMzMzMzwz+4HoXrUbi+P+F6FK5H4bo\\u002fmpmZmZmZuT8zMzMzMzOzP3sUrkfheqQ\\u002fexSuR+F6lD8AAAAAAAAAAHsUrkfheoS\\u002fexSuR+F6lL\\u002fsUbgeheuhvwrXo3A9Cqe\\u002fmpmZmZmZqb8pXI\\u002fC9Sisv7gehetRuK6\\u002fuB6F61G4rr+kcD0K16Owv+xRuB6F67G\\u002f7FG4HoXrsb8zMzMzMzOzvzMzMzMzM7O\\u002fMzMzMzMzs797FK5H4Xq0v8P1KFyPwrW\\u002fw\\u002fUoXI\\u002fCtb97FK5H4Xq0vzMzMzMzM7O\\u002fMzMzMzMzs78zMzMzMzOzv+xRuB6F67G\\u002f7FG4HoXrsb\\u002fsUbgeheuxv+xRuB6F67G\\u002fMzMzMzMzs797FK5H4Xq0vzMzMzMzM7O\\u002fKVyPwvUorL+amZmZmZmpv5qZmZmZmam\\u002fmpmZmZmZqb+amZmZmZmpvwrXo3A9Cqe\\u002fCtejcD0Kp78K16NwPQqnvwrXo3A9Cqe\\u002fmpmZmZmZqb+amZmZmZmpv3sUrkfheqS\\u002f7FG4HoXrob\\u002fsUbgeheuhv+xRuB6F66G\\u002f7FG4HoXrob\\u002fsUbgeheuhv5qZmZmZmZm\\u002fuB6F61G4jr+4HoXrUbiev5qZmZmZmam\\u002f7FG4HoXrob97FK5H4XqUv+xRuB6F66G\\u002fCtejcD0Kp7\\u002fsUbgeheuhv5qZmZmZmZm\\u002fCtejcD0Kp7+4HoXrUbiuv3sUrkfheqS\\u002f7FG4HoXrob8zMzMzMzOzv1K4HoXrUbi\\u002fuB6F61G4rr+4HoXrUbiev5qZmZmZmZm\\u002fexSuR+F6hL97FK5H4XqEP3sUrkfhepQ\\u002fexSuR+F6hD8AAAAAAAAAAAAAAAAAAAAAexSuR+F6dL+amZmZmZmZv5qZmZmZmZm\\u002fuB6F61G4jr97FK5H4XqUv+xRuB6F66G\\u002fmpmZmZmZqb+kcD0K16Owv+xRuB6F67G\\u002f7FG4HoXrsb\\u002fD9Shcj8K1vylcj8L1KLy\\u002fKVyPwvUovL9SuB6F61G4v5qZmZmZmbm\\u002f4XoUrkfhur+amZmZmZm5v1K4HoXrUbi\\u002fmpmZmZmZub\\u002fhehSuR+G6v+F6FK5H4bq\\u002fmpmZmZmZub\\u002fhehSuR+G6v+F6FK5H4bq\\u002fmpmZmZmZub9SuB6F61G4v5qZmZmZmbm\\u002fmpmZmZmZub8K16NwPQq3vzMzMzMzM7O\\u002fexSuR+F6lL+4HoXrUbiePylcj8L1KLw\\u002fH4XrUbgexT\\u002fXo3A9CtfDP+F6FK5H4bo\\u002fuB6F61G4nr97FK5H4XrEv4\\u002fC9Shcj9K\\u002fZmZmZmZm1r\\u002fNzMzMzMzUv0jhehSuR9G\\u002fZmZmZmZmxr+4HoXrUbi+v1K4HoXrUbi\\u002fUrgehetRuL8pXI\\u002fC9Si8v7gehetRuL6\\u002fAAAAAAAAwL+4HoXrUbi+v+F6FK5H4bq\\u002fCtejcD0Kt7\\u002fsUbgeheuxvzMzMzMzM7O\\u002fexSuR+F6tL\\u002fsUbgeheuxv5qZmZmZmam\\u002fmpmZmZmZqb8pXI\\u002fC9Sisv7gehetRuK6\\u002fpHA9CtejsL\\u002fsUbgeheuxv+xRuB6F67G\\u002f7FG4HoXrsb\\u002fsUbgeheuxv6RwPQrXo7C\\u002fuB6F61G4rr+4HoXrUbiuvylcj8L1KKy\\u002fmpmZmZmZqb+amZmZmZmpv5qZmZmZmam\\u002fmpmZmZmZqb97FK5H4Xqkv+xRuB6F66G\\u002fmpmZmZmZqb8pXI\\u002fC9Sisv7gehetRuJ6\\u002fexSuR+F6hL8AAAAAAAAAAAAAAAAAAAAAAAAAAAAAAAB7FK5H4Xp0P3sUrkfhenQ\\u002fexSuR+F6hD97FK5H4XqEP5qZmZmZmZk\\u002fmpmZmZmZqT\\u002fsUbgeheuxP1K4HoXrUbg\\u002f4XoUrkfhuj9xPQrXo3C9P6RwPQrXo8A\\u002fMzMzMzMzwz\\u002fD9Shcj8LFP1K4HoXrUcg\\u002fUrgehetRyD8K16NwPQrHPz0K16NwPco\\u002fFK5H4XoUzj8UrkfhehTOP3E9CtejcM0\\u002fFK5H4XoUzj+4HoXrUbjOPxSuR+F6FM4\\u002fzczMzMzMzD\\u002fhehSuR+HKP1K4HoXrUcg\\u002fZmZmZmZmxj\\u002fXo3A9CtfDP4\\u002fC9Shcj8I\\u002fpHA9CtejwD\\u002fhehSuR+G6P3sUrkfherQ\\u002fCtejcD0Kpz97FK5H4XqUP3sUrkfhepQ\\u002fexSuR+F6dD+amZmZmZmZvwrXo3A9Cqe\\u002fuB6F61G4nr+amZmZmZmZv+xRuB6F66G\\u002fCtejcD0Kp78K16NwPQqnv5qZmZmZmam\\u002fuB6F61G4rr\\u002fsUbgeheuxv+xRuB6F67G\\u002f7FG4HoXrsb\\u002fsUbgeheuxv7gehetRuK6\\u002fCtejcD0Kp7+amZmZmZmpvylcj8L1KKy\\u002fuB6F61G4rr+4HoXrUbiuv7gehetRuK6\\u002fpHA9CtejsL+4HoXrUbiuv5qZmZmZmam\\u002f7FG4HoXrob97FK5H4XqUvzMzMzMzM7O\\u002fSOF6FK5Hwb+amZmZmZnJv0jhehSuR9G\\u002frkfhehSu179mZmZmZmbev1yPwvUoXOO\\u002fXI\\u002fC9Shc57+4HoXrUbjqvz0K16NwPe6\\u002fSOF6FK5H8b+amZmZmZnzvylcj8L1KPa\\u002fexSuR+F6+L+uR+F6FK75v1K4HoXrUfq\\u002fhetRuB6F+b8AAAAAAAD4vx+F61G4HvW\\u002f7FG4HoXr8b+kcD0K16Psv4\\u002fC9Shcj+a\\u002fmpmZmZmZ4b8zMzMzMzPbv8P1KFyPwtW\\u002f9ihcj8L10L89CtejcD3Kv8P1KFyPwsW\\u002fexSuR+F6xL+PwvUoXI\\u002fCv7gehetRuL6\\u002fKVyPwvUovL8pXI\\u002fC9Si8v8P1KFyPwrW\\u002fKVyPwvUorL+amZmZmZmZvwAAAAAAAAAAmpmZmZmZmT8K16NwPQqnP5qZmZmZmak\\u002fmpmZmZmZqT+4HoXrUbiuP+xRuB6F67E\\u002fMzMzMzMzsz97FK5H4Xq0P1K4HoXrUbg\\u002f4XoUrkfhuj8AAAAAAADAP4\\u002fC9Shcj8I\\u002fexSuR+F6xD9mZmZmZmbGPz0K16NwPco\\u002fcT0K16NwzT+kcD0K16PQP4\\u002fC9Shcj9I\\u002fcT0K16Nw1T8AAAAAAADYP+xRuB6F69k\\u002f16NwPQrX2z8UrkfhehTePylcj8L1KOA\\u002fcT0K16Nw4T\\u002fhehSuR+HiP\\u002fYoXI\\u002fC9eQ\\u002fj8L1KFyP5j\\u002fXo3A9CtfnP\\u002fYoXI\\u002fC9eg\\u002f7FG4HoXr6T+4HoXrUbjqP4XrUbgehes\\u002fKVyPwvUo7D\\u002fNzMzMzMzsP6RwPQrXo+w\\u002fAAAAAAAA7D+F61G4HoXrP1yPwvUoXOs\\u002fPQrXo3A96j\\u002f2KFyPwvXoP9ejcD0K1+c\\u002fj8L1KFyP5j\\u002f2KFyPwvXkP1yPwvUoXOM\\u002f7FG4HoXr4T+kcD0K16PgP2ZmZmZmZt4\\u002f16NwPQrX2z89CtejcD3aP6RwPQrXo9g\\u002fFK5H4XoU1j8zMzMzMzPTP0jhehSuR9E\\u002fuB6F61G4zj\\u002fhehSuR+HKP65H4XoUrsc\\u002fH4XrUbgexT+PwvUoXI\\u002fCP+xRuB6F68E\\u002fSOF6FK5HwT9I4XoUrkfBP6RwPQrXo8A\\u002fuB6F61G4vj8pXI\\u002fC9Si8P5qZmZmZmbk\\u002fmpmZmZmZuT+amZmZmZm5P1K4HoXrUbg\\u002fw\\u002fUoXI\\u002fCtT\\u002fD9Shcj8K1P5qZmZmZmbk\\u002fUrgehetRuD\\u002fD9Shcj8K1P8P1KFyPwrU\\u002fw\\u002fUoXI\\u002fCtT97FK5H4Xq0P+xRuB6F67E\\u002fMzMzMzMzsz97FK5H4Xq0P+xRuB6F67E\\u002fKVyPwvUorD+kcD0K16OwP3sUrkfherQ\\u002f7FG4HoXrsT8pXI\\u002fC9SisP6RwPQrXo7A\\u002fexSuR+F6tD+kcD0K16OwPwrXo3A9Cqc\\u002fmpmZmZmZqT+4HoXrUbiuP5qZmZmZmZk\\u002fAAAAAAAAAACamZmZmZmZP5qZmZmZmak\\u002fmpmZmZmZmT97FK5H4XqEP3sUrkfhepQ\\u002fmpmZmZmZmT97FK5H4Xp0P3sUrkfhenS\\u002fexSuR+F6dL97FK5H4Xp0v3sUrkfhepS\\u002fexSuR+F6lL8AAAAAAAAAAHsUrkfheoQ\\u002fAAAAAAAAAAB7FK5H4XqEv3sUrkfheoS\\u002fexSuR+F6hL97FK5H4XqUv3sUrkfhepS\\u002fexSuR+F6lL97FK5H4XqUv7gehetRuJ6\\u002fmpmZmZmZmb+4HoXrUbiOv5qZmZmZmZm\\u002fexSuR+F6pL8K16NwPQqnvwrXo3A9Cqe\\u002fCtejcD0Kp78K16NwPQqnv3sUrkfheqS\\u002f7FG4HoXrob97FK5H4Xqkv5qZmZmZmam\\u002fexSuR+F6pL+4HoXrUbiev+xRuB6F66G\\u002fCtejcD0Kp78pXI\\u002fC9Sisv7gehetRuK6\\u002fuB6F61G4rr+4HoXrUbiuv7gehetRuK6\\u002fuB6F61G4rr+4HoXrUbiuv7gehetRuK6\\u002fmpmZmZmZqb8K16NwPQqnvwrXo3A9Cqe\\u002fmpmZmZmZqb8pXI\\u002fC9Sisv7gehetRuK6\\u002fuB6F61G4rr+4HoXrUbiuv7gehetRuK6\\u002fuB6F61G4rr\\u002fsUbgeheuxv+xRuB6F67G\\u002fpHA9CtejsL+4HoXrUbiuv7gehetRuK6\\u002fuB6F61G4rr+4HoXrUbiuv7gehetRuK6\\u002fpHA9CtejsL\\u002fsUbgeheuxv+xRuB6F67G\\u002fMzMzMzMzs797FK5H4Xq0v+xRuB6F67G\\u002fKVyPwvUorL+4HoXrUbiuv6RwPQrXo7C\\u002fpHA9CtejsL+4HoXrUbiuv7gehetRuK6\\u002fpHA9CtejsL+kcD0K16Owv7gehetRuK6\\u002fexSuR+F6tL+amZmZmZm5v3sUrkfherS\\u002fuB6F61G4rr8zMzMzMzOzvwrXo3A9Cre\\u002fexSuR+F6tL+kcD0K16Owv6RwPQrXo7C\\u002fpHA9CtejsL+kcD0K16Owv+xRuB6F67G\\u002fexSuR+F6tL8zMzMzMzOzv3sUrkfheqS\\u002fuB6F61G4jr97FK5H4XqEv3sUrkfhenS\\u002fAAAAAAAAAAAAAAAAAAAAAAAAAAAAAAAAexSuR+F6dL+4HoXrUbiOv5qZmZmZmZm\\u002fexSuR+F6pL97FK5H4Xqkv5qZmZmZmZm\\u002fuB6F61G4nr8pXI\\u002fC9Sisv+xRuB6F67G\\u002fw\\u002fUoXI\\u002fCtb8K16NwPQq3vwrXo3A9Cre\\u002fUrgehetRuL+amZmZmZm5v+F6FK5H4bq\\u002fKVyPwvUovL\\u002fhehSuR+G6v1K4HoXrUbi\\u002fUrgehetRuL9SuB6F61G4v1K4HoXrUbi\\u002fUrgehetRuL9SuB6F61G4vwrXo3A9Cre\\u002fCtejcD0Kt7\\u002fD9Shcj8K1vzMzMzMzM7O\\u002fKVyPwvUorL97FK5H4XqEP8P1KFyPwrU\\u002fj8L1KFyPwj8K16NwPQrHP3E9CtejcL0\\u002fuB6F61G4nj8AAAAAAADAv6RwPQrXo9C\\u002fuB6F61G41r+amZmZmZnZv2ZmZmZmZta\\u002fPQrXo3A90r\\u002f2KFyPwvXIv4\\u002fC9Shcj8K\\u002fSOF6FK5Hwb+PwvUoXI\\u002fCvx+F61G4HsW\\u002fw\\u002fUoXI\\u002fCxb97FK5H4XrEv0jhehSuR8G\\u002fKVyPwvUovL\\u002fhehSuR+G6vylcj8L1KLy\\u002fUrgehetRuL\\u002fsUbgeheuxv+xRuB6F67G\\u002fw\\u002fUoXI\\u002fCtb97FK5H4Xq0v+xRuB6F67G\\u002f7FG4HoXrsb\\u002fsUbgeheuxv+xRuB6F67G\\u002f7FG4HoXrsb8zMzMzMzOzv8P1KFyPwrW\\u002fpHA9CtejsL8K16NwPQqnvylcj8L1KKy\\u002fpHA9CtejsL+kcD0K16Owv6RwPQrXo7C\\u002fMzMzMzMzs7\\u002fD9Shcj8K1vzMzMzMzM7O\\u002fpHA9CtejsL+kcD0K16Owvylcj8L1KKy\\u002fmpmZmZmZmb97FK5H4XqEv3sUrkfhepS\\u002fexSuR+F6lL97FK5H4XqEv3sUrkfhenS\\u002fexSuR+F6dL8AAAAAAAAAAHsUrkfhenQ\\u002fuB6F61G4jj+4HoXrUbiOP3sUrkfhepQ\\u002f7FG4HoXroT8K16NwPQqnP5qZmZmZmak\\u002fuB6F61G4rj97FK5H4Xq0P8P1KFyPwrU\\u002fCtejcD0Ktz9SuB6F61G4P1K4HoXrUbg\\u002fUrgehetRuD9SuB6F61G4Pylcj8L1KLw\\u002fAAAAAAAAwD+kcD0K16PAP6RwPQrXo8A\\u002fSOF6FK5HwT9I4XoUrkfBP0jhehSuR8E\\u002fSOF6FK5HwT+4HoXrUbi+P+F6FK5H4bo\\u002fmpmZmZmZuT8K16NwPQq3P8P1KFyPwrU\\u002fexSuR+F6tD+kcD0K16OwP5qZmZmZmak\\u002f7FG4HoXroT+amZmZmZmZP3sUrkfhenQ\\u002fexSuR+F6dL97FK5H4XqUv7gehetRuJ6\\u002fCtejcD0Kp7+amZmZmZmpv5qZmZmZmam\\u002fmpmZmZmZqb+4HoXrUbiuv6RwPQrXo7C\\u002f7FG4HoXrsb8zMzMzMzOzvzMzMzMzM7O\\u002f7FG4HoXrsb\\u002fsUbgeheuxvzMzMzMzM7O\\u002fw\\u002fUoXI\\u002fCtb8zMzMzMzOzvylcj8L1KKy\\u002fKVyPwvUorL+kcD0K16Owv5qZmZmZmam\\u002fuB6F61G4nr97FK5H4Xqkv5qZmZmZmam\\u002f7FG4HoXrob+4HoXrUbiOv7gehetRuJ6\\u002fmpmZmZmZqb97FK5H4XqUv7gehetRuI4\\u002fAAAAAAAAAAAAAAAAAAAAAHsUrkfheoQ\\u002fexSuR+F6lD97FK5H4Xp0PwAAAAAAAAAAexSuR+F6dD97FK5H4XqEP3sUrkfhenQ\\u002fexSuR+F6dD+amZmZmZmZP3sUrkfheqQ\\u002fmpmZmZmZmT+4HoXrUbiOP7gehetRuI4\\u002fuB6F61G4jj8AAAAAAAAAAHsUrkfhenS\\u002fexSuR+F6dL97FK5H4XqEv5qZmZmZmZm\\u002fmpmZmZmZmb97FK5H4XqEv3sUrkfhenS\\u002fuB6F61G4jr+4HoXrUbievwrXo3A9Cqe\\u002fmpmZmZmZqb8K16NwPQqnv7gehetRuJ6\\u002fexSuR+F6hL8AAAAAAAAAAHsUrkfhenQ\\u002fuB6F61G4jj97FK5H4XqUP3sUrkfhepQ\\u002fuB6F61G4jj8AAAAAAAAAAHsUrkfhepS\\u002fmpmZmZmZmb+amZmZmZmZv+xRuB6F66G\\u002fCtejcD0Kp7+4HoXrUbiuvzMzMzMzM7O\\u002fexSuR+F6tL8K16NwPQq3vwrXo3A9Cre\\u002fUrgehetRuL9SuB6F61G4v1K4HoXrUbi\\u002f4XoUrkfhur9xPQrXo3C9v3E9CtejcL2\\u002fcT0K16Nwvb9xPQrXo3C9v7gehetRuL6\\u002fuB6F61G4vr+4HoXrUbi+v7gehetRuL6\\u002fcT0K16Nwvb8pXI\\u002fC9Si8vylcj8L1KLy\\u002fcT0K16Nwvb9xPQrXo3C9v3E9CtejcL2\\u002fexSuR+F6tL+amZmZmZmZvwrXo3A9Cqc\\u002fpHA9CtejwD9I4XoUrkfBP1K4HoXrUbg\\u002fmpmZmZmZmb+uR+F6FK7Hv4XrUbgehdO\\u002fPQrXo3A92r9I4XoUrkfZv7gehetRuNa\\u002fmpmZmZmZ0b\\u002f2KFyPwvXIv3sUrkfhesS\\u002fpHA9CtejwL8zMzMzMzPDv2ZmZmZmZsa\\u002fexSuR+F6xL\\u002fsUbgehevBv6RwPQrXo8C\\u002fcT0K16Nwvb\\u002fhehSuR+G6v5qZmZmZmbm\\u002fmpmZmZmZub9SuB6F61G4v3sUrkfherS\\u002fpHA9CtejsL+4HoXrUbiuv7gehetRuK6\\u002fpHA9CtejsL\\u002fsUbgeheuxv3sUrkfherS\\u002fMzMzMzMzs7+4HoXrUbiuvylcj8L1KKy\\u002fpHA9CtejsL+kcD0K16Owv5qZmZmZmam\\u002fCtejcD0Kp78pXI\\u002fC9Sisv5qZmZmZmam\\u002f7FG4HoXrob\\u002fsUbgeheuhv5qZmZmZmam\\u002f7FG4HoXrob+4HoXrUbiOv3sUrkfhepS\\u002fCtejcD0Kp7+4HoXrUbiOv3sUrkfhepQ\\u002fuB6F61G4jj8AAAAAAAAAAHsUrkfhepQ\\u002fmpmZmZmZqT+amZmZmZmpPwrXo3A9Cqc\\u002fpHA9CtejsD9SuB6F61G4PwrXo3A9Crc\\u002fCtejcD0Ktz8AAAAAAADAP3sUrkfhesQ\\u002fH4XrUbgexT9mZmZmZmbGP65H4XoUrsc\\u002fmpmZmZmZyT+F61G4HoXLP83MzMzMzMw\\u002fcT0K16NwzT9xPQrXo3DNP3E9CtejcM0\\u002fFK5H4XoUzj8AAAAAAADQP1K4HoXrUdA\\u002fXI\\u002fC9Shczz9xPQrXo3DNP4XrUbgehcs\\u002f9ihcj8L1yD97FK5H4XrEP0jhehSuR8E\\u002fcT0K16NwvT9SuB6F61G4PzMzMzMzM7M\\u002fpHA9CtejsD8pXI\\u002fC9SisP3sUrkfheqQ\\u002fexSuR+F6lD97FK5H4Xp0PwAAAAAAAAAAexSuR+F6dL97FK5H4XqUv5qZmZmZmZm\\u002fmpmZmZmZmb\\u002fsUbgeheuhvwrXo3A9Cqe\\u002fexSuR+F6pL+4HoXrUbiev7gehetRuJ6\\u002fuB6F61G4nr+4HoXrUbiev7gehetRuJ6\\u002f7FG4HoXrob8K16NwPQqnvwrXo3A9Cqe\\u002fCtejcD0Kp78K16NwPQqnv3sUrkfheqS\\u002fmpmZmZmZmb+4HoXrUbiOv3sUrkfhepS\\u002fexSuR+F6lL97FK5H4XqEvwAAAAAAAAAAAAAAAAAAAAAAAAAAAAAAAHsUrkfhenS\\u002fexSuR+F6dL97FK5H4Xp0vwAAAAAAAAAAAAAAAAAAAAB7FK5H4Xp0P3sUrkfhenQ\\u002fexSuR+F6dD97FK5H4Xp0PwAAAAAAAAAAAAAAAAAAAAAAAAAAAAAAAAAAAAAAAAAAAAAAAAAAAAAAAAAAAAAAAHsUrkfhenS\\u002fexSuR+F6hL97FK5H4XqEv3sUrkfheoS\\u002fuB6F61G4jr97FK5H4XqUv7gehetRuI6\\u002fexSuR+F6dL97FK5H4Xp0v3sUrkfheoS\\u002fuB6F61G4jr97FK5H4XqUv5qZmZmZmZm\\u002fuB6F61G4nr97FK5H4Xp0v3sUrkfhepQ\\u002f7FG4HoXroT8pXI\\u002fC9SisPylcj8L1KKw\\u002fmpmZmZmZqT\\u002fsUbgeheuhP5qZmZmZmZk\\u002fmpmZmZmZmT97FK5H4XqUP7gehetRuI4\\u002fexSuR+F6hD8AAAAAAAAAAHsUrkfheoS\\u002fexSuR+F6pL8zMzMzMzOzvylcj8L1KLy\\u002fj8L1KFyPwr9mZmZmZmbGv8P1KFyPwsW\\u002fAAAAAAAAwL\\u002fhehSuR+G6v5qZmZmZmbm\\u002fCtejcD0Kt78zMzMzMzOzv6RwPQrXo7C\\u002fuB6F61G4rr\\u002fD9Shcj8K1v7gehetRuL6\\u002fKVyPwvUovL8K16NwPQq3v1K4HoXrUbi\\u002fmpmZmZmZub\\u002fD9Shcj8K1v6RwPQrXo7C\\u002fuB6F61G4rr8pXI\\u002fC9Sisv3sUrkfheoS\\u002fuB6F61G4nj9SuB6F61G4P3sUrkfhesQ\\u002fH4XrUbgexT\\u002fXo3A9CtfDPwAAAAAAAAAA7FG4HoXrwb+4HoXrUbjOv3sUrkfhetS\\u002fzczMzMzM1L\\u002fXo3A9CtfTvz0K16NwPcq\\u002fAAAAAAAAwL9SuB6F61G4v3sUrkfherS\\u002fUrgehetRuL\\u002fhehSuR+G6v5qZmZmZmbm\\u002fCtejcD0Kt78zMzMzMzOzv+xRuB6F67G\\u002f7FG4HoXrsb+4HoXrUbiuv5qZmZmZmam\\u002fexSuR+F6pL+4HoXrUbiev7gehetRuJ6\\u002fuB6F61G4nr+4HoXrUbiev7gehetRuJ6\\u002fuB6F61G4nr+amZmZmZmZv3sUrkfheqS\\u002fpHA9CtejsL+kcD0K16Owv7gehetRuK6\\u002fexSuR+F6tL\\u002fhehSuR+G6v+xRuB6F68G\\u002fCtejcD0Kx797FK5H4XrEv+xRuB6F68G\\u002fKVyPwvUovL97FK5H4Xq0v6RwPQrXo7C\\u002fmpmZmZmZqb97FK5H4XqUvwAAAAAAAAAAexSuR+F6dD97FK5H4XqEP3sUrkfhenQ\\u002fAAAAAAAAAAB7FK5H4Xp0P3sUrkfheoQ\\u002fAAAAAAAAAACamZmZmZmZPzMzMzMzM8M\\u002fhetRuB6Fyz+uR+F6FK7HPx+F61G4HsU\\u002fexSuR+F6xD\\u002fXo3A9CtfDP9ejcD0K18M\\u002f16NwPQrXwz\\u002fXo3A9CtfDP8P1KFyPwsU\\u002fUrgehetRyD89CtejcD3KP4XrUbgehcs\\u002fmpmZmZmZyT9mZmZmZmbGP2ZmZmZmZsY\\u002fUrgehetRyD+F61G4HoXLPwAAAAAAANA\\u002fuB6F61G4zj+F61G4HoXLPz0K16NwPco\\u002fmpmZmZmZyT9mZmZmZmbGP4\\u002fC9Shcj8I\\u002fSOF6FK5HwT+kcD0K16PAP5qZmZmZmbk\\u002f7FG4HoXrsT+amZmZmZmpP7gehetRuJ4\\u002fmpmZmZmZmT+amZmZmZmZP5qZmZmZmZk\\u002fuB6F61G4nj\\u002fsUbgeheuhP+xRuB6F66E\\u002fexSuR+F6hD97FK5H4XqEv3sUrkfheoS\\u002fuB6F61G4jr+amZmZmZmZv+xRuB6F66G\\u002fCtejcD0Kp78K16NwPQqnv7gehetRuJ6\\u002fmpmZmZmZmb+amZmZmZmZv7gehetRuJ6\\u002fCtejcD0Kp797FK5H4Xqkv3sUrkfhepS\\u002fuB6F61G4jr+4HoXrUbiOv7gehetRuI6\\u002fuB6F61G4jr97FK5H4XqEv3sUrkfhenS\\u002fAAAAAAAAAAB7FK5H4XqEP7gehetRuI4\\u002fuB6F61G4jj97FK5H4XqEP3sUrkfheoQ\\u002fexSuR+F6hD97FK5H4XqEP5qZmZmZmZk\\u002fexSuR+F6pD\\u002fsUbgeheuhP5qZmZmZmZk\\u002fexSuR+F6dL+4HoXrUbiev3sUrkfheoS\\u002fexSuR+F6hD97FK5H4XqEP3sUrkfhenQ\\u002fAAAAAAAAAAB7FK5H4Xp0v3sUrkfhenS\\u002fexSuR+F6dL97FK5H4Xp0vwAAAAAAAAAAAAAAAAAAAAAAAAAAAAAAAHsUrkfheoQ\\u002fexSuR+F6lD\\u002fsUbgeheuhP6RwPQrXo7A\\u002f4XoUrkfhuj8pXI\\u002fC9Si8P+xRuB6F67E\\u002fexSuR+F6pD97FK5H4XqUP5qZmZmZmZk\\u002fCtejcD0Kpz8pXI\\u002fC9SisP6RwPQrXo7A\\u002f7FG4HoXroT97FK5H4Xp0v7gehetRuI6\\u002fuB6F61G4jr8AAAAAAAAAAHsUrkfheoQ\\u002fuB6F61G4jj+4HoXrUbiOP3sUrkfheoS\\u002fCtejcD0Kp78pXI\\u002fC9Sisv7gehetRuK6\\u002fmpmZmZmZqb\\u002fsUbgeheuhv5qZmZmZmZm\\u002fexSuR+F6lL+amZmZmZmZv5qZmZmZmZm\\u002fmpmZmZmZmb97FK5H4XqUv3sUrkfhenS\\u002fAAAAAAAAAACamZmZmZmZv3sUrkfheqS\\u002fuB6F61G4nr97FK5H4Xp0v7gehetRuK4\\u002f7FG4HoXrwT+4HoXrUbjOP+xRuB6F69E\\u002f4XoUrkfhyj9xPQrXo3C9P7gehetRuI6\\u002fpHA9CtejwL\\u002fhehSuR+HKv3E9CtejcM2\\u002fUrgehetRyL8AAAAAAADAv3sUrkfheqS\\u002fexSuR+F6dL97FK5H4Xp0v5qZmZmZmZm\\u002fuB6F61G4rr+kcD0K16Owvylcj8L1KKy\\u002fexSuR+F6pL+amZmZmZmZv5qZmZmZmZm\\u002fmpmZmZmZmb+amZmZmZmZv5qZmZmZmZm\\u002fmpmZmZmZmb+amZmZmZmZv3sUrkfhepS\\u002fexSuR+F6lL+amZmZmZmZv7gehetRuJ6\\u002fexSuR+F6lL97FK5H4Xp0v3sUrkfhenS\\u002fAAAAAAAAAAAAAAAAAAAAAAAAAAAAAAAAexSuR+F6dL97FK5H4XqEv3sUrkfheoS\\u002fexSuR+F6hL97FK5H4XqEv3sUrkfheoS\\u002fexSuR+F6dL8AAAAAAAAAAHsUrkfhenQ\\u002fexSuR+F6hD97FK5H4XqEP7gehetRuI4\\u002fmpmZmZmZmT+amZmZmZmZP7gehetRuI4\\u002fmpmZmZmZmT8K16NwPQqnP5qZmZmZmak\\u002fmpmZmZmZqT+4HoXrUbiuP8P1KFyPwrU\\u002fUrgehetRuD+amZmZmZm5P3E9CtejcL0\\u002fSOF6FK5HwT9I4XoUrkfBP0jhehSuR8E\\u002f16NwPQrXwz+uR+F6FK7HP\\u002fYoXI\\u002fC9cg\\u002fPQrXo3A9yj\\u002fhehSuR+HKP+F6FK5H4co\\u002fKVyPwvUozD8UrkfhehTOP4XrUbgehcs\\u002fmpmZmZmZyT89CtejcD3KP+F6FK5H4co\\u002f9ihcj8L1yD8K16NwPQrHP2ZmZmZmZsY\\u002fexSuR+F6xD9I4XoUrkfBPylcj8L1KLw\\u002fmpmZmZmZuT\\u002fD9Shcj8K1P7gehetRuK4\\u002fCtejcD0Kpz+amZmZmZmpPwrXo3A9Cqc\\u002fuB6F61G4nj+4HoXrUbiOP3sUrkfhenQ\\u002fAAAAAAAAAAAAAAAAAAAAAAAAAAAAAAAAAAAAAAAAAAAAAAAAAAAAAAAAAAAAAAAAAAAAAAAAAAB7FK5H4Xp0P3sUrkfhenQ\\u002fexSuR+F6dD8AAAAAAAAAAHsUrkfhenS\\u002fexSuR+F6hL+4HoXrUbiOv3sUrkfheoS\\u002fexSuR+F6dL8AAAAAAAAAAAAAAAAAAAAAexSuR+F6dD97FK5H4XqEP3sUrkfheoQ\\u002fexSuR+F6dD97FK5H4Xp0PwAAAAAAAAAAAAAAAAAAAAB7FK5H4Xp0v3sUrkfhenQ\\u002fuB6F61G4jj+4HoXrUbiOP7gehetRuI4\\u002fuB6F61G4jj+4HoXrUbiOP7gehetRuI4\\u002fexSuR+F6hD97FK5H4XqEP3sUrkfheoQ\\u002fuB6F61G4jj+4HoXrUbiOP3sUrkfhenQ\\u002fexSuR+F6dD+4HoXrUbiOP7gehetRuI4\\u002fAAAAAAAAAAAAAAAAAAAAAHsUrkfheoQ\\u002fAAAAAAAAAADsUbgeheuhv7gehetRuJ6\\u002fexSuR+F6hD97FK5H4XqUP3sUrkfhepQ\\u002fexSuR+F6pD97FK5H4Xq0P3sUrkfherQ\\u002fMzMzMzMzsz8zMzMzMzOzPzMzMzMzM7M\\u002fKVyPwvUorD\\u002fsUbgeheuhP3sUrkfheqQ\\u002fCtejcD0Kpz\\u002fsUbgeheuhP5qZmZmZmZk\\u002fexSuR+F6hD8AAAAAAAAAAHsUrkfheoS\\u002fmpmZmZmZmb\\u002fsUbgeheuhv3sUrkfheqS\\u002f7FG4HoXrob\\u002fsUbgeheuhv3sUrkfheqS\\u002fexSuR+F6pL\\u002fsUbgeheuhv7gehetRuJ6\\u002fCtejcD0Kp78pXI\\u002fC9Sisvylcj8L1KKy\\u002fKVyPwvUorL8pXI\\u002fC9Sisv5qZmZmZmam\\u002f7FG4HoXrob+4HoXrUbiev7gehetRuJ6\\u002fuB6F61G4nr+4HoXrUbiev7gehetRuI6\\u002fexSuR+F6hD97FK5H4Xq0P65H4XoUrsc\\u002fuB6F61G4zj9I4XoUrkfRPz0K16NwPco\\u002fmpmZmZmZuT+4HoXrUbiOv4\\u002fC9Shcj8K\\u002f9ihcj8L1yL8pXI\\u002fC9SjMvx+F61G4HsW\\u002fUrgehetRuL8K16NwPQqnvwAAAAAAAAAAexSuR+F6hL+amZmZmZmZvwrXo3A9Cqe\\u002fpHA9CtejsL8pXI\\u002fC9SisvwrXo3A9Cqe\\u002f7FG4HoXrob+4HoXrUbiev7gehetRuJ6\\u002fmpmZmZmZmb+amZmZmZmZv3sUrkfhepS\\u002fuB6F61G4jr97FK5H4XqEv3sUrkfheoS\\u002fexSuR+F6hL97FK5H4XqEv7gehetRuI6\\u002fuB6F61G4jr+4HoXrUbiOv5qZmZmZmZm\\u002fmpmZmZmZmb97FK5H4XqEv3sUrkfhenS\\u002fexSuR+F6dL97FK5H4Xp0vwAAAAAAAAAAAAAAAAAAAAB7FK5H4XqEv3sUrkfheoS\\u002fAAAAAAAAAAAAAAAAAAAAAAAAAAAAAAAAexSuR+F6hD+amZmZmZmZP5qZmZmZmZk\\u002fexSuR+F6lD+4HoXrUbiePwrXo3A9Cqc\\u002fmpmZmZmZqT+amZmZmZmpP7gehetRuK4\\u002f7FG4HoXrsT9SuB6F61G4P3E9CtejcL0\\u002fAAAAAAAAwD9I4XoUrkfBP4\\u002fC9Shcj8I\\u002f16NwPQrXwz\\u002fXo3A9CtfDP3sUrkfhesQ\\u002fCtejcD0Kxz9SuB6F61HIP1K4HoXrUcg\\u002f9ihcj8L1yD9xPQrXo3DNPwAAAAAAANA\\u002fcT0K16NwzT8pXI\\u002fC9SjMP3E9CtejcM0\\u002fzczMzMzMzD\\u002fhehSuR+HKP1K4HoXrUcg\\u002fCtejcD0Kxz97FK5H4XrEP6RwPQrXo8A\\u002fKVyPwvUovD\\u002fhehSuR+G6PwrXo3A9Crc\\u002fpHA9CtejsD8pXI\\u002fC9SisP5qZmZmZmak\\u002fexSuR+F6pD97FK5H4XqUP7gehetRuI4\\u002fexSuR+F6hD97FK5H4Xp0P3sUrkfhenQ\\u002fexSuR+F6dD97FK5H4Xp0P3sUrkfhenQ\\u002fexSuR+F6dD8AAAAAAAAAAAAAAAAAAAAAexSuR+F6dL97FK5H4Xp0v3sUrkfheoS\\u002fexSuR+F6hL97FK5H4Xp0vwAAAAAAAAAAAAAAAAAAAAAAAAAAAAAAAAAAAAAAAAAAAAAAAAAAAAB7FK5H4Xp0v3sUrkfheoS\\u002fuB6F61G4jr+4HoXrUbiOv3sUrkfhenS\\u002fAAAAAAAAAAB7FK5H4Xp0P3sUrkfheoQ\\u002fexSuR+F6hD97FK5H4XqEP3sUrkfheoQ\\u002fexSuR+F6hD97FK5H4XqEP3sUrkfhenQ\\u002fexSuR+F6dD97FK5H4Xp0P3sUrkfheoQ\\u002fuB6F61G4jj+4HoXrUbiOP7gehetRuI4\\u002fexSuR+F6dD8AAAAAAAAAAAAAAAAAAAAAAAAAAAAAAAB7FK5H4Xp0v3sUrkfhenS\\u002fAAAAAAAAAAB7FK5H4Xp0v7gehetRuI6\\u002fuB6F61G4jr97FK5H4XqEvwAAAAAAAAAAuB6F61G4jj\\u002fsUbgeheuhPylcj8L1KKw\\u002fmpmZmZmZqT+amZmZmZmpPylcj8L1KKw\\u002fuB6F61G4rj\\u002fsUbgeheuhP7gehetRuI4\\u002fexSuR+F6hD97FK5H4Xp0P3sUrkfhenS\\u002fuB6F61G4jr97FK5H4XqUv7gehetRuJ6\\u002fKVyPwvUorL+kcD0K16Owv3sUrkfheqS\\u002f7FG4HoXrob+amZmZmZmpvylcj8L1KKy\\u002fCtejcD0Kp7+amZmZmZmpv7gehetRuK6\\u002fuB6F61G4rr+amZmZmZmpv7gehetRuK6\\u002fMzMzMzMzs7\\u002fsUbgeheuxvylcj8L1KKy\\u002fKVyPwvUorL\\u002fsUbgeheuxv6RwPQrXo7C\\u002fKVyPwvUorL8pXI\\u002fC9Sisvylcj8L1KKy\\u002f7FG4HoXrob97FK5H4XqEv7gehetRuK4\\u002fMzMzMzMzwz8pXI\\u002fC9SjMP4\\u002fC9Shcj9I\\u002fmpmZmZmZyT\\u002fhehSuR+G6P7gehetRuJ6\\u002fw\\u002fUoXI\\u002fCxb+F61G4HoXLvwAAAAAAANC\\u002fCtejcD0Kx78pXI\\u002fC9Si8vwrXo3A9Cqe\\u002fAAAAAAAAAACamZmZmZmZvylcj8L1KKy\\u002fexSuR+F6tL9SuB6F61G4vwrXo3A9Cre\\u002fexSuR+F6tL+kcD0K16Owvylcj8L1KKy\\u002fmpmZmZmZqb8K16NwPQqnv+xRuB6F66G\\u002fuB6F61G4nr+4HoXrUbiev7gehetRuJ6\\u002fuB6F61G4nr+4HoXrUbiev3sUrkfheqS\\u002fexSuR+F6pL\\u002fsUbgeheuhv+xRuB6F66G\\u002f7FG4HoXrob+amZmZmZmZv7gehetRuI6\\u002fuB6F61G4jr+4HoXrUbiOv7gehetRuI6\\u002fexSuR+F6hL97FK5H4XqEv7gehetRuI6\\u002fuB6F61G4jr97FK5H4XqEvwAAAAAAAAAAAAAAAAAAAAB7FK5H4Xp0P7gehetRuI4\\u002fuB6F61G4jj+4HoXrUbiOP5qZmZmZmZk\\u002f7FG4HoXroT97FK5H4XqkP5qZmZmZmak\\u002fuB6F61G4rj8zMzMzMzOzP8P1KFyPwrU\\u002fUrgehetRuD9xPQrXo3C9P6RwPQrXo8A\\u002fSOF6FK5HwT+PwvUoXI\\u002fCP8P1KFyPwsU\\u002fCtejcD0Kxz8K16NwPQrHP1K4HoXrUcg\\u002f4XoUrkfhyj\\u002fNzMzMzMzMP83MzMzMzMw\\u002fcT0K16NwzT9xPQrXo3DNP3E9CtejcM0\\u002fzczMzMzMzD+F61G4HoXLP5qZmZmZmck\\u002fCtejcD0Kxz\\u002fXo3A9CtfDP+xRuB6F68E\\u002fSOF6FK5HwT9xPQrXo3C9P8P1KFyPwrU\\u002fpHA9CtejsD8K16NwPQqnP5qZmZmZmZk\\u002fexSuR+F6hD97FK5H4Xp0v3sUrkfhepS\\u002fexSuR+F6lL97FK5H4XqUv7gehetRuJ6\\u002fCtejcD0Kp78K16NwPQqnvwrXo3A9Cqe\\u002fmpmZmZmZqb+amZmZmZmpvwrXo3A9Cqe\\u002fCtejcD0Kp78pXI\\u002fC9Sisv7gehetRuK6\\u002fmpmZmZmZqb8K16NwPQqnv5qZmZmZmam\\u002fmpmZmZmZqb+amZmZmZmpv5qZmZmZmam\\u002fmpmZmZmZqb+amZmZmZmpv5qZmZmZmam\\u002fmpmZmZmZqb+4HoXrUbiuvylcj8L1KKy\\u002fexSuR+F6pL97FK5H4Xqkvylcj8L1KKy\\u002fKVyPwvUorL+amZmZmZmpv5qZmZmZmam\\u002fKVyPwvUorL+4HoXrUbiuv7gehetRuK6\\u002fmpmZmZmZqb\\u002fsUbgeheuhv+xRuB6F66G\\u002f7FG4HoXrob8K16NwPQqnvylcj8L1KKy\\u002fmpmZmZmZqb8K16NwPQqnv5qZmZmZmam\\u002fKVyPwvUorL+amZmZmZmpvwrXo3A9Cqe\\u002fCtejcD0Kp7+amZmZmZmpv5qZmZmZmam\\u002fmpmZmZmZqb8pXI\\u002fC9Sisv7gehetRuK6\\u002fKVyPwvUorL8K16NwPQqnvwrXo3A9Cqe\\u002f7FG4HoXrob8AAAAAAAAAALgehetRuI4\\u002fexSuR+F6dD97FK5H4Xp0P3sUrkfheoQ\\u002fexSuR+F6dD97FK5H4XqEv3sUrkfhepS\\u002fuB6F61G4jr97FK5H4XqUv3sUrkfheqS\\u002fCtejcD0Kp7\\u002fsUbgeheuhv5qZmZmZmam\\u002fMzMzMzMzs7\\u002fD9Shcj8K1v8P1KFyPwrW\\u002fw\\u002fUoXI\\u002fCtb\\u002fD9Shcj8K1vwrXo3A9Cre\\u002fCtejcD0Kt78K16NwPQq3vwrXo3A9Cre\\u002fCtejcD0Kt78K16NwPQq3v3sUrkfherS\\u002fMzMzMzMzs7\\u002fD9Shcj8K1v1K4HoXrUbi\\u002fCtejcD0Kt7\\u002fD9Shcj8K1v1K4HoXrUbi\\u002f4XoUrkfhur97FK5H4Xq0v5qZmZmZmam\\u002f7FG4HoXrob97FK5H4Xp0v+xRuB6F67E\\u002f7FG4HoXrwT9SuB6F61HIPz0K16NwPco\\u002fAAAAAAAAwD+4HoXrUbiePwrXo3A9Cre\\u002frkfhehSux78pXI\\u002fC9SjMvxSuR+F6FM6\\u002fPQrXo3A9yr\\u002fXo3A9CtfDv+xRuB6F67G\\u002f7FG4HoXrob8K16NwPQqnv+xRuB6F67G\\u002fmpmZmZmZub8pXI\\u002fC9Si8v5qZmZmZmbm\\u002fw\\u002fUoXI\\u002fCtb+kcD0K16Owv7gehetRuK6\\u002fuB6F61G4rr+4HoXrUbiuv7gehetRuK6\\u002fuB6F61G4rr+kcD0K16Owv6RwPQrXo7C\\u002fuB6F61G4rr+4HoXrUbiuv7gehetRuK6\\u002fKVyPwvUorL8pXI\\u002fC9Sisvylcj8L1KKy\\u002fuB6F61G4rr8pXI\\u002fC9Sisvylcj8L1KKy\\u002fuB6F61G4rr+kcD0K16Owv7gehetRuK6\\u002fmpmZmZmZqb8K16NwPQqnvwrXo3A9Cqe\\u002fCtejcD0Kp78K16NwPQqnvwrXo3A9Cqe\\u002fexSuR+F6pL+4HoXrUbiev3sUrkfhepS\\u002fexSuR+F6lL+4HoXrUbiOv3sUrkfheoS\\u002fexSuR+F6dL8AAAAAAAAAAHsUrkfhenQ\\u002fexSuR+F6dD97FK5H4XqEP3sUrkfhepQ\\u002fexSuR+F6lD+4HoXrUbiOP+xRuB6F66E\\u002f7FG4HoXrsT8zMzMzMzOzP+xRuB6F67E\\u002fw\\u002fUoXI\\u002fCtT\\u002fhehSuR+G6P+F6FK5H4bo\\u002fUrgehetRuD9xPQrXo3C9P+xRuB6F68E\\u002f7FG4HoXrwT\\u002fsUbgehevBP4\\u002fC9Shcj8I\\u002fMzMzMzMzwz8zMzMzMzPDP4\\u002fC9Shcj8I\\u002fSOF6FK5HwT8AAAAAAADAPylcj8L1KLw\\u002fCtejcD0Ktz\\u002fsUbgeheuxPylcj8L1KKw\\u002fKVyPwvUorD+amZmZmZmpP7gehetRuJ4\\u002fuB6F61G4jj97FK5H4XqEP3sUrkfhenQ\\u002fAAAAAAAAAAB7FK5H4XqEv7gehetRuI6\\u002fexSuR+F6lL97FK5H4XqUv3sUrkfhepS\\u002fexSuR+F6lL97FK5H4XqUv7gehetRuJ6\\u002fuB6F61G4nr+4HoXrUbiev+xRuB6F66G\\u002fCtejcD0Kp797FK5H4Xqkv7gehetRuJ6\\u002fmpmZmZmZmb97FK5H4XqUv3sUrkfhepS\\u002fexSuR+F6lL97FK5H4XqUv5qZmZmZmZm\\u002fmpmZmZmZmb97FK5H4XqUv5qZmZmZmZm\\u002fuB6F61G4nr97FK5H4XqUv3sUrkfheoS\\u002fexSuR+F6hL97FK5H4XqEv3sUrkfheoS\\u002fexSuR+F6hL97FK5H4Xp0v3sUrkfhenS\\u002fexSuR+F6dL97FK5H4Xp0vwAAAAAAAAAAexSuR+F6hD97FK5H4XqEP3sUrkfheoQ\\u002fexSuR+F6hD97FK5H4Xp0P3sUrkfhenS\\u002fexSuR+F6hL97FK5H4XqEv3sUrkfheoS\\u002fuB6F61G4jr+4HoXrUbiOv3sUrkfhenS\\u002fexSuR+F6dL+amZmZmZmZv5qZmZmZmZm\\u002fexSuR+F6hL97FK5H4Xp0P+xRuB6F66E\\u002fexSuR+F6pD+amZmZmZmZP3sUrkfhepQ\\u002fmpmZmZmZmT+4HoXrUbieP7gehetRuJ4\\u002fexSuR+F6lD97FK5H4Xp0PwAAAAAAAAAAuB6F61G4jr97FK5H4XqUv5qZmZmZmZm\\u002fCtejcD0Kp7+4HoXrUbiuv7gehetRuK6\\u002fuB6F61G4rr+4HoXrUbiuv6RwPQrXo7C\\u002f7FG4HoXrsb8zMzMzMzOzv3sUrkfherS\\u002fw\\u002fUoXI\\u002fCtb8K16NwPQq3vwrXo3A9Cre\\u002fexSuR+F6tL8zMzMzMzOzv3sUrkfherS\\u002fexSuR+F6tL8zMzMzMzOzvzMzMzMzM7O\\u002fw\\u002fUoXI\\u002fCtb9SuB6F61G4v1K4HoXrUbi\\u002fw\\u002fUoXI\\u002fCtb\\u002fsUbgeheuxvwrXo3A9Cqe\\u002fuB6F61G4jr+4HoXrUbieP5qZmZmZmbk\\u002f16NwPQrXwz\\u002f2KFyPwvXIPx+F61G4HsU\\u002fMzMzMzMzsz97FK5H4XqEv+F6FK5H4bq\\u002fCtejcD0Kx79cj8L1KFzPvylcj8L1KMy\\u002f16NwPQrXw78K16NwPQq3v3sUrkfhepS\\u002fuB6F61G4nr+4HoXrUbiuv1K4HoXrUbi\\u002fpHA9CtejwL8pXI\\u002fC9Si8vwrXo3A9Cre\\u002fexSuR+F6tL8zMzMzMzOzv6RwPQrXo7C\\u002fuB6F61G4rr8K16NwPQqnv+xRuB6F66G\\u002fuB6F61G4rr97FK5H4Xq0v7gehetRuK6\\u002fCtejcD0Kp7+4HoXrUbiuv+xRuB6F67G\\u002fKVyPwvUorL+amZmZmZmpv6RwPQrXo7C\\u002f7FG4HoXrsb+kcD0K16Owv7gehetRuK6\\u002fuB6F61G4rr8pXI\\u002fC9SisvwrXo3A9Cqe\\u002fCtejcD0Kp78K16NwPQqnvwrXo3A9Cqe\\u002fmpmZmZmZqb+amZmZmZmpvwrXo3A9Cqe\\u002fCtejcD0Kp78K16NwPQqnv+xRuB6F66G\\u002fexSuR+F6hL97FK5H4XqEv3sUrkfhepS\\u002fexSuR+F6hL8AAAAAAAAAAHsUrkfheoQ\\u002fuB6F61G4jj97FK5H4XqUP3sUrkfhepQ\\u002fuB6F61G4nj97FK5H4XqkP5qZmZmZmak\\u002fuB6F61G4rj+kcD0K16OwPzMzMzMzM7M\\u002fexSuR+F6tD8K16NwPQq3P1K4HoXrUbg\\u002f4XoUrkfhuj9xPQrXo3C9P6RwPQrXo8A\\u002f7FG4HoXrwT8zMzMzMzPDP4\\u002fC9Shcj8I\\u002f7FG4HoXrwT\\u002fsUbgehevBP0jhehSuR8E\\u002fuB6F61G4vj8pXI\\u002fC9Si8P5qZmZmZmbk\\u002fUrgehetRuD97FK5H4Xq0P+xRuB6F67E\\u002fpHA9CtejsD+amZmZmZmpP5qZmZmZmZk\\u002fexSuR+F6hD97FK5H4XqEPwAAAAAAAAAAmpmZmZmZmb97FK5H4XqUv3sUrkfhenS\\u002fexSuR+F6hL+amZmZmZmZv7gehetRuJ6\\u002fmpmZmZmZmb+4HoXrUbievwrXo3A9Cqe\\u002fmpmZmZmZqb+amZmZmZmpvylcj8L1KKy\\u002fKVyPwvUorL8K16NwPQqnv7gehetRuJ6\\u002f\"},\"type\":\"scatter\",\"xaxis\":\"x2\",\"yaxis\":\"y2\"}],                        {\"template\":{\"data\":{\"histogram2dcontour\":[{\"type\":\"histogram2dcontour\",\"colorbar\":{\"outlinewidth\":0,\"ticks\":\"\"},\"colorscale\":[[0.0,\"#0d0887\"],[0.1111111111111111,\"#46039f\"],[0.2222222222222222,\"#7201a8\"],[0.3333333333333333,\"#9c179e\"],[0.4444444444444444,\"#bd3786\"],[0.5555555555555556,\"#d8576b\"],[0.6666666666666666,\"#ed7953\"],[0.7777777777777778,\"#fb9f3a\"],[0.8888888888888888,\"#fdca26\"],[1.0,\"#f0f921\"]]}],\"choropleth\":[{\"type\":\"choropleth\",\"colorbar\":{\"outlinewidth\":0,\"ticks\":\"\"}}],\"histogram2d\":[{\"type\":\"histogram2d\",\"colorbar\":{\"outlinewidth\":0,\"ticks\":\"\"},\"colorscale\":[[0.0,\"#0d0887\"],[0.1111111111111111,\"#46039f\"],[0.2222222222222222,\"#7201a8\"],[0.3333333333333333,\"#9c179e\"],[0.4444444444444444,\"#bd3786\"],[0.5555555555555556,\"#d8576b\"],[0.6666666666666666,\"#ed7953\"],[0.7777777777777778,\"#fb9f3a\"],[0.8888888888888888,\"#fdca26\"],[1.0,\"#f0f921\"]]}],\"heatmap\":[{\"type\":\"heatmap\",\"colorbar\":{\"outlinewidth\":0,\"ticks\":\"\"},\"colorscale\":[[0.0,\"#0d0887\"],[0.1111111111111111,\"#46039f\"],[0.2222222222222222,\"#7201a8\"],[0.3333333333333333,\"#9c179e\"],[0.4444444444444444,\"#bd3786\"],[0.5555555555555556,\"#d8576b\"],[0.6666666666666666,\"#ed7953\"],[0.7777777777777778,\"#fb9f3a\"],[0.8888888888888888,\"#fdca26\"],[1.0,\"#f0f921\"]]}],\"contourcarpet\":[{\"type\":\"contourcarpet\",\"colorbar\":{\"outlinewidth\":0,\"ticks\":\"\"}}],\"contour\":[{\"type\":\"contour\",\"colorbar\":{\"outlinewidth\":0,\"ticks\":\"\"},\"colorscale\":[[0.0,\"#0d0887\"],[0.1111111111111111,\"#46039f\"],[0.2222222222222222,\"#7201a8\"],[0.3333333333333333,\"#9c179e\"],[0.4444444444444444,\"#bd3786\"],[0.5555555555555556,\"#d8576b\"],[0.6666666666666666,\"#ed7953\"],[0.7777777777777778,\"#fb9f3a\"],[0.8888888888888888,\"#fdca26\"],[1.0,\"#f0f921\"]]}],\"surface\":[{\"type\":\"surface\",\"colorbar\":{\"outlinewidth\":0,\"ticks\":\"\"},\"colorscale\":[[0.0,\"#0d0887\"],[0.1111111111111111,\"#46039f\"],[0.2222222222222222,\"#7201a8\"],[0.3333333333333333,\"#9c179e\"],[0.4444444444444444,\"#bd3786\"],[0.5555555555555556,\"#d8576b\"],[0.6666666666666666,\"#ed7953\"],[0.7777777777777778,\"#fb9f3a\"],[0.8888888888888888,\"#fdca26\"],[1.0,\"#f0f921\"]]}],\"mesh3d\":[{\"type\":\"mesh3d\",\"colorbar\":{\"outlinewidth\":0,\"ticks\":\"\"}}],\"scatter\":[{\"fillpattern\":{\"fillmode\":\"overlay\",\"size\":10,\"solidity\":0.2},\"type\":\"scatter\"}],\"parcoords\":[{\"type\":\"parcoords\",\"line\":{\"colorbar\":{\"outlinewidth\":0,\"ticks\":\"\"}}}],\"scatterpolargl\":[{\"type\":\"scatterpolargl\",\"marker\":{\"colorbar\":{\"outlinewidth\":0,\"ticks\":\"\"}}}],\"bar\":[{\"error_x\":{\"color\":\"#2a3f5f\"},\"error_y\":{\"color\":\"#2a3f5f\"},\"marker\":{\"line\":{\"color\":\"#E5ECF6\",\"width\":0.5},\"pattern\":{\"fillmode\":\"overlay\",\"size\":10,\"solidity\":0.2}},\"type\":\"bar\"}],\"scattergeo\":[{\"type\":\"scattergeo\",\"marker\":{\"colorbar\":{\"outlinewidth\":0,\"ticks\":\"\"}}}],\"scatterpolar\":[{\"type\":\"scatterpolar\",\"marker\":{\"colorbar\":{\"outlinewidth\":0,\"ticks\":\"\"}}}],\"histogram\":[{\"marker\":{\"pattern\":{\"fillmode\":\"overlay\",\"size\":10,\"solidity\":0.2}},\"type\":\"histogram\"}],\"scattergl\":[{\"type\":\"scattergl\",\"marker\":{\"colorbar\":{\"outlinewidth\":0,\"ticks\":\"\"}}}],\"scatter3d\":[{\"type\":\"scatter3d\",\"line\":{\"colorbar\":{\"outlinewidth\":0,\"ticks\":\"\"}},\"marker\":{\"colorbar\":{\"outlinewidth\":0,\"ticks\":\"\"}}}],\"scattermap\":[{\"type\":\"scattermap\",\"marker\":{\"colorbar\":{\"outlinewidth\":0,\"ticks\":\"\"}}}],\"scattermapbox\":[{\"type\":\"scattermapbox\",\"marker\":{\"colorbar\":{\"outlinewidth\":0,\"ticks\":\"\"}}}],\"scatterternary\":[{\"type\":\"scatterternary\",\"marker\":{\"colorbar\":{\"outlinewidth\":0,\"ticks\":\"\"}}}],\"scattercarpet\":[{\"type\":\"scattercarpet\",\"marker\":{\"colorbar\":{\"outlinewidth\":0,\"ticks\":\"\"}}}],\"carpet\":[{\"aaxis\":{\"endlinecolor\":\"#2a3f5f\",\"gridcolor\":\"white\",\"linecolor\":\"white\",\"minorgridcolor\":\"white\",\"startlinecolor\":\"#2a3f5f\"},\"baxis\":{\"endlinecolor\":\"#2a3f5f\",\"gridcolor\":\"white\",\"linecolor\":\"white\",\"minorgridcolor\":\"white\",\"startlinecolor\":\"#2a3f5f\"},\"type\":\"carpet\"}],\"table\":[{\"cells\":{\"fill\":{\"color\":\"#EBF0F8\"},\"line\":{\"color\":\"white\"}},\"header\":{\"fill\":{\"color\":\"#C8D4E3\"},\"line\":{\"color\":\"white\"}},\"type\":\"table\"}],\"barpolar\":[{\"marker\":{\"line\":{\"color\":\"#E5ECF6\",\"width\":0.5},\"pattern\":{\"fillmode\":\"overlay\",\"size\":10,\"solidity\":0.2}},\"type\":\"barpolar\"}],\"pie\":[{\"automargin\":true,\"type\":\"pie\"}]},\"layout\":{\"autotypenumbers\":\"strict\",\"colorway\":[\"#636efa\",\"#EF553B\",\"#00cc96\",\"#ab63fa\",\"#FFA15A\",\"#19d3f3\",\"#FF6692\",\"#B6E880\",\"#FF97FF\",\"#FECB52\"],\"font\":{\"color\":\"#2a3f5f\"},\"hovermode\":\"closest\",\"hoverlabel\":{\"align\":\"left\"},\"paper_bgcolor\":\"white\",\"plot_bgcolor\":\"#E5ECF6\",\"polar\":{\"bgcolor\":\"#E5ECF6\",\"angularaxis\":{\"gridcolor\":\"white\",\"linecolor\":\"white\",\"ticks\":\"\"},\"radialaxis\":{\"gridcolor\":\"white\",\"linecolor\":\"white\",\"ticks\":\"\"}},\"ternary\":{\"bgcolor\":\"#E5ECF6\",\"aaxis\":{\"gridcolor\":\"white\",\"linecolor\":\"white\",\"ticks\":\"\"},\"baxis\":{\"gridcolor\":\"white\",\"linecolor\":\"white\",\"ticks\":\"\"},\"caxis\":{\"gridcolor\":\"white\",\"linecolor\":\"white\",\"ticks\":\"\"}},\"coloraxis\":{\"colorbar\":{\"outlinewidth\":0,\"ticks\":\"\"}},\"colorscale\":{\"sequential\":[[0.0,\"#0d0887\"],[0.1111111111111111,\"#46039f\"],[0.2222222222222222,\"#7201a8\"],[0.3333333333333333,\"#9c179e\"],[0.4444444444444444,\"#bd3786\"],[0.5555555555555556,\"#d8576b\"],[0.6666666666666666,\"#ed7953\"],[0.7777777777777778,\"#fb9f3a\"],[0.8888888888888888,\"#fdca26\"],[1.0,\"#f0f921\"]],\"sequentialminus\":[[0.0,\"#0d0887\"],[0.1111111111111111,\"#46039f\"],[0.2222222222222222,\"#7201a8\"],[0.3333333333333333,\"#9c179e\"],[0.4444444444444444,\"#bd3786\"],[0.5555555555555556,\"#d8576b\"],[0.6666666666666666,\"#ed7953\"],[0.7777777777777778,\"#fb9f3a\"],[0.8888888888888888,\"#fdca26\"],[1.0,\"#f0f921\"]],\"diverging\":[[0,\"#8e0152\"],[0.1,\"#c51b7d\"],[0.2,\"#de77ae\"],[0.3,\"#f1b6da\"],[0.4,\"#fde0ef\"],[0.5,\"#f7f7f7\"],[0.6,\"#e6f5d0\"],[0.7,\"#b8e186\"],[0.8,\"#7fbc41\"],[0.9,\"#4d9221\"],[1,\"#276419\"]]},\"xaxis\":{\"gridcolor\":\"white\",\"linecolor\":\"white\",\"ticks\":\"\",\"title\":{\"standoff\":15},\"zerolinecolor\":\"white\",\"automargin\":true,\"zerolinewidth\":2},\"yaxis\":{\"gridcolor\":\"white\",\"linecolor\":\"white\",\"ticks\":\"\",\"title\":{\"standoff\":15},\"zerolinecolor\":\"white\",\"automargin\":true,\"zerolinewidth\":2},\"scene\":{\"xaxis\":{\"backgroundcolor\":\"#E5ECF6\",\"gridcolor\":\"white\",\"linecolor\":\"white\",\"showbackground\":true,\"ticks\":\"\",\"zerolinecolor\":\"white\",\"gridwidth\":2},\"yaxis\":{\"backgroundcolor\":\"#E5ECF6\",\"gridcolor\":\"white\",\"linecolor\":\"white\",\"showbackground\":true,\"ticks\":\"\",\"zerolinecolor\":\"white\",\"gridwidth\":2},\"zaxis\":{\"backgroundcolor\":\"#E5ECF6\",\"gridcolor\":\"white\",\"linecolor\":\"white\",\"showbackground\":true,\"ticks\":\"\",\"zerolinecolor\":\"white\",\"gridwidth\":2}},\"shapedefaults\":{\"line\":{\"color\":\"#2a3f5f\"}},\"annotationdefaults\":{\"arrowcolor\":\"#2a3f5f\",\"arrowhead\":0,\"arrowwidth\":1},\"geo\":{\"bgcolor\":\"white\",\"landcolor\":\"#E5ECF6\",\"subunitcolor\":\"white\",\"showland\":true,\"showlakes\":true,\"lakecolor\":\"white\"},\"title\":{\"x\":0.05},\"mapbox\":{\"style\":\"light\"}}},\"xaxis\":{\"anchor\":\"y\",\"domain\":[0.0,0.096],\"tickfont\":{\"size\":18,\"color\":\"black\"},\"showgrid\":false,\"linecolor\":\"#000\",\"ticks\":\"outside\",\"linewidth\":1,\"tickwidth\":1,\"mirror\":true},\"yaxis\":{\"anchor\":\"x\",\"domain\":[0.0,1.0],\"tickfont\":{\"size\":18,\"color\":\"black\"},\"showgrid\":false,\"linecolor\":\"#000\",\"ticks\":\"outside\",\"zeroline\":false,\"linewidth\":1,\"tickwidth\":1,\"mirror\":true},\"xaxis2\":{\"anchor\":\"y2\",\"domain\":[0.136,1.0],\"tickfont\":{\"size\":18,\"color\":\"black\"},\"showgrid\":false,\"linecolor\":\"#000\",\"ticks\":\"outside\",\"linewidth\":1,\"tickwidth\":1,\"mirror\":true},\"yaxis2\":{\"anchor\":\"x2\",\"domain\":[0.0,1.0],\"tickfont\":{\"size\":18,\"color\":\"black\"},\"showgrid\":false,\"linecolor\":\"#000\",\"ticks\":\"outside\",\"zeroline\":false,\"linewidth\":1,\"tickwidth\":1,\"mirror\":true},\"annotations\":[{\"font\":{\"size\":24,\"color\":\"black\"},\"showarrow\":false,\"text\":\"Query\",\"x\":0.048,\"xanchor\":\"center\",\"xref\":\"paper\",\"y\":1.0,\"yanchor\":\"bottom\",\"yref\":\"paper\"},{\"font\":{\"size\":24,\"color\":\"black\"},\"showarrow\":false,\"text\":\"Time Series\",\"x\":0.5680000000000001,\"xanchor\":\"center\",\"xref\":\"paper\",\"y\":1.0,\"yanchor\":\"bottom\",\"yref\":\"paper\"}],\"title\":{\"x\":0.5},\"plot_bgcolor\":\"rgba(0,0,0,0)\",\"paper_bgcolor\":\"rgba(0,0,0,0)\",\"showlegend\":false},                        {\"responsive\": true}                    ).then(function(){\n",
              "                            \n",
              "var gd = document.getElementById('4e611251-d7d8-4821-908c-0c29e5c925c1');\n",
              "var x = new MutationObserver(function (mutations, observer) {{\n",
              "        var display = window.getComputedStyle(gd).display;\n",
              "        if (!display || display === 'none') {{\n",
              "            console.log([gd, 'removed!']);\n",
              "            Plotly.purge(gd);\n",
              "            observer.disconnect();\n",
              "        }}\n",
              "}});\n",
              "\n",
              "// Listen for the removal of the full notebook cells\n",
              "var notebookContainer = gd.closest('#notebook-container');\n",
              "if (notebookContainer) {{\n",
              "    x.observe(notebookContainer, {childList: true});\n",
              "}}\n",
              "\n",
              "// Listen for the clearing of the current output cell\n",
              "var outputEl = gd.closest('.output');\n",
              "if (outputEl) {{\n",
              "    x.observe(outputEl, {childList: true});\n",
              "}}\n",
              "\n",
              "                        })                };            </script>        </div>\n",
              "</body>\n",
              "</html>"
            ]
          },
          "metadata": {},
          "output_type": "display_data"
        }
      ],
      "source": [
        "plot_bestmatch_data(ts, query)"
      ]
    },
    {
      "cell_type": "markdown",
      "metadata": {
        "id": "65_hyha27FGx"
      },
      "source": [
        "Реализуйте алгоритм грубой силы (brute force), заполнив одноименную функцию в модуле *distance_profile.py* недостающим кодом. Для этого воспользуйтесь псевдокодом алгоритма, который представлен ниже. После того как вычислен профиль расстояния, найдите $topK$ похожих подпоследовательностей на запрос с помощью функции `topK_match()` из *bestmatch.py*. Для исключения попадания тривиальных совпадений зададим $\\xi = 0.5$ Далее параметр $\\xi$ будем обозначать в коде как $excl\\_zone\\_frac$, а величину пересечения как $excl\\_zone$, $excl\\_zone = \\lceil excl\\_zone\\_frac \\cdot m \\rceil$,\n",
        "\n",
        "<center><img src=\"https://github.com/mzym/TimeSeriesCourse/blob/main/practice/02%20Similarity%20search/img/brute_force.png?raw=true\" width=\"400\"></center>"
      ]
    },
    {
      "cell_type": "code",
      "execution_count": 15,
      "metadata": {
        "id": "EM9XZRk-GJOa"
      },
      "outputs": [
        {
          "data": {
            "text/html": [
              "        <script type=\"text/javascript\">\n",
              "        window.PlotlyConfig = {MathJaxConfig: 'local'};\n",
              "        if (window.MathJax && window.MathJax.Hub && window.MathJax.Hub.Config) {window.MathJax.Hub.Config({SVG: {font: \"STIX-Web\"}});}\n",
              "        </script>\n",
              "        <script type=\"module\">import \"https://cdn.plot.ly/plotly-3.1.1.min\"</script>\n",
              "        "
            ]
          },
          "metadata": {},
          "output_type": "display_data"
        },
        {
          "name": "stdout",
          "output_type": "stream",
          "text": [
            "{'indices': [np.int64(1215), np.int64(193)], 'distances': [np.float64(5.016417971728832), np.float64(18.030850173768776)]}\n"
          ]
        }
      ],
      "source": [
        "topK = 2\n",
        "excl_zone_frac = 0.5\n",
        "excl_zone = math.ceil(len(query) * excl_zone_frac)\n",
        "is_normalize = True\n",
        "\n",
        "naive_bestmatch_results = {}\n",
        "\n",
        "# Вычисляем профиль расстояния\n",
        "dist_profile = brute_force(ts, query, is_normalize=is_normalize)\n",
        "\n",
        "# Находим topK похожих подпоследовательностей\n",
        "naive_bestmatch_results = topK_match(dist_profile, topK=topK, excl_zone=excl_zone)\n",
        "\n",
        "print(naive_bestmatch_results)"
      ]
    },
    {
      "cell_type": "markdown",
      "metadata": {
        "id": "ezNz67tO7m-l"
      },
      "source": [
        "Напишите функцию `plot_bestmatch_results()` в модуле *plots.py* для визуализации найденных $topK$ похожих подпоследовательностей временного ряда на образец поиска. За основу возьмите функцию `plot_bestmatch_data()` и добавьте отображение найденных подпоследовательностей, выделив их тем же цветом, что и образец поиска."
      ]
    },
    {
      "cell_type": "code",
      "execution_count": 16,
      "metadata": {
        "id": "ot-q7Zh6UPI1"
      },
      "outputs": [
        {
          "data": {
            "text/html": [
              "<html>\n",
              "<head><meta charset=\"utf-8\" /></head>\n",
              "<body>\n",
              "    <div>            <script src=\"https://cdnjs.cloudflare.com/ajax/libs/mathjax/2.7.5/MathJax.js?config=TeX-AMS-MML_SVG\"></script><script type=\"text/javascript\">if (window.MathJax && window.MathJax.Hub && window.MathJax.Hub.Config) {window.MathJax.Hub.Config({SVG: {font: \"STIX-Web\"}});}</script>                <script type=\"text/javascript\">window.PlotlyConfig = {MathJaxConfig: 'local'};</script>\n",
              "        <script charset=\"utf-8\" src=\"https://cdn.plot.ly/plotly-3.1.1.min.js\" integrity=\"sha256-HUEFyfiTnZJxCxur99FjbKYTvKSzwDaD3/x5TqHpFu4=\" crossorigin=\"anonymous\"></script>                <div id=\"f71fc6c0-4677-4aed-b704-de74779b4651\" class=\"plotly-graph-div\" style=\"height:525px; width:100%;\"></div>            <script type=\"text/javascript\">                window.PLOTLYENV=window.PLOTLYENV || {};                                if (document.getElementById(\"f71fc6c0-4677-4aed-b704-de74779b4651\")) {                    Plotly.newPlot(                        \"f71fc6c0-4677-4aed-b704-de74779b4651\",                        [{\"line\":{\"color\":\"#EF553B\",\"width\":3},\"name\":\"Query\",\"x\":{\"dtype\":\"i2\",\"bdata\":\"AAABAAIAAwAEAAUABgAHAAgACQAKAAsADAANAA4ADwAQABEAEgATABQAFQAWABcAGAAZABoAGwAcAB0AHgAfACAAIQAiACMAJAAlACYAJwAoACkAKgArACwALQAuAC8AMAAxADIAMwA0ADUANgA3ADgAOQA6ADsAPAA9AD4APwBAAEEAQgBDAEQARQBGAEcASABJAEoASwBMAE0ATgBPAFAAUQBSAFMAVABVAFYAVwBYAFkAWgBbAFwAXQBeAF8AYABhAGIAYwBkAGUAZgBnAGgAaQBqAGsAbABtAG4AbwBwAHEAcgBzAHQAdQB2AHcAeAB5AHoAewB8AH0AfgB\\u002fAIAAgQCCAIMAhACFAIYAhwCIAIkAigCLAIwAjQCOAI8AkACRAJIAkwCUAJUAlgCXAJgAmQCaAJsAnACdAJ4AnwCgAKEAogCjAKQApQCmAKcAqACpAKoAqwCsAK0ArgCvALAAsQCyALMAtAC1ALYAtwC4ALkAugC7ALwAvQC+AL8AwADBAMIAwwDEAMUAxgDHAMgAyQDKAMsAzADNAM4AzwDQANEA0gDTANQA1QDWANcA2ADZANoA2wDcAN0A3gDfAOAA4QDiAOMA5ADlAOYA5wDoAOkA6gDrAOwA7QDuAO8A8ADxAPIA8wD0APUA9gD3APgA+QD6APsA\\u002fAD9AP4A\\u002fwAAAQEBAgEDAQQBBQEGAQcBCAEJAQoBCwEMAQ0BDgEPARABEQESARMBFAEVARYBFwEYARkBGgEbARwBHQEeAR8BIAEhASIBIwEkASUBJgEnASgBKQEqASsBLAEtAS4BLwEwATEBMgEzATQBNQE2ATcBOAE5AToBOwE8AT0BPgE\\u002fAUABQQFCAUMBRAFFAUYBRwFIAUkBSgFLAUwBTQFOAU8BUAFRAVIBUwFUAVUBVgFXAVgBWQFaAVsBXAFdAV4BXwFgAWEBYgFjAWQBZQFmAWcBaAFpAWoBawFsAW0BbgFvAXABcQFyAXMBdAF1AXYBdwF4AXkBegF7AXwBfQF+AX8BgAGBAYIBgwGEAYUBhgGHAYgBiQGKAYsBjAGNAY4BjwGQAZEBkgGTAZQBlQGWAZcBmAGZAZoBmwGcAZ0BngGfAaABoQGiAaMBpAE=\"},\"y\":{\"dtype\":\"f8\",\"bdata\":\"5x2n6Egu9j9SSZ2AJsL7P8uhRbbzfQFA0ZFc\\u002fkP6BUAy5q4l5AMOQIEmwoanFxRARIts5\\u002fvpGUBv8IXJVAEgQCS5\\u002fIf0+yJAnzws1JqmJUB4eqUsQ7wnQLdif9k9+ShAseHplbIsKUBhMlUwKkkoQKjGSzeJYSZA6+I2GsCbI0CNl24SgyAgQBsv3SQGQRhAF0hQ\\u002fBhzD0DxY8xdS8j8P1wgQfFjzM2\\u002fm1Wfq63YAMAW+8vuyUMOwAMJih9j7hTA4JwRpb3BGcARNjy9UpYdwK7YX3ZPPiDAhXzQs1lVIcD6fmq8dDMiwJayDHGs6yLA8fRKWYZ4I8C\\u002fDpwzotQjwG3n+6nxEiTAPnlYqDVNJMAOvjCZKngkwDEIrBxahCTAjgbwFkhwJMAH8BZIUBwkwKCJsOHp1SPAyeU\\u002fpN++IsCSy39Iv30fwO2ePCzUGgHAescpOpJLJUC+wRcmU1U+QJhMFYxKkkpAM8SxLm4bUkB3LSEf9PxUQM07TtGRpFVAEqW9wRcGVEAAAAAAAEBQQN21hHzQc0ZAidLe4AvDNUBIv30dOOcAQKTfvg6ccyTAUwWjkjpBLcDAWyBB8cMrwDhnRGlvsCbAirDh6ZVSJcDD9Shcj6IkwEXY8PRK2STAsi5uowHcJMDFjzF3LcEkwK36XG3F\\u002fiTAc2iR7XxfJcAqOpLLf4glwBUdyeU\\u002fJCXAMlUwKqmTI8AmUwWjkvohwEATYcPTSyDAEhQ\\u002fxtx1HcAJG55eKcsawDSAt0CCohjAcM6I0t7gFsCEDU+vlGUVwLRZ9bnaChTA46WbxCCwEsBfmEwVjEoRwDGZKhiV1A\\u002fA9+RhodY0DcA5tMh2vp8KwIPAyqFFNgjAylTBqKROBsCQMXctIR8FwD\\u002fG3LWEfATA2c73U+MlBMC+wRcmUwUEwEI+6Nms+gPAc9cS8kHPA8ClLEMc62IDwO0NvjCZqgLAhA1Pr5RlAcDKVMGopE7+v+AtkKD4Mfe\\u002fIGPuWkI+6r90RpT2Bl+oPwWjkjoBTfM\\u002fx0s3iUFgBUCfPCzUmqYRQOviNhrAmxlA0ZFc\\u002fkM6IUAmUwWjkvolQJYhjnVx2ypAU5YhjnWxL0BU46WbxDAyQAK8BRIUbzRA\\u002fkP67euQNkAPnDOitJc4QNv5fmq8hDpA9GxWfa5WPEDtnjws1Ao+QMWPMXctoT9AtaZ5xymKQEBxPQrXoyhBQCBB8WPMnUFABcWPMXfdQUBEaW\\u002fwheFBQESLbOf7qUFAnDOitDc4QUCQoPgx5o5AQLu4jQbwZj9AF7fRAN5iPUB6Nqs+Vys7QPMf0m9f1zhAS1mGONZ1NkA0orQ3+BI0QGaIY13ctjFATx4Wak3TLkAVHcnlP2QqQI0o7Q2+MCZAGy\\u002fdJAZBIkCrPldbsT8dQKFns+pztRZARGlv8IUJEUCdEaW9wZcIQAMJih9j7gBASFD8GHPX9T\\u002f1udqK\\u002fWXpP+Olm8QgsNY\\u002fuY0G8BZIkL\\u002f8qfHSTWLYv+m3rwPnjOi\\u002fObTIdr6f8r\\u002fpt68D54z4vy7\\u002fIf32df2\\u002fgQTFjzF3AMAdWmQ7308BwLdif9k9+QDAYqHWNO84\\u002fr9LWYY41sX2v7MMcayL2+a\\u002fgnNGlPYGxz9qTfOOU3TyP2iz6nO1FQBAvsEXJlMFBECjI7n8h3QCQAMJih9j7vA\\u002f6Ugu\\u002fyH9+b\\u002f129eBc0YYwNxGA3gLBCnAowG8BRIENcAy5q4l5KM\\u002fwEw3iUFgLUbAI0p7gy+MTcAoDwu1pulSwH6MuWsJbVfA\\u002fYf029c1XMC5\\u002fIf02wVhwO2ePCzUrGPAy6FFtvP9ZcB\\u002f2T15WOhnwFYOLbKdX2nA6Ugu\\u002fyFjasDY8PRKWchqwPcGX5hMF2rAuECC4scIacAJG55eKaFnwHgLJCh+6GXAkxgEVg7lY8CjkjoBTZhhwO7rwDkjal7AS+oENBGeWcBvgQTFjyFVwDnWxW00BFHAak3zjlOcSsDByqFFthNEwGiR7Xw\\u002f5TzApN++DpyDM8AE54wo7e0nwLraiv1ldxXAGsBbIEHxyz+HFtnO9xMTQNCzWfW5miBAKe0NvjC5JUCEns2qz1UpQJZDi2zn2ytA5\\u002fup8dKtLUAy5q4l5CMvQL1SliGORTBAGQRWDi0SMUCLbOf7qREyQLprCfmgVzNAGXPXEvLxNECZu5aQD+o2QEvIBz2bRTlAl\\u002f+Qfvv6O0DM7snDQv0+QFg5tMh2HkFATfOOU3TUQkAOLbKd77dEQBE2PL1SxkZA+THmriX8SECzDHGsi1tLQOXyH9Jv501AswxxrIszUEDu68A5I3JRQNEi2\\u002fl+plJAPzVeuknYU0ADCYofY45VQJyiI7n8U1dAqaROQBMlWUBlGeJYFxdbQHQkl\\u002f+QHl1ArIvbaAAvX0Dc14FzRpxgQHEbDeAtVmFAMZkqGJX6YUDy0k1iEIRiQF5LyAc972JAyJi7lpA5Y0AUP8bctWJjQDj4wmSqamNAcF8HzhlRY0DY8PRKWRZjQOzAOSNKvWJAWmQ7309JYkCHFtnO971hQHctIR\\u002f0HGFAvw6cM6JoYEAW+8vuyUdfQJvmHafopF1A1QloImzwW0CmCkYldTJaQKYKRiV1clhA6gQ0ETa4VkCfzarP1QpVQKYKRiV1clNAkX77OnDCUUDwFkhQ\\u002fEhQQPkP6bevC05APL1SliHuS0DjpZvEIDBKQIXrUbgerUhAPSzUmuZVR0C0yHa+n4JGQNk9eViolUVAV+wvuyePREC28\\u002f3UeHFDQBx8YTJVQEJAumsJ+aAXQUDQ1VbsL\\u002fs\\u002fQGKh1jTv+D1A5IOezao\\u002fPEBTliGOdeE6QIPAyqFF5jlA6Nms+lxNOUDmP6Tfvg45QJT2Bl+YHDlAio7k8h9iOUAUP8bctcQ5QGN\\u002f2T15KDpAoBov3SR2OkCt+lxtxZ46QOoENBE2nDpAlWWIY11sOkA7AU2EDQ86QEku\\u002fyH9hjlAQmDl0CLbOECh1jTvOBU4QFg5tMh2PjdA54wo7Q1eNkDRItv5fno1QNGRXP5DmjRAMlUwKqnDM0CTqYJRSf0yQOqVsgxxTDJATtGRXP6zMUBPQBNhwzMxQNGRXP5DyjBAS1mGONZ1MEBseHqlLDMwQAwCK4cW+S9Afoy5awmZL0Ct+lxtxT4vQA8LtaZ55y5A3nGKjuSSLkBv8IXJVEEuQBkEVg4t8i1AcM6I0t6gLUAPC7WmeUctQHKKjuTy3yxAat5xio5kLEBz1xLyQc8rQAmKH2PuGitAoBov3SRGKkDdtYR80FMpQCh+jLlrSShAdLUV+8suJ0DM7snDQg0mQMNkqmBU8iRABOeMKO3tI0DnHafoSA4jQM4ZUdobXCJARPrt68DZIUDVeOkmMYghQJvmHafoaCFA7nw\\u002fNV56IUAwuycPC7UhQGFUUiegCSJAa5p3nKJjIkBVMCqpE7AiQBsN4C2Q4CJAlPYGX5jsIkBcIEHxY8wiQC1DHOvidiJAumsJ+aDnIUD5D+m3ryMhQCntDb4wOSBATx4Wak1zHkC94xQdyWUcQOhqK\\u002faXXRpA7Q2+MJlqGECsHFpkO58WQPs6cM6IEhVAhJ7Nqs\\u002fVE0AFxY8xd+0SQIqO5PIfUhJAzhlR2hv8EUBEi2zn++kRQM07TtGRHBJASOF6FK6HEkAv3SQGgRUTQMoyxLEurhNAih9j7lpCFEA\\u002fxty1hPwUQPtcbcX+shVAMCqpE9BEFkC62or9ZbcWQBBYObTINhdAexSuR+H6F0AIrBxaZDsZQAK8BRIU\\u002fxpAhJ7Nqs+VHUAi\\u002ffZ14HwgQL3jFB3JpSJA7MA5I0o7JUACvAUSFB8oQMdLN4lBICtAtFn1udoKLkD0bFZ9rlYwQLivA+eMeDFAPnlYqDVNMkCvJeSDnr0yQOXQItv5vjJAGCZTBaNSMkAlBoGVQ3sxQBsv3SQGQTBAhA1Pr5RlLUBz1xLyQc8pQLn8h\\u002fTb9yVARpT2Bl8YIkDBqKROQNMcQGKh1jTvOBZA6Nms+lytEEA5tMh2vp8IQMBbIEHxYwJAArwFEhQ\\u002f\\u002fT\\u002fOiNLe4Av6P52AJsKGp\\u002fs\\u002fOGdEaW\\u002fw\\u002fT9B8WPMXUv\\u002fP5p3nKIjuf4\\u002flrIMcayL\\u002fD9a9bnaiv34P7MMcayL2\\u002fY\\u002fswxxrIvb9j+Zu5aQD3r+P+0NvjCZqgpAumsJ+aDnGUC6awn5oOctQMsQx7q4bTxAZohjXdy2RkDuWkI+6PlMQLyWkA96HlBA3bWEfNDzT0DNO07RkaRNQO5aQj7o+UdAz2bV52rbP0Coxks3iWEqQAAAAAAAAACA5q4l5IOeG8AJ+aBns6oewPcGX5hMVRnAAAAAAAAAEMC6awn5oOcBwE3zjlN0JPm\\u002fmbuWkA96\\u002fr+neccpOpIEwMxdS8gHPQfARpT2Bl8YBsAAAAAAAAAAwBpR2ht8Yei\\u002fNKK0N\\u002fjC4D8aUdobfGH4PzSitDf4wgBA7Q2+MJmqAkA\\u002fNV66SQwDQD81XrpJDANAejarPlfbAkAAAAAAAAACQM3MzMzMzABA2ht8YTJV\\u002fz8=\"},\"type\":\"scatter\",\"xaxis\":\"x\",\"yaxis\":\"y\"},{\"line\":{\"color\":\"#636EFA\"},\"name\":\"Time Series\",\"x\":{\"dtype\":\"i2\",\"bdata\":\"AAABAAIAAwAEAAUABgAHAAgACQAKAAsADAANAA4ADwAQABEAEgATABQAFQAWABcAGAAZABoAGwAcAB0AHgAfACAAIQAiACMAJAAlACYAJwAoACkAKgArACwALQAuAC8AMAAxADIAMwA0ADUANgA3ADgAOQA6ADsAPAA9AD4APwBAAEEAQgBDAEQARQBGAEcASABJAEoASwBMAE0ATgBPAFAAUQBSAFMAVABVAFYAVwBYAFkAWgBbAFwAXQBeAF8AYABhAGIAYwBkAGUAZgBnAGgAaQBqAGsAbABtAG4AbwBwAHEAcgBzAHQAdQB2AHcAeAB5AHoAewB8AH0AfgB\\u002fAIAAgQCCAIMAhACFAIYAhwCIAIkAigCLAIwAjQCOAI8AkACRAJIAkwCUAJUAlgCXAJgAmQCaAJsAnACdAJ4AnwCgAKEAogCjAKQApQCmAKcAqACpAKoAqwCsAK0ArgCvALAAsQCyALMAtAC1ALYAtwC4ALkAugC7ALwAvQC+AL8AwADBAMIAwwDEAMUAxgDHAMgAyQDKAMsAzADNAM4AzwDQANEA0gDTANQA1QDWANcA2ADZANoA2wDcAN0A3gDfAOAA4QDiAOMA5ADlAOYA5wDoAOkA6gDrAOwA7QDuAO8A8ADxAPIA8wD0APUA9gD3APgA+QD6APsA\\u002fAD9AP4A\\u002fwAAAQEBAgEDAQQBBQEGAQcBCAEJAQoBCwEMAQ0BDgEPARABEQESARMBFAEVARYBFwEYARkBGgEbARwBHQEeAR8BIAEhASIBIwEkASUBJgEnASgBKQEqASsBLAEtAS4BLwEwATEBMgEzATQBNQE2ATcBOAE5AToBOwE8AT0BPgE\\u002fAUABQQFCAUMBRAFFAUYBRwFIAUkBSgFLAUwBTQFOAU8BUAFRAVIBUwFUAVUBVgFXAVgBWQFaAVsBXAFdAV4BXwFgAWEBYgFjAWQBZQFmAWcBaAFpAWoBawFsAW0BbgFvAXABcQFyAXMBdAF1AXYBdwF4AXkBegF7AXwBfQF+AX8BgAGBAYIBgwGEAYUBhgGHAYgBiQGKAYsBjAGNAY4BjwGQAZEBkgGTAZQBlQGWAZcBmAGZAZoBmwGcAZ0BngGfAaABoQGiAaMBpAGlAaYBpwGoAakBqgGrAawBrQGuAa8BsAGxAbIBswG0AbUBtgG3AbgBuQG6AbsBvAG9Ab4BvwHAAcEBwgHDAcQBxQHGAccByAHJAcoBywHMAc0BzgHPAdAB0QHSAdMB1AHVAdYB1wHYAdkB2gHbAdwB3QHeAd8B4AHhAeIB4wHkAeUB5gHnAegB6QHqAesB7AHtAe4B7wHwAfEB8gHzAfQB9QH2AfcB+AH5AfoB+wH8Af0B\\u002fgH\\u002fAQACAQICAgMCBAIFAgYCBwIIAgkCCgILAgwCDQIOAg8CEAIRAhICEwIUAhUCFgIXAhgCGQIaAhsCHAIdAh4CHwIgAiECIgIjAiQCJQImAicCKAIpAioCKwIsAi0CLgIvAjACMQIyAjMCNAI1AjYCNwI4AjkCOgI7AjwCPQI+Aj8CQAJBAkICQwJEAkUCRgJHAkgCSQJKAksCTAJNAk4CTwJQAlECUgJTAlQCVQJWAlcCWAJZAloCWwJcAl0CXgJfAmACYQJiAmMCZAJlAmYCZwJoAmkCagJrAmwCbQJuAm8CcAJxAnICcwJ0AnUCdgJ3AngCeQJ6AnsCfAJ9An4CfwKAAoECggKDAoQChQKGAocCiAKJAooCiwKMAo0CjgKPApACkQKSApMClAKVApYClwKYApkCmgKbApwCnQKeAp8CoAKhAqICowKkAqUCpgKnAqgCqQKqAqsCrAKtAq4CrwKwArECsgKzArQCtQK2ArcCuAK5AroCuwK8Ar0CvgK\\u002fAsACwQLCAsMCxALFAsYCxwLIAskCygLLAswCzQLOAs8C0ALRAtIC0wLUAtUC1gLXAtgC2QLaAtsC3ALdAt4C3wLgAuEC4gLjAuQC5QLmAucC6ALpAuoC6wLsAu0C7gLvAvAC8QLyAvMC9AL1AvYC9wL4AvkC+gL7AvwC\\u002fQL+Av8CAAMBAwIDAwMEAwUDBgMHAwgDCQMKAwsDDAMNAw4DDwMQAxEDEgMTAxQDFQMWAxcDGAMZAxoDGwMcAx0DHgMfAyADIQMiAyMDJAMlAyYDJwMoAykDKgMrAywDLQMuAy8DMAMxAzIDMwM0AzUDNgM3AzgDOQM6AzsDPAM9Az4DPwNAA0EDQgNDA0QDRQNGA0cDSANJA0oDSwNMA00DTgNPA1ADUQNSA1MDVANVA1YDVwNYA1kDWgNbA1wDXQNeA18DYANhA2IDYwNkA2UDZgNnA2gDaQNqA2sDbANtA24DbwNwA3EDcgNzA3QDdQN2A3cDeAN5A3oDewN8A30DfgN\\u002fA4ADgQOCA4MDhAOFA4YDhwOIA4kDigOLA4wDjQOOA48DkAORA5IDkwOUA5UDlgOXA5gDmQOaA5sDnAOdA54DnwOgA6EDogOjA6QDpQOmA6cDqAOpA6oDqwOsA60DrgOvA7ADsQOyA7MDtAO1A7YDtwO4A7kDugO7A7wDvQO+A78DwAPBA8IDwwPEA8UDxgPHA8gDyQPKA8sDzAPNA84DzwPQA9ED0gPTA9QD1QPWA9cD2APZA9oD2wPcA90D3gPfA+AD4QPiA+MD5APlA+YD5wPoA+kD6gPrA+wD7QPuA+8D8APxA\\u002fID8wP0A\\u002fUD9gP3A\\u002fgD+QP6A\\u002fsD\\u002fAP9A\\u002f4D\\u002fwMABAEEAgQDBAQEBQQGBAcECAQJBAoECwQMBA0EDgQPBBAEEQQSBBMEFAQVBBYEFwQYBBkEGgQbBBwEHQQeBB8EIAQhBCIEIwQkBCUEJgQnBCgEKQQqBCsELAQtBC4ELwQwBDEEMgQzBDQENQQ2BDcEOAQ5BDoEOwQ8BD0EPgQ\\u002fBEAEQQRCBEMERARFBEYERwRIBEkESgRLBEwETQROBE8EUARRBFIEUwRUBFUEVgRXBFgEWQRaBFsEXARdBF4EXwRgBGEEYgRjBGQEZQRmBGcEaARpBGoEawRsBG0EbgRvBHAEcQRyBHMEdAR1BHYEdwR4BHkEegR7BHwEfQR+BH8EgASBBIIEgwSEBIUEhgSHBIgEiQSKBIsEjASNBI4EjwSQBJEEkgSTBJQElQSWBJcEmASZBJoEmwScBJ0EngSfBKAEoQSiBKMEpASlBKYEpwSoBKkEqgSrBKwErQSuBK8EsASxBLIEswS0BLUEtgS3BLgEuQS6BLsEvAS9BL4EvwTABMEEwgTDBMQExQTGBMcEyATJBMoEywTMBM0EzgTPBNAE0QTSBNME1ATVBNYE1wTYBNkE2gTbBNwE3QTeBN8E4AThBOIE4wTkBOUE5gTnBOgE6QTqBOsE7ATtBO4E7wTwBPEE8gTzBPQE9QT2BPcE+AT5BPoE+wT8BP0E\\u002fgT\\u002fBAAFAQUCBQMFBAUFBQYFBwUIBQkFCgULBQwFDQUOBQ8FEAURBRIFEwUUBRUFFgUXBRgFGQUaBRsFHAUdBR4FHwUgBSEFIgUjBSQFJQUmBScFKAUpBSoFKwUsBS0FLgUvBTAFMQUyBTMFNAU1BTYFNwU4BTkFOgU7BTwFPQU+BT8FQAVBBUIFQwVEBUUFRgVHBUgFSQVKBUsFTAVNBU4FTwVQBVEFUgVTBVQFVQVWBVcFWAVZBVoFWwVcBV0FXgVfBWAFYQViBWMFZAVlBWYFZwVoBWkFagVrBWwFbQVuBW8FcAVxBXIFcwV0BXUFdgV3BXgFeQV6BXsFfAV9BX4FfwWABYEFggWDBYQFhQWGBYcFiAWJBYoFiwWMBY0FjgWPBZAFkQWSBZMFlAWVBZYFlwWYBZkFmgWbBZwFnQWeBZ8FoAWhBaIFowWkBaUFpgWnBagFqQWqBasFrAWtBa4FrwWwBbEFsgWzBbQFtQW2BbcFuAW5BboFuwW8Bb0FvgW\\u002fBcAFwQXCBcMFxAXFBcYFxwXIBckFygXLBcwFzQXOBc8F0AXRBdIF0wXUBdUF1gXXBdgF2QXaBdsF3AXdBd4F3wXgBeEF4gXjBeQF5QXmBecF6AXpBeoF6wXsBe0F7gXvBfAF8QXyBfMF9AX1BfYF9wX4BfkF+gX7BfwF\\u002fQX+Bf8FAAYBBgIGAwYEBgUGBgYHBggGCQYKBgsGDAYNBg4GDwYQBhEGEgYTBhQGFQYWBhcGGAYZBhoGGwYcBh0GHgYfBiAGIQYiBiMGJAYlBiYGJwYoBikGKgYrBiwGLQYuBi8GMAYxBjIGMwY0BjUGNgY3BjgGOQY6BjsGPAY9Bj4GPwZABkEGQgZDBkQGRQZGBkcGSAZJBkoGSwZMBk0GTgZPBlAGUQZSBlMGVAZVBlYGVwZYBlkGWgZbBlwGXQZeBl8GYAZhBmIGYwZkBmUGZgZnBmgGaQZqBmsGbAZtBm4GbwZwBnEGcgZzBnQGdQZ2BncGeAZ5BnoGewZ8Bn0GfgZ\\u002fBoAGgQaCBoMGhAaFBoYGhwaIBokGigaLBowGjQaOBo8GkAaRBpIGkwaUBpUGlgaXBpgGmQaaBpsGnAadBp4GnwagBqEGogajBqQGpQamBqcGqAapBqoGqwasBq0GrgavBrAGsQayBrMGtAa1BrYGtwa4BrkGuga7BrwGvQa+Br8GwAbBBsIGwwbEBsUGxgbHBsgGyQbKBssGzAbNBs4GzwbQBtEG0gbTBtQG1QbWBtcG2AbZBtoG2wbcBt0G3gbfBuAG4QbiBuMG5AblBuYG5wboBukG6gbrBuwG7QbuBu8G8AbxBvIG8wb0BvUG9gb3BvgG+Qb6BvsG\\u002fAb9Bv4G\\u002fwYABwEHAgcDBwQHBQcGBwcHCAcJBwoHCwcMBw0HDgcPBxAHEQcSBxMHFAcVBxYHFwcYBxkHGgcbBxwHHQceBx8HIAchByIHIwckByUHJgcnBygHKQcqBysHLActBy4HLwcwBzEHMgczBzQHNQc2BzcHOAc5BzoHOwc8Bz0HPgc\\u002fB0AHQQdCB0MHRAdFB0YHRwdIB0kHSgdLB0wHTQdOB08HUAdRB1IHUwdUB1UHVgdXB1gHWQdaB1sHXAddB14HXwdgB2EHYgdjB2QHZQdmB2cHaAdpB2oHawdsB20HbgdvB3AHcQdyB3MHdAd1B3YHdwd4B3kHegd7B3wHfQd+B38HgAeBB4IHgweEB4UHhgeHB4gHiQeKB4sHjAeNB44HjweQB5EHkgeTB5QHlQeWB5cHmAeZB5oHmwecB50HngefB6AHoQeiB6MHpAelB6YHpweoB6kHqgerB6wHrQeuB68HsAexB7IHswe0B7UHtge3B7gHuQe6B7sHvAe9B74HvwfAB8EHwgfDB8QHxQfGB8cHyAfJB8oHywfMB80HzgfPB9AH0QfSB9MH1AfVB9YH1wfYB9kH2gfbB9wH3QfeB98H4AfhB+IH4wfkB+UH5gfnB+gH6QfqB+sH7AftB+4H7wfwB\\u002fEH8gfzB\\u002fQH9Qf2B\\u002fcH+Af5B\\u002foH+wf8B\\u002f0H\\u002fgf\\u002fBwAIAQgCCAMIBAgFCAYIBwgICAkICggLCAwIDQgOCA8IEAgRCBIIEwgUCBUIFggXCBgIGQgaCBsIHAgdCB4IHwggCCEIIggjCCQIJQgmCCcIKAgpCCoIKwgsCC0ILggvCDAIMQgyCDMINAg1CDYINwg4CDkIOgg7CDwIPQg+CD8IQAhBCEIIQwhECEUIRghHCEgISQhKCEsITAhNCE4ITwhQCFEIUghTCFQIVQhWCFcIWAhZCFoIWwhcCF0IXghfCGAIYQhiCGMIZAhlCGYIZwhoCGkIaghrCGwIbQhuCG8IcAhxCHIIcwh0CHUIdgh3CHgIeQh6CHsIfAh9CH4IfwiACIEIggiDCIQIhQiGCIcIiAiJCIoIiwiMCI0IjgiPCJAIkQiSCJMIlAiVCJYIlwiYCJkImgibCJwInQieCJ8IoAihCKIIowikCKUIpginCKgIqQiqCKsIrAitCK4IrwiwCLEIsgizCLQItQi2CLcIuAi5CLoIuwi8CL0Ivgi\\u002fCMAIwQjCCMMIxAjFCMYIxwjICMkIygjLCMwIzQjOCM8I0AjRCNII0wjUCNUI1gjXCNgI2QjaCNsI3AjdCN4I3wjgCOEI4gjjCOQI5QjmCOcI6AjpCOoI6wjsCO0I7gjvCPAI8QjyCPMI9Aj1CPYI9wj4CPkI+gj7CPwI\\u002fQj+CP8IAAkBCQIJAwkECQUJBgkHCQgJCQkKCQsJDAkNCQ4JDwkQCREJEgkTCRQJFQkWCRcJGAkZCRoJGwkcCR0JHgkfCSAJIQkiCSMJJAklCSYJJwkoCSkJKgkrCSwJLQkuCS8JMAkxCTIJMwk0CTUJNgk3CTgJOQk6CTsJPAk9CT4JPwlACUEJQglDCUQJRQlGCUcJSAlJCUoJSwlMCU0JTglPCVAJUQlSCVMJVAlVCVYJVwlYCVkJWglbCVwJXQleCV8JYAlhCWIJYwlkCWUJZglnCWgJaQlqCWsJbAltCW4JbwlwCXEJcglzCXQJdQl2CXcJeAl5CXoJewl8CX0Jfgl\\u002fCYAJgQmCCYMJhAmFCYYJhwmICYkJigmLCYwJjQmOCY8JkAmRCZIJkwmUCZUJlgmXCZgJmQmaCZsJnAmdCZ4JnwmgCaEJogmjCaQJpQmmCacJqAmpCaoJqwmsCa0JrgmvCbAJsQmyCbMJtAm1CbYJtwm4CbkJugm7CbwJvQm+Cb8JwAnBCcIJwwnECcUJxgnHCcgJyQnKCcsJzAnNCc4JzwnQCdEJ0gnTCdQJ1QnWCdcJ2AnZCdoJ2wncCd0J3gnfCeAJ4QniCeMJ5AnlCeYJ5wnoCekJ6gnrCewJ7QnuCe8J8AnxCfIJ8wn0CfUJ9gn3CfgJ+Qn6CfsJ\\u002fAn9Cf4J\\u002fwkACgEKAgoDCgQKBQoGCgcKCAoJCgoKCwoMCg0KDgoPChAKEQoSChMKFAoVChYKFwoYChkKGgobChwKHQoeCh8KIAohCiIKIwokCiUKJgonCigKKQoqCisKLAotCi4KLwowCjEKMgozCjQKNQo2CjcKOAo5CjoKOwo8Cj0KPgo\\u002fCkAKQQpCCkMKRApFCkYKRwpICkkKSgpLCkwKTQpOCk8KUApRClIKUwpUClUKVgpXClgKWQpaClsKXApdCl4KXwpgCmEKYgpjCmQKZQpmCmcKaAppCmoKawpsCm0KbgpvCnAKcQpyCnMKdAp1CnYKdwp4CnkKegp7CnwKfQp+Cn8KgAqBCoIKgwqECoUKhgqHCogKiQqKCosKjAqNCo4KjwqQCpEKkgqTCpQKlQqWCpcKmAqZCpoKmwqcCp0KngqfCqAKoQqiCqMKpAqlCqYKpwqoCqkKqgqrCqwKrQquCq8KsAqxCrIKswq0CrUKtgq3CrgKuQq6CrsKvAq9Cr4KvwrACsEKwgrDCsQKxQrGCscKyArJCsoKywrMCs0KzgrPCtAK0QrSCtMK1ArVCtYK1wrYCtkK2grbCtwK3QreCt8K4ArhCuIK4wrkCuUK5grnCugK6QrqCusK7ArtCu4K7wrwCvEK8grzCvQK9Qr2CvcK+Ar5CvoK+wr8Cv0K\\u002fgr\\u002fCgALAQsCCwMLBAsFCwYLBwsICwkLCgsLCwwLDQsOCw8LEAsRCxILEwsUCxULFgsXCxgLGQsaCxsLHAsdCx4LHwsgCyELIgsjCyQLJQsmCycLKAspCyoLKwssCy0LLgsvCzALMQsyCzMLNAs1CzYLNws4CzkLOgs7CzwLPQs+Cz8LQAtBC0ILQwtEC0ULRgtHC0gLSQtKC0sLTAtNC04LTwtQC1ELUgtTC1QLVQtWC1cLWAtZC1oLWwtcC10LXgtfC2ALYQtiC2MLZAtlC2YLZwtoC2kLagtrC2wLbQtuC28LcAtxC3ILcwt0C3ULdgt3C3gLeQt6C3sLfAt9C34LfwuAC4ELgguDC4QLhQuGC4cLiAuJC4oLiwuMC40LjguPC5ALkQuSC5MLlAuVC5YLlwuYC5kLmgubC5wLnQueC58LoAuhC6ILowukC6ULpgunC6gLqQuqC6sLrAutC64LrwuwC7ELsguzC7QLtQu2C7cL\"},\"y\":{\"dtype\":\"f8\",\"bdata\":\"exSuR+F6tL\\u002fsUbgeheuxvzMzMzMzM7O\\u002fexSuR+F6tL+kcD0K16Owvylcj8L1KKy\\u002fuB6F61G4rr+kcD0K16Owv6RwPQrXo7C\\u002fpHA9CtejsL+kcD0K16Owv6RwPQrXo7C\\u002fpHA9CtejsL+4HoXrUbiuvylcj8L1KKy\\u002fCtejcD0Kp7\\u002fsUbgeheuhv5qZmZmZmZm\\u002fmpmZmZmZmb+amZmZmZmZv5qZmZmZmZm\\u002fexSuR+F6lL97FK5H4XqEv3sUrkfheoS\\u002fexSuR+F6hL8AAAAAAAAAAHsUrkfhepQ\\u002f7FG4HoXroT+amZmZmZmpP6RwPQrXo7A\\u002fexSuR+F6tD\\u002fD9Shcj8K1P8P1KFyPwrU\\u002fmpmZmZmZuT8AAAAAAADAP6RwPQrXo8A\\u002fpHA9CtejwD\\u002fXo3A9CtfDP65H4XoUrsc\\u002frkfhehSuxz+uR+F6FK7HP5qZmZmZmck\\u002fKVyPwvUozD8pXI\\u002fC9SjMPylcj8L1KMw\\u002fKVyPwvUozD8pXI\\u002fC9SjMPz0K16NwPco\\u002fUrgehetRyD+uR+F6FK7HPwrXo3A9Csc\\u002f16NwPQrXwz8AAAAAAADAPwrXo3A9Crc\\u002fpHA9CtejsD8pXI\\u002fC9SisP+xRuB6F66E\\u002fexSuR+F6dD+4HoXrUbiOv3sUrkfhepS\\u002fuB6F61G4nr8K16NwPQqnvylcj8L1KKy\\u002fKVyPwvUorL+kcD0K16OwvzMzMzMzM7O\\u002fw\\u002fUoXI\\u002fCtb\\u002fD9Shcj8K1v8P1KFyPwrW\\u002fUrgehetRuL+amZmZmZm5v5qZmZmZmbm\\u002fmpmZmZmZub+amZmZmZm5v1K4HoXrUbi\\u002fUrgehetRuL9SuB6F61G4v1K4HoXrUbi\\u002fUrgehetRuL+amZmZmZm5v+F6FK5H4bq\\u002f4XoUrkfhur9SuB6F61G4vwrXo3A9Cre\\u002fexSuR+F6tL8zMzMzMzOzvzMzMzMzM7O\\u002f7FG4HoXrsb\\u002fsUbgeheuxv+xRuB6F67G\\u002f7FG4HoXrsb\\u002fsUbgeheuxv7gehetRuK6\\u002fmpmZmZmZqb+amZmZmZmpvwrXo3A9Cqe\\u002fCtejcD0Kp78K16NwPQqnvwrXo3A9Cqe\\u002fmpmZmZmZqb+amZmZmZmpvylcj8L1KKy\\u002fpHA9CtejsL+kcD0K16Owv5qZmZmZmam\\u002fCtejcD0Kp78K16NwPQqnv3sUrkfheqS\\u002fuB6F61G4nr\\u002fsUbgeheuhvwrXo3A9Cqe\\u002fmpmZmZmZqb+4HoXrUbiuv7gehetRuK6\\u002fKVyPwvUorL+amZmZmZmpv5qZmZmZmam\\u002fCtejcD0Kp78K16NwPQqnvwrXo3A9Cqe\\u002fmpmZmZmZqb\\u002fsUbgeheuhv7gehetRuI6\\u002f7FG4HoXrob+4HoXrUbiuv3sUrkfheqS\\u002fexSuR+F6lL97FK5H4Xqkv6RwPQrXo7C\\u002fpHA9CtejsL+kcD0K16Owv+F6FK5H4bq\\u002fSOF6FK5Hwb+amZmZmZm5vzMzMzMzM7O\\u002fCtejcD0Kt7+amZmZmZm5vzMzMzMzM7O\\u002f7FG4HoXrsb8K16NwPQq3vylcj8L1KLy\\u002fcT0K16Nwvb+4HoXrUbi+vwAAAAAAAMC\\u002fAAAAAAAAwL9xPQrXo3C9v7gehetRuL6\\u002fpHA9CtejwL+kcD0K16PAv3E9CtejcL2\\u002fKVyPwvUovL9xPQrXo3C9v7gehetRuL6\\u002fuB6F61G4vr9xPQrXo3C9v3E9CtejcL2\\u002fcT0K16Nwvb9xPQrXo3C9vylcj8L1KLy\\u002f4XoUrkfhur9SuB6F61G4v8P1KFyPwrW\\u002fpHA9CtejsL+amZmZmZmpv7gehetRuJ4\\u002fAAAAAAAAwD\\u002fD9Shcj8LFP+F6FK5H4co\\u002fUrgehetRuD+4HoXrUbiOv8P1KFyPwsW\\u002fKVyPwvUo1L8UrkfhehTWv7gehetRuNa\\u002fSOF6FK5H0b+uR+F6FK7HvwAAAAAAAMC\\u002fexSuR+F6tL9xPQrXo3C9v4\\u002fC9Shcj8K\\u002fj8L1KFyPwr+PwvUoXI\\u002fCv0jhehSuR8G\\u002fAAAAAAAAwL8pXI\\u002fC9Si8v5qZmZmZmbm\\u002fmpmZmZmZub9SuB6F61G4v8P1KFyPwrW\\u002fCtejcD0Kt7+amZmZmZm5vwrXo3A9Cre\\u002f7FG4HoXrsb8zMzMzMzOzv5qZmZmZmbm\\u002fmpmZmZmZub\\u002fD9Shcj8K1v8P1KFyPwrW\\u002fw\\u002fUoXI\\u002fCtb97FK5H4Xq0v+xRuB6F67G\\u002fMzMzMzMzs797FK5H4Xq0v+xRuB6F67G\\u002fKVyPwvUorL+amZmZmZmpv5qZmZmZmam\\u002fuB6F61G4rr\\u002fsUbgeheuxv5qZmZmZmam\\u002fuB6F61G4nr8K16NwPQqnv7gehetRuK6\\u002fmpmZmZmZmb8AAAAAAAAAAHsUrkfhenS\\u002fexSuR+F6hL97FK5H4Xp0P7gehetRuI4\\u002fuB6F61G4jj97FK5H4XqUP3sUrkfheqQ\\u002fuB6F61G4rj+4HoXrUbiuPzMzMzMzM7M\\u002f4XoUrkfhuj+kcD0K16PAP6RwPQrXo8A\\u002f7FG4HoXrwT97FK5H4XrEP8P1KFyPwsU\\u002fw\\u002fUoXI\\u002fCxT9mZmZmZmbGP2ZmZmZmZsY\\u002frkfhehSuxz+amZmZmZnJP+F6FK5H4co\\u002f4XoUrkfhyj+amZmZmZnJP65H4XoUrsc\\u002fH4XrUbgexT\\u002fsUbgehevBP3E9CtejcL0\\u002fUrgehetRuD+kcD0K16OwP7gehetRuJ4\\u002fexSuR+F6lD97FK5H4XqUPwAAAAAAAAAAuB6F61G4jr\\u002fsUbgeheuhv7gehetRuK6\\u002fpHA9CtejsL8zMzMzMzOzv8P1KFyPwrW\\u002fUrgehetRuL9SuB6F61G4vwrXo3A9Cre\\u002fCtejcD0Kt78K16NwPQq3v1K4HoXrUbi\\u002fmpmZmZmZub+amZmZmZm5v5qZmZmZmbm\\u002fmpmZmZmZub+amZmZmZm5v+F6FK5H4bq\\u002f4XoUrkfhur9SuB6F61G4vwrXo3A9Cre\\u002fexSuR+F6tL8zMzMzMzOzv8P1KFyPwrW\\u002fw\\u002fUoXI\\u002fCtb\\u002fD9Shcj8K1v8P1KFyPwrW\\u002fw\\u002fUoXI\\u002fCtb97FK5H4Xq0v6RwPQrXo7C\\u002fmpmZmZmZqb8K16NwPQqnvwrXo3A9Cqe\\u002fCtejcD0Kp78K16NwPQqnvwrXo3A9Cqe\\u002fexSuR+F6pL\\u002fsUbgeheuhv3sUrkfheqS\\u002fmpmZmZmZqb97FK5H4Xqkv7gehetRuJ6\\u002f7FG4HoXrob97FK5H4Xqkv+xRuB6F66G\\u002f7FG4HoXrob97FK5H4XqkvwrXo3A9Cqe\\u002fCtejcD0Kp7+amZmZmZmpvylcj8L1KKy\\u002fKVyPwvUorL\\u002fsUbgeheuhv5qZmZmZmZm\\u002fCtejcD0Kp7+4HoXrUbiuv7gehetRuK6\\u002fuB6F61G4rr+kcD0K16Owv+xRuB6F67G\\u002fw\\u002fUoXI\\u002fCtb97FK5H4Xq0vylcj8L1KKy\\u002fCtejcD0Kp78K16NwPQqnv3sUrkfheqS\\u002fuB6F61G4nr+4HoXrUbiev3sUrkfheqS\\u002fexSuR+F6pL+4HoXrUbiev3sUrkfheqS\\u002fuB6F61G4rr+kcD0K16Owv7gehetRuK6\\u002fMzMzMzMzs79SuB6F61G4vwrXo3A9Cre\\u002fMzMzMzMzs797FK5H4Xq0v8P1KFyPwrW\\u002fCtejcD0Kt78K16NwPQq3v1K4HoXrUbi\\u002fUrgehetRuL+amZmZmZm5v5qZmZmZmbm\\u002fmpmZmZmZub+amZmZmZm5v1K4HoXrUbi\\u002fUrgehetRuL+amZmZmZm5v+F6FK5H4bq\\u002fmpmZmZmZub+amZmZmZm5v5qZmZmZmbm\\u002f4XoUrkfhur\\u002fhehSuR+G6v+F6FK5H4bq\\u002fKVyPwvUovL8pXI\\u002fC9Si8vylcj8L1KLy\\u002fcT0K16Nwvb8AAAAAAADAv3E9CtejcL2\\u002f7FG4HoXrsb97FK5H4XqEv+xRuB6F67E\\u002fSOF6FK5HwT+uR+F6FK7HP0jhehSuR8E\\u002fuB6F61G4jj9I4XoUrkfBv4XrUbgehdO\\u002fpHA9Ctej2L\\u002fhehSuR+Hav2ZmZmZmZta\\u002fFK5H4XoUzr97FK5H4XrEv1K4HoXrUbi\\u002fcT0K16Nwvb8zMzMzMzPDvzMzMzMzM8O\\u002fj8L1KFyPwr\\u002fsUbgehevBv+xRuB6F68G\\u002fmpmZmZmZub+4HoXrUbiuv+xRuB6F67G\\u002fexSuR+F6tL+kcD0K16Owv5qZmZmZmam\\u002fpHA9CtejsL97FK5H4Xq0v7gehetRuK6\\u002fmpmZmZmZqb\\u002fsUbgeheuxvzMzMzMzM7O\\u002fmpmZmZmZqb\\u002fsUbgeheuhv5qZmZmZmam\\u002fKVyPwvUorL+amZmZmZmpvwrXo3A9Cqe\\u002fCtejcD0Kp78K16NwPQqnvwrXo3A9Cqe\\u002fexSuR+F6pL97FK5H4XqUv3sUrkfheoS\\u002fexSuR+F6hL97FK5H4Xp0vwAAAAAAAAAAexSuR+F6dD97FK5H4Xp0P3sUrkfheoQ\\u002fuB6F61G4jj+4HoXrUbieP5qZmZmZmak\\u002fpHA9CtejsD97FK5H4Xq0PwrXo3A9Crc\\u002fmpmZmZmZuT+4HoXrUbi+P0jhehSuR8E\\u002f7FG4HoXrwT+PwvUoXI\\u002fCP8P1KFyPwsU\\u002f9ihcj8L1yD+F61G4HoXLP3E9CtejcM0\\u002fuB6F61G4zj9SuB6F61HQP1K4HoXrUdA\\u002fpHA9Ctej0D\\u002fsUbgehevRP+F6FK5H4dI\\u002fPQrXo3A90j+amZmZmZnRP+F6FK5H4dI\\u002fMzMzMzMz0z\\u002fsUbgehevRP1K4HoXrUdA\\u002fFK5H4XoUzj+F61G4HoXLP1K4HoXrUcg\\u002f16NwPQrXwz+4HoXrUbi+P5qZmZmZmbk\\u002fmpmZmZmZuT\\u002fD9Shcj8K1PwrXo3A9Cqc\\u002fmpmZmZmZmT+amZmZmZmZP3sUrkfheoQ\\u002fAAAAAAAAAAB7FK5H4XqEv3sUrkfheoS\\u002fmpmZmZmZmb97FK5H4Xqkv+xRuB6F66G\\u002fexSuR+F6lL+4HoXrUbiev3sUrkfheqS\\u002fCtejcD0Kp78K16NwPQqnv3sUrkfheqS\\u002f7FG4HoXrob\\u002fsUbgeheuhv+xRuB6F66G\\u002fexSuR+F6lL97FK5H4XqEv3sUrkfhepS\\u002fmpmZmZmZmb97FK5H4XqUv7gehetRuI6\\u002fuB6F61G4jr97FK5H4XqEv3sUrkfheoS\\u002fexSuR+F6dL97FK5H4Xp0vwAAAAAAAAAAexSuR+F6dD97FK5H4XqEP3sUrkfhenQ\\u002fexSuR+F6dD97FK5H4XqEP3sUrkfheoQ\\u002fexSuR+F6hD97FK5H4XqEP7gehetRuI4\\u002fuB6F61G4jj+4HoXrUbiOP7gehetRuI4\\u002fexSuR+F6lD+4HoXrUbiOP3sUrkfhenQ\\u002fAAAAAAAAAAAAAAAAAAAAAHsUrkfhenS\\u002fexSuR+F6dL8AAAAAAAAAAAAAAAAAAAAAAAAAAAAAAAAAAAAAAAAAAAAAAAAAAAAAexSuR+F6dL97FK5H4XqEv3sUrkfheoS\\u002fuB6F61G4jr+amZmZmZmZv3sUrkfhepS\\u002fexSuR+F6hL+4HoXrUbiOv3sUrkfhepS\\u002fexSuR+F6hL97FK5H4Xp0v3sUrkfhenS\\u002fexSuR+F6dL97FK5H4XqEv3sUrkfheoS\\u002fexSuR+F6hL97FK5H4Xp0vwAAAAAAAAAAAAAAAAAAAAB7FK5H4Xp0v3sUrkfhepS\\u002fmpmZmZmZqb\\u002fsUbgeheuxv+xRuB6F67G\\u002fpHA9CtejsL+kcD0K16Owv5qZmZmZmam\\u002fmpmZmZmZmb+amZmZmZmZv5qZmZmZmam\\u002f7FG4HoXrsb97FK5H4Xq0v8P1KFyPwrW\\u002fw\\u002fUoXI\\u002fCtb8K16NwPQq3v1K4HoXrUbi\\u002fw\\u002fUoXI\\u002fCtb+kcD0K16Owv+xRuB6F67G\\u002fCtejcD0Kt7\\u002fD9Shcj8K1vzMzMzMzM7O\\u002fMzMzMzMzs78zMzMzMzOzv3sUrkfherS\\u002fCtejcD0Kt79SuB6F61G4v1K4HoXrUbi\\u002fexSuR+F6tL+kcD0K16Owv7gehetRuK6\\u002fmpmZmZmZqb8AAAAAAAAAALgehetRuK4\\u002fj8L1KFyPwj+F61G4HoXLP1K4HoXrUcg\\u002fSOF6FK5HwT8AAAAAAAAAAOxRuB6F68G\\u002f9ihcj8L10L\\u002fD9Shcj8LVvylcj8L1KNS\\u002f9ihcj8L10L8fhetRuB7Fv1K4HoXrUbi\\u002f7FG4HoXrsb+kcD0K16Owv8P1KFyPwrW\\u002fUrgehetRuL9SuB6F61G4vwrXo3A9Cre\\u002fw\\u002fUoXI\\u002fCtb97FK5H4Xq0v+xRuB6F67G\\u002fpHA9CtejsL+kcD0K16Owv7gehetRuK6\\u002fKVyPwvUorL+amZmZmZmpvwrXo3A9Cqe\\u002fCtejcD0Kp7+amZmZmZmpvylcj8L1KKy\\u002fKVyPwvUorL8pXI\\u002fC9Sisv7gehetRuK6\\u002fKVyPwvUorL8K16NwPQqnv3sUrkfheqS\\u002f7FG4HoXrob\\u002fsUbgeheuhv+xRuB6F66G\\u002fexSuR+F6pL97FK5H4Xqkv+xRuB6F66G\\u002f7FG4HoXrob\\u002fsUbgeheuhv7gehetRuJ6\\u002fuB6F61G4jr8AAAAAAAAAAAAAAAAAAAAAAAAAAAAAAAAAAAAAAAAAAHsUrkfhenQ\\u002fuB6F61G4jj97FK5H4XqUP3sUrkfhepQ\\u002fmpmZmZmZmT8K16NwPQqnP7gehetRuK4\\u002fMzMzMzMzsz8K16NwPQq3Pylcj8L1KLw\\u002fcT0K16NwvT9xPQrXo3C9P6RwPQrXo8A\\u002fexSuR+F6xD\\u002fD9Shcj8LFP8P1KFyPwsU\\u002frkfhehSuxz89CtejcD3KP+F6FK5H4co\\u002f4XoUrkfhyj\\u002fhehSuR+HKP+F6FK5H4co\\u002f4XoUrkfhyj\\u002fhehSuR+HKP\\u002fYoXI\\u002fC9cg\\u002fZmZmZmZmxj8fhetRuB7FP3sUrkfhesQ\\u002f7FG4HoXrwT8AAAAAAADAP5qZmZmZmbk\\u002f7FG4HoXrsT97FK5H4XqkP7gehetRuI4\\u002fuB6F61G4jj97FK5H4XqEP7gehetRuI6\\u002fuB6F61G4nr97FK5H4XqUv7gehetRuI6\\u002fuB6F61G4nr8K16NwPQqnvwrXo3A9Cqe\\u002fCtejcD0Kp78pXI\\u002fC9Sisvylcj8L1KKy\\u002fKVyPwvUorL8pXI\\u002fC9Sisv6RwPQrXo7C\\u002fpHA9CtejsL8pXI\\u002fC9Sisvylcj8L1KKy\\u002fuB6F61G4rr+4HoXrUbiuvylcj8L1KKy\\u002fKVyPwvUorL8pXI\\u002fC9Sisvylcj8L1KKy\\u002fKVyPwvUorL+amZmZmZmpvwrXo3A9Cqe\\u002fCtejcD0Kp78K16NwPQqnv+xRuB6F66G\\u002fuB6F61G4nr97FK5H4Xp0v3sUrkfheoQ\\u002fuB6F61G4jj97FK5H4XqUP3sUrkfheqQ\\u002fuB6F61G4rj8zMzMzMzOzP8P1KFyPwrU\\u002fMzMzMzMzsz+kcD0K16OwPwrXo3A9Cqc\\u002fuB6F61G4nj+amZmZmZmZP7gehetRuI4\\u002fAAAAAAAAAAB7FK5H4XqUv5qZmZmZmZm\\u002fuB6F61G4nr+4HoXrUbiev+xRuB6F66G\\u002fCtejcD0Kp78pXI\\u002fC9Sisv7gehetRuK6\\u002f7FG4HoXrsb97FK5H4Xq0v8P1KFyPwrW\\u002fMzMzMzMzs7\\u002fsUbgeheuxv+xRuB6F67G\\u002f7FG4HoXrsb\\u002fsUbgeheuxv+xRuB6F67G\\u002f7FG4HoXrsb8zMzMzMzOzvzMzMzMzM7O\\u002fMzMzMzMzs797FK5H4Xq0v8P1KFyPwrW\\u002fw\\u002fUoXI\\u002fCtb97FK5H4Xq0vzMzMzMzM7O\\u002fmpmZmZmZmb+amZmZmZmZP7gehetRuL4\\u002fzczMzMzMzD8pXI\\u002fC9SjMPz0K16NwPco\\u002fuB6F61G4nj9I4XoUrkfBv83MzMzMzMy\\u002fMzMzMzMz07+amZmZmZnRv7gehetRuM6\\u002fAAAAAAAAwL+4HoXrUbiev5qZmZmZmZm\\u002fuB6F61G4nr8pXI\\u002fC9Sisv3sUrkfherS\\u002fcT0K16Nwvb8AAAAAAADAv1K4HoXrUbi\\u002fexSuR+F6tL9SuB6F61G4v1K4HoXrUbi\\u002fMzMzMzMzs7+kcD0K16Owv6RwPQrXo7C\\u002f7FG4HoXrsb\\u002fsUbgeheuxv+xRuB6F67G\\u002f7FG4HoXrsb+4HoXrUbiuv5qZmZmZmam\\u002fKVyPwvUorL\\u002fsUbgeheuxvzMzMzMzM7O\\u002fMzMzMzMzs7+kcD0K16Owv7gehetRuK6\\u002fuB6F61G4rr+4HoXrUbiuvylcj8L1KKy\\u002fmpmZmZmZqb8K16NwPQqnvwrXo3A9Cqe\\u002fuB6F61G4nr+4HoXrUbiOv7gehetRuI6\\u002fexSuR+F6lL+4HoXrUbiev3sUrkfheqS\\u002fuB6F61G4nr97FK5H4XqUvwAAAAAAAAAAexSuR+F6lD+amZmZmZmZP7gehetRuJ4\\u002fexSuR+F6pD+amZmZmZmpPylcj8L1KKw\\u002f7FG4HoXrsT8K16NwPQq3P+F6FK5H4bo\\u002fKVyPwvUovD+4HoXrUbi+P+xRuB6F68E\\u002f16NwPQrXwz8fhetRuB7FP8P1KFyPwsU\\u002fCtejcD0Kxz+uR+F6FK7HP1K4HoXrUcg\\u002fUrgehetRyD9SuB6F61HIPwrXo3A9Csc\\u002fZmZmZmZmxj\\u002fD9Shcj8LFP8P1KFyPwsU\\u002fj8L1KFyPwj9xPQrXo3C9PwrXo3A9Crc\\u002f7FG4HoXrsT+amZmZmZmpP7gehetRuJ4\\u002fexSuR+F6dD97FK5H4XqEv7gehetRuI6\\u002fuB6F61G4jr+amZmZmZmZv+xRuB6F66G\\u002fexSuR+F6pL+amZmZmZmpvylcj8L1KKy\\u002fpHA9CtejsL+kcD0K16Owv+xRuB6F67G\\u002fMzMzMzMzs797FK5H4Xq0v6RwPQrXo7C\\u002fuB6F61G4rr+4HoXrUbiuv6RwPQrXo7C\\u002f7FG4HoXrsb\\u002fsUbgeheuxv+xRuB6F67G\\u002f7FG4HoXrsb\\u002fsUbgeheuxv+xRuB6F67G\\u002f7FG4HoXrsb+4HoXrUbiuv5qZmZmZmam\\u002fCtejcD0Kp78K16NwPQqnvwrXo3A9Cqe\\u002fCtejcD0Kp7\\u002fsUbgeheuhv5qZmZmZmZm\\u002fmpmZmZmZmb+4HoXrUbiev3sUrkfheqS\\u002fmpmZmZmZqb97FK5H4Xqkv3sUrkfhepS\\u002fmpmZmZmZmb+4HoXrUbiev7gehetRuJ6\\u002fmpmZmZmZmb+4HoXrUbiev3sUrkfheqS\\u002fexSuR+F6pL\\u002fsUbgeheuhv3sUrkfheqS\\u002fCtejcD0Kp7\\u002fsUbgeheuhv7gehetRuJ6\\u002fCtejcD0Kp78pXI\\u002fC9Sisv5qZmZmZmam\\u002fCtejcD0Kp7+amZmZmZmpv7gehetRuK6\\u002fpHA9CtejsL\\u002fsUbgeheuxv3sUrkfherS\\u002fexSuR+F6tL+kcD0K16Owv5qZmZmZmam\\u002f7FG4HoXrob+4HoXrUbiOv3sUrkfhenS\\u002fAAAAAAAAAAB7FK5H4Xp0PwAAAAAAAAAAexSuR+F6dL97FK5H4XqEv7gehetRuI6\\u002fexSuR+F6lL97FK5H4XqUv7gehetRuJ6\\u002fCtejcD0Kp7+kcD0K16OwvwrXo3A9Cre\\u002fCtejcD0Kt78zMzMzMzOzv1K4HoXrUbi\\u002fAAAAAAAAwL8pXI\\u002fC9Si8v1K4HoXrUbi\\u002fmpmZmZmZub\\u002fhehSuR+G6v5qZmZmZmbm\\u002fUrgehetRuL+amZmZmZm5v5qZmZmZmbm\\u002fmpmZmZmZub+amZmZmZm5v+F6FK5H4bq\\u002f4XoUrkfhur+amZmZmZm5v1K4HoXrUbi\\u002fUrgehetRuL9SuB6F61G4vwrXo3A9Cre\\u002f7FG4HoXrsb+amZmZmZmZv7gehetRuJ4\\u002fuB6F61G4vj9mZmZmZmbGPwrXo3A9Csc\\u002fSOF6FK5HwT97FK5H4XqUP1K4HoXrUbi\\u002fFK5H4XoUzr+F61G4HoXTv9ejcD0K19O\\u002fpHA9Ctej0L8fhetRuB7Fvylcj8L1KLy\\u002fexSuR+F6tL97FK5H4Xq0v5qZmZmZmbm\\u002fKVyPwvUovL9xPQrXo3C9v3E9CtejcL2\\u002fcT0K16Nwvb+amZmZmZm5v8P1KFyPwrW\\u002fw\\u002fUoXI\\u002fCtb\\u002fD9Shcj8K1v8P1KFyPwrW\\u002fCtejcD0Kt78K16NwPQq3v8P1KFyPwrW\\u002fMzMzMzMzs7\\u002fsUbgeheuxv+xRuB6F67G\\u002f7FG4HoXrsb\\u002fsUbgeheuxv+xRuB6F67G\\u002f7FG4HoXrsb\\u002fsUbgeheuxv+xRuB6F67G\\u002fpHA9CtejsL+4HoXrUbiuv5qZmZmZmam\\u002fmpmZmZmZqb8K16NwPQqnvwrXo3A9Cqe\\u002fexSuR+F6pL\\u002fsUbgeheuhv+xRuB6F66G\\u002f7FG4HoXrob+4HoXrUbiev7gehetRuJ6\\u002fexSuR+F6lL97FK5H4Xp0vwAAAAAAAAAAexSuR+F6dD97FK5H4XqEP3sUrkfhepQ\\u002fuB6F61G4nj8K16NwPQqnPylcj8L1KKw\\u002fuB6F61G4rj8zMzMzMzOzPwrXo3A9Crc\\u002f4XoUrkfhuj8AAAAAAADAP0jhehSuR8E\\u002f7FG4HoXrwT\\u002fXo3A9CtfDP8P1KFyPwsU\\u002frkfhehSuxz\\u002f2KFyPwvXIP1K4HoXrUcg\\u002frkfhehSuxz9SuB6F61HIP5qZmZmZmck\\u002f4XoUrkfhyj+F61G4HoXLP\\u002fYoXI\\u002fC9cg\\u002fZmZmZmZmxj\\u002fXo3A9CtfDP+xRuB6F68E\\u002fuB6F61G4vj+amZmZmZm5P3sUrkfherQ\\u002fKVyPwvUorD+4HoXrUbieP7gehetRuI4\\u002fexSuR+F6lD+4HoXrUbiOPwAAAAAAAAAAexSuR+F6hL97FK5H4XqUv7gehetRuJ6\\u002fCtejcD0Kp7+amZmZmZmpv7gehetRuK6\\u002fuB6F61G4rr+amZmZmZmpv5qZmZmZmam\\u002fmpmZmZmZqb+amZmZmZmpvwrXo3A9Cqe\\u002fKVyPwvUorL\\u002fsUbgeheuxvylcj8L1KKy\\u002f7FG4HoXrob8pXI\\u002fC9Sisv8P1KFyPwrW\\u002fuB6F61G4rr+4HoXrUbiev+xRuB6F66G\\u002fCtejcD0Kp7\\u002fsUbgeheuhv3sUrkfhepS\\u002fexSuR+F6pL8pXI\\u002fC9Sisv3sUrkfheqS\\u002fmpmZmZmZmb97FK5H4Xqkvylcj8L1KKy\\u002fuB6F61G4nr97FK5H4XqEv7gehetRuI6\\u002fuB6F61G4jr97FK5H4XqEv3sUrkfheoS\\u002fexSuR+F6hL97FK5H4Xp0vwAAAAAAAAAAAAAAAAAAAAB7FK5H4XqEv3sUrkfheoS\\u002fAAAAAAAAAAAAAAAAAAAAAHsUrkfhenS\\u002fexSuR+F6dL97FK5H4Xp0v3sUrkfhenS\\u002fuB6F61G4jr97FK5H4XqUv3sUrkfhepS\\u002fuB6F61G4nr97FK5H4Xqkv+xRuB6F66G\\u002fexSuR+F6lL+4HoXrUbiev5qZmZmZmam\\u002fexSuR+F6pL97FK5H4XqUv3sUrkfhenS\\u002fAAAAAAAAAAB7FK5H4XqEP3sUrkfhepQ\\u002fexSuR+F6lD+4HoXrUbiOP7gehetRuI4\\u002fexSuR+F6hD8AAAAAAAAAALgehetRuI6\\u002fuB6F61G4jr+4HoXrUbiOv+xRuB6F66G\\u002fKVyPwvUorL+kcD0K16OwvzMzMzMzM7O\\u002fw\\u002fUoXI\\u002fCtb8K16NwPQq3v3sUrkfherS\\u002fMzMzMzMzs7\\u002fD9Shcj8K1vwrXo3A9Cre\\u002fCtejcD0Kt79SuB6F61G4v5qZmZmZmbm\\u002f4XoUrkfhur\\u002fhehSuR+G6v5qZmZmZmbm\\u002fmpmZmZmZub9SuB6F61G4v1K4HoXrUbi\\u002fUrgehetRuL+amZmZmZm5v5qZmZmZmbm\\u002fmpmZmZmZub97FK5H4Xq0v7gehetRuK6\\u002fexSuR+F6dL+amZmZmZmpP7gehetRuL4\\u002f9ihcj8L1yD8fhetRuB7FP3E9CtejcL0\\u002fexSuR+F6hL+PwvUoXI\\u002fCv1yPwvUoXM+\\u002fw\\u002fUoXI\\u002fC1b\\u002fhehSuR+HSv7gehetRuM6\\u002fMzMzMzMzw7+kcD0K16Owv6RwPQrXo7C\\u002f7FG4HoXrsb9SuB6F61G4v7gehetRuL6\\u002fAAAAAAAAwL8AAAAAAADAv+F6FK5H4bq\\u002fCtejcD0Kt78K16NwPQq3v8P1KFyPwrW\\u002fMzMzMzMzs7+kcD0K16Owv6RwPQrXo7C\\u002fuB6F61G4rr+4HoXrUbiuv7gehetRuK6\\u002f7FG4HoXrsb\\u002fsUbgeheuxv7gehetRuK6\\u002fpHA9CtejsL97FK5H4Xq0v+xRuB6F67G\\u002fexSuR+F6pL\\u002fsUbgeheuhvwrXo3A9Cqe\\u002fexSuR+F6pL+4HoXrUbiev+xRuB6F66G\\u002fmpmZmZmZqb97FK5H4Xqkv3sUrkfhepS\\u002fexSuR+F6lL97FK5H4XqUv3sUrkfhenS\\u002fexSuR+F6hD8AAAAAAAAAAHsUrkfhenS\\u002fexSuR+F6dD+amZmZmZmZP3sUrkfhepQ\\u002fexSuR+F6lD\\u002fsUbgeheuhP5qZmZmZmak\\u002fmpmZmZmZqT+amZmZmZmpP8P1KFyPwrU\\u002fcT0K16NwvT9xPQrXo3C9P7gehetRuL4\\u002fpHA9CtejwD+PwvUoXI\\u002fCPx+F61G4HsU\\u002fCtejcD0Kxz8K16NwPQrHP1K4HoXrUcg\\u002fPQrXo3A9yj+F61G4HoXLP4XrUbgehcs\\u002fKVyPwvUozD8pXI\\u002fC9SjMP+F6FK5H4co\\u002fmpmZmZmZyT+uR+F6FK7HP2ZmZmZmZsY\\u002fMzMzMzMzwz+4HoXrUbi+P+F6FK5H4bo\\u002fmpmZmZmZuT8zMzMzMzOzP3sUrkfheqQ\\u002fexSuR+F6lD8AAAAAAAAAAHsUrkfheoS\\u002fexSuR+F6lL\\u002fsUbgeheuhvwrXo3A9Cqe\\u002fmpmZmZmZqb8pXI\\u002fC9Sisv7gehetRuK6\\u002fuB6F61G4rr+kcD0K16Owv+xRuB6F67G\\u002f7FG4HoXrsb8zMzMzMzOzvzMzMzMzM7O\\u002fMzMzMzMzs797FK5H4Xq0v8P1KFyPwrW\\u002fw\\u002fUoXI\\u002fCtb97FK5H4Xq0vzMzMzMzM7O\\u002fMzMzMzMzs78zMzMzMzOzv+xRuB6F67G\\u002f7FG4HoXrsb\\u002fsUbgeheuxv+xRuB6F67G\\u002fMzMzMzMzs797FK5H4Xq0vzMzMzMzM7O\\u002fKVyPwvUorL+amZmZmZmpv5qZmZmZmam\\u002fmpmZmZmZqb+amZmZmZmpvwrXo3A9Cqe\\u002fCtejcD0Kp78K16NwPQqnvwrXo3A9Cqe\\u002fmpmZmZmZqb+amZmZmZmpv3sUrkfheqS\\u002f7FG4HoXrob\\u002fsUbgeheuhv+xRuB6F66G\\u002f7FG4HoXrob\\u002fsUbgeheuhv5qZmZmZmZm\\u002fuB6F61G4jr+4HoXrUbiev5qZmZmZmam\\u002f7FG4HoXrob97FK5H4XqUv+xRuB6F66G\\u002fCtejcD0Kp7\\u002fsUbgeheuhv5qZmZmZmZm\\u002fCtejcD0Kp7+4HoXrUbiuv3sUrkfheqS\\u002f7FG4HoXrob8zMzMzMzOzv1K4HoXrUbi\\u002fuB6F61G4rr+4HoXrUbiev5qZmZmZmZm\\u002fexSuR+F6hL97FK5H4XqEP3sUrkfhepQ\\u002fexSuR+F6hD8AAAAAAAAAAAAAAAAAAAAAexSuR+F6dL+amZmZmZmZv5qZmZmZmZm\\u002fuB6F61G4jr97FK5H4XqUv+xRuB6F66G\\u002fmpmZmZmZqb+kcD0K16Owv+xRuB6F67G\\u002f7FG4HoXrsb\\u002fD9Shcj8K1vylcj8L1KLy\\u002fKVyPwvUovL9SuB6F61G4v5qZmZmZmbm\\u002f4XoUrkfhur+amZmZmZm5v1K4HoXrUbi\\u002fmpmZmZmZub\\u002fhehSuR+G6v+F6FK5H4bq\\u002fmpmZmZmZub\\u002fhehSuR+G6v+F6FK5H4bq\\u002fmpmZmZmZub9SuB6F61G4v5qZmZmZmbm\\u002fmpmZmZmZub8K16NwPQq3vzMzMzMzM7O\\u002fexSuR+F6lL+4HoXrUbiePylcj8L1KLw\\u002fH4XrUbgexT\\u002fXo3A9CtfDP+F6FK5H4bo\\u002fuB6F61G4nr97FK5H4XrEv4\\u002fC9Shcj9K\\u002fZmZmZmZm1r\\u002fNzMzMzMzUv0jhehSuR9G\\u002fZmZmZmZmxr+4HoXrUbi+v1K4HoXrUbi\\u002fUrgehetRuL8pXI\\u002fC9Si8v7gehetRuL6\\u002fAAAAAAAAwL+4HoXrUbi+v+F6FK5H4bq\\u002fCtejcD0Kt7\\u002fsUbgeheuxvzMzMzMzM7O\\u002fexSuR+F6tL\\u002fsUbgeheuxv5qZmZmZmam\\u002fmpmZmZmZqb8pXI\\u002fC9Sisv7gehetRuK6\\u002fpHA9CtejsL\\u002fsUbgeheuxv+xRuB6F67G\\u002f7FG4HoXrsb\\u002fsUbgeheuxv6RwPQrXo7C\\u002fuB6F61G4rr+4HoXrUbiuvylcj8L1KKy\\u002fmpmZmZmZqb+amZmZmZmpv5qZmZmZmam\\u002fmpmZmZmZqb97FK5H4Xqkv+xRuB6F66G\\u002fmpmZmZmZqb8pXI\\u002fC9Sisv7gehetRuJ6\\u002fexSuR+F6hL8AAAAAAAAAAAAAAAAAAAAAAAAAAAAAAAB7FK5H4Xp0P3sUrkfhenQ\\u002fexSuR+F6hD97FK5H4XqEP5qZmZmZmZk\\u002fmpmZmZmZqT\\u002fsUbgeheuxP1K4HoXrUbg\\u002f4XoUrkfhuj9xPQrXo3C9P6RwPQrXo8A\\u002fMzMzMzMzwz\\u002fD9Shcj8LFP1K4HoXrUcg\\u002fUrgehetRyD8K16NwPQrHPz0K16NwPco\\u002fFK5H4XoUzj8UrkfhehTOP3E9CtejcM0\\u002fFK5H4XoUzj+4HoXrUbjOPxSuR+F6FM4\\u002fzczMzMzMzD\\u002fhehSuR+HKP1K4HoXrUcg\\u002fZmZmZmZmxj\\u002fXo3A9CtfDP4\\u002fC9Shcj8I\\u002fpHA9CtejwD\\u002fhehSuR+G6P3sUrkfherQ\\u002fCtejcD0Kpz97FK5H4XqUP3sUrkfhepQ\\u002fexSuR+F6dD+amZmZmZmZvwrXo3A9Cqe\\u002fuB6F61G4nr+amZmZmZmZv+xRuB6F66G\\u002fCtejcD0Kp78K16NwPQqnv5qZmZmZmam\\u002fuB6F61G4rr\\u002fsUbgeheuxv+xRuB6F67G\\u002f7FG4HoXrsb\\u002fsUbgeheuxv7gehetRuK6\\u002fCtejcD0Kp7+amZmZmZmpvylcj8L1KKy\\u002fuB6F61G4rr+4HoXrUbiuv7gehetRuK6\\u002fpHA9CtejsL+4HoXrUbiuv5qZmZmZmam\\u002f7FG4HoXrob97FK5H4XqUvzMzMzMzM7O\\u002fSOF6FK5Hwb+amZmZmZnJv0jhehSuR9G\\u002frkfhehSu179mZmZmZmbev1yPwvUoXOO\\u002fXI\\u002fC9Shc57+4HoXrUbjqvz0K16NwPe6\\u002fSOF6FK5H8b+amZmZmZnzvylcj8L1KPa\\u002fexSuR+F6+L+uR+F6FK75v1K4HoXrUfq\\u002fhetRuB6F+b8AAAAAAAD4vx+F61G4HvW\\u002f7FG4HoXr8b+kcD0K16Psv4\\u002fC9Shcj+a\\u002fmpmZmZmZ4b8zMzMzMzPbv8P1KFyPwtW\\u002f9ihcj8L10L89CtejcD3Kv8P1KFyPwsW\\u002fexSuR+F6xL+PwvUoXI\\u002fCv7gehetRuL6\\u002fKVyPwvUovL8pXI\\u002fC9Si8v8P1KFyPwrW\\u002fKVyPwvUorL+amZmZmZmZvwAAAAAAAAAAmpmZmZmZmT8K16NwPQqnP5qZmZmZmak\\u002fmpmZmZmZqT+4HoXrUbiuP+xRuB6F67E\\u002fMzMzMzMzsz97FK5H4Xq0P1K4HoXrUbg\\u002f4XoUrkfhuj8AAAAAAADAP4\\u002fC9Shcj8I\\u002fexSuR+F6xD9mZmZmZmbGPz0K16NwPco\\u002fcT0K16NwzT+kcD0K16PQP4\\u002fC9Shcj9I\\u002fcT0K16Nw1T8AAAAAAADYP+xRuB6F69k\\u002f16NwPQrX2z8UrkfhehTePylcj8L1KOA\\u002fcT0K16Nw4T\\u002fhehSuR+HiP\\u002fYoXI\\u002fC9eQ\\u002fj8L1KFyP5j\\u002fXo3A9CtfnP\\u002fYoXI\\u002fC9eg\\u002f7FG4HoXr6T+4HoXrUbjqP4XrUbgehes\\u002fKVyPwvUo7D\\u002fNzMzMzMzsP6RwPQrXo+w\\u002fAAAAAAAA7D+F61G4HoXrP1yPwvUoXOs\\u002fPQrXo3A96j\\u002f2KFyPwvXoP9ejcD0K1+c\\u002fj8L1KFyP5j\\u002f2KFyPwvXkP1yPwvUoXOM\\u002f7FG4HoXr4T+kcD0K16PgP2ZmZmZmZt4\\u002f16NwPQrX2z89CtejcD3aP6RwPQrXo9g\\u002fFK5H4XoU1j8zMzMzMzPTP0jhehSuR9E\\u002fuB6F61G4zj\\u002fhehSuR+HKP65H4XoUrsc\\u002fH4XrUbgexT+PwvUoXI\\u002fCP+xRuB6F68E\\u002fSOF6FK5HwT9I4XoUrkfBP6RwPQrXo8A\\u002fuB6F61G4vj8pXI\\u002fC9Si8P5qZmZmZmbk\\u002fmpmZmZmZuT+amZmZmZm5P1K4HoXrUbg\\u002fw\\u002fUoXI\\u002fCtT\\u002fD9Shcj8K1P5qZmZmZmbk\\u002fUrgehetRuD\\u002fD9Shcj8K1P8P1KFyPwrU\\u002fw\\u002fUoXI\\u002fCtT97FK5H4Xq0P+xRuB6F67E\\u002fMzMzMzMzsz97FK5H4Xq0P+xRuB6F67E\\u002fKVyPwvUorD+kcD0K16OwP3sUrkfherQ\\u002f7FG4HoXrsT8pXI\\u002fC9SisP6RwPQrXo7A\\u002fexSuR+F6tD+kcD0K16OwPwrXo3A9Cqc\\u002fmpmZmZmZqT+4HoXrUbiuP5qZmZmZmZk\\u002fAAAAAAAAAACamZmZmZmZP5qZmZmZmak\\u002fmpmZmZmZmT97FK5H4XqEP3sUrkfhepQ\\u002fmpmZmZmZmT97FK5H4Xp0P3sUrkfhenS\\u002fexSuR+F6dL97FK5H4Xp0v3sUrkfhepS\\u002fexSuR+F6lL8AAAAAAAAAAHsUrkfheoQ\\u002fAAAAAAAAAAB7FK5H4XqEv3sUrkfheoS\\u002fexSuR+F6hL97FK5H4XqUv3sUrkfhepS\\u002fexSuR+F6lL97FK5H4XqUv7gehetRuJ6\\u002fmpmZmZmZmb+4HoXrUbiOv5qZmZmZmZm\\u002fexSuR+F6pL8K16NwPQqnvwrXo3A9Cqe\\u002fCtejcD0Kp78K16NwPQqnv3sUrkfheqS\\u002f7FG4HoXrob97FK5H4Xqkv5qZmZmZmam\\u002fexSuR+F6pL+4HoXrUbiev+xRuB6F66G\\u002fCtejcD0Kp78pXI\\u002fC9Sisv7gehetRuK6\\u002fuB6F61G4rr+4HoXrUbiuv7gehetRuK6\\u002fuB6F61G4rr+4HoXrUbiuv7gehetRuK6\\u002fmpmZmZmZqb8K16NwPQqnvwrXo3A9Cqe\\u002fmpmZmZmZqb8pXI\\u002fC9Sisv7gehetRuK6\\u002fuB6F61G4rr+4HoXrUbiuv7gehetRuK6\\u002fuB6F61G4rr\\u002fsUbgeheuxv+xRuB6F67G\\u002fpHA9CtejsL+4HoXrUbiuv7gehetRuK6\\u002fuB6F61G4rr+4HoXrUbiuv7gehetRuK6\\u002fpHA9CtejsL\\u002fsUbgeheuxv+xRuB6F67G\\u002fMzMzMzMzs797FK5H4Xq0v+xRuB6F67G\\u002fKVyPwvUorL+4HoXrUbiuv6RwPQrXo7C\\u002fpHA9CtejsL+4HoXrUbiuv7gehetRuK6\\u002fpHA9CtejsL+kcD0K16Owv7gehetRuK6\\u002fexSuR+F6tL+amZmZmZm5v3sUrkfherS\\u002fuB6F61G4rr8zMzMzMzOzvwrXo3A9Cre\\u002fexSuR+F6tL+kcD0K16Owv6RwPQrXo7C\\u002fpHA9CtejsL+kcD0K16Owv+xRuB6F67G\\u002fexSuR+F6tL8zMzMzMzOzv3sUrkfheqS\\u002fuB6F61G4jr97FK5H4XqEv3sUrkfhenS\\u002fAAAAAAAAAAAAAAAAAAAAAAAAAAAAAAAAexSuR+F6dL+4HoXrUbiOv5qZmZmZmZm\\u002fexSuR+F6pL97FK5H4Xqkv5qZmZmZmZm\\u002fuB6F61G4nr8pXI\\u002fC9Sisv+xRuB6F67G\\u002fw\\u002fUoXI\\u002fCtb8K16NwPQq3vwrXo3A9Cre\\u002fUrgehetRuL+amZmZmZm5v+F6FK5H4bq\\u002fKVyPwvUovL\\u002fhehSuR+G6v1K4HoXrUbi\\u002fUrgehetRuL9SuB6F61G4v1K4HoXrUbi\\u002fUrgehetRuL9SuB6F61G4vwrXo3A9Cre\\u002fCtejcD0Kt7\\u002fD9Shcj8K1vzMzMzMzM7O\\u002fKVyPwvUorL97FK5H4XqEP8P1KFyPwrU\\u002fj8L1KFyPwj8K16NwPQrHP3E9CtejcL0\\u002fuB6F61G4nj8AAAAAAADAv6RwPQrXo9C\\u002fuB6F61G41r+amZmZmZnZv2ZmZmZmZta\\u002fPQrXo3A90r\\u002f2KFyPwvXIv4\\u002fC9Shcj8K\\u002fSOF6FK5Hwb+PwvUoXI\\u002fCvx+F61G4HsW\\u002fw\\u002fUoXI\\u002fCxb97FK5H4XrEv0jhehSuR8G\\u002fKVyPwvUovL\\u002fhehSuR+G6vylcj8L1KLy\\u002fUrgehetRuL\\u002fsUbgeheuxv+xRuB6F67G\\u002fw\\u002fUoXI\\u002fCtb97FK5H4Xq0v+xRuB6F67G\\u002f7FG4HoXrsb\\u002fsUbgeheuxv+xRuB6F67G\\u002f7FG4HoXrsb8zMzMzMzOzv8P1KFyPwrW\\u002fpHA9CtejsL8K16NwPQqnvylcj8L1KKy\\u002fpHA9CtejsL+kcD0K16Owv6RwPQrXo7C\\u002fMzMzMzMzs7\\u002fD9Shcj8K1vzMzMzMzM7O\\u002fpHA9CtejsL+kcD0K16Owvylcj8L1KKy\\u002fmpmZmZmZmb97FK5H4XqEv3sUrkfhepS\\u002fexSuR+F6lL97FK5H4XqEv3sUrkfhenS\\u002fexSuR+F6dL8AAAAAAAAAAHsUrkfhenQ\\u002fuB6F61G4jj+4HoXrUbiOP3sUrkfhepQ\\u002f7FG4HoXroT8K16NwPQqnP5qZmZmZmak\\u002fuB6F61G4rj97FK5H4Xq0P8P1KFyPwrU\\u002fCtejcD0Ktz9SuB6F61G4P1K4HoXrUbg\\u002fUrgehetRuD9SuB6F61G4Pylcj8L1KLw\\u002fAAAAAAAAwD+kcD0K16PAP6RwPQrXo8A\\u002fSOF6FK5HwT9I4XoUrkfBP0jhehSuR8E\\u002fSOF6FK5HwT+4HoXrUbi+P+F6FK5H4bo\\u002fmpmZmZmZuT8K16NwPQq3P8P1KFyPwrU\\u002fexSuR+F6tD+kcD0K16OwP5qZmZmZmak\\u002f7FG4HoXroT+amZmZmZmZP3sUrkfhenQ\\u002fexSuR+F6dL97FK5H4XqUv7gehetRuJ6\\u002fCtejcD0Kp7+amZmZmZmpv5qZmZmZmam\\u002fmpmZmZmZqb+4HoXrUbiuv6RwPQrXo7C\\u002f7FG4HoXrsb8zMzMzMzOzvzMzMzMzM7O\\u002f7FG4HoXrsb\\u002fsUbgeheuxvzMzMzMzM7O\\u002fw\\u002fUoXI\\u002fCtb8zMzMzMzOzvylcj8L1KKy\\u002fKVyPwvUorL+kcD0K16Owv5qZmZmZmam\\u002fuB6F61G4nr97FK5H4Xqkv5qZmZmZmam\\u002f7FG4HoXrob+4HoXrUbiOv7gehetRuJ6\\u002fmpmZmZmZqb97FK5H4XqUv7gehetRuI4\\u002fAAAAAAAAAAAAAAAAAAAAAHsUrkfheoQ\\u002fexSuR+F6lD97FK5H4Xp0PwAAAAAAAAAAexSuR+F6dD97FK5H4XqEP3sUrkfhenQ\\u002fexSuR+F6dD+amZmZmZmZP3sUrkfheqQ\\u002fmpmZmZmZmT+4HoXrUbiOP7gehetRuI4\\u002fuB6F61G4jj8AAAAAAAAAAHsUrkfhenS\\u002fexSuR+F6dL97FK5H4XqEv5qZmZmZmZm\\u002fmpmZmZmZmb97FK5H4XqEv3sUrkfhenS\\u002fuB6F61G4jr+4HoXrUbievwrXo3A9Cqe\\u002fmpmZmZmZqb8K16NwPQqnv7gehetRuJ6\\u002fexSuR+F6hL8AAAAAAAAAAHsUrkfhenQ\\u002fuB6F61G4jj97FK5H4XqUP3sUrkfhepQ\\u002fuB6F61G4jj8AAAAAAAAAAHsUrkfhepS\\u002fmpmZmZmZmb+amZmZmZmZv+xRuB6F66G\\u002fCtejcD0Kp7+4HoXrUbiuvzMzMzMzM7O\\u002fexSuR+F6tL8K16NwPQq3vwrXo3A9Cre\\u002fUrgehetRuL9SuB6F61G4v1K4HoXrUbi\\u002f4XoUrkfhur9xPQrXo3C9v3E9CtejcL2\\u002fcT0K16Nwvb9xPQrXo3C9v7gehetRuL6\\u002fuB6F61G4vr+4HoXrUbi+v7gehetRuL6\\u002fcT0K16Nwvb8pXI\\u002fC9Si8vylcj8L1KLy\\u002fcT0K16Nwvb9xPQrXo3C9v3E9CtejcL2\\u002fexSuR+F6tL+amZmZmZmZvwrXo3A9Cqc\\u002fpHA9CtejwD9I4XoUrkfBP1K4HoXrUbg\\u002fmpmZmZmZmb+uR+F6FK7Hv4XrUbgehdO\\u002fPQrXo3A92r9I4XoUrkfZv7gehetRuNa\\u002fmpmZmZmZ0b\\u002f2KFyPwvXIv3sUrkfhesS\\u002fpHA9CtejwL8zMzMzMzPDv2ZmZmZmZsa\\u002fexSuR+F6xL\\u002fsUbgehevBv6RwPQrXo8C\\u002fcT0K16Nwvb\\u002fhehSuR+G6v5qZmZmZmbm\\u002fmpmZmZmZub9SuB6F61G4v3sUrkfherS\\u002fpHA9CtejsL+4HoXrUbiuv7gehetRuK6\\u002fpHA9CtejsL\\u002fsUbgeheuxv3sUrkfherS\\u002fMzMzMzMzs7+4HoXrUbiuvylcj8L1KKy\\u002fpHA9CtejsL+kcD0K16Owv5qZmZmZmam\\u002fCtejcD0Kp78pXI\\u002fC9Sisv5qZmZmZmam\\u002f7FG4HoXrob\\u002fsUbgeheuhv5qZmZmZmam\\u002f7FG4HoXrob+4HoXrUbiOv3sUrkfhepS\\u002fCtejcD0Kp7+4HoXrUbiOv3sUrkfhepQ\\u002fuB6F61G4jj8AAAAAAAAAAHsUrkfhepQ\\u002fmpmZmZmZqT+amZmZmZmpPwrXo3A9Cqc\\u002fpHA9CtejsD9SuB6F61G4PwrXo3A9Crc\\u002fCtejcD0Ktz8AAAAAAADAP3sUrkfhesQ\\u002fH4XrUbgexT9mZmZmZmbGP65H4XoUrsc\\u002fmpmZmZmZyT+F61G4HoXLP83MzMzMzMw\\u002fcT0K16NwzT9xPQrXo3DNP3E9CtejcM0\\u002fFK5H4XoUzj8AAAAAAADQP1K4HoXrUdA\\u002fXI\\u002fC9Shczz9xPQrXo3DNP4XrUbgehcs\\u002f9ihcj8L1yD97FK5H4XrEP0jhehSuR8E\\u002fcT0K16NwvT9SuB6F61G4PzMzMzMzM7M\\u002fpHA9CtejsD8pXI\\u002fC9SisP3sUrkfheqQ\\u002fexSuR+F6lD97FK5H4Xp0PwAAAAAAAAAAexSuR+F6dL97FK5H4XqUv5qZmZmZmZm\\u002fmpmZmZmZmb\\u002fsUbgeheuhvwrXo3A9Cqe\\u002fexSuR+F6pL+4HoXrUbiev7gehetRuJ6\\u002fuB6F61G4nr+4HoXrUbiev7gehetRuJ6\\u002f7FG4HoXrob8K16NwPQqnvwrXo3A9Cqe\\u002fCtejcD0Kp78K16NwPQqnv3sUrkfheqS\\u002fmpmZmZmZmb+4HoXrUbiOv3sUrkfhepS\\u002fexSuR+F6lL97FK5H4XqEvwAAAAAAAAAAAAAAAAAAAAAAAAAAAAAAAHsUrkfhenS\\u002fexSuR+F6dL97FK5H4Xp0vwAAAAAAAAAAAAAAAAAAAAB7FK5H4Xp0P3sUrkfhenQ\\u002fexSuR+F6dD97FK5H4Xp0PwAAAAAAAAAAAAAAAAAAAAAAAAAAAAAAAAAAAAAAAAAAAAAAAAAAAAAAAAAAAAAAAHsUrkfhenS\\u002fexSuR+F6hL97FK5H4XqEv3sUrkfheoS\\u002fuB6F61G4jr97FK5H4XqUv7gehetRuI6\\u002fexSuR+F6dL97FK5H4Xp0v3sUrkfheoS\\u002fuB6F61G4jr97FK5H4XqUv5qZmZmZmZm\\u002fuB6F61G4nr97FK5H4Xp0v3sUrkfhepQ\\u002f7FG4HoXroT8pXI\\u002fC9SisPylcj8L1KKw\\u002fmpmZmZmZqT\\u002fsUbgeheuhP5qZmZmZmZk\\u002fmpmZmZmZmT97FK5H4XqUP7gehetRuI4\\u002fexSuR+F6hD8AAAAAAAAAAHsUrkfheoS\\u002fexSuR+F6pL8zMzMzMzOzvylcj8L1KLy\\u002fj8L1KFyPwr9mZmZmZmbGv8P1KFyPwsW\\u002fAAAAAAAAwL\\u002fhehSuR+G6v5qZmZmZmbm\\u002fCtejcD0Kt78zMzMzMzOzv6RwPQrXo7C\\u002fuB6F61G4rr\\u002fD9Shcj8K1v7gehetRuL6\\u002fKVyPwvUovL8K16NwPQq3v1K4HoXrUbi\\u002fmpmZmZmZub\\u002fD9Shcj8K1v6RwPQrXo7C\\u002fuB6F61G4rr8pXI\\u002fC9Sisv3sUrkfheoS\\u002fuB6F61G4nj9SuB6F61G4P3sUrkfhesQ\\u002fH4XrUbgexT\\u002fXo3A9CtfDPwAAAAAAAAAA7FG4HoXrwb+4HoXrUbjOv3sUrkfhetS\\u002fzczMzMzM1L\\u002fXo3A9CtfTvz0K16NwPcq\\u002fAAAAAAAAwL9SuB6F61G4v3sUrkfherS\\u002fUrgehetRuL\\u002fhehSuR+G6v5qZmZmZmbm\\u002fCtejcD0Kt78zMzMzMzOzv+xRuB6F67G\\u002f7FG4HoXrsb+4HoXrUbiuv5qZmZmZmam\\u002fexSuR+F6pL+4HoXrUbiev7gehetRuJ6\\u002fuB6F61G4nr+4HoXrUbiev7gehetRuJ6\\u002fuB6F61G4nr+amZmZmZmZv3sUrkfheqS\\u002fpHA9CtejsL+kcD0K16Owv7gehetRuK6\\u002fexSuR+F6tL\\u002fhehSuR+G6v+xRuB6F68G\\u002fCtejcD0Kx797FK5H4XrEv+xRuB6F68G\\u002fKVyPwvUovL97FK5H4Xq0v6RwPQrXo7C\\u002fmpmZmZmZqb97FK5H4XqUvwAAAAAAAAAAexSuR+F6dD97FK5H4XqEP3sUrkfhenQ\\u002fAAAAAAAAAAB7FK5H4Xp0P3sUrkfheoQ\\u002fAAAAAAAAAACamZmZmZmZPzMzMzMzM8M\\u002fhetRuB6Fyz+uR+F6FK7HPx+F61G4HsU\\u002fexSuR+F6xD\\u002fXo3A9CtfDP9ejcD0K18M\\u002f16NwPQrXwz\\u002fXo3A9CtfDP8P1KFyPwsU\\u002fUrgehetRyD89CtejcD3KP4XrUbgehcs\\u002fmpmZmZmZyT9mZmZmZmbGP2ZmZmZmZsY\\u002fUrgehetRyD+F61G4HoXLPwAAAAAAANA\\u002fuB6F61G4zj+F61G4HoXLPz0K16NwPco\\u002fmpmZmZmZyT9mZmZmZmbGP4\\u002fC9Shcj8I\\u002fSOF6FK5HwT+kcD0K16PAP5qZmZmZmbk\\u002f7FG4HoXrsT+amZmZmZmpP7gehetRuJ4\\u002fmpmZmZmZmT+amZmZmZmZP5qZmZmZmZk\\u002fuB6F61G4nj\\u002fsUbgeheuhP+xRuB6F66E\\u002fexSuR+F6hD97FK5H4XqEv3sUrkfheoS\\u002fuB6F61G4jr+amZmZmZmZv+xRuB6F66G\\u002fCtejcD0Kp78K16NwPQqnv7gehetRuJ6\\u002fmpmZmZmZmb+amZmZmZmZv7gehetRuJ6\\u002fCtejcD0Kp797FK5H4Xqkv3sUrkfhepS\\u002fuB6F61G4jr+4HoXrUbiOv7gehetRuI6\\u002fuB6F61G4jr97FK5H4XqEv3sUrkfhenS\\u002fAAAAAAAAAAB7FK5H4XqEP7gehetRuI4\\u002fuB6F61G4jj97FK5H4XqEP3sUrkfheoQ\\u002fexSuR+F6hD97FK5H4XqEP5qZmZmZmZk\\u002fexSuR+F6pD\\u002fsUbgeheuhP5qZmZmZmZk\\u002fexSuR+F6dL+4HoXrUbiev3sUrkfheoS\\u002fexSuR+F6hD97FK5H4XqEP3sUrkfhenQ\\u002fAAAAAAAAAAB7FK5H4Xp0v3sUrkfhenS\\u002fexSuR+F6dL97FK5H4Xp0vwAAAAAAAAAAAAAAAAAAAAAAAAAAAAAAAHsUrkfheoQ\\u002fexSuR+F6lD\\u002fsUbgeheuhP6RwPQrXo7A\\u002f4XoUrkfhuj8pXI\\u002fC9Si8P+xRuB6F67E\\u002fexSuR+F6pD97FK5H4XqUP5qZmZmZmZk\\u002fCtejcD0Kpz8pXI\\u002fC9SisP6RwPQrXo7A\\u002f7FG4HoXroT97FK5H4Xp0v7gehetRuI6\\u002fuB6F61G4jr8AAAAAAAAAAHsUrkfheoQ\\u002fuB6F61G4jj+4HoXrUbiOP3sUrkfheoS\\u002fCtejcD0Kp78pXI\\u002fC9Sisv7gehetRuK6\\u002fmpmZmZmZqb\\u002fsUbgeheuhv5qZmZmZmZm\\u002fexSuR+F6lL+amZmZmZmZv5qZmZmZmZm\\u002fmpmZmZmZmb97FK5H4XqUv3sUrkfhenS\\u002fAAAAAAAAAACamZmZmZmZv3sUrkfheqS\\u002fuB6F61G4nr97FK5H4Xp0v7gehetRuK4\\u002f7FG4HoXrwT+4HoXrUbjOP+xRuB6F69E\\u002f4XoUrkfhyj9xPQrXo3C9P7gehetRuI6\\u002fpHA9CtejwL\\u002fhehSuR+HKv3E9CtejcM2\\u002fUrgehetRyL8AAAAAAADAv3sUrkfheqS\\u002fexSuR+F6dL97FK5H4Xp0v5qZmZmZmZm\\u002fuB6F61G4rr+kcD0K16Owvylcj8L1KKy\\u002fexSuR+F6pL+amZmZmZmZv5qZmZmZmZm\\u002fmpmZmZmZmb+amZmZmZmZv5qZmZmZmZm\\u002fmpmZmZmZmb+amZmZmZmZv3sUrkfhepS\\u002fexSuR+F6lL+amZmZmZmZv7gehetRuJ6\\u002fexSuR+F6lL97FK5H4Xp0v3sUrkfhenS\\u002fAAAAAAAAAAAAAAAAAAAAAAAAAAAAAAAAexSuR+F6dL97FK5H4XqEv3sUrkfheoS\\u002fexSuR+F6hL97FK5H4XqEv3sUrkfheoS\\u002fexSuR+F6dL8AAAAAAAAAAHsUrkfhenQ\\u002fexSuR+F6hD97FK5H4XqEP7gehetRuI4\\u002fmpmZmZmZmT+amZmZmZmZP7gehetRuI4\\u002fmpmZmZmZmT8K16NwPQqnP5qZmZmZmak\\u002fmpmZmZmZqT+4HoXrUbiuP8P1KFyPwrU\\u002fUrgehetRuD+amZmZmZm5P3E9CtejcL0\\u002fSOF6FK5HwT9I4XoUrkfBP0jhehSuR8E\\u002f16NwPQrXwz+uR+F6FK7HP\\u002fYoXI\\u002fC9cg\\u002fPQrXo3A9yj\\u002fhehSuR+HKP+F6FK5H4co\\u002fKVyPwvUozD8UrkfhehTOP4XrUbgehcs\\u002fmpmZmZmZyT89CtejcD3KP+F6FK5H4co\\u002f9ihcj8L1yD8K16NwPQrHP2ZmZmZmZsY\\u002fexSuR+F6xD9I4XoUrkfBPylcj8L1KLw\\u002fmpmZmZmZuT\\u002fD9Shcj8K1P7gehetRuK4\\u002fCtejcD0Kpz+amZmZmZmpPwrXo3A9Cqc\\u002fuB6F61G4nj+4HoXrUbiOP3sUrkfhenQ\\u002fAAAAAAAAAAAAAAAAAAAAAAAAAAAAAAAAAAAAAAAAAAAAAAAAAAAAAAAAAAAAAAAAAAAAAAAAAAB7FK5H4Xp0P3sUrkfhenQ\\u002fexSuR+F6dD8AAAAAAAAAAHsUrkfhenS\\u002fexSuR+F6hL+4HoXrUbiOv3sUrkfheoS\\u002fexSuR+F6dL8AAAAAAAAAAAAAAAAAAAAAexSuR+F6dD97FK5H4XqEP3sUrkfheoQ\\u002fexSuR+F6dD97FK5H4Xp0PwAAAAAAAAAAAAAAAAAAAAB7FK5H4Xp0v3sUrkfhenQ\\u002fuB6F61G4jj+4HoXrUbiOP7gehetRuI4\\u002fuB6F61G4jj+4HoXrUbiOP7gehetRuI4\\u002fexSuR+F6hD97FK5H4XqEP3sUrkfheoQ\\u002fuB6F61G4jj+4HoXrUbiOP3sUrkfhenQ\\u002fexSuR+F6dD+4HoXrUbiOP7gehetRuI4\\u002fAAAAAAAAAAAAAAAAAAAAAHsUrkfheoQ\\u002fAAAAAAAAAADsUbgeheuhv7gehetRuJ6\\u002fexSuR+F6hD97FK5H4XqUP3sUrkfhepQ\\u002fexSuR+F6pD97FK5H4Xq0P3sUrkfherQ\\u002fMzMzMzMzsz8zMzMzMzOzPzMzMzMzM7M\\u002fKVyPwvUorD\\u002fsUbgeheuhP3sUrkfheqQ\\u002fCtejcD0Kpz\\u002fsUbgeheuhP5qZmZmZmZk\\u002fexSuR+F6hD8AAAAAAAAAAHsUrkfheoS\\u002fmpmZmZmZmb\\u002fsUbgeheuhv3sUrkfheqS\\u002f7FG4HoXrob\\u002fsUbgeheuhv3sUrkfheqS\\u002fexSuR+F6pL\\u002fsUbgeheuhv7gehetRuJ6\\u002fCtejcD0Kp78pXI\\u002fC9Sisvylcj8L1KKy\\u002fKVyPwvUorL8pXI\\u002fC9Sisv5qZmZmZmam\\u002f7FG4HoXrob+4HoXrUbiev7gehetRuJ6\\u002fuB6F61G4nr+4HoXrUbiev7gehetRuI6\\u002fexSuR+F6hD97FK5H4Xq0P65H4XoUrsc\\u002fuB6F61G4zj9I4XoUrkfRPz0K16NwPco\\u002fmpmZmZmZuT+4HoXrUbiOv4\\u002fC9Shcj8K\\u002f9ihcj8L1yL8pXI\\u002fC9SjMvx+F61G4HsW\\u002fUrgehetRuL8K16NwPQqnvwAAAAAAAAAAexSuR+F6hL+amZmZmZmZvwrXo3A9Cqe\\u002fpHA9CtejsL8pXI\\u002fC9SisvwrXo3A9Cqe\\u002f7FG4HoXrob+4HoXrUbiev7gehetRuJ6\\u002fmpmZmZmZmb+amZmZmZmZv3sUrkfhepS\\u002fuB6F61G4jr97FK5H4XqEv3sUrkfheoS\\u002fexSuR+F6hL97FK5H4XqEv7gehetRuI6\\u002fuB6F61G4jr+4HoXrUbiOv5qZmZmZmZm\\u002fmpmZmZmZmb97FK5H4XqEv3sUrkfhenS\\u002fexSuR+F6dL97FK5H4Xp0vwAAAAAAAAAAAAAAAAAAAAB7FK5H4XqEv3sUrkfheoS\\u002fAAAAAAAAAAAAAAAAAAAAAAAAAAAAAAAAexSuR+F6hD+amZmZmZmZP5qZmZmZmZk\\u002fexSuR+F6lD+4HoXrUbiePwrXo3A9Cqc\\u002fmpmZmZmZqT+amZmZmZmpP7gehetRuK4\\u002f7FG4HoXrsT9SuB6F61G4P3E9CtejcL0\\u002fAAAAAAAAwD9I4XoUrkfBP4\\u002fC9Shcj8I\\u002f16NwPQrXwz\\u002fXo3A9CtfDP3sUrkfhesQ\\u002fCtejcD0Kxz9SuB6F61HIP1K4HoXrUcg\\u002f9ihcj8L1yD9xPQrXo3DNPwAAAAAAANA\\u002fcT0K16NwzT8pXI\\u002fC9SjMP3E9CtejcM0\\u002fzczMzMzMzD\\u002fhehSuR+HKP1K4HoXrUcg\\u002fCtejcD0Kxz97FK5H4XrEP6RwPQrXo8A\\u002fKVyPwvUovD\\u002fhehSuR+G6PwrXo3A9Crc\\u002fpHA9CtejsD8pXI\\u002fC9SisP5qZmZmZmak\\u002fexSuR+F6pD97FK5H4XqUP7gehetRuI4\\u002fexSuR+F6hD97FK5H4Xp0P3sUrkfhenQ\\u002fexSuR+F6dD97FK5H4Xp0P3sUrkfhenQ\\u002fexSuR+F6dD8AAAAAAAAAAAAAAAAAAAAAexSuR+F6dL97FK5H4Xp0v3sUrkfheoS\\u002fexSuR+F6hL97FK5H4Xp0vwAAAAAAAAAAAAAAAAAAAAAAAAAAAAAAAAAAAAAAAAAAAAAAAAAAAAB7FK5H4Xp0v3sUrkfheoS\\u002fuB6F61G4jr+4HoXrUbiOv3sUrkfhenS\\u002fAAAAAAAAAAB7FK5H4Xp0P3sUrkfheoQ\\u002fexSuR+F6hD97FK5H4XqEP3sUrkfheoQ\\u002fexSuR+F6hD97FK5H4XqEP3sUrkfhenQ\\u002fexSuR+F6dD97FK5H4Xp0P3sUrkfheoQ\\u002fuB6F61G4jj+4HoXrUbiOP7gehetRuI4\\u002fexSuR+F6dD8AAAAAAAAAAAAAAAAAAAAAAAAAAAAAAAB7FK5H4Xp0v3sUrkfhenS\\u002fAAAAAAAAAAB7FK5H4Xp0v7gehetRuI6\\u002fuB6F61G4jr97FK5H4XqEvwAAAAAAAAAAuB6F61G4jj\\u002fsUbgeheuhPylcj8L1KKw\\u002fmpmZmZmZqT+amZmZmZmpPylcj8L1KKw\\u002fuB6F61G4rj\\u002fsUbgeheuhP7gehetRuI4\\u002fexSuR+F6hD97FK5H4Xp0P3sUrkfhenS\\u002fuB6F61G4jr97FK5H4XqUv7gehetRuJ6\\u002fKVyPwvUorL+kcD0K16Owv3sUrkfheqS\\u002f7FG4HoXrob+amZmZmZmpvylcj8L1KKy\\u002fCtejcD0Kp7+amZmZmZmpv7gehetRuK6\\u002fuB6F61G4rr+amZmZmZmpv7gehetRuK6\\u002fMzMzMzMzs7\\u002fsUbgeheuxvylcj8L1KKy\\u002fKVyPwvUorL\\u002fsUbgeheuxv6RwPQrXo7C\\u002fKVyPwvUorL8pXI\\u002fC9Sisvylcj8L1KKy\\u002f7FG4HoXrob97FK5H4XqEv7gehetRuK4\\u002fMzMzMzMzwz8pXI\\u002fC9SjMP4\\u002fC9Shcj9I\\u002fmpmZmZmZyT\\u002fhehSuR+G6P7gehetRuJ6\\u002fw\\u002fUoXI\\u002fCxb+F61G4HoXLvwAAAAAAANC\\u002fCtejcD0Kx78pXI\\u002fC9Si8vwrXo3A9Cqe\\u002fAAAAAAAAAACamZmZmZmZvylcj8L1KKy\\u002fexSuR+F6tL9SuB6F61G4vwrXo3A9Cre\\u002fexSuR+F6tL+kcD0K16Owvylcj8L1KKy\\u002fmpmZmZmZqb8K16NwPQqnv+xRuB6F66G\\u002fuB6F61G4nr+4HoXrUbiev7gehetRuJ6\\u002fuB6F61G4nr+4HoXrUbiev3sUrkfheqS\\u002fexSuR+F6pL\\u002fsUbgeheuhv+xRuB6F66G\\u002f7FG4HoXrob+amZmZmZmZv7gehetRuI6\\u002fuB6F61G4jr+4HoXrUbiOv7gehetRuI6\\u002fexSuR+F6hL97FK5H4XqEv7gehetRuI6\\u002fuB6F61G4jr97FK5H4XqEvwAAAAAAAAAAAAAAAAAAAAB7FK5H4Xp0P7gehetRuI4\\u002fuB6F61G4jj+4HoXrUbiOP5qZmZmZmZk\\u002f7FG4HoXroT97FK5H4XqkP5qZmZmZmak\\u002fuB6F61G4rj8zMzMzMzOzP8P1KFyPwrU\\u002fUrgehetRuD9xPQrXo3C9P6RwPQrXo8A\\u002fSOF6FK5HwT+PwvUoXI\\u002fCP8P1KFyPwsU\\u002fCtejcD0Kxz8K16NwPQrHP1K4HoXrUcg\\u002f4XoUrkfhyj\\u002fNzMzMzMzMP83MzMzMzMw\\u002fcT0K16NwzT9xPQrXo3DNP3E9CtejcM0\\u002fzczMzMzMzD+F61G4HoXLP5qZmZmZmck\\u002fCtejcD0Kxz\\u002fXo3A9CtfDP+xRuB6F68E\\u002fSOF6FK5HwT9xPQrXo3C9P8P1KFyPwrU\\u002fpHA9CtejsD8K16NwPQqnP5qZmZmZmZk\\u002fexSuR+F6hD97FK5H4Xp0v3sUrkfhepS\\u002fexSuR+F6lL97FK5H4XqUv7gehetRuJ6\\u002fCtejcD0Kp78K16NwPQqnvwrXo3A9Cqe\\u002fmpmZmZmZqb+amZmZmZmpvwrXo3A9Cqe\\u002fCtejcD0Kp78pXI\\u002fC9Sisv7gehetRuK6\\u002fmpmZmZmZqb8K16NwPQqnv5qZmZmZmam\\u002fmpmZmZmZqb+amZmZmZmpv5qZmZmZmam\\u002fmpmZmZmZqb+amZmZmZmpv5qZmZmZmam\\u002fmpmZmZmZqb+4HoXrUbiuvylcj8L1KKy\\u002fexSuR+F6pL97FK5H4Xqkvylcj8L1KKy\\u002fKVyPwvUorL+amZmZmZmpv5qZmZmZmam\\u002fKVyPwvUorL+4HoXrUbiuv7gehetRuK6\\u002fmpmZmZmZqb\\u002fsUbgeheuhv+xRuB6F66G\\u002f7FG4HoXrob8K16NwPQqnvylcj8L1KKy\\u002fmpmZmZmZqb8K16NwPQqnv5qZmZmZmam\\u002fKVyPwvUorL+amZmZmZmpvwrXo3A9Cqe\\u002fCtejcD0Kp7+amZmZmZmpv5qZmZmZmam\\u002fmpmZmZmZqb8pXI\\u002fC9Sisv7gehetRuK6\\u002fKVyPwvUorL8K16NwPQqnvwrXo3A9Cqe\\u002f7FG4HoXrob8AAAAAAAAAALgehetRuI4\\u002fexSuR+F6dD97FK5H4Xp0P3sUrkfheoQ\\u002fexSuR+F6dD97FK5H4XqEv3sUrkfhepS\\u002fuB6F61G4jr97FK5H4XqUv3sUrkfheqS\\u002fCtejcD0Kp7\\u002fsUbgeheuhv5qZmZmZmam\\u002fMzMzMzMzs7\\u002fD9Shcj8K1v8P1KFyPwrW\\u002fw\\u002fUoXI\\u002fCtb\\u002fD9Shcj8K1vwrXo3A9Cre\\u002fCtejcD0Kt78K16NwPQq3vwrXo3A9Cre\\u002fCtejcD0Kt78K16NwPQq3v3sUrkfherS\\u002fMzMzMzMzs7\\u002fD9Shcj8K1v1K4HoXrUbi\\u002fCtejcD0Kt7\\u002fD9Shcj8K1v1K4HoXrUbi\\u002f4XoUrkfhur97FK5H4Xq0v5qZmZmZmam\\u002f7FG4HoXrob97FK5H4Xp0v+xRuB6F67E\\u002f7FG4HoXrwT9SuB6F61HIPz0K16NwPco\\u002fAAAAAAAAwD+4HoXrUbiePwrXo3A9Cre\\u002frkfhehSux78pXI\\u002fC9SjMvxSuR+F6FM6\\u002fPQrXo3A9yr\\u002fXo3A9CtfDv+xRuB6F67G\\u002f7FG4HoXrob8K16NwPQqnv+xRuB6F67G\\u002fmpmZmZmZub8pXI\\u002fC9Si8v5qZmZmZmbm\\u002fw\\u002fUoXI\\u002fCtb+kcD0K16Owv7gehetRuK6\\u002fuB6F61G4rr+4HoXrUbiuv7gehetRuK6\\u002fuB6F61G4rr+kcD0K16Owv6RwPQrXo7C\\u002fuB6F61G4rr+4HoXrUbiuv7gehetRuK6\\u002fKVyPwvUorL8pXI\\u002fC9Sisvylcj8L1KKy\\u002fuB6F61G4rr8pXI\\u002fC9Sisvylcj8L1KKy\\u002fuB6F61G4rr+kcD0K16Owv7gehetRuK6\\u002fmpmZmZmZqb8K16NwPQqnvwrXo3A9Cqe\\u002fCtejcD0Kp78K16NwPQqnvwrXo3A9Cqe\\u002fexSuR+F6pL+4HoXrUbiev3sUrkfhepS\\u002fexSuR+F6lL+4HoXrUbiOv3sUrkfheoS\\u002fexSuR+F6dL8AAAAAAAAAAHsUrkfhenQ\\u002fexSuR+F6dD97FK5H4XqEP3sUrkfhepQ\\u002fexSuR+F6lD+4HoXrUbiOP+xRuB6F66E\\u002f7FG4HoXrsT8zMzMzMzOzP+xRuB6F67E\\u002fw\\u002fUoXI\\u002fCtT\\u002fhehSuR+G6P+F6FK5H4bo\\u002fUrgehetRuD9xPQrXo3C9P+xRuB6F68E\\u002f7FG4HoXrwT\\u002fsUbgehevBP4\\u002fC9Shcj8I\\u002fMzMzMzMzwz8zMzMzMzPDP4\\u002fC9Shcj8I\\u002fSOF6FK5HwT8AAAAAAADAPylcj8L1KLw\\u002fCtejcD0Ktz\\u002fsUbgeheuxPylcj8L1KKw\\u002fKVyPwvUorD+amZmZmZmpP7gehetRuJ4\\u002fuB6F61G4jj97FK5H4XqEP3sUrkfhenQ\\u002fAAAAAAAAAAB7FK5H4XqEv7gehetRuI6\\u002fexSuR+F6lL97FK5H4XqUv3sUrkfhepS\\u002fexSuR+F6lL97FK5H4XqUv7gehetRuJ6\\u002fuB6F61G4nr+4HoXrUbiev+xRuB6F66G\\u002fCtejcD0Kp797FK5H4Xqkv7gehetRuJ6\\u002fmpmZmZmZmb97FK5H4XqUv3sUrkfhepS\\u002fexSuR+F6lL97FK5H4XqUv5qZmZmZmZm\\u002fmpmZmZmZmb97FK5H4XqUv5qZmZmZmZm\\u002fuB6F61G4nr97FK5H4XqUv3sUrkfheoS\\u002fexSuR+F6hL97FK5H4XqEv3sUrkfheoS\\u002fexSuR+F6hL97FK5H4Xp0v3sUrkfhenS\\u002fexSuR+F6dL97FK5H4Xp0vwAAAAAAAAAAexSuR+F6hD97FK5H4XqEP3sUrkfheoQ\\u002fexSuR+F6hD97FK5H4Xp0P3sUrkfhenS\\u002fexSuR+F6hL97FK5H4XqEv3sUrkfheoS\\u002fuB6F61G4jr+4HoXrUbiOv3sUrkfhenS\\u002fexSuR+F6dL+amZmZmZmZv5qZmZmZmZm\\u002fexSuR+F6hL97FK5H4Xp0P+xRuB6F66E\\u002fexSuR+F6pD+amZmZmZmZP3sUrkfhepQ\\u002fmpmZmZmZmT+4HoXrUbieP7gehetRuJ4\\u002fexSuR+F6lD97FK5H4Xp0PwAAAAAAAAAAuB6F61G4jr97FK5H4XqUv5qZmZmZmZm\\u002fCtejcD0Kp7+4HoXrUbiuv7gehetRuK6\\u002fuB6F61G4rr+4HoXrUbiuv6RwPQrXo7C\\u002f7FG4HoXrsb8zMzMzMzOzv3sUrkfherS\\u002fw\\u002fUoXI\\u002fCtb8K16NwPQq3vwrXo3A9Cre\\u002fexSuR+F6tL8zMzMzMzOzv3sUrkfherS\\u002fexSuR+F6tL8zMzMzMzOzvzMzMzMzM7O\\u002fw\\u002fUoXI\\u002fCtb9SuB6F61G4v1K4HoXrUbi\\u002fw\\u002fUoXI\\u002fCtb\\u002fsUbgeheuxvwrXo3A9Cqe\\u002fuB6F61G4jr+4HoXrUbieP5qZmZmZmbk\\u002f16NwPQrXwz\\u002f2KFyPwvXIPx+F61G4HsU\\u002fMzMzMzMzsz97FK5H4XqEv+F6FK5H4bq\\u002fCtejcD0Kx79cj8L1KFzPvylcj8L1KMy\\u002f16NwPQrXw78K16NwPQq3v3sUrkfhepS\\u002fuB6F61G4nr+4HoXrUbiuv1K4HoXrUbi\\u002fpHA9CtejwL8pXI\\u002fC9Si8vwrXo3A9Cre\\u002fexSuR+F6tL8zMzMzMzOzv6RwPQrXo7C\\u002fuB6F61G4rr8K16NwPQqnv+xRuB6F66G\\u002fuB6F61G4rr97FK5H4Xq0v7gehetRuK6\\u002fCtejcD0Kp7+4HoXrUbiuv+xRuB6F67G\\u002fKVyPwvUorL+amZmZmZmpv6RwPQrXo7C\\u002f7FG4HoXrsb+kcD0K16Owv7gehetRuK6\\u002fuB6F61G4rr8pXI\\u002fC9SisvwrXo3A9Cqe\\u002fCtejcD0Kp78K16NwPQqnvwrXo3A9Cqe\\u002fmpmZmZmZqb+amZmZmZmpvwrXo3A9Cqe\\u002fCtejcD0Kp78K16NwPQqnv+xRuB6F66G\\u002fexSuR+F6hL97FK5H4XqEv3sUrkfhepS\\u002fexSuR+F6hL8AAAAAAAAAAHsUrkfheoQ\\u002fuB6F61G4jj97FK5H4XqUP3sUrkfhepQ\\u002fuB6F61G4nj97FK5H4XqkP5qZmZmZmak\\u002fuB6F61G4rj+kcD0K16OwPzMzMzMzM7M\\u002fexSuR+F6tD8K16NwPQq3P1K4HoXrUbg\\u002f4XoUrkfhuj9xPQrXo3C9P6RwPQrXo8A\\u002f7FG4HoXrwT8zMzMzMzPDP4\\u002fC9Shcj8I\\u002f7FG4HoXrwT\\u002fsUbgehevBP0jhehSuR8E\\u002fuB6F61G4vj8pXI\\u002fC9Si8P5qZmZmZmbk\\u002fUrgehetRuD97FK5H4Xq0P+xRuB6F67E\\u002fpHA9CtejsD+amZmZmZmpP5qZmZmZmZk\\u002fexSuR+F6hD97FK5H4XqEPwAAAAAAAAAAmpmZmZmZmb97FK5H4XqUv3sUrkfhenS\\u002fexSuR+F6hL+amZmZmZmZv7gehetRuJ6\\u002fmpmZmZmZmb+4HoXrUbievwrXo3A9Cqe\\u002fmpmZmZmZqb+amZmZmZmpvylcj8L1KKy\\u002fKVyPwvUorL8K16NwPQqnv7gehetRuJ6\\u002f\"},\"type\":\"scatter\",\"xaxis\":\"x2\",\"yaxis\":\"y2\"},{\"line\":{\"color\":\"#636EFA\",\"width\":3},\"name\":\"Match at 1215\",\"x\":{\"dtype\":\"i2\",\"bdata\":\"vwTABMEEwgTDBMQExQTGBMcEyATJBMoEywTMBM0EzgTPBNAE0QTSBNME1ATVBNYE1wTYBNkE2gTbBNwE3QTeBN8E4AThBOIE4wTkBOUE5gTnBOgE6QTqBOsE7ATtBO4E7wTwBPEE8gTzBPQE9QT2BPcE+AT5BPoE+wT8BP0E\\u002fgT\\u002fBAAFAQUCBQMFBAUFBQYFBwUIBQkFCgULBQwFDQUOBQ8FEAURBRIFEwUUBRUFFgUXBRgFGQUaBRsFHAUdBR4FHwUgBSEFIgUjBSQFJQUmBScFKAUpBSoFKwUsBS0FLgUvBTAFMQUyBTMFNAU1BTYFNwU4BTkFOgU7BTwFPQU+BT8FQAVBBUIFQwVEBUUFRgVHBUgFSQVKBUsFTAVNBU4FTwVQBVEFUgVTBVQFVQVWBVcFWAVZBVoFWwVcBV0FXgVfBWAFYQViBWMFZAVlBWYFZwVoBWkFagVrBWwFbQVuBW8FcAVxBXIFcwV0BXUFdgV3BXgFeQV6BXsFfAV9BX4FfwWABYEFggWDBYQFhQWGBYcFiAWJBYoFiwWMBY0FjgWPBZAFkQWSBZMFlAWVBZYFlwWYBZkFmgWbBZwFnQWeBZ8FoAWhBaIFowWkBaUFpgWnBagFqQWqBasFrAWtBa4FrwWwBbEFsgWzBbQFtQW2BbcFuAW5BboFuwW8Bb0FvgW\\u002fBcAFwQXCBcMFxAXFBcYFxwXIBckFygXLBcwFzQXOBc8F0AXRBdIF0wXUBdUF1gXXBdgF2QXaBdsF3AXdBd4F3wXgBeEF4gXjBeQF5QXmBecF6AXpBeoF6wXsBe0F7gXvBfAF8QXyBfMF9AX1BfYF9wX4BfkF+gX7BfwF\\u002fQX+Bf8FAAYBBgIGAwYEBgUGBgYHBggGCQYKBgsGDAYNBg4GDwYQBhEGEgYTBhQGFQYWBhcGGAYZBhoGGwYcBh0GHgYfBiAGIQYiBiMGJAYlBiYGJwYoBikGKgYrBiwGLQYuBi8GMAYxBjIGMwY0BjUGNgY3BjgGOQY6BjsGPAY9Bj4GPwZABkEGQgZDBkQGRQZGBkcGSAZJBkoGSwZMBk0GTgZPBlAGUQZSBlMGVAZVBlYGVwZYBlkGWgZbBlwGXQZeBl8GYAZhBmIGYwY=\"},\"y\":{\"dtype\":\"f8\",\"bdata\":\"CtejcD0Kp7+4HoXrUbiuv3sUrkfheqS\\u002f7FG4HoXrob8zMzMzMzOzv1K4HoXrUbi\\u002fuB6F61G4rr+4HoXrUbiev5qZmZmZmZm\\u002fexSuR+F6hL97FK5H4XqEP3sUrkfhepQ\\u002fexSuR+F6hD8AAAAAAAAAAAAAAAAAAAAAexSuR+F6dL+amZmZmZmZv5qZmZmZmZm\\u002fuB6F61G4jr97FK5H4XqUv+xRuB6F66G\\u002fmpmZmZmZqb+kcD0K16Owv+xRuB6F67G\\u002f7FG4HoXrsb\\u002fD9Shcj8K1vylcj8L1KLy\\u002fKVyPwvUovL9SuB6F61G4v5qZmZmZmbm\\u002f4XoUrkfhur+amZmZmZm5v1K4HoXrUbi\\u002fmpmZmZmZub\\u002fhehSuR+G6v+F6FK5H4bq\\u002fmpmZmZmZub\\u002fhehSuR+G6v+F6FK5H4bq\\u002fmpmZmZmZub9SuB6F61G4v5qZmZmZmbm\\u002fmpmZmZmZub8K16NwPQq3vzMzMzMzM7O\\u002fexSuR+F6lL+4HoXrUbiePylcj8L1KLw\\u002fH4XrUbgexT\\u002fXo3A9CtfDP+F6FK5H4bo\\u002fuB6F61G4nr97FK5H4XrEv4\\u002fC9Shcj9K\\u002fZmZmZmZm1r\\u002fNzMzMzMzUv0jhehSuR9G\\u002fZmZmZmZmxr+4HoXrUbi+v1K4HoXrUbi\\u002fUrgehetRuL8pXI\\u002fC9Si8v7gehetRuL6\\u002fAAAAAAAAwL+4HoXrUbi+v+F6FK5H4bq\\u002fCtejcD0Kt7\\u002fsUbgeheuxvzMzMzMzM7O\\u002fexSuR+F6tL\\u002fsUbgeheuxv5qZmZmZmam\\u002fmpmZmZmZqb8pXI\\u002fC9Sisv7gehetRuK6\\u002fpHA9CtejsL\\u002fsUbgeheuxv+xRuB6F67G\\u002f7FG4HoXrsb\\u002fsUbgeheuxv6RwPQrXo7C\\u002fuB6F61G4rr+4HoXrUbiuvylcj8L1KKy\\u002fmpmZmZmZqb+amZmZmZmpv5qZmZmZmam\\u002fmpmZmZmZqb97FK5H4Xqkv+xRuB6F66G\\u002fmpmZmZmZqb8pXI\\u002fC9Sisv7gehetRuJ6\\u002fexSuR+F6hL8AAAAAAAAAAAAAAAAAAAAAAAAAAAAAAAB7FK5H4Xp0P3sUrkfhenQ\\u002fexSuR+F6hD97FK5H4XqEP5qZmZmZmZk\\u002fmpmZmZmZqT\\u002fsUbgeheuxP1K4HoXrUbg\\u002f4XoUrkfhuj9xPQrXo3C9P6RwPQrXo8A\\u002fMzMzMzMzwz\\u002fD9Shcj8LFP1K4HoXrUcg\\u002fUrgehetRyD8K16NwPQrHPz0K16NwPco\\u002fFK5H4XoUzj8UrkfhehTOP3E9CtejcM0\\u002fFK5H4XoUzj+4HoXrUbjOPxSuR+F6FM4\\u002fzczMzMzMzD\\u002fhehSuR+HKP1K4HoXrUcg\\u002fZmZmZmZmxj\\u002fXo3A9CtfDP4\\u002fC9Shcj8I\\u002fpHA9CtejwD\\u002fhehSuR+G6P3sUrkfherQ\\u002fCtejcD0Kpz97FK5H4XqUP3sUrkfhepQ\\u002fexSuR+F6dD+amZmZmZmZvwrXo3A9Cqe\\u002fuB6F61G4nr+amZmZmZmZv+xRuB6F66G\\u002fCtejcD0Kp78K16NwPQqnv5qZmZmZmam\\u002fuB6F61G4rr\\u002fsUbgeheuxv+xRuB6F67G\\u002f7FG4HoXrsb\\u002fsUbgeheuxv7gehetRuK6\\u002fCtejcD0Kp7+amZmZmZmpvylcj8L1KKy\\u002fuB6F61G4rr+4HoXrUbiuv7gehetRuK6\\u002fpHA9CtejsL+4HoXrUbiuv5qZmZmZmam\\u002f7FG4HoXrob97FK5H4XqUvzMzMzMzM7O\\u002fSOF6FK5Hwb+amZmZmZnJv0jhehSuR9G\\u002frkfhehSu179mZmZmZmbev1yPwvUoXOO\\u002fXI\\u002fC9Shc57+4HoXrUbjqvz0K16NwPe6\\u002fSOF6FK5H8b+amZmZmZnzvylcj8L1KPa\\u002fexSuR+F6+L+uR+F6FK75v1K4HoXrUfq\\u002fhetRuB6F+b8AAAAAAAD4vx+F61G4HvW\\u002f7FG4HoXr8b+kcD0K16Psv4\\u002fC9Shcj+a\\u002fmpmZmZmZ4b8zMzMzMzPbv8P1KFyPwtW\\u002f9ihcj8L10L89CtejcD3Kv8P1KFyPwsW\\u002fexSuR+F6xL+PwvUoXI\\u002fCv7gehetRuL6\\u002fKVyPwvUovL8pXI\\u002fC9Si8v8P1KFyPwrW\\u002fKVyPwvUorL+amZmZmZmZvwAAAAAAAAAAmpmZmZmZmT8K16NwPQqnP5qZmZmZmak\\u002fmpmZmZmZqT+4HoXrUbiuP+xRuB6F67E\\u002fMzMzMzMzsz97FK5H4Xq0P1K4HoXrUbg\\u002f4XoUrkfhuj8AAAAAAADAP4\\u002fC9Shcj8I\\u002fexSuR+F6xD9mZmZmZmbGPz0K16NwPco\\u002fcT0K16NwzT+kcD0K16PQP4\\u002fC9Shcj9I\\u002fcT0K16Nw1T8AAAAAAADYP+xRuB6F69k\\u002f16NwPQrX2z8UrkfhehTePylcj8L1KOA\\u002fcT0K16Nw4T\\u002fhehSuR+HiP\\u002fYoXI\\u002fC9eQ\\u002fj8L1KFyP5j\\u002fXo3A9CtfnP\\u002fYoXI\\u002fC9eg\\u002f7FG4HoXr6T+4HoXrUbjqP4XrUbgehes\\u002fKVyPwvUo7D\\u002fNzMzMzMzsP6RwPQrXo+w\\u002fAAAAAAAA7D+F61G4HoXrP1yPwvUoXOs\\u002fPQrXo3A96j\\u002f2KFyPwvXoP9ejcD0K1+c\\u002fj8L1KFyP5j\\u002f2KFyPwvXkP1yPwvUoXOM\\u002f7FG4HoXr4T+kcD0K16PgP2ZmZmZmZt4\\u002f16NwPQrX2z89CtejcD3aP6RwPQrXo9g\\u002fFK5H4XoU1j8zMzMzMzPTP0jhehSuR9E\\u002fuB6F61G4zj\\u002fhehSuR+HKP65H4XoUrsc\\u002fH4XrUbgexT+PwvUoXI\\u002fCP+xRuB6F68E\\u002fSOF6FK5HwT9I4XoUrkfBP6RwPQrXo8A\\u002fuB6F61G4vj8pXI\\u002fC9Si8P5qZmZmZmbk\\u002fmpmZmZmZuT+amZmZmZm5P1K4HoXrUbg\\u002fw\\u002fUoXI\\u002fCtT\\u002fD9Shcj8K1P5qZmZmZmbk\\u002fUrgehetRuD\\u002fD9Shcj8K1P8P1KFyPwrU\\u002fw\\u002fUoXI\\u002fCtT97FK5H4Xq0P+xRuB6F67E\\u002fMzMzMzMzsz97FK5H4Xq0P+xRuB6F67E\\u002fKVyPwvUorD+kcD0K16OwP3sUrkfherQ\\u002f7FG4HoXrsT8pXI\\u002fC9SisP6RwPQrXo7A\\u002fexSuR+F6tD+kcD0K16OwPwrXo3A9Cqc\\u002fmpmZmZmZqT+4HoXrUbiuP5qZmZmZmZk\\u002fAAAAAAAAAACamZmZmZmZP5qZmZmZmak\\u002fmpmZmZmZmT97FK5H4XqEP3sUrkfhepQ\\u002fmpmZmZmZmT97FK5H4Xp0P3sUrkfhenS\\u002fexSuR+F6dL97FK5H4Xp0v3sUrkfhepS\\u002fexSuR+F6lL8AAAAAAAAAAHsUrkfheoQ\\u002fAAAAAAAAAAB7FK5H4XqEv3sUrkfheoS\\u002fexSuR+F6hL97FK5H4XqUv3sUrkfhepS\\u002fexSuR+F6lL97FK5H4XqUv7gehetRuJ6\\u002fmpmZmZmZmb+4HoXrUbiOv5qZmZmZmZm\\u002fexSuR+F6pL8K16NwPQqnvwrXo3A9Cqe\\u002fCtejcD0Kp78K16NwPQqnv3sUrkfheqS\\u002f7FG4HoXrob97FK5H4Xqkv5qZmZmZmam\\u002fexSuR+F6pL+4HoXrUbiev+xRuB6F66G\\u002fCtejcD0Kp78pXI\\u002fC9Sisv7gehetRuK6\\u002fuB6F61G4rr+4HoXrUbiuv7gehetRuK6\\u002fuB6F61G4rr+4HoXrUbiuv7gehetRuK6\\u002fmpmZmZmZqb8K16NwPQqnvwrXo3A9Cqe\\u002fmpmZmZmZqb8pXI\\u002fC9Sisv7gehetRuK6\\u002fuB6F61G4rr+4HoXrUbiuv7gehetRuK6\\u002fuB6F61G4rr\\u002fsUbgeheuxv+xRuB6F67G\\u002fpHA9CtejsL+4HoXrUbiuv7gehetRuK6\\u002fuB6F61G4rr+4HoXrUbiuv7gehetRuK6\\u002fpHA9CtejsL\\u002fsUbgeheuxv+xRuB6F67G\\u002fMzMzMzMzs797FK5H4Xq0v+xRuB6F67G\\u002fKVyPwvUorL+4HoXrUbiuv6RwPQrXo7C\\u002fpHA9CtejsL+4HoXrUbiuv7gehetRuK6\\u002fpHA9CtejsL+kcD0K16Owv7gehetRuK6\\u002fexSuR+F6tL+amZmZmZm5v3sUrkfherS\\u002fuB6F61G4rr8zMzMzMzOzvwrXo3A9Cre\\u002fexSuR+F6tL+kcD0K16Owv6RwPQrXo7C\\u002fpHA9CtejsL+kcD0K16Owv+xRuB6F67G\\u002fexSuR+F6tL8zMzMzMzOzv3sUrkfheqS\\u002fuB6F61G4jr97FK5H4XqEv3sUrkfhenS\\u002fAAAAAAAAAAAAAAAAAAAAAAAAAAAAAAAAexSuR+F6dL+4HoXrUbiOv5qZmZmZmZm\\u002fexSuR+F6pL97FK5H4Xqkv5qZmZmZmZm\\u002fuB6F61G4nr8pXI\\u002fC9Sisv+xRuB6F67G\\u002fw\\u002fUoXI\\u002fCtb8K16NwPQq3vwrXo3A9Cre\\u002fUrgehetRuL+amZmZmZm5v+F6FK5H4bq\\u002fKVyPwvUovL\\u002fhehSuR+G6v1K4HoXrUbi\\u002fUrgehetRuL9SuB6F61G4v1K4HoXrUbi\\u002fUrgehetRuL9SuB6F61G4vwrXo3A9Cre\\u002fCtejcD0Kt7\\u002fD9Shcj8K1vzMzMzMzM7O\\u002fKVyPwvUorL97FK5H4XqEP8P1KFyPwrU\\u002fj8L1KFyPwj8=\"},\"type\":\"scatter\",\"xaxis\":\"x2\",\"yaxis\":\"y2\"},{\"line\":{\"color\":\"#EF553B\",\"width\":3},\"name\":\"Match at 193\",\"x\":{\"dtype\":\"i2\",\"bdata\":\"wQDCAMMAxADFAMYAxwDIAMkAygDLAMwAzQDOAM8A0ADRANIA0wDUANUA1gDXANgA2QDaANsA3ADdAN4A3wDgAOEA4gDjAOQA5QDmAOcA6ADpAOoA6wDsAO0A7gDvAPAA8QDyAPMA9AD1APYA9wD4APkA+gD7APwA\\u002fQD+AP8AAAEBAQIBAwEEAQUBBgEHAQgBCQEKAQsBDAENAQ4BDwEQAREBEgETARQBFQEWARcBGAEZARoBGwEcAR0BHgEfASABIQEiASMBJAElASYBJwEoASkBKgErASwBLQEuAS8BMAExATIBMwE0ATUBNgE3ATgBOQE6ATsBPAE9AT4BPwFAAUEBQgFDAUQBRQFGAUcBSAFJAUoBSwFMAU0BTgFPAVABUQFSAVMBVAFVAVYBVwFYAVkBWgFbAVwBXQFeAV8BYAFhAWIBYwFkAWUBZgFnAWgBaQFqAWsBbAFtAW4BbwFwAXEBcgFzAXQBdQF2AXcBeAF5AXoBewF8AX0BfgF\\u002fAYABgQGCAYMBhAGFAYYBhwGIAYkBigGLAYwBjQGOAY8BkAGRAZIBkwGUAZUBlgGXAZgBmQGaAZsBnAGdAZ4BnwGgAaEBogGjAaQBpQGmAacBqAGpAaoBqwGsAa0BrgGvAbABsQGyAbMBtAG1AbYBtwG4AbkBugG7AbwBvQG+Ab8BwAHBAcIBwwHEAcUBxgHHAcgByQHKAcsBzAHNAc4BzwHQAdEB0gHTAdQB1QHWAdcB2AHZAdoB2wHcAd0B3gHfAeAB4QHiAeMB5AHlAeYB5wHoAekB6gHrAewB7QHuAe8B8AHxAfIB8wH0AfUB9gH3AfgB+QH6AfsB\\u002fAH9Af4B\\u002fwEAAgECAgIDAgQCBQIGAgcCCAIJAgoCCwIMAg0CDgIPAhACEQISAhMCFAIVAhYCFwIYAhkCGgIbAhwCHQIeAh8CIAIhAiICIwIkAiUCJgInAigCKQIqAisCLAItAi4CLwIwAjECMgIzAjQCNQI2AjcCOAI5AjoCOwI8Aj0CPgI\\u002fAkACQQJCAkMCRAJFAkYCRwJIAkkCSgJLAkwCTQJOAk8CUAJRAlICUwJUAlUCVgJXAlgCWQJaAlsCXAJdAl4CXwJgAmECYgJjAmQCZQI=\"},\"y\":{\"dtype\":\"f8\",\"bdata\":\"MzMzMzMzs7+amZmZmZm5v5qZmZmZmbm\\u002fw\\u002fUoXI\\u002fCtb\\u002fD9Shcj8K1v8P1KFyPwrW\\u002fexSuR+F6tL\\u002fsUbgeheuxvzMzMzMzM7O\\u002fexSuR+F6tL\\u002fsUbgeheuxvylcj8L1KKy\\u002fmpmZmZmZqb+amZmZmZmpv7gehetRuK6\\u002f7FG4HoXrsb+amZmZmZmpv7gehetRuJ6\\u002fCtejcD0Kp7+4HoXrUbiuv5qZmZmZmZm\\u002fAAAAAAAAAAB7FK5H4Xp0v3sUrkfheoS\\u002fexSuR+F6dD+4HoXrUbiOP7gehetRuI4\\u002fexSuR+F6lD97FK5H4XqkP7gehetRuK4\\u002fuB6F61G4rj8zMzMzMzOzP+F6FK5H4bo\\u002fpHA9CtejwD+kcD0K16PAP+xRuB6F68E\\u002fexSuR+F6xD\\u002fD9Shcj8LFP8P1KFyPwsU\\u002fZmZmZmZmxj9mZmZmZmbGP65H4XoUrsc\\u002fmpmZmZmZyT\\u002fhehSuR+HKP+F6FK5H4co\\u002fmpmZmZmZyT+uR+F6FK7HPx+F61G4HsU\\u002f7FG4HoXrwT9xPQrXo3C9P1K4HoXrUbg\\u002fpHA9CtejsD+4HoXrUbieP3sUrkfhepQ\\u002fexSuR+F6lD8AAAAAAAAAALgehetRuI6\\u002f7FG4HoXrob+4HoXrUbiuv6RwPQrXo7C\\u002fMzMzMzMzs7\\u002fD9Shcj8K1v1K4HoXrUbi\\u002fUrgehetRuL8K16NwPQq3vwrXo3A9Cre\\u002fCtejcD0Kt79SuB6F61G4v5qZmZmZmbm\\u002fmpmZmZmZub+amZmZmZm5v5qZmZmZmbm\\u002fmpmZmZmZub\\u002fhehSuR+G6v+F6FK5H4bq\\u002fUrgehetRuL8K16NwPQq3v3sUrkfherS\\u002fMzMzMzMzs7\\u002fD9Shcj8K1v8P1KFyPwrW\\u002fw\\u002fUoXI\\u002fCtb\\u002fD9Shcj8K1v8P1KFyPwrW\\u002fexSuR+F6tL+kcD0K16Owv5qZmZmZmam\\u002fCtejcD0Kp78K16NwPQqnvwrXo3A9Cqe\\u002fCtejcD0Kp78K16NwPQqnv3sUrkfheqS\\u002f7FG4HoXrob97FK5H4Xqkv5qZmZmZmam\\u002fexSuR+F6pL+4HoXrUbiev+xRuB6F66G\\u002fexSuR+F6pL\\u002fsUbgeheuhv+xRuB6F66G\\u002fexSuR+F6pL8K16NwPQqnvwrXo3A9Cqe\\u002fmpmZmZmZqb8pXI\\u002fC9Sisvylcj8L1KKy\\u002f7FG4HoXrob+amZmZmZmZvwrXo3A9Cqe\\u002fuB6F61G4rr+4HoXrUbiuv7gehetRuK6\\u002fpHA9CtejsL\\u002fsUbgeheuxv8P1KFyPwrW\\u002fexSuR+F6tL8pXI\\u002fC9SisvwrXo3A9Cqe\\u002fCtejcD0Kp797FK5H4Xqkv7gehetRuJ6\\u002fuB6F61G4nr97FK5H4Xqkv3sUrkfheqS\\u002fuB6F61G4nr97FK5H4Xqkv7gehetRuK6\\u002fpHA9CtejsL+4HoXrUbiuvzMzMzMzM7O\\u002fUrgehetRuL8K16NwPQq3vzMzMzMzM7O\\u002fexSuR+F6tL\\u002fD9Shcj8K1vwrXo3A9Cre\\u002fCtejcD0Kt79SuB6F61G4v1K4HoXrUbi\\u002fmpmZmZmZub+amZmZmZm5v5qZmZmZmbm\\u002fmpmZmZmZub9SuB6F61G4v1K4HoXrUbi\\u002fmpmZmZmZub\\u002fhehSuR+G6v5qZmZmZmbm\\u002fmpmZmZmZub+amZmZmZm5v+F6FK5H4bq\\u002f4XoUrkfhur\\u002fhehSuR+G6vylcj8L1KLy\\u002fKVyPwvUovL8pXI\\u002fC9Si8v3E9CtejcL2\\u002fAAAAAAAAwL9xPQrXo3C9v+xRuB6F67G\\u002fexSuR+F6hL\\u002fsUbgeheuxP0jhehSuR8E\\u002frkfhehSuxz9I4XoUrkfBP7gehetRuI4\\u002fSOF6FK5Hwb+F61G4HoXTv6RwPQrXo9i\\u002f4XoUrkfh2r9mZmZmZmbWvxSuR+F6FM6\\u002fexSuR+F6xL9SuB6F61G4v3E9CtejcL2\\u002fMzMzMzMzw78zMzMzMzPDv4\\u002fC9Shcj8K\\u002f7FG4HoXrwb\\u002fsUbgehevBv5qZmZmZmbm\\u002fuB6F61G4rr\\u002fsUbgeheuxv3sUrkfherS\\u002fpHA9CtejsL+amZmZmZmpv6RwPQrXo7C\\u002fexSuR+F6tL+4HoXrUbiuv5qZmZmZmam\\u002f7FG4HoXrsb8zMzMzMzOzv5qZmZmZmam\\u002f7FG4HoXrob+amZmZmZmpvylcj8L1KKy\\u002fmpmZmZmZqb8K16NwPQqnvwrXo3A9Cqe\\u002fCtejcD0Kp78K16NwPQqnv3sUrkfheqS\\u002fexSuR+F6lL97FK5H4XqEv3sUrkfheoS\\u002fexSuR+F6dL8AAAAAAAAAAHsUrkfhenQ\\u002fexSuR+F6dD97FK5H4XqEP7gehetRuI4\\u002fuB6F61G4nj+amZmZmZmpP6RwPQrXo7A\\u002fexSuR+F6tD8K16NwPQq3P5qZmZmZmbk\\u002fuB6F61G4vj9I4XoUrkfBP+xRuB6F68E\\u002fj8L1KFyPwj\\u002fD9Shcj8LFP\\u002fYoXI\\u002fC9cg\\u002fhetRuB6Fyz9xPQrXo3DNP7gehetRuM4\\u002fUrgehetR0D9SuB6F61HQP6RwPQrXo9A\\u002f7FG4HoXr0T\\u002fhehSuR+HSPz0K16NwPdI\\u002fmpmZmZmZ0T\\u002fhehSuR+HSPzMzMzMzM9M\\u002f7FG4HoXr0T9SuB6F61HQPxSuR+F6FM4\\u002fhetRuB6Fyz9SuB6F61HIP9ejcD0K18M\\u002fuB6F61G4vj+amZmZmZm5P5qZmZmZmbk\\u002fw\\u002fUoXI\\u002fCtT8K16NwPQqnP5qZmZmZmZk\\u002fmpmZmZmZmT97FK5H4XqEPwAAAAAAAAAAexSuR+F6hL97FK5H4XqEv5qZmZmZmZm\\u002fexSuR+F6pL\\u002fsUbgeheuhv3sUrkfhepS\\u002fuB6F61G4nr97FK5H4XqkvwrXo3A9Cqe\\u002fCtejcD0Kp797FK5H4Xqkv+xRuB6F66G\\u002f7FG4HoXrob\\u002fsUbgeheuhv3sUrkfhepS\\u002fexSuR+F6hL97FK5H4XqUv5qZmZmZmZm\\u002fexSuR+F6lL+4HoXrUbiOv7gehetRuI6\\u002fexSuR+F6hL97FK5H4XqEv3sUrkfhenS\\u002fexSuR+F6dL8AAAAAAAAAAHsUrkfhenQ\\u002fexSuR+F6hD97FK5H4Xp0P3sUrkfhenQ\\u002fexSuR+F6hD97FK5H4XqEP3sUrkfheoQ\\u002fexSuR+F6hD+4HoXrUbiOP7gehetRuI4\\u002fuB6F61G4jj+4HoXrUbiOP3sUrkfhepQ\\u002fuB6F61G4jj97FK5H4Xp0PwAAAAAAAAAAAAAAAAAAAAB7FK5H4Xp0v3sUrkfhenS\\u002fAAAAAAAAAAAAAAAAAAAAAAAAAAAAAAAAAAAAAAAAAAAAAAAAAAAAAHsUrkfhenS\\u002fexSuR+F6hL97FK5H4XqEv7gehetRuI6\\u002fmpmZmZmZmb97FK5H4XqUv3sUrkfheoS\\u002fuB6F61G4jr97FK5H4XqUv3sUrkfheoS\\u002fexSuR+F6dL97FK5H4Xp0v3sUrkfhenS\\u002fexSuR+F6hL97FK5H4XqEv3sUrkfheoS\\u002fexSuR+F6dL8AAAAAAAAAAAAAAAAAAAAAexSuR+F6dL97FK5H4XqUv5qZmZmZmam\\u002f7FG4HoXrsb\\u002fsUbgeheuxv6RwPQrXo7C\\u002fpHA9CtejsL+amZmZmZmpv5qZmZmZmZm\\u002fmpmZmZmZmb+amZmZmZmpv+xRuB6F67G\\u002fexSuR+F6tL\\u002fD9Shcj8K1v8P1KFyPwrW\\u002fCtejcD0Kt79SuB6F61G4v8P1KFyPwrW\\u002fpHA9CtejsL\\u002fsUbgeheuxvwrXo3A9Cre\\u002fw\\u002fUoXI\\u002fCtb8zMzMzMzOzvzMzMzMzM7O\\u002fMzMzMzMzs797FK5H4Xq0vwrXo3A9Cre\\u002fUrgehetRuL9SuB6F61G4v3sUrkfherS\\u002fpHA9CtejsL+4HoXrUbiuv5qZmZmZmam\\u002fAAAAAAAAAAC4HoXrUbiuP4\\u002fC9Shcj8I\\u002fhetRuB6Fyz9SuB6F61HIP0jhehSuR8E\\u002fAAAAAAAAAADsUbgehevBv\\u002fYoXI\\u002fC9dC\\u002fw\\u002fUoXI\\u002fC1b8pXI\\u002fC9SjUv\\u002fYoXI\\u002fC9dC\\u002fH4XrUbgexb9SuB6F61G4v+xRuB6F67G\\u002fpHA9CtejsL\\u002fD9Shcj8K1v1K4HoXrUbi\\u002fUrgehetRuL8K16NwPQq3v8P1KFyPwrW\\u002fexSuR+F6tL\\u002fsUbgeheuxv6RwPQrXo7C\\u002fpHA9CtejsL+4HoXrUbiuvylcj8L1KKy\\u002fmpmZmZmZqb8K16NwPQqnvwrXo3A9Cqe\\u002fmpmZmZmZqb8pXI\\u002fC9Sisvylcj8L1KKy\\u002fKVyPwvUorL+4HoXrUbiuvylcj8L1KKy\\u002fCtejcD0Kp797FK5H4Xqkv+xRuB6F66G\\u002f7FG4HoXrob\\u002fsUbgeheuhv3sUrkfheqS\\u002fexSuR+F6pL\\u002fsUbgeheuhv+xRuB6F66G\\u002f7FG4HoXrob+4HoXrUbiev7gehetRuI6\\u002fAAAAAAAAAAAAAAAAAAAAAAAAAAAAAAAAAAAAAAAAAAB7FK5H4Xp0P7gehetRuI4\\u002fexSuR+F6lD97FK5H4XqUP5qZmZmZmZk\\u002fCtejcD0Kpz+4HoXrUbiuPzMzMzMzM7M\\u002fCtejcD0Ktz8pXI\\u002fC9Si8P3E9CtejcL0\\u002fcT0K16NwvT+kcD0K16PAP3sUrkfhesQ\\u002fw\\u002fUoXI\\u002fCxT8=\"},\"type\":\"scatter\",\"xaxis\":\"x2\",\"yaxis\":\"y2\"}],                        {\"template\":{\"data\":{\"histogram2dcontour\":[{\"type\":\"histogram2dcontour\",\"colorbar\":{\"outlinewidth\":0,\"ticks\":\"\"},\"colorscale\":[[0.0,\"#0d0887\"],[0.1111111111111111,\"#46039f\"],[0.2222222222222222,\"#7201a8\"],[0.3333333333333333,\"#9c179e\"],[0.4444444444444444,\"#bd3786\"],[0.5555555555555556,\"#d8576b\"],[0.6666666666666666,\"#ed7953\"],[0.7777777777777778,\"#fb9f3a\"],[0.8888888888888888,\"#fdca26\"],[1.0,\"#f0f921\"]]}],\"choropleth\":[{\"type\":\"choropleth\",\"colorbar\":{\"outlinewidth\":0,\"ticks\":\"\"}}],\"histogram2d\":[{\"type\":\"histogram2d\",\"colorbar\":{\"outlinewidth\":0,\"ticks\":\"\"},\"colorscale\":[[0.0,\"#0d0887\"],[0.1111111111111111,\"#46039f\"],[0.2222222222222222,\"#7201a8\"],[0.3333333333333333,\"#9c179e\"],[0.4444444444444444,\"#bd3786\"],[0.5555555555555556,\"#d8576b\"],[0.6666666666666666,\"#ed7953\"],[0.7777777777777778,\"#fb9f3a\"],[0.8888888888888888,\"#fdca26\"],[1.0,\"#f0f921\"]]}],\"heatmap\":[{\"type\":\"heatmap\",\"colorbar\":{\"outlinewidth\":0,\"ticks\":\"\"},\"colorscale\":[[0.0,\"#0d0887\"],[0.1111111111111111,\"#46039f\"],[0.2222222222222222,\"#7201a8\"],[0.3333333333333333,\"#9c179e\"],[0.4444444444444444,\"#bd3786\"],[0.5555555555555556,\"#d8576b\"],[0.6666666666666666,\"#ed7953\"],[0.7777777777777778,\"#fb9f3a\"],[0.8888888888888888,\"#fdca26\"],[1.0,\"#f0f921\"]]}],\"contourcarpet\":[{\"type\":\"contourcarpet\",\"colorbar\":{\"outlinewidth\":0,\"ticks\":\"\"}}],\"contour\":[{\"type\":\"contour\",\"colorbar\":{\"outlinewidth\":0,\"ticks\":\"\"},\"colorscale\":[[0.0,\"#0d0887\"],[0.1111111111111111,\"#46039f\"],[0.2222222222222222,\"#7201a8\"],[0.3333333333333333,\"#9c179e\"],[0.4444444444444444,\"#bd3786\"],[0.5555555555555556,\"#d8576b\"],[0.6666666666666666,\"#ed7953\"],[0.7777777777777778,\"#fb9f3a\"],[0.8888888888888888,\"#fdca26\"],[1.0,\"#f0f921\"]]}],\"surface\":[{\"type\":\"surface\",\"colorbar\":{\"outlinewidth\":0,\"ticks\":\"\"},\"colorscale\":[[0.0,\"#0d0887\"],[0.1111111111111111,\"#46039f\"],[0.2222222222222222,\"#7201a8\"],[0.3333333333333333,\"#9c179e\"],[0.4444444444444444,\"#bd3786\"],[0.5555555555555556,\"#d8576b\"],[0.6666666666666666,\"#ed7953\"],[0.7777777777777778,\"#fb9f3a\"],[0.8888888888888888,\"#fdca26\"],[1.0,\"#f0f921\"]]}],\"mesh3d\":[{\"type\":\"mesh3d\",\"colorbar\":{\"outlinewidth\":0,\"ticks\":\"\"}}],\"scatter\":[{\"fillpattern\":{\"fillmode\":\"overlay\",\"size\":10,\"solidity\":0.2},\"type\":\"scatter\"}],\"parcoords\":[{\"type\":\"parcoords\",\"line\":{\"colorbar\":{\"outlinewidth\":0,\"ticks\":\"\"}}}],\"scatterpolargl\":[{\"type\":\"scatterpolargl\",\"marker\":{\"colorbar\":{\"outlinewidth\":0,\"ticks\":\"\"}}}],\"bar\":[{\"error_x\":{\"color\":\"#2a3f5f\"},\"error_y\":{\"color\":\"#2a3f5f\"},\"marker\":{\"line\":{\"color\":\"#E5ECF6\",\"width\":0.5},\"pattern\":{\"fillmode\":\"overlay\",\"size\":10,\"solidity\":0.2}},\"type\":\"bar\"}],\"scattergeo\":[{\"type\":\"scattergeo\",\"marker\":{\"colorbar\":{\"outlinewidth\":0,\"ticks\":\"\"}}}],\"scatterpolar\":[{\"type\":\"scatterpolar\",\"marker\":{\"colorbar\":{\"outlinewidth\":0,\"ticks\":\"\"}}}],\"histogram\":[{\"marker\":{\"pattern\":{\"fillmode\":\"overlay\",\"size\":10,\"solidity\":0.2}},\"type\":\"histogram\"}],\"scattergl\":[{\"type\":\"scattergl\",\"marker\":{\"colorbar\":{\"outlinewidth\":0,\"ticks\":\"\"}}}],\"scatter3d\":[{\"type\":\"scatter3d\",\"line\":{\"colorbar\":{\"outlinewidth\":0,\"ticks\":\"\"}},\"marker\":{\"colorbar\":{\"outlinewidth\":0,\"ticks\":\"\"}}}],\"scattermap\":[{\"type\":\"scattermap\",\"marker\":{\"colorbar\":{\"outlinewidth\":0,\"ticks\":\"\"}}}],\"scattermapbox\":[{\"type\":\"scattermapbox\",\"marker\":{\"colorbar\":{\"outlinewidth\":0,\"ticks\":\"\"}}}],\"scatterternary\":[{\"type\":\"scatterternary\",\"marker\":{\"colorbar\":{\"outlinewidth\":0,\"ticks\":\"\"}}}],\"scattercarpet\":[{\"type\":\"scattercarpet\",\"marker\":{\"colorbar\":{\"outlinewidth\":0,\"ticks\":\"\"}}}],\"carpet\":[{\"aaxis\":{\"endlinecolor\":\"#2a3f5f\",\"gridcolor\":\"white\",\"linecolor\":\"white\",\"minorgridcolor\":\"white\",\"startlinecolor\":\"#2a3f5f\"},\"baxis\":{\"endlinecolor\":\"#2a3f5f\",\"gridcolor\":\"white\",\"linecolor\":\"white\",\"minorgridcolor\":\"white\",\"startlinecolor\":\"#2a3f5f\"},\"type\":\"carpet\"}],\"table\":[{\"cells\":{\"fill\":{\"color\":\"#EBF0F8\"},\"line\":{\"color\":\"white\"}},\"header\":{\"fill\":{\"color\":\"#C8D4E3\"},\"line\":{\"color\":\"white\"}},\"type\":\"table\"}],\"barpolar\":[{\"marker\":{\"line\":{\"color\":\"#E5ECF6\",\"width\":0.5},\"pattern\":{\"fillmode\":\"overlay\",\"size\":10,\"solidity\":0.2}},\"type\":\"barpolar\"}],\"pie\":[{\"automargin\":true,\"type\":\"pie\"}]},\"layout\":{\"autotypenumbers\":\"strict\",\"colorway\":[\"#636efa\",\"#EF553B\",\"#00cc96\",\"#ab63fa\",\"#FFA15A\",\"#19d3f3\",\"#FF6692\",\"#B6E880\",\"#FF97FF\",\"#FECB52\"],\"font\":{\"color\":\"#2a3f5f\"},\"hovermode\":\"closest\",\"hoverlabel\":{\"align\":\"left\"},\"paper_bgcolor\":\"white\",\"plot_bgcolor\":\"#E5ECF6\",\"polar\":{\"bgcolor\":\"#E5ECF6\",\"angularaxis\":{\"gridcolor\":\"white\",\"linecolor\":\"white\",\"ticks\":\"\"},\"radialaxis\":{\"gridcolor\":\"white\",\"linecolor\":\"white\",\"ticks\":\"\"}},\"ternary\":{\"bgcolor\":\"#E5ECF6\",\"aaxis\":{\"gridcolor\":\"white\",\"linecolor\":\"white\",\"ticks\":\"\"},\"baxis\":{\"gridcolor\":\"white\",\"linecolor\":\"white\",\"ticks\":\"\"},\"caxis\":{\"gridcolor\":\"white\",\"linecolor\":\"white\",\"ticks\":\"\"}},\"coloraxis\":{\"colorbar\":{\"outlinewidth\":0,\"ticks\":\"\"}},\"colorscale\":{\"sequential\":[[0.0,\"#0d0887\"],[0.1111111111111111,\"#46039f\"],[0.2222222222222222,\"#7201a8\"],[0.3333333333333333,\"#9c179e\"],[0.4444444444444444,\"#bd3786\"],[0.5555555555555556,\"#d8576b\"],[0.6666666666666666,\"#ed7953\"],[0.7777777777777778,\"#fb9f3a\"],[0.8888888888888888,\"#fdca26\"],[1.0,\"#f0f921\"]],\"sequentialminus\":[[0.0,\"#0d0887\"],[0.1111111111111111,\"#46039f\"],[0.2222222222222222,\"#7201a8\"],[0.3333333333333333,\"#9c179e\"],[0.4444444444444444,\"#bd3786\"],[0.5555555555555556,\"#d8576b\"],[0.6666666666666666,\"#ed7953\"],[0.7777777777777778,\"#fb9f3a\"],[0.8888888888888888,\"#fdca26\"],[1.0,\"#f0f921\"]],\"diverging\":[[0,\"#8e0152\"],[0.1,\"#c51b7d\"],[0.2,\"#de77ae\"],[0.3,\"#f1b6da\"],[0.4,\"#fde0ef\"],[0.5,\"#f7f7f7\"],[0.6,\"#e6f5d0\"],[0.7,\"#b8e186\"],[0.8,\"#7fbc41\"],[0.9,\"#4d9221\"],[1,\"#276419\"]]},\"xaxis\":{\"gridcolor\":\"white\",\"linecolor\":\"white\",\"ticks\":\"\",\"title\":{\"standoff\":15},\"zerolinecolor\":\"white\",\"automargin\":true,\"zerolinewidth\":2},\"yaxis\":{\"gridcolor\":\"white\",\"linecolor\":\"white\",\"ticks\":\"\",\"title\":{\"standoff\":15},\"zerolinecolor\":\"white\",\"automargin\":true,\"zerolinewidth\":2},\"scene\":{\"xaxis\":{\"backgroundcolor\":\"#E5ECF6\",\"gridcolor\":\"white\",\"linecolor\":\"white\",\"showbackground\":true,\"ticks\":\"\",\"zerolinecolor\":\"white\",\"gridwidth\":2},\"yaxis\":{\"backgroundcolor\":\"#E5ECF6\",\"gridcolor\":\"white\",\"linecolor\":\"white\",\"showbackground\":true,\"ticks\":\"\",\"zerolinecolor\":\"white\",\"gridwidth\":2},\"zaxis\":{\"backgroundcolor\":\"#E5ECF6\",\"gridcolor\":\"white\",\"linecolor\":\"white\",\"showbackground\":true,\"ticks\":\"\",\"zerolinecolor\":\"white\",\"gridwidth\":2}},\"shapedefaults\":{\"line\":{\"color\":\"#2a3f5f\"}},\"annotationdefaults\":{\"arrowcolor\":\"#2a3f5f\",\"arrowhead\":0,\"arrowwidth\":1},\"geo\":{\"bgcolor\":\"white\",\"landcolor\":\"#E5ECF6\",\"subunitcolor\":\"white\",\"showland\":true,\"showlakes\":true,\"lakecolor\":\"white\"},\"title\":{\"x\":0.05},\"mapbox\":{\"style\":\"light\"}}},\"xaxis\":{\"anchor\":\"y\",\"domain\":[0.0,0.096],\"tickfont\":{\"size\":18,\"color\":\"black\"},\"showgrid\":false,\"linecolor\":\"#000\",\"ticks\":\"outside\",\"linewidth\":1,\"tickwidth\":1,\"mirror\":true},\"yaxis\":{\"anchor\":\"x\",\"domain\":[0.0,1.0],\"tickfont\":{\"size\":18,\"color\":\"black\"},\"showgrid\":false,\"linecolor\":\"#000\",\"ticks\":\"outside\",\"zeroline\":false,\"linewidth\":1,\"tickwidth\":1,\"mirror\":true},\"xaxis2\":{\"anchor\":\"y2\",\"domain\":[0.136,1.0],\"tickfont\":{\"size\":18,\"color\":\"black\"},\"showgrid\":false,\"linecolor\":\"#000\",\"ticks\":\"outside\",\"linewidth\":1,\"tickwidth\":1,\"mirror\":true},\"yaxis2\":{\"anchor\":\"x2\",\"domain\":[0.0,1.0],\"tickfont\":{\"size\":18,\"color\":\"black\"},\"showgrid\":false,\"linecolor\":\"#000\",\"ticks\":\"outside\",\"zeroline\":false,\"linewidth\":1,\"tickwidth\":1,\"mirror\":true},\"annotations\":[{\"font\":{\"size\":24,\"color\":\"black\"},\"showarrow\":false,\"text\":\"Query\",\"x\":0.048,\"xanchor\":\"center\",\"xref\":\"paper\",\"y\":1.0,\"yanchor\":\"bottom\",\"yref\":\"paper\"},{\"font\":{\"size\":24,\"color\":\"black\"},\"showarrow\":false,\"text\":\"Time Series\",\"x\":0.5680000000000001,\"xanchor\":\"center\",\"xref\":\"paper\",\"y\":1.0,\"yanchor\":\"bottom\",\"yref\":\"paper\"}],\"title\":{\"x\":0.5},\"plot_bgcolor\":\"rgba(0,0,0,0)\",\"paper_bgcolor\":\"rgba(0,0,0,0)\",\"showlegend\":true},                        {\"responsive\": true}                    ).then(function(){\n",
              "                            \n",
              "var gd = document.getElementById('f71fc6c0-4677-4aed-b704-de74779b4651');\n",
              "var x = new MutationObserver(function (mutations, observer) {{\n",
              "        var display = window.getComputedStyle(gd).display;\n",
              "        if (!display || display === 'none') {{\n",
              "            console.log([gd, 'removed!']);\n",
              "            Plotly.purge(gd);\n",
              "            observer.disconnect();\n",
              "        }}\n",
              "}});\n",
              "\n",
              "// Listen for the removal of the full notebook cells\n",
              "var notebookContainer = gd.closest('#notebook-container');\n",
              "if (notebookContainer) {{\n",
              "    x.observe(notebookContainer, {childList: true});\n",
              "}}\n",
              "\n",
              "// Listen for the clearing of the current output cell\n",
              "var outputEl = gd.closest('.output');\n",
              "if (outputEl) {{\n",
              "    x.observe(outputEl, {childList: true});\n",
              "}}\n",
              "\n",
              "                        })                };            </script>        </div>\n",
              "</body>\n",
              "</html>"
            ]
          },
          "metadata": {},
          "output_type": "display_data"
        }
      ],
      "source": [
        "plot_bestmatch_results(ts, query, naive_bestmatch_results)"
      ]
    },
    {
      "cell_type": "markdown",
      "metadata": {
        "id": "EHx4lBRbT-1f"
      },
      "source": [
        "![equation.png](data:image/png;base64,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)\n",
        "Определите по полученным результатам, имеет ли человек сердечное заболевание или нет."
      ]
    },
    {
      "cell_type": "markdown",
      "metadata": {
        "id": "HDbec5rOUAzq"
      },
      "source": [
        "Да"
      ]
    },
    {
      "cell_type": "markdown",
      "metadata": {
        "id": "X5XwzbI867MC"
      },
      "source": [
        "### **Задача 2.**\n",
        "\n",
        "Проделайте такие же шаги для поиска по образцу, как и в задаче 1, но теперь вычислите профиль расстояния с помощью одной из выбранных вами версий алгоритма MASS. Для этого используйте стороннюю библиотеку *mass-ts*. Со списком всех функций, которые предоставляет данная библиотека, и их описанием вы можете ознакомиться в [репозитории библиотеки GitHub](https://github.com/matrix-profile-foundation/mass-ts).\n",
        "\n",
        "Обратите внимание, что MASS 2 и MASS 3 возвращают профиль расстояния в виде вектора комплексных чисел. Для дальнейшей работы с профилем расстояния используйте только вещественные части комплексных чисел.     "
      ]
    },
    {
      "cell_type": "code",
      "execution_count": 18,
      "metadata": {
        "id": "8e5o2DqbVWkK"
      },
      "outputs": [
        {
          "name": "stdout",
          "output_type": "stream",
          "text": [
            "{'indices': [np.int64(1214), np.int64(192)], 'distances': [np.float64(5.0164179717288615), np.float64(18.03085017376877)]}\n"
          ]
        },
        {
          "name": "stderr",
          "output_type": "stream",
          "text": [
            "c:\\TimeSeriesCourse\\practice\\02 Similarity search\\modules\\utils.py:20: FutureWarning:\n",
            "\n",
            "The 'delim_whitespace' keyword in pd.read_csv is deprecated and will be removed in a future version. Use ``sep='\\s+'`` instead\n",
            "\n",
            "c:\\TimeSeriesCourse\\practice\\02 Similarity search\\modules\\utils.py:20: FutureWarning:\n",
            "\n",
            "The 'delim_whitespace' keyword in pd.read_csv is deprecated and will be removed in a future version. Use ``sep='\\s+'`` instead\n",
            "\n"
          ]
        },
        {
          "data": {
            "text/html": [
              "<html>\n",
              "<head><meta charset=\"utf-8\" /></head>\n",
              "<body>\n",
              "    <div>            <script src=\"https://cdnjs.cloudflare.com/ajax/libs/mathjax/2.7.5/MathJax.js?config=TeX-AMS-MML_SVG\"></script><script type=\"text/javascript\">if (window.MathJax && window.MathJax.Hub && window.MathJax.Hub.Config) {window.MathJax.Hub.Config({SVG: {font: \"STIX-Web\"}});}</script>                <script type=\"text/javascript\">window.PlotlyConfig = {MathJaxConfig: 'local'};</script>\n",
              "        <script charset=\"utf-8\" src=\"https://cdn.plot.ly/plotly-3.1.1.min.js\" integrity=\"sha256-HUEFyfiTnZJxCxur99FjbKYTvKSzwDaD3/x5TqHpFu4=\" crossorigin=\"anonymous\"></script>                <div id=\"6d276951-f93a-4882-9fc1-0da1020f6894\" class=\"plotly-graph-div\" style=\"height:525px; width:100%;\"></div>            <script type=\"text/javascript\">                window.PLOTLYENV=window.PLOTLYENV || {};                                if (document.getElementById(\"6d276951-f93a-4882-9fc1-0da1020f6894\")) {                    Plotly.newPlot(                        \"6d276951-f93a-4882-9fc1-0da1020f6894\",                        [{\"line\":{\"color\":\"#EF553B\",\"width\":3},\"name\":\"Query\",\"x\":{\"dtype\":\"i2\",\"bdata\":\"AAABAAIAAwAEAAUABgAHAAgACQAKAAsADAANAA4ADwAQABEAEgATABQAFQAWABcAGAAZABoAGwAcAB0AHgAfACAAIQAiACMAJAAlACYAJwAoACkAKgArACwALQAuAC8AMAAxADIAMwA0ADUANgA3ADgAOQA6ADsAPAA9AD4APwBAAEEAQgBDAEQARQBGAEcASABJAEoASwBMAE0ATgBPAFAAUQBSAFMAVABVAFYAVwBYAFkAWgBbAFwAXQBeAF8AYABhAGIAYwBkAGUAZgBnAGgAaQBqAGsAbABtAG4AbwBwAHEAcgBzAHQAdQB2AHcAeAB5AHoAewB8AH0AfgB\\u002fAIAAgQCCAIMAhACFAIYAhwCIAIkAigCLAIwAjQCOAI8AkACRAJIAkwCUAJUAlgCXAJgAmQCaAJsAnACdAJ4AnwCgAKEAogCjAKQApQCmAKcAqACpAKoAqwCsAK0ArgCvALAAsQCyALMAtAC1ALYAtwC4ALkAugC7ALwAvQC+AL8AwADBAMIAwwDEAMUAxgDHAMgAyQDKAMsAzADNAM4AzwDQANEA0gDTANQA1QDWANcA2ADZANoA2wDcAN0A3gDfAOAA4QDiAOMA5ADlAOYA5wDoAOkA6gDrAOwA7QDuAO8A8ADxAPIA8wD0APUA9gD3APgA+QD6APsA\\u002fAD9AP4A\\u002fwAAAQEBAgEDAQQBBQEGAQcBCAEJAQoBCwEMAQ0BDgEPARABEQESARMBFAEVARYBFwEYARkBGgEbARwBHQEeAR8BIAEhASIBIwEkASUBJgEnASgBKQEqASsBLAEtAS4BLwEwATEBMgEzATQBNQE2ATcBOAE5AToBOwE8AT0BPgE\\u002fAUABQQFCAUMBRAFFAUYBRwFIAUkBSgFLAUwBTQFOAU8BUAFRAVIBUwFUAVUBVgFXAVgBWQFaAVsBXAFdAV4BXwFgAWEBYgFjAWQBZQFmAWcBaAFpAWoBawFsAW0BbgFvAXABcQFyAXMBdAF1AXYBdwF4AXkBegF7AXwBfQF+AX8BgAGBAYIBgwGEAYUBhgGHAYgBiQGKAYsBjAGNAY4BjwGQAZEBkgGTAZQBlQGWAZcBmAGZAZoBmwGcAZ0BngGfAaABoQGiAaMBpAE=\"},\"y\":{\"dtype\":\"f8\",\"bdata\":\"5x2n6Egu9j9SSZ2AJsL7P8uhRbbzfQFA0ZFc\\u002fkP6BUAy5q4l5AMOQIEmwoanFxRARIts5\\u002fvpGUBv8IXJVAEgQCS5\\u002fIf0+yJAnzws1JqmJUB4eqUsQ7wnQLdif9k9+ShAseHplbIsKUBhMlUwKkkoQKjGSzeJYSZA6+I2GsCbI0CNl24SgyAgQBsv3SQGQRhAF0hQ\\u002fBhzD0DxY8xdS8j8P1wgQfFjzM2\\u002fm1Wfq63YAMAW+8vuyUMOwAMJih9j7hTA4JwRpb3BGcARNjy9UpYdwK7YX3ZPPiDAhXzQs1lVIcD6fmq8dDMiwJayDHGs6yLA8fRKWYZ4I8C\\u002fDpwzotQjwG3n+6nxEiTAPnlYqDVNJMAOvjCZKngkwDEIrBxahCTAjgbwFkhwJMAH8BZIUBwkwKCJsOHp1SPAyeU\\u002fpN++IsCSy39Iv30fwO2ePCzUGgHAescpOpJLJUC+wRcmU1U+QJhMFYxKkkpAM8SxLm4bUkB3LSEf9PxUQM07TtGRpFVAEqW9wRcGVEAAAAAAAEBQQN21hHzQc0ZAidLe4AvDNUBIv30dOOcAQKTfvg6ccyTAUwWjkjpBLcDAWyBB8cMrwDhnRGlvsCbAirDh6ZVSJcDD9Shcj6IkwEXY8PRK2STAsi5uowHcJMDFjzF3LcEkwK36XG3F\\u002fiTAc2iR7XxfJcAqOpLLf4glwBUdyeU\\u002fJCXAMlUwKqmTI8AmUwWjkvohwEATYcPTSyDAEhQ\\u002fxtx1HcAJG55eKcsawDSAt0CCohjAcM6I0t7gFsCEDU+vlGUVwLRZ9bnaChTA46WbxCCwEsBfmEwVjEoRwDGZKhiV1A\\u002fA9+RhodY0DcA5tMh2vp8KwIPAyqFFNgjAylTBqKROBsCQMXctIR8FwD\\u002fG3LWEfATA2c73U+MlBMC+wRcmUwUEwEI+6Nms+gPAc9cS8kHPA8ClLEMc62IDwO0NvjCZqgLAhA1Pr5RlAcDKVMGopE7+v+AtkKD4Mfe\\u002fIGPuWkI+6r90RpT2Bl+oPwWjkjoBTfM\\u002fx0s3iUFgBUCfPCzUmqYRQOviNhrAmxlA0ZFc\\u002fkM6IUAmUwWjkvolQJYhjnVx2ypAU5YhjnWxL0BU46WbxDAyQAK8BRIUbzRA\\u002fkP67euQNkAPnDOitJc4QNv5fmq8hDpA9GxWfa5WPEDtnjws1Ao+QMWPMXctoT9AtaZ5xymKQEBxPQrXoyhBQCBB8WPMnUFABcWPMXfdQUBEaW\\u002fwheFBQESLbOf7qUFAnDOitDc4QUCQoPgx5o5AQLu4jQbwZj9AF7fRAN5iPUB6Nqs+Vys7QPMf0m9f1zhAS1mGONZ1NkA0orQ3+BI0QGaIY13ctjFATx4Wak3TLkAVHcnlP2QqQI0o7Q2+MCZAGy\\u002fdJAZBIkCrPldbsT8dQKFns+pztRZARGlv8IUJEUCdEaW9wZcIQAMJih9j7gBASFD8GHPX9T\\u002f1udqK\\u002fWXpP+Olm8QgsNY\\u002fuY0G8BZIkL\\u002f8qfHSTWLYv+m3rwPnjOi\\u002fObTIdr6f8r\\u002fpt68D54z4vy7\\u002fIf32df2\\u002fgQTFjzF3AMAdWmQ7308BwLdif9k9+QDAYqHWNO84\\u002fr9LWYY41sX2v7MMcayL2+a\\u002fgnNGlPYGxz9qTfOOU3TyP2iz6nO1FQBAvsEXJlMFBECjI7n8h3QCQAMJih9j7vA\\u002f6Ugu\\u002fyH9+b\\u002f129eBc0YYwNxGA3gLBCnAowG8BRIENcAy5q4l5KM\\u002fwEw3iUFgLUbAI0p7gy+MTcAoDwu1pulSwH6MuWsJbVfA\\u002fYf029c1XMC5\\u002fIf02wVhwO2ePCzUrGPAy6FFtvP9ZcB\\u002f2T15WOhnwFYOLbKdX2nA6Ugu\\u002fyFjasDY8PRKWchqwPcGX5hMF2rAuECC4scIacAJG55eKaFnwHgLJCh+6GXAkxgEVg7lY8CjkjoBTZhhwO7rwDkjal7AS+oENBGeWcBvgQTFjyFVwDnWxW00BFHAak3zjlOcSsDByqFFthNEwGiR7Xw\\u002f5TzApN++DpyDM8AE54wo7e0nwLraiv1ldxXAGsBbIEHxyz+HFtnO9xMTQNCzWfW5miBAKe0NvjC5JUCEns2qz1UpQJZDi2zn2ytA5\\u002fup8dKtLUAy5q4l5CMvQL1SliGORTBAGQRWDi0SMUCLbOf7qREyQLprCfmgVzNAGXPXEvLxNECZu5aQD+o2QEvIBz2bRTlAl\\u002f+Qfvv6O0DM7snDQv0+QFg5tMh2HkFATfOOU3TUQkAOLbKd77dEQBE2PL1SxkZA+THmriX8SECzDHGsi1tLQOXyH9Jv501AswxxrIszUEDu68A5I3JRQNEi2\\u002fl+plJAPzVeuknYU0ADCYofY45VQJyiI7n8U1dAqaROQBMlWUBlGeJYFxdbQHQkl\\u002f+QHl1ArIvbaAAvX0Dc14FzRpxgQHEbDeAtVmFAMZkqGJX6YUDy0k1iEIRiQF5LyAc972JAyJi7lpA5Y0AUP8bctWJjQDj4wmSqamNAcF8HzhlRY0DY8PRKWRZjQOzAOSNKvWJAWmQ7309JYkCHFtnO971hQHctIR\\u002f0HGFAvw6cM6JoYEAW+8vuyUdfQJvmHafopF1A1QloImzwW0CmCkYldTJaQKYKRiV1clhA6gQ0ETa4VkCfzarP1QpVQKYKRiV1clNAkX77OnDCUUDwFkhQ\\u002fEhQQPkP6bevC05APL1SliHuS0DjpZvEIDBKQIXrUbgerUhAPSzUmuZVR0C0yHa+n4JGQNk9eViolUVAV+wvuyePREC28\\u002f3UeHFDQBx8YTJVQEJAumsJ+aAXQUDQ1VbsL\\u002fs\\u002fQGKh1jTv+D1A5IOezao\\u002fPEBTliGOdeE6QIPAyqFF5jlA6Nms+lxNOUDmP6Tfvg45QJT2Bl+YHDlAio7k8h9iOUAUP8bctcQ5QGN\\u002f2T15KDpAoBov3SR2OkCt+lxtxZ46QOoENBE2nDpAlWWIY11sOkA7AU2EDQ86QEku\\u002fyH9hjlAQmDl0CLbOECh1jTvOBU4QFg5tMh2PjdA54wo7Q1eNkDRItv5fno1QNGRXP5DmjRAMlUwKqnDM0CTqYJRSf0yQOqVsgxxTDJATtGRXP6zMUBPQBNhwzMxQNGRXP5DyjBAS1mGONZ1MEBseHqlLDMwQAwCK4cW+S9Afoy5awmZL0Ct+lxtxT4vQA8LtaZ55y5A3nGKjuSSLkBv8IXJVEEuQBkEVg4t8i1AcM6I0t6gLUAPC7WmeUctQHKKjuTy3yxAat5xio5kLEBz1xLyQc8rQAmKH2PuGitAoBov3SRGKkDdtYR80FMpQCh+jLlrSShAdLUV+8suJ0DM7snDQg0mQMNkqmBU8iRABOeMKO3tI0DnHafoSA4jQM4ZUdobXCJARPrt68DZIUDVeOkmMYghQJvmHafoaCFA7nw\\u002fNV56IUAwuycPC7UhQGFUUiegCSJAa5p3nKJjIkBVMCqpE7AiQBsN4C2Q4CJAlPYGX5jsIkBcIEHxY8wiQC1DHOvidiJAumsJ+aDnIUD5D+m3ryMhQCntDb4wOSBATx4Wak1zHkC94xQdyWUcQOhqK\\u002faXXRpA7Q2+MJlqGECsHFpkO58WQPs6cM6IEhVAhJ7Nqs\\u002fVE0AFxY8xd+0SQIqO5PIfUhJAzhlR2hv8EUBEi2zn++kRQM07TtGRHBJASOF6FK6HEkAv3SQGgRUTQMoyxLEurhNAih9j7lpCFEA\\u002fxty1hPwUQPtcbcX+shVAMCqpE9BEFkC62or9ZbcWQBBYObTINhdAexSuR+H6F0AIrBxaZDsZQAK8BRIU\\u002fxpAhJ7Nqs+VHUAi\\u002ffZ14HwgQL3jFB3JpSJA7MA5I0o7JUACvAUSFB8oQMdLN4lBICtAtFn1udoKLkD0bFZ9rlYwQLivA+eMeDFAPnlYqDVNMkCvJeSDnr0yQOXQItv5vjJAGCZTBaNSMkAlBoGVQ3sxQBsv3SQGQTBAhA1Pr5RlLUBz1xLyQc8pQLn8h\\u002fTb9yVARpT2Bl8YIkDBqKROQNMcQGKh1jTvOBZA6Nms+lytEEA5tMh2vp8IQMBbIEHxYwJAArwFEhQ\\u002f\\u002fT\\u002fOiNLe4Av6P52AJsKGp\\u002fs\\u002fOGdEaW\\u002fw\\u002fT9B8WPMXUv\\u002fP5p3nKIjuf4\\u002flrIMcayL\\u002fD9a9bnaiv34P7MMcayL2\\u002fY\\u002fswxxrIvb9j+Zu5aQD3r+P+0NvjCZqgpAumsJ+aDnGUC6awn5oOctQMsQx7q4bTxAZohjXdy2RkDuWkI+6PlMQLyWkA96HlBA3bWEfNDzT0DNO07RkaRNQO5aQj7o+UdAz2bV52rbP0Coxks3iWEqQAAAAAAAAACA5q4l5IOeG8AJ+aBns6oewPcGX5hMVRnAAAAAAAAAEMC6awn5oOcBwE3zjlN0JPm\\u002fmbuWkA96\\u002fr+neccpOpIEwMxdS8gHPQfARpT2Bl8YBsAAAAAAAAAAwBpR2ht8Yei\\u002fNKK0N\\u002fjC4D8aUdobfGH4PzSitDf4wgBA7Q2+MJmqAkA\\u002fNV66SQwDQD81XrpJDANAejarPlfbAkAAAAAAAAACQM3MzMzMzABA2ht8YTJV\\u002fz8=\"},\"type\":\"scatter\",\"xaxis\":\"x\",\"yaxis\":\"y\"},{\"line\":{\"color\":\"#636EFA\"},\"name\":\"Time Series\",\"x\":{\"dtype\":\"i2\",\"bdata\":\"AAABAAIAAwAEAAUABgAHAAgACQAKAAsADAANAA4ADwAQABEAEgATABQAFQAWABcAGAAZABoAGwAcAB0AHgAfACAAIQAiACMAJAAlACYAJwAoACkAKgArACwALQAuAC8AMAAxADIAMwA0ADUANgA3ADgAOQA6ADsAPAA9AD4APwBAAEEAQgBDAEQARQBGAEcASABJAEoASwBMAE0ATgBPAFAAUQBSAFMAVABVAFYAVwBYAFkAWgBbAFwAXQBeAF8AYABhAGIAYwBkAGUAZgBnAGgAaQBqAGsAbABtAG4AbwBwAHEAcgBzAHQAdQB2AHcAeAB5AHoAewB8AH0AfgB\\u002fAIAAgQCCAIMAhACFAIYAhwCIAIkAigCLAIwAjQCOAI8AkACRAJIAkwCUAJUAlgCXAJgAmQCaAJsAnACdAJ4AnwCgAKEAogCjAKQApQCmAKcAqACpAKoAqwCsAK0ArgCvALAAsQCyALMAtAC1ALYAtwC4ALkAugC7ALwAvQC+AL8AwADBAMIAwwDEAMUAxgDHAMgAyQDKAMsAzADNAM4AzwDQANEA0gDTANQA1QDWANcA2ADZANoA2wDcAN0A3gDfAOAA4QDiAOMA5ADlAOYA5wDoAOkA6gDrAOwA7QDuAO8A8ADxAPIA8wD0APUA9gD3APgA+QD6APsA\\u002fAD9AP4A\\u002fwAAAQEBAgEDAQQBBQEGAQcBCAEJAQoBCwEMAQ0BDgEPARABEQESARMBFAEVARYBFwEYARkBGgEbARwBHQEeAR8BIAEhASIBIwEkASUBJgEnASgBKQEqASsBLAEtAS4BLwEwATEBMgEzATQBNQE2ATcBOAE5AToBOwE8AT0BPgE\\u002fAUABQQFCAUMBRAFFAUYBRwFIAUkBSgFLAUwBTQFOAU8BUAFRAVIBUwFUAVUBVgFXAVgBWQFaAVsBXAFdAV4BXwFgAWEBYgFjAWQBZQFmAWcBaAFpAWoBawFsAW0BbgFvAXABcQFyAXMBdAF1AXYBdwF4AXkBegF7AXwBfQF+AX8BgAGBAYIBgwGEAYUBhgGHAYgBiQGKAYsBjAGNAY4BjwGQAZEBkgGTAZQBlQGWAZcBmAGZAZoBmwGcAZ0BngGfAaABoQGiAaMBpAGlAaYBpwGoAakBqgGrAawBrQGuAa8BsAGxAbIBswG0AbUBtgG3AbgBuQG6AbsBvAG9Ab4BvwHAAcEBwgHDAcQBxQHGAccByAHJAcoBywHMAc0BzgHPAdAB0QHSAdMB1AHVAdYB1wHYAdkB2gHbAdwB3QHeAd8B4AHhAeIB4wHkAeUB5gHnAegB6QHqAesB7AHtAe4B7wHwAfEB8gHzAfQB9QH2AfcB+AH5AfoB+wH8Af0B\\u002fgH\\u002fAQACAQICAgMCBAIFAgYCBwIIAgkCCgILAgwCDQIOAg8CEAIRAhICEwIUAhUCFgIXAhgCGQIaAhsCHAIdAh4CHwIgAiECIgIjAiQCJQImAicCKAIpAioCKwIsAi0CLgIvAjACMQIyAjMCNAI1AjYCNwI4AjkCOgI7AjwCPQI+Aj8CQAJBAkICQwJEAkUCRgJHAkgCSQJKAksCTAJNAk4CTwJQAlECUgJTAlQCVQJWAlcCWAJZAloCWwJcAl0CXgJfAmACYQJiAmMCZAJlAmYCZwJoAmkCagJrAmwCbQJuAm8CcAJxAnICcwJ0AnUCdgJ3AngCeQJ6AnsCfAJ9An4CfwKAAoECggKDAoQChQKGAocCiAKJAooCiwKMAo0CjgKPApACkQKSApMClAKVApYClwKYApkCmgKbApwCnQKeAp8CoAKhAqICowKkAqUCpgKnAqgCqQKqAqsCrAKtAq4CrwKwArECsgKzArQCtQK2ArcCuAK5AroCuwK8Ar0CvgK\\u002fAsACwQLCAsMCxALFAsYCxwLIAskCygLLAswCzQLOAs8C0ALRAtIC0wLUAtUC1gLXAtgC2QLaAtsC3ALdAt4C3wLgAuEC4gLjAuQC5QLmAucC6ALpAuoC6wLsAu0C7gLvAvAC8QLyAvMC9AL1AvYC9wL4AvkC+gL7AvwC\\u002fQL+Av8CAAMBAwIDAwMEAwUDBgMHAwgDCQMKAwsDDAMNAw4DDwMQAxEDEgMTAxQDFQMWAxcDGAMZAxoDGwMcAx0DHgMfAyADIQMiAyMDJAMlAyYDJwMoAykDKgMrAywDLQMuAy8DMAMxAzIDMwM0AzUDNgM3AzgDOQM6AzsDPAM9Az4DPwNAA0EDQgNDA0QDRQNGA0cDSANJA0oDSwNMA00DTgNPA1ADUQNSA1MDVANVA1YDVwNYA1kDWgNbA1wDXQNeA18DYANhA2IDYwNkA2UDZgNnA2gDaQNqA2sDbANtA24DbwNwA3EDcgNzA3QDdQN2A3cDeAN5A3oDewN8A30DfgN\\u002fA4ADgQOCA4MDhAOFA4YDhwOIA4kDigOLA4wDjQOOA48DkAORA5IDkwOUA5UDlgOXA5gDmQOaA5sDnAOdA54DnwOgA6EDogOjA6QDpQOmA6cDqAOpA6oDqwOsA60DrgOvA7ADsQOyA7MDtAO1A7YDtwO4A7kDugO7A7wDvQO+A78DwAPBA8IDwwPEA8UDxgPHA8gDyQPKA8sDzAPNA84DzwPQA9ED0gPTA9QD1QPWA9cD2APZA9oD2wPcA90D3gPfA+AD4QPiA+MD5APlA+YD5wPoA+kD6gPrA+wD7QPuA+8D8APxA\\u002fID8wP0A\\u002fUD9gP3A\\u002fgD+QP6A\\u002fsD\\u002fAP9A\\u002f4D\\u002fwMABAEEAgQDBAQEBQQGBAcECAQJBAoECwQMBA0EDgQPBBAEEQQSBBMEFAQVBBYEFwQYBBkEGgQbBBwEHQQeBB8EIAQhBCIEIwQkBCUEJgQnBCgEKQQqBCsELAQtBC4ELwQwBDEEMgQzBDQENQQ2BDcEOAQ5BDoEOwQ8BD0EPgQ\\u002fBEAEQQRCBEMERARFBEYERwRIBEkESgRLBEwETQROBE8EUARRBFIEUwRUBFUEVgRXBFgEWQRaBFsEXARdBF4EXwRgBGEEYgRjBGQEZQRmBGcEaARpBGoEawRsBG0EbgRvBHAEcQRyBHMEdAR1BHYEdwR4BHkEegR7BHwEfQR+BH8EgASBBIIEgwSEBIUEhgSHBIgEiQSKBIsEjASNBI4EjwSQBJEEkgSTBJQElQSWBJcEmASZBJoEmwScBJ0EngSfBKAEoQSiBKMEpASlBKYEpwSoBKkEqgSrBKwErQSuBK8EsASxBLIEswS0BLUEtgS3BLgEuQS6BLsEvAS9BL4EvwTABMEEwgTDBMQExQTGBMcEyATJBMoEywTMBM0EzgTPBNAE0QTSBNME1ATVBNYE1wTYBNkE2gTbBNwE3QTeBN8E4AThBOIE4wTkBOUE5gTnBOgE6QTqBOsE7ATtBO4E7wTwBPEE8gTzBPQE9QT2BPcE+AT5BPoE+wT8BP0E\\u002fgT\\u002fBAAFAQUCBQMFBAUFBQYFBwUIBQkFCgULBQwFDQUOBQ8FEAURBRIFEwUUBRUFFgUXBRgFGQUaBRsFHAUdBR4FHwUgBSEFIgUjBSQFJQUmBScFKAUpBSoFKwUsBS0FLgUvBTAFMQUyBTMFNAU1BTYFNwU4BTkFOgU7BTwFPQU+BT8FQAVBBUIFQwVEBUUFRgVHBUgFSQVKBUsFTAVNBU4FTwVQBVEFUgVTBVQFVQVWBVcFWAVZBVoFWwVcBV0FXgVfBWAFYQViBWMFZAVlBWYFZwVoBWkFagVrBWwFbQVuBW8FcAVxBXIFcwV0BXUFdgV3BXgFeQV6BXsFfAV9BX4FfwWABYEFggWDBYQFhQWGBYcFiAWJBYoFiwWMBY0FjgWPBZAFkQWSBZMFlAWVBZYFlwWYBZkFmgWbBZwFnQWeBZ8FoAWhBaIFowWkBaUFpgWnBagFqQWqBasFrAWtBa4FrwWwBbEFsgWzBbQFtQW2BbcFuAW5BboFuwW8Bb0FvgW\\u002fBcAFwQXCBcMFxAXFBcYFxwXIBckFygXLBcwFzQXOBc8F0AXRBdIF0wXUBdUF1gXXBdgF2QXaBdsF3AXdBd4F3wXgBeEF4gXjBeQF5QXmBecF6AXpBeoF6wXsBe0F7gXvBfAF8QXyBfMF9AX1BfYF9wX4BfkF+gX7BfwF\\u002fQX+Bf8FAAYBBgIGAwYEBgUGBgYHBggGCQYKBgsGDAYNBg4GDwYQBhEGEgYTBhQGFQYWBhcGGAYZBhoGGwYcBh0GHgYfBiAGIQYiBiMGJAYlBiYGJwYoBikGKgYrBiwGLQYuBi8GMAYxBjIGMwY0BjUGNgY3BjgGOQY6BjsGPAY9Bj4GPwZABkEGQgZDBkQGRQZGBkcGSAZJBkoGSwZMBk0GTgZPBlAGUQZSBlMGVAZVBlYGVwZYBlkGWgZbBlwGXQZeBl8GYAZhBmIGYwZkBmUGZgZnBmgGaQZqBmsGbAZtBm4GbwZwBnEGcgZzBnQGdQZ2BncGeAZ5BnoGewZ8Bn0GfgZ\\u002fBoAGgQaCBoMGhAaFBoYGhwaIBokGigaLBowGjQaOBo8GkAaRBpIGkwaUBpUGlgaXBpgGmQaaBpsGnAadBp4GnwagBqEGogajBqQGpQamBqcGqAapBqoGqwasBq0GrgavBrAGsQayBrMGtAa1BrYGtwa4BrkGuga7BrwGvQa+Br8GwAbBBsIGwwbEBsUGxgbHBsgGyQbKBssGzAbNBs4GzwbQBtEG0gbTBtQG1QbWBtcG2AbZBtoG2wbcBt0G3gbfBuAG4QbiBuMG5AblBuYG5wboBukG6gbrBuwG7QbuBu8G8AbxBvIG8wb0BvUG9gb3BvgG+Qb6BvsG\\u002fAb9Bv4G\\u002fwYABwEHAgcDBwQHBQcGBwcHCAcJBwoHCwcMBw0HDgcPBxAHEQcSBxMHFAcVBxYHFwcYBxkHGgcbBxwHHQceBx8HIAchByIHIwckByUHJgcnBygHKQcqBysHLActBy4HLwcwBzEHMgczBzQHNQc2BzcHOAc5BzoHOwc8Bz0HPgc\\u002fB0AHQQdCB0MHRAdFB0YHRwdIB0kHSgdLB0wHTQdOB08HUAdRB1IHUwdUB1UHVgdXB1gHWQdaB1sHXAddB14HXwdgB2EHYgdjB2QHZQdmB2cHaAdpB2oHawdsB20HbgdvB3AHcQdyB3MHdAd1B3YHdwd4B3kHegd7B3wHfQd+B38HgAeBB4IHgweEB4UHhgeHB4gHiQeKB4sHjAeNB44HjweQB5EHkgeTB5QHlQeWB5cHmAeZB5oHmwecB50HngefB6AHoQeiB6MHpAelB6YHpweoB6kHqgerB6wHrQeuB68HsAexB7IHswe0B7UHtge3B7gHuQe6B7sHvAe9B74HvwfAB8EHwgfDB8QHxQfGB8cHyAfJB8oHywfMB80HzgfPB9AH0QfSB9MH1AfVB9YH1wfYB9kH2gfbB9wH3QfeB98H4AfhB+IH4wfkB+UH5gfnB+gH6QfqB+sH7AftB+4H7wfwB\\u002fEH8gfzB\\u002fQH9Qf2B\\u002fcH+Af5B\\u002foH+wf8B\\u002f0H\\u002fgf\\u002fBwAIAQgCCAMIBAgFCAYIBwgICAkICggLCAwIDQgOCA8IEAgRCBIIEwgUCBUIFggXCBgIGQgaCBsIHAgdCB4IHwggCCEIIggjCCQIJQgmCCcIKAgpCCoIKwgsCC0ILggvCDAIMQgyCDMINAg1CDYINwg4CDkIOgg7CDwIPQg+CD8IQAhBCEIIQwhECEUIRghHCEgISQhKCEsITAhNCE4ITwhQCFEIUghTCFQIVQhWCFcIWAhZCFoIWwhcCF0IXghfCGAIYQhiCGMIZAhlCGYIZwhoCGkIaghrCGwIbQhuCG8IcAhxCHIIcwh0CHUIdgh3CHgIeQh6CHsIfAh9CH4IfwiACIEIggiDCIQIhQiGCIcIiAiJCIoIiwiMCI0IjgiPCJAIkQiSCJMIlAiVCJYIlwiYCJkImgibCJwInQieCJ8IoAihCKIIowikCKUIpginCKgIqQiqCKsIrAitCK4IrwiwCLEIsgizCLQItQi2CLcIuAi5CLoIuwi8CL0Ivgi\\u002fCMAIwQjCCMMIxAjFCMYIxwjICMkIygjLCMwIzQjOCM8I0AjRCNII0wjUCNUI1gjXCNgI2QjaCNsI3AjdCN4I3wjgCOEI4gjjCOQI5QjmCOcI6AjpCOoI6wjsCO0I7gjvCPAI8QjyCPMI9Aj1CPYI9wj4CPkI+gj7CPwI\\u002fQj+CP8IAAkBCQIJAwkECQUJBgkHCQgJCQkKCQsJDAkNCQ4JDwkQCREJEgkTCRQJFQkWCRcJGAkZCRoJGwkcCR0JHgkfCSAJIQkiCSMJJAklCSYJJwkoCSkJKgkrCSwJLQkuCS8JMAkxCTIJMwk0CTUJNgk3CTgJOQk6CTsJPAk9CT4JPwlACUEJQglDCUQJRQlGCUcJSAlJCUoJSwlMCU0JTglPCVAJUQlSCVMJVAlVCVYJVwlYCVkJWglbCVwJXQleCV8JYAlhCWIJYwlkCWUJZglnCWgJaQlqCWsJbAltCW4JbwlwCXEJcglzCXQJdQl2CXcJeAl5CXoJewl8CX0Jfgl\\u002fCYAJgQmCCYMJhAmFCYYJhwmICYkJigmLCYwJjQmOCY8JkAmRCZIJkwmUCZUJlgmXCZgJmQmaCZsJnAmdCZ4JnwmgCaEJogmjCaQJpQmmCacJqAmpCaoJqwmsCa0JrgmvCbAJsQmyCbMJtAm1CbYJtwm4CbkJugm7CbwJvQm+Cb8JwAnBCcIJwwnECcUJxgnHCcgJyQnKCcsJzAnNCc4JzwnQCdEJ0gnTCdQJ1QnWCdcJ2AnZCdoJ2wncCd0J3gnfCeAJ4QniCeMJ5AnlCeYJ5wnoCekJ6gnrCewJ7QnuCe8J8AnxCfIJ8wn0CfUJ9gn3CfgJ+Qn6CfsJ\\u002fAn9Cf4J\\u002fwkACgEKAgoDCgQKBQoGCgcKCAoJCgoKCwoMCg0KDgoPChAKEQoSChMKFAoVChYKFwoYChkKGgobChwKHQoeCh8KIAohCiIKIwokCiUKJgonCigKKQoqCisKLAotCi4KLwowCjEKMgozCjQKNQo2CjcKOAo5CjoKOwo8Cj0KPgo\\u002fCkAKQQpCCkMKRApFCkYKRwpICkkKSgpLCkwKTQpOCk8KUApRClIKUwpUClUKVgpXClgKWQpaClsKXApdCl4KXwpgCmEKYgpjCmQKZQpmCmcKaAppCmoKawpsCm0KbgpvCnAKcQpyCnMKdAp1CnYKdwp4CnkKegp7CnwKfQp+Cn8KgAqBCoIKgwqECoUKhgqHCogKiQqKCosKjAqNCo4KjwqQCpEKkgqTCpQKlQqWCpcKmAqZCpoKmwqcCp0KngqfCqAKoQqiCqMKpAqlCqYKpwqoCqkKqgqrCqwKrQquCq8KsAqxCrIKswq0CrUKtgq3CrgKuQq6CrsKvAq9Cr4KvwrACsEKwgrDCsQKxQrGCscKyArJCsoKywrMCs0KzgrPCtAK0QrSCtMK1ArVCtYK1wrYCtkK2grbCtwK3QreCt8K4ArhCuIK4wrkCuUK5grnCugK6QrqCusK7ArtCu4K7wrwCvEK8grzCvQK9Qr2CvcK+Ar5CvoK+wr8Cv0K\\u002fgr\\u002fCgALAQsCCwMLBAsFCwYLBwsICwkLCgsLCwwLDQsOCw8LEAsRCxILEwsUCxULFgsXCxgLGQsaCxsLHAsdCx4LHwsgCyELIgsjCyQLJQsmCycLKAspCyoLKwssCy0LLgsvCzALMQsyCzMLNAs1CzYLNws4CzkLOgs7CzwLPQs+Cz8LQAtBC0ILQwtEC0ULRgtHC0gLSQtKC0sLTAtNC04LTwtQC1ELUgtTC1QLVQtWC1cLWAtZC1oLWwtcC10LXgtfC2ALYQtiC2MLZAtlC2YLZwtoC2kLagtrC2wLbQtuC28LcAtxC3ILcwt0C3ULdgt3C3gLeQt6C3sLfAt9C34LfwuAC4ELgguDC4QLhQuGC4cLiAuJC4oLiwuMC40LjguPC5ALkQuSC5MLlAuVC5YLlwuYC5kLmgubC5wLnQueC58LoAuhC6ILowukC6ULpgunC6gLqQuqC6sLrAutC64LrwuwC7ELsguzC7QLtQu2C7cL\"},\"y\":{\"dtype\":\"f8\",\"bdata\":\"exSuR+F6tL\\u002fsUbgeheuxvzMzMzMzM7O\\u002fexSuR+F6tL+kcD0K16Owvylcj8L1KKy\\u002fuB6F61G4rr+kcD0K16Owv6RwPQrXo7C\\u002fpHA9CtejsL+kcD0K16Owv6RwPQrXo7C\\u002fpHA9CtejsL+4HoXrUbiuvylcj8L1KKy\\u002fCtejcD0Kp7\\u002fsUbgeheuhv5qZmZmZmZm\\u002fmpmZmZmZmb+amZmZmZmZv5qZmZmZmZm\\u002fexSuR+F6lL97FK5H4XqEv3sUrkfheoS\\u002fexSuR+F6hL8AAAAAAAAAAHsUrkfhepQ\\u002f7FG4HoXroT+amZmZmZmpP6RwPQrXo7A\\u002fexSuR+F6tD\\u002fD9Shcj8K1P8P1KFyPwrU\\u002fmpmZmZmZuT8AAAAAAADAP6RwPQrXo8A\\u002fpHA9CtejwD\\u002fXo3A9CtfDP65H4XoUrsc\\u002frkfhehSuxz+uR+F6FK7HP5qZmZmZmck\\u002fKVyPwvUozD8pXI\\u002fC9SjMPylcj8L1KMw\\u002fKVyPwvUozD8pXI\\u002fC9SjMPz0K16NwPco\\u002fUrgehetRyD+uR+F6FK7HPwrXo3A9Csc\\u002f16NwPQrXwz8AAAAAAADAPwrXo3A9Crc\\u002fpHA9CtejsD8pXI\\u002fC9SisP+xRuB6F66E\\u002fexSuR+F6dD+4HoXrUbiOv3sUrkfhepS\\u002fuB6F61G4nr8K16NwPQqnvylcj8L1KKy\\u002fKVyPwvUorL+kcD0K16OwvzMzMzMzM7O\\u002fw\\u002fUoXI\\u002fCtb\\u002fD9Shcj8K1v8P1KFyPwrW\\u002fUrgehetRuL+amZmZmZm5v5qZmZmZmbm\\u002fmpmZmZmZub+amZmZmZm5v1K4HoXrUbi\\u002fUrgehetRuL9SuB6F61G4v1K4HoXrUbi\\u002fUrgehetRuL+amZmZmZm5v+F6FK5H4bq\\u002f4XoUrkfhur9SuB6F61G4vwrXo3A9Cre\\u002fexSuR+F6tL8zMzMzMzOzvzMzMzMzM7O\\u002f7FG4HoXrsb\\u002fsUbgeheuxv+xRuB6F67G\\u002f7FG4HoXrsb\\u002fsUbgeheuxv7gehetRuK6\\u002fmpmZmZmZqb+amZmZmZmpvwrXo3A9Cqe\\u002fCtejcD0Kp78K16NwPQqnvwrXo3A9Cqe\\u002fmpmZmZmZqb+amZmZmZmpvylcj8L1KKy\\u002fpHA9CtejsL+kcD0K16Owv5qZmZmZmam\\u002fCtejcD0Kp78K16NwPQqnv3sUrkfheqS\\u002fuB6F61G4nr\\u002fsUbgeheuhvwrXo3A9Cqe\\u002fmpmZmZmZqb+4HoXrUbiuv7gehetRuK6\\u002fKVyPwvUorL+amZmZmZmpv5qZmZmZmam\\u002fCtejcD0Kp78K16NwPQqnvwrXo3A9Cqe\\u002fmpmZmZmZqb\\u002fsUbgeheuhv7gehetRuI6\\u002f7FG4HoXrob+4HoXrUbiuv3sUrkfheqS\\u002fexSuR+F6lL97FK5H4Xqkv6RwPQrXo7C\\u002fpHA9CtejsL+kcD0K16Owv+F6FK5H4bq\\u002fSOF6FK5Hwb+amZmZmZm5vzMzMzMzM7O\\u002fCtejcD0Kt7+amZmZmZm5vzMzMzMzM7O\\u002f7FG4HoXrsb8K16NwPQq3vylcj8L1KLy\\u002fcT0K16Nwvb+4HoXrUbi+vwAAAAAAAMC\\u002fAAAAAAAAwL9xPQrXo3C9v7gehetRuL6\\u002fpHA9CtejwL+kcD0K16PAv3E9CtejcL2\\u002fKVyPwvUovL9xPQrXo3C9v7gehetRuL6\\u002fuB6F61G4vr9xPQrXo3C9v3E9CtejcL2\\u002fcT0K16Nwvb9xPQrXo3C9vylcj8L1KLy\\u002f4XoUrkfhur9SuB6F61G4v8P1KFyPwrW\\u002fpHA9CtejsL+amZmZmZmpv7gehetRuJ4\\u002fAAAAAAAAwD\\u002fD9Shcj8LFP+F6FK5H4co\\u002fUrgehetRuD+4HoXrUbiOv8P1KFyPwsW\\u002fKVyPwvUo1L8UrkfhehTWv7gehetRuNa\\u002fSOF6FK5H0b+uR+F6FK7HvwAAAAAAAMC\\u002fexSuR+F6tL9xPQrXo3C9v4\\u002fC9Shcj8K\\u002fj8L1KFyPwr+PwvUoXI\\u002fCv0jhehSuR8G\\u002fAAAAAAAAwL8pXI\\u002fC9Si8v5qZmZmZmbm\\u002fmpmZmZmZub9SuB6F61G4v8P1KFyPwrW\\u002fCtejcD0Kt7+amZmZmZm5vwrXo3A9Cre\\u002f7FG4HoXrsb8zMzMzMzOzv5qZmZmZmbm\\u002fmpmZmZmZub\\u002fD9Shcj8K1v8P1KFyPwrW\\u002fw\\u002fUoXI\\u002fCtb97FK5H4Xq0v+xRuB6F67G\\u002fMzMzMzMzs797FK5H4Xq0v+xRuB6F67G\\u002fKVyPwvUorL+amZmZmZmpv5qZmZmZmam\\u002fuB6F61G4rr\\u002fsUbgeheuxv5qZmZmZmam\\u002fuB6F61G4nr8K16NwPQqnv7gehetRuK6\\u002fmpmZmZmZmb8AAAAAAAAAAHsUrkfhenS\\u002fexSuR+F6hL97FK5H4Xp0P7gehetRuI4\\u002fuB6F61G4jj97FK5H4XqUP3sUrkfheqQ\\u002fuB6F61G4rj+4HoXrUbiuPzMzMzMzM7M\\u002f4XoUrkfhuj+kcD0K16PAP6RwPQrXo8A\\u002f7FG4HoXrwT97FK5H4XrEP8P1KFyPwsU\\u002fw\\u002fUoXI\\u002fCxT9mZmZmZmbGP2ZmZmZmZsY\\u002frkfhehSuxz+amZmZmZnJP+F6FK5H4co\\u002f4XoUrkfhyj+amZmZmZnJP65H4XoUrsc\\u002fH4XrUbgexT\\u002fsUbgehevBP3E9CtejcL0\\u002fUrgehetRuD+kcD0K16OwP7gehetRuJ4\\u002fexSuR+F6lD97FK5H4XqUPwAAAAAAAAAAuB6F61G4jr\\u002fsUbgeheuhv7gehetRuK6\\u002fpHA9CtejsL8zMzMzMzOzv8P1KFyPwrW\\u002fUrgehetRuL9SuB6F61G4vwrXo3A9Cre\\u002fCtejcD0Kt78K16NwPQq3v1K4HoXrUbi\\u002fmpmZmZmZub+amZmZmZm5v5qZmZmZmbm\\u002fmpmZmZmZub+amZmZmZm5v+F6FK5H4bq\\u002f4XoUrkfhur9SuB6F61G4vwrXo3A9Cre\\u002fexSuR+F6tL8zMzMzMzOzv8P1KFyPwrW\\u002fw\\u002fUoXI\\u002fCtb\\u002fD9Shcj8K1v8P1KFyPwrW\\u002fw\\u002fUoXI\\u002fCtb97FK5H4Xq0v6RwPQrXo7C\\u002fmpmZmZmZqb8K16NwPQqnvwrXo3A9Cqe\\u002fCtejcD0Kp78K16NwPQqnvwrXo3A9Cqe\\u002fexSuR+F6pL\\u002fsUbgeheuhv3sUrkfheqS\\u002fmpmZmZmZqb97FK5H4Xqkv7gehetRuJ6\\u002f7FG4HoXrob97FK5H4Xqkv+xRuB6F66G\\u002f7FG4HoXrob97FK5H4XqkvwrXo3A9Cqe\\u002fCtejcD0Kp7+amZmZmZmpvylcj8L1KKy\\u002fKVyPwvUorL\\u002fsUbgeheuhv5qZmZmZmZm\\u002fCtejcD0Kp7+4HoXrUbiuv7gehetRuK6\\u002fuB6F61G4rr+kcD0K16Owv+xRuB6F67G\\u002fw\\u002fUoXI\\u002fCtb97FK5H4Xq0vylcj8L1KKy\\u002fCtejcD0Kp78K16NwPQqnv3sUrkfheqS\\u002fuB6F61G4nr+4HoXrUbiev3sUrkfheqS\\u002fexSuR+F6pL+4HoXrUbiev3sUrkfheqS\\u002fuB6F61G4rr+kcD0K16Owv7gehetRuK6\\u002fMzMzMzMzs79SuB6F61G4vwrXo3A9Cre\\u002fMzMzMzMzs797FK5H4Xq0v8P1KFyPwrW\\u002fCtejcD0Kt78K16NwPQq3v1K4HoXrUbi\\u002fUrgehetRuL+amZmZmZm5v5qZmZmZmbm\\u002fmpmZmZmZub+amZmZmZm5v1K4HoXrUbi\\u002fUrgehetRuL+amZmZmZm5v+F6FK5H4bq\\u002fmpmZmZmZub+amZmZmZm5v5qZmZmZmbm\\u002f4XoUrkfhur\\u002fhehSuR+G6v+F6FK5H4bq\\u002fKVyPwvUovL8pXI\\u002fC9Si8vylcj8L1KLy\\u002fcT0K16Nwvb8AAAAAAADAv3E9CtejcL2\\u002f7FG4HoXrsb97FK5H4XqEv+xRuB6F67E\\u002fSOF6FK5HwT+uR+F6FK7HP0jhehSuR8E\\u002fuB6F61G4jj9I4XoUrkfBv4XrUbgehdO\\u002fpHA9Ctej2L\\u002fhehSuR+Hav2ZmZmZmZta\\u002fFK5H4XoUzr97FK5H4XrEv1K4HoXrUbi\\u002fcT0K16Nwvb8zMzMzMzPDvzMzMzMzM8O\\u002fj8L1KFyPwr\\u002fsUbgehevBv+xRuB6F68G\\u002fmpmZmZmZub+4HoXrUbiuv+xRuB6F67G\\u002fexSuR+F6tL+kcD0K16Owv5qZmZmZmam\\u002fpHA9CtejsL97FK5H4Xq0v7gehetRuK6\\u002fmpmZmZmZqb\\u002fsUbgeheuxvzMzMzMzM7O\\u002fmpmZmZmZqb\\u002fsUbgeheuhv5qZmZmZmam\\u002fKVyPwvUorL+amZmZmZmpvwrXo3A9Cqe\\u002fCtejcD0Kp78K16NwPQqnvwrXo3A9Cqe\\u002fexSuR+F6pL97FK5H4XqUv3sUrkfheoS\\u002fexSuR+F6hL97FK5H4Xp0vwAAAAAAAAAAexSuR+F6dD97FK5H4Xp0P3sUrkfheoQ\\u002fuB6F61G4jj+4HoXrUbieP5qZmZmZmak\\u002fpHA9CtejsD97FK5H4Xq0PwrXo3A9Crc\\u002fmpmZmZmZuT+4HoXrUbi+P0jhehSuR8E\\u002f7FG4HoXrwT+PwvUoXI\\u002fCP8P1KFyPwsU\\u002f9ihcj8L1yD+F61G4HoXLP3E9CtejcM0\\u002fuB6F61G4zj9SuB6F61HQP1K4HoXrUdA\\u002fpHA9Ctej0D\\u002fsUbgehevRP+F6FK5H4dI\\u002fPQrXo3A90j+amZmZmZnRP+F6FK5H4dI\\u002fMzMzMzMz0z\\u002fsUbgehevRP1K4HoXrUdA\\u002fFK5H4XoUzj+F61G4HoXLP1K4HoXrUcg\\u002f16NwPQrXwz+4HoXrUbi+P5qZmZmZmbk\\u002fmpmZmZmZuT\\u002fD9Shcj8K1PwrXo3A9Cqc\\u002fmpmZmZmZmT+amZmZmZmZP3sUrkfheoQ\\u002fAAAAAAAAAAB7FK5H4XqEv3sUrkfheoS\\u002fmpmZmZmZmb97FK5H4Xqkv+xRuB6F66G\\u002fexSuR+F6lL+4HoXrUbiev3sUrkfheqS\\u002fCtejcD0Kp78K16NwPQqnv3sUrkfheqS\\u002f7FG4HoXrob\\u002fsUbgeheuhv+xRuB6F66G\\u002fexSuR+F6lL97FK5H4XqEv3sUrkfhepS\\u002fmpmZmZmZmb97FK5H4XqUv7gehetRuI6\\u002fuB6F61G4jr97FK5H4XqEv3sUrkfheoS\\u002fexSuR+F6dL97FK5H4Xp0vwAAAAAAAAAAexSuR+F6dD97FK5H4XqEP3sUrkfhenQ\\u002fexSuR+F6dD97FK5H4XqEP3sUrkfheoQ\\u002fexSuR+F6hD97FK5H4XqEP7gehetRuI4\\u002fuB6F61G4jj+4HoXrUbiOP7gehetRuI4\\u002fexSuR+F6lD+4HoXrUbiOP3sUrkfhenQ\\u002fAAAAAAAAAAAAAAAAAAAAAHsUrkfhenS\\u002fexSuR+F6dL8AAAAAAAAAAAAAAAAAAAAAAAAAAAAAAAAAAAAAAAAAAAAAAAAAAAAAexSuR+F6dL97FK5H4XqEv3sUrkfheoS\\u002fuB6F61G4jr+amZmZmZmZv3sUrkfhepS\\u002fexSuR+F6hL+4HoXrUbiOv3sUrkfhepS\\u002fexSuR+F6hL97FK5H4Xp0v3sUrkfhenS\\u002fexSuR+F6dL97FK5H4XqEv3sUrkfheoS\\u002fexSuR+F6hL97FK5H4Xp0vwAAAAAAAAAAAAAAAAAAAAB7FK5H4Xp0v3sUrkfhepS\\u002fmpmZmZmZqb\\u002fsUbgeheuxv+xRuB6F67G\\u002fpHA9CtejsL+kcD0K16Owv5qZmZmZmam\\u002fmpmZmZmZmb+amZmZmZmZv5qZmZmZmam\\u002f7FG4HoXrsb97FK5H4Xq0v8P1KFyPwrW\\u002fw\\u002fUoXI\\u002fCtb8K16NwPQq3v1K4HoXrUbi\\u002fw\\u002fUoXI\\u002fCtb+kcD0K16Owv+xRuB6F67G\\u002fCtejcD0Kt7\\u002fD9Shcj8K1vzMzMzMzM7O\\u002fMzMzMzMzs78zMzMzMzOzv3sUrkfherS\\u002fCtejcD0Kt79SuB6F61G4v1K4HoXrUbi\\u002fexSuR+F6tL+kcD0K16Owv7gehetRuK6\\u002fmpmZmZmZqb8AAAAAAAAAALgehetRuK4\\u002fj8L1KFyPwj+F61G4HoXLP1K4HoXrUcg\\u002fSOF6FK5HwT8AAAAAAAAAAOxRuB6F68G\\u002f9ihcj8L10L\\u002fD9Shcj8LVvylcj8L1KNS\\u002f9ihcj8L10L8fhetRuB7Fv1K4HoXrUbi\\u002f7FG4HoXrsb+kcD0K16Owv8P1KFyPwrW\\u002fUrgehetRuL9SuB6F61G4vwrXo3A9Cre\\u002fw\\u002fUoXI\\u002fCtb97FK5H4Xq0v+xRuB6F67G\\u002fpHA9CtejsL+kcD0K16Owv7gehetRuK6\\u002fKVyPwvUorL+amZmZmZmpvwrXo3A9Cqe\\u002fCtejcD0Kp7+amZmZmZmpvylcj8L1KKy\\u002fKVyPwvUorL8pXI\\u002fC9Sisv7gehetRuK6\\u002fKVyPwvUorL8K16NwPQqnv3sUrkfheqS\\u002f7FG4HoXrob\\u002fsUbgeheuhv+xRuB6F66G\\u002fexSuR+F6pL97FK5H4Xqkv+xRuB6F66G\\u002f7FG4HoXrob\\u002fsUbgeheuhv7gehetRuJ6\\u002fuB6F61G4jr8AAAAAAAAAAAAAAAAAAAAAAAAAAAAAAAAAAAAAAAAAAHsUrkfhenQ\\u002fuB6F61G4jj97FK5H4XqUP3sUrkfhepQ\\u002fmpmZmZmZmT8K16NwPQqnP7gehetRuK4\\u002fMzMzMzMzsz8K16NwPQq3Pylcj8L1KLw\\u002fcT0K16NwvT9xPQrXo3C9P6RwPQrXo8A\\u002fexSuR+F6xD\\u002fD9Shcj8LFP8P1KFyPwsU\\u002frkfhehSuxz89CtejcD3KP+F6FK5H4co\\u002f4XoUrkfhyj\\u002fhehSuR+HKP+F6FK5H4co\\u002f4XoUrkfhyj\\u002fhehSuR+HKP\\u002fYoXI\\u002fC9cg\\u002fZmZmZmZmxj8fhetRuB7FP3sUrkfhesQ\\u002f7FG4HoXrwT8AAAAAAADAP5qZmZmZmbk\\u002f7FG4HoXrsT97FK5H4XqkP7gehetRuI4\\u002fuB6F61G4jj97FK5H4XqEP7gehetRuI6\\u002fuB6F61G4nr97FK5H4XqUv7gehetRuI6\\u002fuB6F61G4nr8K16NwPQqnvwrXo3A9Cqe\\u002fCtejcD0Kp78pXI\\u002fC9Sisvylcj8L1KKy\\u002fKVyPwvUorL8pXI\\u002fC9Sisv6RwPQrXo7C\\u002fpHA9CtejsL8pXI\\u002fC9Sisvylcj8L1KKy\\u002fuB6F61G4rr+4HoXrUbiuvylcj8L1KKy\\u002fKVyPwvUorL8pXI\\u002fC9Sisvylcj8L1KKy\\u002fKVyPwvUorL+amZmZmZmpvwrXo3A9Cqe\\u002fCtejcD0Kp78K16NwPQqnv+xRuB6F66G\\u002fuB6F61G4nr97FK5H4Xp0v3sUrkfheoQ\\u002fuB6F61G4jj97FK5H4XqUP3sUrkfheqQ\\u002fuB6F61G4rj8zMzMzMzOzP8P1KFyPwrU\\u002fMzMzMzMzsz+kcD0K16OwPwrXo3A9Cqc\\u002fuB6F61G4nj+amZmZmZmZP7gehetRuI4\\u002fAAAAAAAAAAB7FK5H4XqUv5qZmZmZmZm\\u002fuB6F61G4nr+4HoXrUbiev+xRuB6F66G\\u002fCtejcD0Kp78pXI\\u002fC9Sisv7gehetRuK6\\u002f7FG4HoXrsb97FK5H4Xq0v8P1KFyPwrW\\u002fMzMzMzMzs7\\u002fsUbgeheuxv+xRuB6F67G\\u002f7FG4HoXrsb\\u002fsUbgeheuxv+xRuB6F67G\\u002f7FG4HoXrsb8zMzMzMzOzvzMzMzMzM7O\\u002fMzMzMzMzs797FK5H4Xq0v8P1KFyPwrW\\u002fw\\u002fUoXI\\u002fCtb97FK5H4Xq0vzMzMzMzM7O\\u002fmpmZmZmZmb+amZmZmZmZP7gehetRuL4\\u002fzczMzMzMzD8pXI\\u002fC9SjMPz0K16NwPco\\u002fuB6F61G4nj9I4XoUrkfBv83MzMzMzMy\\u002fMzMzMzMz07+amZmZmZnRv7gehetRuM6\\u002fAAAAAAAAwL+4HoXrUbiev5qZmZmZmZm\\u002fuB6F61G4nr8pXI\\u002fC9Sisv3sUrkfherS\\u002fcT0K16Nwvb8AAAAAAADAv1K4HoXrUbi\\u002fexSuR+F6tL9SuB6F61G4v1K4HoXrUbi\\u002fMzMzMzMzs7+kcD0K16Owv6RwPQrXo7C\\u002f7FG4HoXrsb\\u002fsUbgeheuxv+xRuB6F67G\\u002f7FG4HoXrsb+4HoXrUbiuv5qZmZmZmam\\u002fKVyPwvUorL\\u002fsUbgeheuxvzMzMzMzM7O\\u002fMzMzMzMzs7+kcD0K16Owv7gehetRuK6\\u002fuB6F61G4rr+4HoXrUbiuvylcj8L1KKy\\u002fmpmZmZmZqb8K16NwPQqnvwrXo3A9Cqe\\u002fuB6F61G4nr+4HoXrUbiOv7gehetRuI6\\u002fexSuR+F6lL+4HoXrUbiev3sUrkfheqS\\u002fuB6F61G4nr97FK5H4XqUvwAAAAAAAAAAexSuR+F6lD+amZmZmZmZP7gehetRuJ4\\u002fexSuR+F6pD+amZmZmZmpPylcj8L1KKw\\u002f7FG4HoXrsT8K16NwPQq3P+F6FK5H4bo\\u002fKVyPwvUovD+4HoXrUbi+P+xRuB6F68E\\u002f16NwPQrXwz8fhetRuB7FP8P1KFyPwsU\\u002fCtejcD0Kxz+uR+F6FK7HP1K4HoXrUcg\\u002fUrgehetRyD9SuB6F61HIPwrXo3A9Csc\\u002fZmZmZmZmxj\\u002fD9Shcj8LFP8P1KFyPwsU\\u002fj8L1KFyPwj9xPQrXo3C9PwrXo3A9Crc\\u002f7FG4HoXrsT+amZmZmZmpP7gehetRuJ4\\u002fexSuR+F6dD97FK5H4XqEv7gehetRuI6\\u002fuB6F61G4jr+amZmZmZmZv+xRuB6F66G\\u002fexSuR+F6pL+amZmZmZmpvylcj8L1KKy\\u002fpHA9CtejsL+kcD0K16Owv+xRuB6F67G\\u002fMzMzMzMzs797FK5H4Xq0v6RwPQrXo7C\\u002fuB6F61G4rr+4HoXrUbiuv6RwPQrXo7C\\u002f7FG4HoXrsb\\u002fsUbgeheuxv+xRuB6F67G\\u002f7FG4HoXrsb\\u002fsUbgeheuxv+xRuB6F67G\\u002f7FG4HoXrsb+4HoXrUbiuv5qZmZmZmam\\u002fCtejcD0Kp78K16NwPQqnvwrXo3A9Cqe\\u002fCtejcD0Kp7\\u002fsUbgeheuhv5qZmZmZmZm\\u002fmpmZmZmZmb+4HoXrUbiev3sUrkfheqS\\u002fmpmZmZmZqb97FK5H4Xqkv3sUrkfhepS\\u002fmpmZmZmZmb+4HoXrUbiev7gehetRuJ6\\u002fmpmZmZmZmb+4HoXrUbiev3sUrkfheqS\\u002fexSuR+F6pL\\u002fsUbgeheuhv3sUrkfheqS\\u002fCtejcD0Kp7\\u002fsUbgeheuhv7gehetRuJ6\\u002fCtejcD0Kp78pXI\\u002fC9Sisv5qZmZmZmam\\u002fCtejcD0Kp7+amZmZmZmpv7gehetRuK6\\u002fpHA9CtejsL\\u002fsUbgeheuxv3sUrkfherS\\u002fexSuR+F6tL+kcD0K16Owv5qZmZmZmam\\u002f7FG4HoXrob+4HoXrUbiOv3sUrkfhenS\\u002fAAAAAAAAAAB7FK5H4Xp0PwAAAAAAAAAAexSuR+F6dL97FK5H4XqEv7gehetRuI6\\u002fexSuR+F6lL97FK5H4XqUv7gehetRuJ6\\u002fCtejcD0Kp7+kcD0K16OwvwrXo3A9Cre\\u002fCtejcD0Kt78zMzMzMzOzv1K4HoXrUbi\\u002fAAAAAAAAwL8pXI\\u002fC9Si8v1K4HoXrUbi\\u002fmpmZmZmZub\\u002fhehSuR+G6v5qZmZmZmbm\\u002fUrgehetRuL+amZmZmZm5v5qZmZmZmbm\\u002fmpmZmZmZub+amZmZmZm5v+F6FK5H4bq\\u002f4XoUrkfhur+amZmZmZm5v1K4HoXrUbi\\u002fUrgehetRuL9SuB6F61G4vwrXo3A9Cre\\u002f7FG4HoXrsb+amZmZmZmZv7gehetRuJ4\\u002fuB6F61G4vj9mZmZmZmbGPwrXo3A9Csc\\u002fSOF6FK5HwT97FK5H4XqUP1K4HoXrUbi\\u002fFK5H4XoUzr+F61G4HoXTv9ejcD0K19O\\u002fpHA9Ctej0L8fhetRuB7Fvylcj8L1KLy\\u002fexSuR+F6tL97FK5H4Xq0v5qZmZmZmbm\\u002fKVyPwvUovL9xPQrXo3C9v3E9CtejcL2\\u002fcT0K16Nwvb+amZmZmZm5v8P1KFyPwrW\\u002fw\\u002fUoXI\\u002fCtb\\u002fD9Shcj8K1v8P1KFyPwrW\\u002fCtejcD0Kt78K16NwPQq3v8P1KFyPwrW\\u002fMzMzMzMzs7\\u002fsUbgeheuxv+xRuB6F67G\\u002f7FG4HoXrsb\\u002fsUbgeheuxv+xRuB6F67G\\u002f7FG4HoXrsb\\u002fsUbgeheuxv+xRuB6F67G\\u002fpHA9CtejsL+4HoXrUbiuv5qZmZmZmam\\u002fmpmZmZmZqb8K16NwPQqnvwrXo3A9Cqe\\u002fexSuR+F6pL\\u002fsUbgeheuhv+xRuB6F66G\\u002f7FG4HoXrob+4HoXrUbiev7gehetRuJ6\\u002fexSuR+F6lL97FK5H4Xp0vwAAAAAAAAAAexSuR+F6dD97FK5H4XqEP3sUrkfhepQ\\u002fuB6F61G4nj8K16NwPQqnPylcj8L1KKw\\u002fuB6F61G4rj8zMzMzMzOzPwrXo3A9Crc\\u002f4XoUrkfhuj8AAAAAAADAP0jhehSuR8E\\u002f7FG4HoXrwT\\u002fXo3A9CtfDP8P1KFyPwsU\\u002frkfhehSuxz\\u002f2KFyPwvXIP1K4HoXrUcg\\u002frkfhehSuxz9SuB6F61HIP5qZmZmZmck\\u002f4XoUrkfhyj+F61G4HoXLP\\u002fYoXI\\u002fC9cg\\u002fZmZmZmZmxj\\u002fXo3A9CtfDP+xRuB6F68E\\u002fuB6F61G4vj+amZmZmZm5P3sUrkfherQ\\u002fKVyPwvUorD+4HoXrUbieP7gehetRuI4\\u002fexSuR+F6lD+4HoXrUbiOPwAAAAAAAAAAexSuR+F6hL97FK5H4XqUv7gehetRuJ6\\u002fCtejcD0Kp7+amZmZmZmpv7gehetRuK6\\u002fuB6F61G4rr+amZmZmZmpv5qZmZmZmam\\u002fmpmZmZmZqb+amZmZmZmpvwrXo3A9Cqe\\u002fKVyPwvUorL\\u002fsUbgeheuxvylcj8L1KKy\\u002f7FG4HoXrob8pXI\\u002fC9Sisv8P1KFyPwrW\\u002fuB6F61G4rr+4HoXrUbiev+xRuB6F66G\\u002fCtejcD0Kp7\\u002fsUbgeheuhv3sUrkfhepS\\u002fexSuR+F6pL8pXI\\u002fC9Sisv3sUrkfheqS\\u002fmpmZmZmZmb97FK5H4Xqkvylcj8L1KKy\\u002fuB6F61G4nr97FK5H4XqEv7gehetRuI6\\u002fuB6F61G4jr97FK5H4XqEv3sUrkfheoS\\u002fexSuR+F6hL97FK5H4Xp0vwAAAAAAAAAAAAAAAAAAAAB7FK5H4XqEv3sUrkfheoS\\u002fAAAAAAAAAAAAAAAAAAAAAHsUrkfhenS\\u002fexSuR+F6dL97FK5H4Xp0v3sUrkfhenS\\u002fuB6F61G4jr97FK5H4XqUv3sUrkfhepS\\u002fuB6F61G4nr97FK5H4Xqkv+xRuB6F66G\\u002fexSuR+F6lL+4HoXrUbiev5qZmZmZmam\\u002fexSuR+F6pL97FK5H4XqUv3sUrkfhenS\\u002fAAAAAAAAAAB7FK5H4XqEP3sUrkfhepQ\\u002fexSuR+F6lD+4HoXrUbiOP7gehetRuI4\\u002fexSuR+F6hD8AAAAAAAAAALgehetRuI6\\u002fuB6F61G4jr+4HoXrUbiOv+xRuB6F66G\\u002fKVyPwvUorL+kcD0K16OwvzMzMzMzM7O\\u002fw\\u002fUoXI\\u002fCtb8K16NwPQq3v3sUrkfherS\\u002fMzMzMzMzs7\\u002fD9Shcj8K1vwrXo3A9Cre\\u002fCtejcD0Kt79SuB6F61G4v5qZmZmZmbm\\u002f4XoUrkfhur\\u002fhehSuR+G6v5qZmZmZmbm\\u002fmpmZmZmZub9SuB6F61G4v1K4HoXrUbi\\u002fUrgehetRuL+amZmZmZm5v5qZmZmZmbm\\u002fmpmZmZmZub97FK5H4Xq0v7gehetRuK6\\u002fexSuR+F6dL+amZmZmZmpP7gehetRuL4\\u002f9ihcj8L1yD8fhetRuB7FP3E9CtejcL0\\u002fexSuR+F6hL+PwvUoXI\\u002fCv1yPwvUoXM+\\u002fw\\u002fUoXI\\u002fC1b\\u002fhehSuR+HSv7gehetRuM6\\u002fMzMzMzMzw7+kcD0K16Owv6RwPQrXo7C\\u002f7FG4HoXrsb9SuB6F61G4v7gehetRuL6\\u002fAAAAAAAAwL8AAAAAAADAv+F6FK5H4bq\\u002fCtejcD0Kt78K16NwPQq3v8P1KFyPwrW\\u002fMzMzMzMzs7+kcD0K16Owv6RwPQrXo7C\\u002fuB6F61G4rr+4HoXrUbiuv7gehetRuK6\\u002f7FG4HoXrsb\\u002fsUbgeheuxv7gehetRuK6\\u002fpHA9CtejsL97FK5H4Xq0v+xRuB6F67G\\u002fexSuR+F6pL\\u002fsUbgeheuhvwrXo3A9Cqe\\u002fexSuR+F6pL+4HoXrUbiev+xRuB6F66G\\u002fmpmZmZmZqb97FK5H4Xqkv3sUrkfhepS\\u002fexSuR+F6lL97FK5H4XqUv3sUrkfhenS\\u002fexSuR+F6hD8AAAAAAAAAAHsUrkfhenS\\u002fexSuR+F6dD+amZmZmZmZP3sUrkfhepQ\\u002fexSuR+F6lD\\u002fsUbgeheuhP5qZmZmZmak\\u002fmpmZmZmZqT+amZmZmZmpP8P1KFyPwrU\\u002fcT0K16NwvT9xPQrXo3C9P7gehetRuL4\\u002fpHA9CtejwD+PwvUoXI\\u002fCPx+F61G4HsU\\u002fCtejcD0Kxz8K16NwPQrHP1K4HoXrUcg\\u002fPQrXo3A9yj+F61G4HoXLP4XrUbgehcs\\u002fKVyPwvUozD8pXI\\u002fC9SjMP+F6FK5H4co\\u002fmpmZmZmZyT+uR+F6FK7HP2ZmZmZmZsY\\u002fMzMzMzMzwz+4HoXrUbi+P+F6FK5H4bo\\u002fmpmZmZmZuT8zMzMzMzOzP3sUrkfheqQ\\u002fexSuR+F6lD8AAAAAAAAAAHsUrkfheoS\\u002fexSuR+F6lL\\u002fsUbgeheuhvwrXo3A9Cqe\\u002fmpmZmZmZqb8pXI\\u002fC9Sisv7gehetRuK6\\u002fuB6F61G4rr+kcD0K16Owv+xRuB6F67G\\u002f7FG4HoXrsb8zMzMzMzOzvzMzMzMzM7O\\u002fMzMzMzMzs797FK5H4Xq0v8P1KFyPwrW\\u002fw\\u002fUoXI\\u002fCtb97FK5H4Xq0vzMzMzMzM7O\\u002fMzMzMzMzs78zMzMzMzOzv+xRuB6F67G\\u002f7FG4HoXrsb\\u002fsUbgeheuxv+xRuB6F67G\\u002fMzMzMzMzs797FK5H4Xq0vzMzMzMzM7O\\u002fKVyPwvUorL+amZmZmZmpv5qZmZmZmam\\u002fmpmZmZmZqb+amZmZmZmpvwrXo3A9Cqe\\u002fCtejcD0Kp78K16NwPQqnvwrXo3A9Cqe\\u002fmpmZmZmZqb+amZmZmZmpv3sUrkfheqS\\u002f7FG4HoXrob\\u002fsUbgeheuhv+xRuB6F66G\\u002f7FG4HoXrob\\u002fsUbgeheuhv5qZmZmZmZm\\u002fuB6F61G4jr+4HoXrUbiev5qZmZmZmam\\u002f7FG4HoXrob97FK5H4XqUv+xRuB6F66G\\u002fCtejcD0Kp7\\u002fsUbgeheuhv5qZmZmZmZm\\u002fCtejcD0Kp7+4HoXrUbiuv3sUrkfheqS\\u002f7FG4HoXrob8zMzMzMzOzv1K4HoXrUbi\\u002fuB6F61G4rr+4HoXrUbiev5qZmZmZmZm\\u002fexSuR+F6hL97FK5H4XqEP3sUrkfhepQ\\u002fexSuR+F6hD8AAAAAAAAAAAAAAAAAAAAAexSuR+F6dL+amZmZmZmZv5qZmZmZmZm\\u002fuB6F61G4jr97FK5H4XqUv+xRuB6F66G\\u002fmpmZmZmZqb+kcD0K16Owv+xRuB6F67G\\u002f7FG4HoXrsb\\u002fD9Shcj8K1vylcj8L1KLy\\u002fKVyPwvUovL9SuB6F61G4v5qZmZmZmbm\\u002f4XoUrkfhur+amZmZmZm5v1K4HoXrUbi\\u002fmpmZmZmZub\\u002fhehSuR+G6v+F6FK5H4bq\\u002fmpmZmZmZub\\u002fhehSuR+G6v+F6FK5H4bq\\u002fmpmZmZmZub9SuB6F61G4v5qZmZmZmbm\\u002fmpmZmZmZub8K16NwPQq3vzMzMzMzM7O\\u002fexSuR+F6lL+4HoXrUbiePylcj8L1KLw\\u002fH4XrUbgexT\\u002fXo3A9CtfDP+F6FK5H4bo\\u002fuB6F61G4nr97FK5H4XrEv4\\u002fC9Shcj9K\\u002fZmZmZmZm1r\\u002fNzMzMzMzUv0jhehSuR9G\\u002fZmZmZmZmxr+4HoXrUbi+v1K4HoXrUbi\\u002fUrgehetRuL8pXI\\u002fC9Si8v7gehetRuL6\\u002fAAAAAAAAwL+4HoXrUbi+v+F6FK5H4bq\\u002fCtejcD0Kt7\\u002fsUbgeheuxvzMzMzMzM7O\\u002fexSuR+F6tL\\u002fsUbgeheuxv5qZmZmZmam\\u002fmpmZmZmZqb8pXI\\u002fC9Sisv7gehetRuK6\\u002fpHA9CtejsL\\u002fsUbgeheuxv+xRuB6F67G\\u002f7FG4HoXrsb\\u002fsUbgeheuxv6RwPQrXo7C\\u002fuB6F61G4rr+4HoXrUbiuvylcj8L1KKy\\u002fmpmZmZmZqb+amZmZmZmpv5qZmZmZmam\\u002fmpmZmZmZqb97FK5H4Xqkv+xRuB6F66G\\u002fmpmZmZmZqb8pXI\\u002fC9Sisv7gehetRuJ6\\u002fexSuR+F6hL8AAAAAAAAAAAAAAAAAAAAAAAAAAAAAAAB7FK5H4Xp0P3sUrkfhenQ\\u002fexSuR+F6hD97FK5H4XqEP5qZmZmZmZk\\u002fmpmZmZmZqT\\u002fsUbgeheuxP1K4HoXrUbg\\u002f4XoUrkfhuj9xPQrXo3C9P6RwPQrXo8A\\u002fMzMzMzMzwz\\u002fD9Shcj8LFP1K4HoXrUcg\\u002fUrgehetRyD8K16NwPQrHPz0K16NwPco\\u002fFK5H4XoUzj8UrkfhehTOP3E9CtejcM0\\u002fFK5H4XoUzj+4HoXrUbjOPxSuR+F6FM4\\u002fzczMzMzMzD\\u002fhehSuR+HKP1K4HoXrUcg\\u002fZmZmZmZmxj\\u002fXo3A9CtfDP4\\u002fC9Shcj8I\\u002fpHA9CtejwD\\u002fhehSuR+G6P3sUrkfherQ\\u002fCtejcD0Kpz97FK5H4XqUP3sUrkfhepQ\\u002fexSuR+F6dD+amZmZmZmZvwrXo3A9Cqe\\u002fuB6F61G4nr+amZmZmZmZv+xRuB6F66G\\u002fCtejcD0Kp78K16NwPQqnv5qZmZmZmam\\u002fuB6F61G4rr\\u002fsUbgeheuxv+xRuB6F67G\\u002f7FG4HoXrsb\\u002fsUbgeheuxv7gehetRuK6\\u002fCtejcD0Kp7+amZmZmZmpvylcj8L1KKy\\u002fuB6F61G4rr+4HoXrUbiuv7gehetRuK6\\u002fpHA9CtejsL+4HoXrUbiuv5qZmZmZmam\\u002f7FG4HoXrob97FK5H4XqUvzMzMzMzM7O\\u002fSOF6FK5Hwb+amZmZmZnJv0jhehSuR9G\\u002frkfhehSu179mZmZmZmbev1yPwvUoXOO\\u002fXI\\u002fC9Shc57+4HoXrUbjqvz0K16NwPe6\\u002fSOF6FK5H8b+amZmZmZnzvylcj8L1KPa\\u002fexSuR+F6+L+uR+F6FK75v1K4HoXrUfq\\u002fhetRuB6F+b8AAAAAAAD4vx+F61G4HvW\\u002f7FG4HoXr8b+kcD0K16Psv4\\u002fC9Shcj+a\\u002fmpmZmZmZ4b8zMzMzMzPbv8P1KFyPwtW\\u002f9ihcj8L10L89CtejcD3Kv8P1KFyPwsW\\u002fexSuR+F6xL+PwvUoXI\\u002fCv7gehetRuL6\\u002fKVyPwvUovL8pXI\\u002fC9Si8v8P1KFyPwrW\\u002fKVyPwvUorL+amZmZmZmZvwAAAAAAAAAAmpmZmZmZmT8K16NwPQqnP5qZmZmZmak\\u002fmpmZmZmZqT+4HoXrUbiuP+xRuB6F67E\\u002fMzMzMzMzsz97FK5H4Xq0P1K4HoXrUbg\\u002f4XoUrkfhuj8AAAAAAADAP4\\u002fC9Shcj8I\\u002fexSuR+F6xD9mZmZmZmbGPz0K16NwPco\\u002fcT0K16NwzT+kcD0K16PQP4\\u002fC9Shcj9I\\u002fcT0K16Nw1T8AAAAAAADYP+xRuB6F69k\\u002f16NwPQrX2z8UrkfhehTePylcj8L1KOA\\u002fcT0K16Nw4T\\u002fhehSuR+HiP\\u002fYoXI\\u002fC9eQ\\u002fj8L1KFyP5j\\u002fXo3A9CtfnP\\u002fYoXI\\u002fC9eg\\u002f7FG4HoXr6T+4HoXrUbjqP4XrUbgehes\\u002fKVyPwvUo7D\\u002fNzMzMzMzsP6RwPQrXo+w\\u002fAAAAAAAA7D+F61G4HoXrP1yPwvUoXOs\\u002fPQrXo3A96j\\u002f2KFyPwvXoP9ejcD0K1+c\\u002fj8L1KFyP5j\\u002f2KFyPwvXkP1yPwvUoXOM\\u002f7FG4HoXr4T+kcD0K16PgP2ZmZmZmZt4\\u002f16NwPQrX2z89CtejcD3aP6RwPQrXo9g\\u002fFK5H4XoU1j8zMzMzMzPTP0jhehSuR9E\\u002fuB6F61G4zj\\u002fhehSuR+HKP65H4XoUrsc\\u002fH4XrUbgexT+PwvUoXI\\u002fCP+xRuB6F68E\\u002fSOF6FK5HwT9I4XoUrkfBP6RwPQrXo8A\\u002fuB6F61G4vj8pXI\\u002fC9Si8P5qZmZmZmbk\\u002fmpmZmZmZuT+amZmZmZm5P1K4HoXrUbg\\u002fw\\u002fUoXI\\u002fCtT\\u002fD9Shcj8K1P5qZmZmZmbk\\u002fUrgehetRuD\\u002fD9Shcj8K1P8P1KFyPwrU\\u002fw\\u002fUoXI\\u002fCtT97FK5H4Xq0P+xRuB6F67E\\u002fMzMzMzMzsz97FK5H4Xq0P+xRuB6F67E\\u002fKVyPwvUorD+kcD0K16OwP3sUrkfherQ\\u002f7FG4HoXrsT8pXI\\u002fC9SisP6RwPQrXo7A\\u002fexSuR+F6tD+kcD0K16OwPwrXo3A9Cqc\\u002fmpmZmZmZqT+4HoXrUbiuP5qZmZmZmZk\\u002fAAAAAAAAAACamZmZmZmZP5qZmZmZmak\\u002fmpmZmZmZmT97FK5H4XqEP3sUrkfhepQ\\u002fmpmZmZmZmT97FK5H4Xp0P3sUrkfhenS\\u002fexSuR+F6dL97FK5H4Xp0v3sUrkfhepS\\u002fexSuR+F6lL8AAAAAAAAAAHsUrkfheoQ\\u002fAAAAAAAAAAB7FK5H4XqEv3sUrkfheoS\\u002fexSuR+F6hL97FK5H4XqUv3sUrkfhepS\\u002fexSuR+F6lL97FK5H4XqUv7gehetRuJ6\\u002fmpmZmZmZmb+4HoXrUbiOv5qZmZmZmZm\\u002fexSuR+F6pL8K16NwPQqnvwrXo3A9Cqe\\u002fCtejcD0Kp78K16NwPQqnv3sUrkfheqS\\u002f7FG4HoXrob97FK5H4Xqkv5qZmZmZmam\\u002fexSuR+F6pL+4HoXrUbiev+xRuB6F66G\\u002fCtejcD0Kp78pXI\\u002fC9Sisv7gehetRuK6\\u002fuB6F61G4rr+4HoXrUbiuv7gehetRuK6\\u002fuB6F61G4rr+4HoXrUbiuv7gehetRuK6\\u002fmpmZmZmZqb8K16NwPQqnvwrXo3A9Cqe\\u002fmpmZmZmZqb8pXI\\u002fC9Sisv7gehetRuK6\\u002fuB6F61G4rr+4HoXrUbiuv7gehetRuK6\\u002fuB6F61G4rr\\u002fsUbgeheuxv+xRuB6F67G\\u002fpHA9CtejsL+4HoXrUbiuv7gehetRuK6\\u002fuB6F61G4rr+4HoXrUbiuv7gehetRuK6\\u002fpHA9CtejsL\\u002fsUbgeheuxv+xRuB6F67G\\u002fMzMzMzMzs797FK5H4Xq0v+xRuB6F67G\\u002fKVyPwvUorL+4HoXrUbiuv6RwPQrXo7C\\u002fpHA9CtejsL+4HoXrUbiuv7gehetRuK6\\u002fpHA9CtejsL+kcD0K16Owv7gehetRuK6\\u002fexSuR+F6tL+amZmZmZm5v3sUrkfherS\\u002fuB6F61G4rr8zMzMzMzOzvwrXo3A9Cre\\u002fexSuR+F6tL+kcD0K16Owv6RwPQrXo7C\\u002fpHA9CtejsL+kcD0K16Owv+xRuB6F67G\\u002fexSuR+F6tL8zMzMzMzOzv3sUrkfheqS\\u002fuB6F61G4jr97FK5H4XqEv3sUrkfhenS\\u002fAAAAAAAAAAAAAAAAAAAAAAAAAAAAAAAAexSuR+F6dL+4HoXrUbiOv5qZmZmZmZm\\u002fexSuR+F6pL97FK5H4Xqkv5qZmZmZmZm\\u002fuB6F61G4nr8pXI\\u002fC9Sisv+xRuB6F67G\\u002fw\\u002fUoXI\\u002fCtb8K16NwPQq3vwrXo3A9Cre\\u002fUrgehetRuL+amZmZmZm5v+F6FK5H4bq\\u002fKVyPwvUovL\\u002fhehSuR+G6v1K4HoXrUbi\\u002fUrgehetRuL9SuB6F61G4v1K4HoXrUbi\\u002fUrgehetRuL9SuB6F61G4vwrXo3A9Cre\\u002fCtejcD0Kt7\\u002fD9Shcj8K1vzMzMzMzM7O\\u002fKVyPwvUorL97FK5H4XqEP8P1KFyPwrU\\u002fj8L1KFyPwj8K16NwPQrHP3E9CtejcL0\\u002fuB6F61G4nj8AAAAAAADAv6RwPQrXo9C\\u002fuB6F61G41r+amZmZmZnZv2ZmZmZmZta\\u002fPQrXo3A90r\\u002f2KFyPwvXIv4\\u002fC9Shcj8K\\u002fSOF6FK5Hwb+PwvUoXI\\u002fCvx+F61G4HsW\\u002fw\\u002fUoXI\\u002fCxb97FK5H4XrEv0jhehSuR8G\\u002fKVyPwvUovL\\u002fhehSuR+G6vylcj8L1KLy\\u002fUrgehetRuL\\u002fsUbgeheuxv+xRuB6F67G\\u002fw\\u002fUoXI\\u002fCtb97FK5H4Xq0v+xRuB6F67G\\u002f7FG4HoXrsb\\u002fsUbgeheuxv+xRuB6F67G\\u002f7FG4HoXrsb8zMzMzMzOzv8P1KFyPwrW\\u002fpHA9CtejsL8K16NwPQqnvylcj8L1KKy\\u002fpHA9CtejsL+kcD0K16Owv6RwPQrXo7C\\u002fMzMzMzMzs7\\u002fD9Shcj8K1vzMzMzMzM7O\\u002fpHA9CtejsL+kcD0K16Owvylcj8L1KKy\\u002fmpmZmZmZmb97FK5H4XqEv3sUrkfhepS\\u002fexSuR+F6lL97FK5H4XqEv3sUrkfhenS\\u002fexSuR+F6dL8AAAAAAAAAAHsUrkfhenQ\\u002fuB6F61G4jj+4HoXrUbiOP3sUrkfhepQ\\u002f7FG4HoXroT8K16NwPQqnP5qZmZmZmak\\u002fuB6F61G4rj97FK5H4Xq0P8P1KFyPwrU\\u002fCtejcD0Ktz9SuB6F61G4P1K4HoXrUbg\\u002fUrgehetRuD9SuB6F61G4Pylcj8L1KLw\\u002fAAAAAAAAwD+kcD0K16PAP6RwPQrXo8A\\u002fSOF6FK5HwT9I4XoUrkfBP0jhehSuR8E\\u002fSOF6FK5HwT+4HoXrUbi+P+F6FK5H4bo\\u002fmpmZmZmZuT8K16NwPQq3P8P1KFyPwrU\\u002fexSuR+F6tD+kcD0K16OwP5qZmZmZmak\\u002f7FG4HoXroT+amZmZmZmZP3sUrkfhenQ\\u002fexSuR+F6dL97FK5H4XqUv7gehetRuJ6\\u002fCtejcD0Kp7+amZmZmZmpv5qZmZmZmam\\u002fmpmZmZmZqb+4HoXrUbiuv6RwPQrXo7C\\u002f7FG4HoXrsb8zMzMzMzOzvzMzMzMzM7O\\u002f7FG4HoXrsb\\u002fsUbgeheuxvzMzMzMzM7O\\u002fw\\u002fUoXI\\u002fCtb8zMzMzMzOzvylcj8L1KKy\\u002fKVyPwvUorL+kcD0K16Owv5qZmZmZmam\\u002fuB6F61G4nr97FK5H4Xqkv5qZmZmZmam\\u002f7FG4HoXrob+4HoXrUbiOv7gehetRuJ6\\u002fmpmZmZmZqb97FK5H4XqUv7gehetRuI4\\u002fAAAAAAAAAAAAAAAAAAAAAHsUrkfheoQ\\u002fexSuR+F6lD97FK5H4Xp0PwAAAAAAAAAAexSuR+F6dD97FK5H4XqEP3sUrkfhenQ\\u002fexSuR+F6dD+amZmZmZmZP3sUrkfheqQ\\u002fmpmZmZmZmT+4HoXrUbiOP7gehetRuI4\\u002fuB6F61G4jj8AAAAAAAAAAHsUrkfhenS\\u002fexSuR+F6dL97FK5H4XqEv5qZmZmZmZm\\u002fmpmZmZmZmb97FK5H4XqEv3sUrkfhenS\\u002fuB6F61G4jr+4HoXrUbievwrXo3A9Cqe\\u002fmpmZmZmZqb8K16NwPQqnv7gehetRuJ6\\u002fexSuR+F6hL8AAAAAAAAAAHsUrkfhenQ\\u002fuB6F61G4jj97FK5H4XqUP3sUrkfhepQ\\u002fuB6F61G4jj8AAAAAAAAAAHsUrkfhepS\\u002fmpmZmZmZmb+amZmZmZmZv+xRuB6F66G\\u002fCtejcD0Kp7+4HoXrUbiuvzMzMzMzM7O\\u002fexSuR+F6tL8K16NwPQq3vwrXo3A9Cre\\u002fUrgehetRuL9SuB6F61G4v1K4HoXrUbi\\u002f4XoUrkfhur9xPQrXo3C9v3E9CtejcL2\\u002fcT0K16Nwvb9xPQrXo3C9v7gehetRuL6\\u002fuB6F61G4vr+4HoXrUbi+v7gehetRuL6\\u002fcT0K16Nwvb8pXI\\u002fC9Si8vylcj8L1KLy\\u002fcT0K16Nwvb9xPQrXo3C9v3E9CtejcL2\\u002fexSuR+F6tL+amZmZmZmZvwrXo3A9Cqc\\u002fpHA9CtejwD9I4XoUrkfBP1K4HoXrUbg\\u002fmpmZmZmZmb+uR+F6FK7Hv4XrUbgehdO\\u002fPQrXo3A92r9I4XoUrkfZv7gehetRuNa\\u002fmpmZmZmZ0b\\u002f2KFyPwvXIv3sUrkfhesS\\u002fpHA9CtejwL8zMzMzMzPDv2ZmZmZmZsa\\u002fexSuR+F6xL\\u002fsUbgehevBv6RwPQrXo8C\\u002fcT0K16Nwvb\\u002fhehSuR+G6v5qZmZmZmbm\\u002fmpmZmZmZub9SuB6F61G4v3sUrkfherS\\u002fpHA9CtejsL+4HoXrUbiuv7gehetRuK6\\u002fpHA9CtejsL\\u002fsUbgeheuxv3sUrkfherS\\u002fMzMzMzMzs7+4HoXrUbiuvylcj8L1KKy\\u002fpHA9CtejsL+kcD0K16Owv5qZmZmZmam\\u002fCtejcD0Kp78pXI\\u002fC9Sisv5qZmZmZmam\\u002f7FG4HoXrob\\u002fsUbgeheuhv5qZmZmZmam\\u002f7FG4HoXrob+4HoXrUbiOv3sUrkfhepS\\u002fCtejcD0Kp7+4HoXrUbiOv3sUrkfhepQ\\u002fuB6F61G4jj8AAAAAAAAAAHsUrkfhepQ\\u002fmpmZmZmZqT+amZmZmZmpPwrXo3A9Cqc\\u002fpHA9CtejsD9SuB6F61G4PwrXo3A9Crc\\u002fCtejcD0Ktz8AAAAAAADAP3sUrkfhesQ\\u002fH4XrUbgexT9mZmZmZmbGP65H4XoUrsc\\u002fmpmZmZmZyT+F61G4HoXLP83MzMzMzMw\\u002fcT0K16NwzT9xPQrXo3DNP3E9CtejcM0\\u002fFK5H4XoUzj8AAAAAAADQP1K4HoXrUdA\\u002fXI\\u002fC9Shczz9xPQrXo3DNP4XrUbgehcs\\u002f9ihcj8L1yD97FK5H4XrEP0jhehSuR8E\\u002fcT0K16NwvT9SuB6F61G4PzMzMzMzM7M\\u002fpHA9CtejsD8pXI\\u002fC9SisP3sUrkfheqQ\\u002fexSuR+F6lD97FK5H4Xp0PwAAAAAAAAAAexSuR+F6dL97FK5H4XqUv5qZmZmZmZm\\u002fmpmZmZmZmb\\u002fsUbgeheuhvwrXo3A9Cqe\\u002fexSuR+F6pL+4HoXrUbiev7gehetRuJ6\\u002fuB6F61G4nr+4HoXrUbiev7gehetRuJ6\\u002f7FG4HoXrob8K16NwPQqnvwrXo3A9Cqe\\u002fCtejcD0Kp78K16NwPQqnv3sUrkfheqS\\u002fmpmZmZmZmb+4HoXrUbiOv3sUrkfhepS\\u002fexSuR+F6lL97FK5H4XqEvwAAAAAAAAAAAAAAAAAAAAAAAAAAAAAAAHsUrkfhenS\\u002fexSuR+F6dL97FK5H4Xp0vwAAAAAAAAAAAAAAAAAAAAB7FK5H4Xp0P3sUrkfhenQ\\u002fexSuR+F6dD97FK5H4Xp0PwAAAAAAAAAAAAAAAAAAAAAAAAAAAAAAAAAAAAAAAAAAAAAAAAAAAAAAAAAAAAAAAHsUrkfhenS\\u002fexSuR+F6hL97FK5H4XqEv3sUrkfheoS\\u002fuB6F61G4jr97FK5H4XqUv7gehetRuI6\\u002fexSuR+F6dL97FK5H4Xp0v3sUrkfheoS\\u002fuB6F61G4jr97FK5H4XqUv5qZmZmZmZm\\u002fuB6F61G4nr97FK5H4Xp0v3sUrkfhepQ\\u002f7FG4HoXroT8pXI\\u002fC9SisPylcj8L1KKw\\u002fmpmZmZmZqT\\u002fsUbgeheuhP5qZmZmZmZk\\u002fmpmZmZmZmT97FK5H4XqUP7gehetRuI4\\u002fexSuR+F6hD8AAAAAAAAAAHsUrkfheoS\\u002fexSuR+F6pL8zMzMzMzOzvylcj8L1KLy\\u002fj8L1KFyPwr9mZmZmZmbGv8P1KFyPwsW\\u002fAAAAAAAAwL\\u002fhehSuR+G6v5qZmZmZmbm\\u002fCtejcD0Kt78zMzMzMzOzv6RwPQrXo7C\\u002fuB6F61G4rr\\u002fD9Shcj8K1v7gehetRuL6\\u002fKVyPwvUovL8K16NwPQq3v1K4HoXrUbi\\u002fmpmZmZmZub\\u002fD9Shcj8K1v6RwPQrXo7C\\u002fuB6F61G4rr8pXI\\u002fC9Sisv3sUrkfheoS\\u002fuB6F61G4nj9SuB6F61G4P3sUrkfhesQ\\u002fH4XrUbgexT\\u002fXo3A9CtfDPwAAAAAAAAAA7FG4HoXrwb+4HoXrUbjOv3sUrkfhetS\\u002fzczMzMzM1L\\u002fXo3A9CtfTvz0K16NwPcq\\u002fAAAAAAAAwL9SuB6F61G4v3sUrkfherS\\u002fUrgehetRuL\\u002fhehSuR+G6v5qZmZmZmbm\\u002fCtejcD0Kt78zMzMzMzOzv+xRuB6F67G\\u002f7FG4HoXrsb+4HoXrUbiuv5qZmZmZmam\\u002fexSuR+F6pL+4HoXrUbiev7gehetRuJ6\\u002fuB6F61G4nr+4HoXrUbiev7gehetRuJ6\\u002fuB6F61G4nr+amZmZmZmZv3sUrkfheqS\\u002fpHA9CtejsL+kcD0K16Owv7gehetRuK6\\u002fexSuR+F6tL\\u002fhehSuR+G6v+xRuB6F68G\\u002fCtejcD0Kx797FK5H4XrEv+xRuB6F68G\\u002fKVyPwvUovL97FK5H4Xq0v6RwPQrXo7C\\u002fmpmZmZmZqb97FK5H4XqUvwAAAAAAAAAAexSuR+F6dD97FK5H4XqEP3sUrkfhenQ\\u002fAAAAAAAAAAB7FK5H4Xp0P3sUrkfheoQ\\u002fAAAAAAAAAACamZmZmZmZPzMzMzMzM8M\\u002fhetRuB6Fyz+uR+F6FK7HPx+F61G4HsU\\u002fexSuR+F6xD\\u002fXo3A9CtfDP9ejcD0K18M\\u002f16NwPQrXwz\\u002fXo3A9CtfDP8P1KFyPwsU\\u002fUrgehetRyD89CtejcD3KP4XrUbgehcs\\u002fmpmZmZmZyT9mZmZmZmbGP2ZmZmZmZsY\\u002fUrgehetRyD+F61G4HoXLPwAAAAAAANA\\u002fuB6F61G4zj+F61G4HoXLPz0K16NwPco\\u002fmpmZmZmZyT9mZmZmZmbGP4\\u002fC9Shcj8I\\u002fSOF6FK5HwT+kcD0K16PAP5qZmZmZmbk\\u002f7FG4HoXrsT+amZmZmZmpP7gehetRuJ4\\u002fmpmZmZmZmT+amZmZmZmZP5qZmZmZmZk\\u002fuB6F61G4nj\\u002fsUbgeheuhP+xRuB6F66E\\u002fexSuR+F6hD97FK5H4XqEv3sUrkfheoS\\u002fuB6F61G4jr+amZmZmZmZv+xRuB6F66G\\u002fCtejcD0Kp78K16NwPQqnv7gehetRuJ6\\u002fmpmZmZmZmb+amZmZmZmZv7gehetRuJ6\\u002fCtejcD0Kp797FK5H4Xqkv3sUrkfhepS\\u002fuB6F61G4jr+4HoXrUbiOv7gehetRuI6\\u002fuB6F61G4jr97FK5H4XqEv3sUrkfhenS\\u002fAAAAAAAAAAB7FK5H4XqEP7gehetRuI4\\u002fuB6F61G4jj97FK5H4XqEP3sUrkfheoQ\\u002fexSuR+F6hD97FK5H4XqEP5qZmZmZmZk\\u002fexSuR+F6pD\\u002fsUbgeheuhP5qZmZmZmZk\\u002fexSuR+F6dL+4HoXrUbiev3sUrkfheoS\\u002fexSuR+F6hD97FK5H4XqEP3sUrkfhenQ\\u002fAAAAAAAAAAB7FK5H4Xp0v3sUrkfhenS\\u002fexSuR+F6dL97FK5H4Xp0vwAAAAAAAAAAAAAAAAAAAAAAAAAAAAAAAHsUrkfheoQ\\u002fexSuR+F6lD\\u002fsUbgeheuhP6RwPQrXo7A\\u002f4XoUrkfhuj8pXI\\u002fC9Si8P+xRuB6F67E\\u002fexSuR+F6pD97FK5H4XqUP5qZmZmZmZk\\u002fCtejcD0Kpz8pXI\\u002fC9SisP6RwPQrXo7A\\u002f7FG4HoXroT97FK5H4Xp0v7gehetRuI6\\u002fuB6F61G4jr8AAAAAAAAAAHsUrkfheoQ\\u002fuB6F61G4jj+4HoXrUbiOP3sUrkfheoS\\u002fCtejcD0Kp78pXI\\u002fC9Sisv7gehetRuK6\\u002fmpmZmZmZqb\\u002fsUbgeheuhv5qZmZmZmZm\\u002fexSuR+F6lL+amZmZmZmZv5qZmZmZmZm\\u002fmpmZmZmZmb97FK5H4XqUv3sUrkfhenS\\u002fAAAAAAAAAACamZmZmZmZv3sUrkfheqS\\u002fuB6F61G4nr97FK5H4Xp0v7gehetRuK4\\u002f7FG4HoXrwT+4HoXrUbjOP+xRuB6F69E\\u002f4XoUrkfhyj9xPQrXo3C9P7gehetRuI6\\u002fpHA9CtejwL\\u002fhehSuR+HKv3E9CtejcM2\\u002fUrgehetRyL8AAAAAAADAv3sUrkfheqS\\u002fexSuR+F6dL97FK5H4Xp0v5qZmZmZmZm\\u002fuB6F61G4rr+kcD0K16Owvylcj8L1KKy\\u002fexSuR+F6pL+amZmZmZmZv5qZmZmZmZm\\u002fmpmZmZmZmb+amZmZmZmZv5qZmZmZmZm\\u002fmpmZmZmZmb+amZmZmZmZv3sUrkfhepS\\u002fexSuR+F6lL+amZmZmZmZv7gehetRuJ6\\u002fexSuR+F6lL97FK5H4Xp0v3sUrkfhenS\\u002fAAAAAAAAAAAAAAAAAAAAAAAAAAAAAAAAexSuR+F6dL97FK5H4XqEv3sUrkfheoS\\u002fexSuR+F6hL97FK5H4XqEv3sUrkfheoS\\u002fexSuR+F6dL8AAAAAAAAAAHsUrkfhenQ\\u002fexSuR+F6hD97FK5H4XqEP7gehetRuI4\\u002fmpmZmZmZmT+amZmZmZmZP7gehetRuI4\\u002fmpmZmZmZmT8K16NwPQqnP5qZmZmZmak\\u002fmpmZmZmZqT+4HoXrUbiuP8P1KFyPwrU\\u002fUrgehetRuD+amZmZmZm5P3E9CtejcL0\\u002fSOF6FK5HwT9I4XoUrkfBP0jhehSuR8E\\u002f16NwPQrXwz+uR+F6FK7HP\\u002fYoXI\\u002fC9cg\\u002fPQrXo3A9yj\\u002fhehSuR+HKP+F6FK5H4co\\u002fKVyPwvUozD8UrkfhehTOP4XrUbgehcs\\u002fmpmZmZmZyT89CtejcD3KP+F6FK5H4co\\u002f9ihcj8L1yD8K16NwPQrHP2ZmZmZmZsY\\u002fexSuR+F6xD9I4XoUrkfBPylcj8L1KLw\\u002fmpmZmZmZuT\\u002fD9Shcj8K1P7gehetRuK4\\u002fCtejcD0Kpz+amZmZmZmpPwrXo3A9Cqc\\u002fuB6F61G4nj+4HoXrUbiOP3sUrkfhenQ\\u002fAAAAAAAAAAAAAAAAAAAAAAAAAAAAAAAAAAAAAAAAAAAAAAAAAAAAAAAAAAAAAAAAAAAAAAAAAAB7FK5H4Xp0P3sUrkfhenQ\\u002fexSuR+F6dD8AAAAAAAAAAHsUrkfhenS\\u002fexSuR+F6hL+4HoXrUbiOv3sUrkfheoS\\u002fexSuR+F6dL8AAAAAAAAAAAAAAAAAAAAAexSuR+F6dD97FK5H4XqEP3sUrkfheoQ\\u002fexSuR+F6dD97FK5H4Xp0PwAAAAAAAAAAAAAAAAAAAAB7FK5H4Xp0v3sUrkfhenQ\\u002fuB6F61G4jj+4HoXrUbiOP7gehetRuI4\\u002fuB6F61G4jj+4HoXrUbiOP7gehetRuI4\\u002fexSuR+F6hD97FK5H4XqEP3sUrkfheoQ\\u002fuB6F61G4jj+4HoXrUbiOP3sUrkfhenQ\\u002fexSuR+F6dD+4HoXrUbiOP7gehetRuI4\\u002fAAAAAAAAAAAAAAAAAAAAAHsUrkfheoQ\\u002fAAAAAAAAAADsUbgeheuhv7gehetRuJ6\\u002fexSuR+F6hD97FK5H4XqUP3sUrkfhepQ\\u002fexSuR+F6pD97FK5H4Xq0P3sUrkfherQ\\u002fMzMzMzMzsz8zMzMzMzOzPzMzMzMzM7M\\u002fKVyPwvUorD\\u002fsUbgeheuhP3sUrkfheqQ\\u002fCtejcD0Kpz\\u002fsUbgeheuhP5qZmZmZmZk\\u002fexSuR+F6hD8AAAAAAAAAAHsUrkfheoS\\u002fmpmZmZmZmb\\u002fsUbgeheuhv3sUrkfheqS\\u002f7FG4HoXrob\\u002fsUbgeheuhv3sUrkfheqS\\u002fexSuR+F6pL\\u002fsUbgeheuhv7gehetRuJ6\\u002fCtejcD0Kp78pXI\\u002fC9Sisvylcj8L1KKy\\u002fKVyPwvUorL8pXI\\u002fC9Sisv5qZmZmZmam\\u002f7FG4HoXrob+4HoXrUbiev7gehetRuJ6\\u002fuB6F61G4nr+4HoXrUbiev7gehetRuI6\\u002fexSuR+F6hD97FK5H4Xq0P65H4XoUrsc\\u002fuB6F61G4zj9I4XoUrkfRPz0K16NwPco\\u002fmpmZmZmZuT+4HoXrUbiOv4\\u002fC9Shcj8K\\u002f9ihcj8L1yL8pXI\\u002fC9SjMvx+F61G4HsW\\u002fUrgehetRuL8K16NwPQqnvwAAAAAAAAAAexSuR+F6hL+amZmZmZmZvwrXo3A9Cqe\\u002fpHA9CtejsL8pXI\\u002fC9SisvwrXo3A9Cqe\\u002f7FG4HoXrob+4HoXrUbiev7gehetRuJ6\\u002fmpmZmZmZmb+amZmZmZmZv3sUrkfhepS\\u002fuB6F61G4jr97FK5H4XqEv3sUrkfheoS\\u002fexSuR+F6hL97FK5H4XqEv7gehetRuI6\\u002fuB6F61G4jr+4HoXrUbiOv5qZmZmZmZm\\u002fmpmZmZmZmb97FK5H4XqEv3sUrkfhenS\\u002fexSuR+F6dL97FK5H4Xp0vwAAAAAAAAAAAAAAAAAAAAB7FK5H4XqEv3sUrkfheoS\\u002fAAAAAAAAAAAAAAAAAAAAAAAAAAAAAAAAexSuR+F6hD+amZmZmZmZP5qZmZmZmZk\\u002fexSuR+F6lD+4HoXrUbiePwrXo3A9Cqc\\u002fmpmZmZmZqT+amZmZmZmpP7gehetRuK4\\u002f7FG4HoXrsT9SuB6F61G4P3E9CtejcL0\\u002fAAAAAAAAwD9I4XoUrkfBP4\\u002fC9Shcj8I\\u002f16NwPQrXwz\\u002fXo3A9CtfDP3sUrkfhesQ\\u002fCtejcD0Kxz9SuB6F61HIP1K4HoXrUcg\\u002f9ihcj8L1yD9xPQrXo3DNPwAAAAAAANA\\u002fcT0K16NwzT8pXI\\u002fC9SjMP3E9CtejcM0\\u002fzczMzMzMzD\\u002fhehSuR+HKP1K4HoXrUcg\\u002fCtejcD0Kxz97FK5H4XrEP6RwPQrXo8A\\u002fKVyPwvUovD\\u002fhehSuR+G6PwrXo3A9Crc\\u002fpHA9CtejsD8pXI\\u002fC9SisP5qZmZmZmak\\u002fexSuR+F6pD97FK5H4XqUP7gehetRuI4\\u002fexSuR+F6hD97FK5H4Xp0P3sUrkfhenQ\\u002fexSuR+F6dD97FK5H4Xp0P3sUrkfhenQ\\u002fexSuR+F6dD8AAAAAAAAAAAAAAAAAAAAAexSuR+F6dL97FK5H4Xp0v3sUrkfheoS\\u002fexSuR+F6hL97FK5H4Xp0vwAAAAAAAAAAAAAAAAAAAAAAAAAAAAAAAAAAAAAAAAAAAAAAAAAAAAB7FK5H4Xp0v3sUrkfheoS\\u002fuB6F61G4jr+4HoXrUbiOv3sUrkfhenS\\u002fAAAAAAAAAAB7FK5H4Xp0P3sUrkfheoQ\\u002fexSuR+F6hD97FK5H4XqEP3sUrkfheoQ\\u002fexSuR+F6hD97FK5H4XqEP3sUrkfhenQ\\u002fexSuR+F6dD97FK5H4Xp0P3sUrkfheoQ\\u002fuB6F61G4jj+4HoXrUbiOP7gehetRuI4\\u002fexSuR+F6dD8AAAAAAAAAAAAAAAAAAAAAAAAAAAAAAAB7FK5H4Xp0v3sUrkfhenS\\u002fAAAAAAAAAAB7FK5H4Xp0v7gehetRuI6\\u002fuB6F61G4jr97FK5H4XqEvwAAAAAAAAAAuB6F61G4jj\\u002fsUbgeheuhPylcj8L1KKw\\u002fmpmZmZmZqT+amZmZmZmpPylcj8L1KKw\\u002fuB6F61G4rj\\u002fsUbgeheuhP7gehetRuI4\\u002fexSuR+F6hD97FK5H4Xp0P3sUrkfhenS\\u002fuB6F61G4jr97FK5H4XqUv7gehetRuJ6\\u002fKVyPwvUorL+kcD0K16Owv3sUrkfheqS\\u002f7FG4HoXrob+amZmZmZmpvylcj8L1KKy\\u002fCtejcD0Kp7+amZmZmZmpv7gehetRuK6\\u002fuB6F61G4rr+amZmZmZmpv7gehetRuK6\\u002fMzMzMzMzs7\\u002fsUbgeheuxvylcj8L1KKy\\u002fKVyPwvUorL\\u002fsUbgeheuxv6RwPQrXo7C\\u002fKVyPwvUorL8pXI\\u002fC9Sisvylcj8L1KKy\\u002f7FG4HoXrob97FK5H4XqEv7gehetRuK4\\u002fMzMzMzMzwz8pXI\\u002fC9SjMP4\\u002fC9Shcj9I\\u002fmpmZmZmZyT\\u002fhehSuR+G6P7gehetRuJ6\\u002fw\\u002fUoXI\\u002fCxb+F61G4HoXLvwAAAAAAANC\\u002fCtejcD0Kx78pXI\\u002fC9Si8vwrXo3A9Cqe\\u002fAAAAAAAAAACamZmZmZmZvylcj8L1KKy\\u002fexSuR+F6tL9SuB6F61G4vwrXo3A9Cre\\u002fexSuR+F6tL+kcD0K16Owvylcj8L1KKy\\u002fmpmZmZmZqb8K16NwPQqnv+xRuB6F66G\\u002fuB6F61G4nr+4HoXrUbiev7gehetRuJ6\\u002fuB6F61G4nr+4HoXrUbiev3sUrkfheqS\\u002fexSuR+F6pL\\u002fsUbgeheuhv+xRuB6F66G\\u002f7FG4HoXrob+amZmZmZmZv7gehetRuI6\\u002fuB6F61G4jr+4HoXrUbiOv7gehetRuI6\\u002fexSuR+F6hL97FK5H4XqEv7gehetRuI6\\u002fuB6F61G4jr97FK5H4XqEvwAAAAAAAAAAAAAAAAAAAAB7FK5H4Xp0P7gehetRuI4\\u002fuB6F61G4jj+4HoXrUbiOP5qZmZmZmZk\\u002f7FG4HoXroT97FK5H4XqkP5qZmZmZmak\\u002fuB6F61G4rj8zMzMzMzOzP8P1KFyPwrU\\u002fUrgehetRuD9xPQrXo3C9P6RwPQrXo8A\\u002fSOF6FK5HwT+PwvUoXI\\u002fCP8P1KFyPwsU\\u002fCtejcD0Kxz8K16NwPQrHP1K4HoXrUcg\\u002f4XoUrkfhyj\\u002fNzMzMzMzMP83MzMzMzMw\\u002fcT0K16NwzT9xPQrXo3DNP3E9CtejcM0\\u002fzczMzMzMzD+F61G4HoXLP5qZmZmZmck\\u002fCtejcD0Kxz\\u002fXo3A9CtfDP+xRuB6F68E\\u002fSOF6FK5HwT9xPQrXo3C9P8P1KFyPwrU\\u002fpHA9CtejsD8K16NwPQqnP5qZmZmZmZk\\u002fexSuR+F6hD97FK5H4Xp0v3sUrkfhepS\\u002fexSuR+F6lL97FK5H4XqUv7gehetRuJ6\\u002fCtejcD0Kp78K16NwPQqnvwrXo3A9Cqe\\u002fmpmZmZmZqb+amZmZmZmpvwrXo3A9Cqe\\u002fCtejcD0Kp78pXI\\u002fC9Sisv7gehetRuK6\\u002fmpmZmZmZqb8K16NwPQqnv5qZmZmZmam\\u002fmpmZmZmZqb+amZmZmZmpv5qZmZmZmam\\u002fmpmZmZmZqb+amZmZmZmpv5qZmZmZmam\\u002fmpmZmZmZqb+4HoXrUbiuvylcj8L1KKy\\u002fexSuR+F6pL97FK5H4Xqkvylcj8L1KKy\\u002fKVyPwvUorL+amZmZmZmpv5qZmZmZmam\\u002fKVyPwvUorL+4HoXrUbiuv7gehetRuK6\\u002fmpmZmZmZqb\\u002fsUbgeheuhv+xRuB6F66G\\u002f7FG4HoXrob8K16NwPQqnvylcj8L1KKy\\u002fmpmZmZmZqb8K16NwPQqnv5qZmZmZmam\\u002fKVyPwvUorL+amZmZmZmpvwrXo3A9Cqe\\u002fCtejcD0Kp7+amZmZmZmpv5qZmZmZmam\\u002fmpmZmZmZqb8pXI\\u002fC9Sisv7gehetRuK6\\u002fKVyPwvUorL8K16NwPQqnvwrXo3A9Cqe\\u002f7FG4HoXrob8AAAAAAAAAALgehetRuI4\\u002fexSuR+F6dD97FK5H4Xp0P3sUrkfheoQ\\u002fexSuR+F6dD97FK5H4XqEv3sUrkfhepS\\u002fuB6F61G4jr97FK5H4XqUv3sUrkfheqS\\u002fCtejcD0Kp7\\u002fsUbgeheuhv5qZmZmZmam\\u002fMzMzMzMzs7\\u002fD9Shcj8K1v8P1KFyPwrW\\u002fw\\u002fUoXI\\u002fCtb\\u002fD9Shcj8K1vwrXo3A9Cre\\u002fCtejcD0Kt78K16NwPQq3vwrXo3A9Cre\\u002fCtejcD0Kt78K16NwPQq3v3sUrkfherS\\u002fMzMzMzMzs7\\u002fD9Shcj8K1v1K4HoXrUbi\\u002fCtejcD0Kt7\\u002fD9Shcj8K1v1K4HoXrUbi\\u002f4XoUrkfhur97FK5H4Xq0v5qZmZmZmam\\u002f7FG4HoXrob97FK5H4Xp0v+xRuB6F67E\\u002f7FG4HoXrwT9SuB6F61HIPz0K16NwPco\\u002fAAAAAAAAwD+4HoXrUbiePwrXo3A9Cre\\u002frkfhehSux78pXI\\u002fC9SjMvxSuR+F6FM6\\u002fPQrXo3A9yr\\u002fXo3A9CtfDv+xRuB6F67G\\u002f7FG4HoXrob8K16NwPQqnv+xRuB6F67G\\u002fmpmZmZmZub8pXI\\u002fC9Si8v5qZmZmZmbm\\u002fw\\u002fUoXI\\u002fCtb+kcD0K16Owv7gehetRuK6\\u002fuB6F61G4rr+4HoXrUbiuv7gehetRuK6\\u002fuB6F61G4rr+kcD0K16Owv6RwPQrXo7C\\u002fuB6F61G4rr+4HoXrUbiuv7gehetRuK6\\u002fKVyPwvUorL8pXI\\u002fC9Sisvylcj8L1KKy\\u002fuB6F61G4rr8pXI\\u002fC9Sisvylcj8L1KKy\\u002fuB6F61G4rr+kcD0K16Owv7gehetRuK6\\u002fmpmZmZmZqb8K16NwPQqnvwrXo3A9Cqe\\u002fCtejcD0Kp78K16NwPQqnvwrXo3A9Cqe\\u002fexSuR+F6pL+4HoXrUbiev3sUrkfhepS\\u002fexSuR+F6lL+4HoXrUbiOv3sUrkfheoS\\u002fexSuR+F6dL8AAAAAAAAAAHsUrkfhenQ\\u002fexSuR+F6dD97FK5H4XqEP3sUrkfhepQ\\u002fexSuR+F6lD+4HoXrUbiOP+xRuB6F66E\\u002f7FG4HoXrsT8zMzMzMzOzP+xRuB6F67E\\u002fw\\u002fUoXI\\u002fCtT\\u002fhehSuR+G6P+F6FK5H4bo\\u002fUrgehetRuD9xPQrXo3C9P+xRuB6F68E\\u002f7FG4HoXrwT\\u002fsUbgehevBP4\\u002fC9Shcj8I\\u002fMzMzMzMzwz8zMzMzMzPDP4\\u002fC9Shcj8I\\u002fSOF6FK5HwT8AAAAAAADAPylcj8L1KLw\\u002fCtejcD0Ktz\\u002fsUbgeheuxPylcj8L1KKw\\u002fKVyPwvUorD+amZmZmZmpP7gehetRuJ4\\u002fuB6F61G4jj97FK5H4XqEP3sUrkfhenQ\\u002fAAAAAAAAAAB7FK5H4XqEv7gehetRuI6\\u002fexSuR+F6lL97FK5H4XqUv3sUrkfhepS\\u002fexSuR+F6lL97FK5H4XqUv7gehetRuJ6\\u002fuB6F61G4nr+4HoXrUbiev+xRuB6F66G\\u002fCtejcD0Kp797FK5H4Xqkv7gehetRuJ6\\u002fmpmZmZmZmb97FK5H4XqUv3sUrkfhepS\\u002fexSuR+F6lL97FK5H4XqUv5qZmZmZmZm\\u002fmpmZmZmZmb97FK5H4XqUv5qZmZmZmZm\\u002fuB6F61G4nr97FK5H4XqUv3sUrkfheoS\\u002fexSuR+F6hL97FK5H4XqEv3sUrkfheoS\\u002fexSuR+F6hL97FK5H4Xp0v3sUrkfhenS\\u002fexSuR+F6dL97FK5H4Xp0vwAAAAAAAAAAexSuR+F6hD97FK5H4XqEP3sUrkfheoQ\\u002fexSuR+F6hD97FK5H4Xp0P3sUrkfhenS\\u002fexSuR+F6hL97FK5H4XqEv3sUrkfheoS\\u002fuB6F61G4jr+4HoXrUbiOv3sUrkfhenS\\u002fexSuR+F6dL+amZmZmZmZv5qZmZmZmZm\\u002fexSuR+F6hL97FK5H4Xp0P+xRuB6F66E\\u002fexSuR+F6pD+amZmZmZmZP3sUrkfhepQ\\u002fmpmZmZmZmT+4HoXrUbieP7gehetRuJ4\\u002fexSuR+F6lD97FK5H4Xp0PwAAAAAAAAAAuB6F61G4jr97FK5H4XqUv5qZmZmZmZm\\u002fCtejcD0Kp7+4HoXrUbiuv7gehetRuK6\\u002fuB6F61G4rr+4HoXrUbiuv6RwPQrXo7C\\u002f7FG4HoXrsb8zMzMzMzOzv3sUrkfherS\\u002fw\\u002fUoXI\\u002fCtb8K16NwPQq3vwrXo3A9Cre\\u002fexSuR+F6tL8zMzMzMzOzv3sUrkfherS\\u002fexSuR+F6tL8zMzMzMzOzvzMzMzMzM7O\\u002fw\\u002fUoXI\\u002fCtb9SuB6F61G4v1K4HoXrUbi\\u002fw\\u002fUoXI\\u002fCtb\\u002fsUbgeheuxvwrXo3A9Cqe\\u002fuB6F61G4jr+4HoXrUbieP5qZmZmZmbk\\u002f16NwPQrXwz\\u002f2KFyPwvXIPx+F61G4HsU\\u002fMzMzMzMzsz97FK5H4XqEv+F6FK5H4bq\\u002fCtejcD0Kx79cj8L1KFzPvylcj8L1KMy\\u002f16NwPQrXw78K16NwPQq3v3sUrkfhepS\\u002fuB6F61G4nr+4HoXrUbiuv1K4HoXrUbi\\u002fpHA9CtejwL8pXI\\u002fC9Si8vwrXo3A9Cre\\u002fexSuR+F6tL8zMzMzMzOzv6RwPQrXo7C\\u002fuB6F61G4rr8K16NwPQqnv+xRuB6F66G\\u002fuB6F61G4rr97FK5H4Xq0v7gehetRuK6\\u002fCtejcD0Kp7+4HoXrUbiuv+xRuB6F67G\\u002fKVyPwvUorL+amZmZmZmpv6RwPQrXo7C\\u002f7FG4HoXrsb+kcD0K16Owv7gehetRuK6\\u002fuB6F61G4rr8pXI\\u002fC9SisvwrXo3A9Cqe\\u002fCtejcD0Kp78K16NwPQqnvwrXo3A9Cqe\\u002fmpmZmZmZqb+amZmZmZmpvwrXo3A9Cqe\\u002fCtejcD0Kp78K16NwPQqnv+xRuB6F66G\\u002fexSuR+F6hL97FK5H4XqEv3sUrkfhepS\\u002fexSuR+F6hL8AAAAAAAAAAHsUrkfheoQ\\u002fuB6F61G4jj97FK5H4XqUP3sUrkfhepQ\\u002fuB6F61G4nj97FK5H4XqkP5qZmZmZmak\\u002fuB6F61G4rj+kcD0K16OwPzMzMzMzM7M\\u002fexSuR+F6tD8K16NwPQq3P1K4HoXrUbg\\u002f4XoUrkfhuj9xPQrXo3C9P6RwPQrXo8A\\u002f7FG4HoXrwT8zMzMzMzPDP4\\u002fC9Shcj8I\\u002f7FG4HoXrwT\\u002fsUbgehevBP0jhehSuR8E\\u002fuB6F61G4vj8pXI\\u002fC9Si8P5qZmZmZmbk\\u002fUrgehetRuD97FK5H4Xq0P+xRuB6F67E\\u002fpHA9CtejsD+amZmZmZmpP5qZmZmZmZk\\u002fexSuR+F6hD97FK5H4XqEPwAAAAAAAAAAmpmZmZmZmb97FK5H4XqUv3sUrkfhenS\\u002fexSuR+F6hL+amZmZmZmZv7gehetRuJ6\\u002fmpmZmZmZmb+4HoXrUbievwrXo3A9Cqe\\u002fmpmZmZmZqb+amZmZmZmpvylcj8L1KKy\\u002fKVyPwvUorL8K16NwPQqnv7gehetRuJ6\\u002f\"},\"type\":\"scatter\",\"xaxis\":\"x2\",\"yaxis\":\"y2\"},{\"line\":{\"color\":\"#636EFA\",\"width\":3},\"name\":\"Match at 1214\",\"x\":{\"dtype\":\"i2\",\"bdata\":\"vgS\\u002fBMAEwQTCBMMExATFBMYExwTIBMkEygTLBMwEzQTOBM8E0ATRBNIE0wTUBNUE1gTXBNgE2QTaBNsE3ATdBN4E3wTgBOEE4gTjBOQE5QTmBOcE6ATpBOoE6wTsBO0E7gTvBPAE8QTyBPME9AT1BPYE9wT4BPkE+gT7BPwE\\u002fQT+BP8EAAUBBQIFAwUEBQUFBgUHBQgFCQUKBQsFDAUNBQ4FDwUQBREFEgUTBRQFFQUWBRcFGAUZBRoFGwUcBR0FHgUfBSAFIQUiBSMFJAUlBSYFJwUoBSkFKgUrBSwFLQUuBS8FMAUxBTIFMwU0BTUFNgU3BTgFOQU6BTsFPAU9BT4FPwVABUEFQgVDBUQFRQVGBUcFSAVJBUoFSwVMBU0FTgVPBVAFUQVSBVMFVAVVBVYFVwVYBVkFWgVbBVwFXQVeBV8FYAVhBWIFYwVkBWUFZgVnBWgFaQVqBWsFbAVtBW4FbwVwBXEFcgVzBXQFdQV2BXcFeAV5BXoFewV8BX0FfgV\\u002fBYAFgQWCBYMFhAWFBYYFhwWIBYkFigWLBYwFjQWOBY8FkAWRBZIFkwWUBZUFlgWXBZgFmQWaBZsFnAWdBZ4FnwWgBaEFogWjBaQFpQWmBacFqAWpBaoFqwWsBa0FrgWvBbAFsQWyBbMFtAW1BbYFtwW4BbkFugW7BbwFvQW+Bb8FwAXBBcIFwwXEBcUFxgXHBcgFyQXKBcsFzAXNBc4FzwXQBdEF0gXTBdQF1QXWBdcF2AXZBdoF2wXcBd0F3gXfBeAF4QXiBeMF5AXlBeYF5wXoBekF6gXrBewF7QXuBe8F8AXxBfIF8wX0BfUF9gX3BfgF+QX6BfsF\\u002fAX9Bf4F\\u002fwUABgEGAgYDBgQGBQYGBgcGCAYJBgoGCwYMBg0GDgYPBhAGEQYSBhMGFAYVBhYGFwYYBhkGGgYbBhwGHQYeBh8GIAYhBiIGIwYkBiUGJgYnBigGKQYqBisGLAYtBi4GLwYwBjEGMgYzBjQGNQY2BjcGOAY5BjoGOwY8Bj0GPgY\\u002fBkAGQQZCBkMGRAZFBkYGRwZIBkkGSgZLBkwGTQZOBk8GUAZRBlIGUwZUBlUGVgZXBlgGWQZaBlsGXAZdBl4GXwZgBmEGYgY=\"},\"y\":{\"dtype\":\"f8\",\"bdata\":\"mpmZmZmZmb8K16NwPQqnv7gehetRuK6\\u002fexSuR+F6pL\\u002fsUbgeheuhvzMzMzMzM7O\\u002fUrgehetRuL+4HoXrUbiuv7gehetRuJ6\\u002fmpmZmZmZmb97FK5H4XqEv3sUrkfheoQ\\u002fexSuR+F6lD97FK5H4XqEPwAAAAAAAAAAAAAAAAAAAAB7FK5H4Xp0v5qZmZmZmZm\\u002fmpmZmZmZmb+4HoXrUbiOv3sUrkfhepS\\u002f7FG4HoXrob+amZmZmZmpv6RwPQrXo7C\\u002f7FG4HoXrsb\\u002fsUbgeheuxv8P1KFyPwrW\\u002fKVyPwvUovL8pXI\\u002fC9Si8v1K4HoXrUbi\\u002fmpmZmZmZub\\u002fhehSuR+G6v5qZmZmZmbm\\u002fUrgehetRuL+amZmZmZm5v+F6FK5H4bq\\u002f4XoUrkfhur+amZmZmZm5v+F6FK5H4bq\\u002f4XoUrkfhur+amZmZmZm5v1K4HoXrUbi\\u002fmpmZmZmZub+amZmZmZm5vwrXo3A9Cre\\u002fMzMzMzMzs797FK5H4XqUv7gehetRuJ4\\u002fKVyPwvUovD8fhetRuB7FP9ejcD0K18M\\u002f4XoUrkfhuj+4HoXrUbiev3sUrkfhesS\\u002fj8L1KFyP0r9mZmZmZmbWv83MzMzMzNS\\u002fSOF6FK5H0b9mZmZmZmbGv7gehetRuL6\\u002fUrgehetRuL9SuB6F61G4vylcj8L1KLy\\u002fuB6F61G4vr8AAAAAAADAv7gehetRuL6\\u002f4XoUrkfhur8K16NwPQq3v+xRuB6F67G\\u002fMzMzMzMzs797FK5H4Xq0v+xRuB6F67G\\u002fmpmZmZmZqb+amZmZmZmpvylcj8L1KKy\\u002fuB6F61G4rr+kcD0K16Owv+xRuB6F67G\\u002f7FG4HoXrsb\\u002fsUbgeheuxv+xRuB6F67G\\u002fpHA9CtejsL+4HoXrUbiuv7gehetRuK6\\u002fKVyPwvUorL+amZmZmZmpv5qZmZmZmam\\u002fmpmZmZmZqb+amZmZmZmpv3sUrkfheqS\\u002f7FG4HoXrob+amZmZmZmpvylcj8L1KKy\\u002fuB6F61G4nr97FK5H4XqEvwAAAAAAAAAAAAAAAAAAAAAAAAAAAAAAAHsUrkfhenQ\\u002fexSuR+F6dD97FK5H4XqEP3sUrkfheoQ\\u002fmpmZmZmZmT+amZmZmZmpP+xRuB6F67E\\u002fUrgehetRuD\\u002fhehSuR+G6P3E9CtejcL0\\u002fpHA9CtejwD8zMzMzMzPDP8P1KFyPwsU\\u002fUrgehetRyD9SuB6F61HIPwrXo3A9Csc\\u002fPQrXo3A9yj8UrkfhehTOPxSuR+F6FM4\\u002fcT0K16NwzT8UrkfhehTOP7gehetRuM4\\u002fFK5H4XoUzj\\u002fNzMzMzMzMP+F6FK5H4co\\u002fUrgehetRyD9mZmZmZmbGP9ejcD0K18M\\u002fj8L1KFyPwj+kcD0K16PAP+F6FK5H4bo\\u002fexSuR+F6tD8K16NwPQqnP3sUrkfhepQ\\u002fexSuR+F6lD97FK5H4Xp0P5qZmZmZmZm\\u002fCtejcD0Kp7+4HoXrUbiev5qZmZmZmZm\\u002f7FG4HoXrob8K16NwPQqnvwrXo3A9Cqe\\u002fmpmZmZmZqb+4HoXrUbiuv+xRuB6F67G\\u002f7FG4HoXrsb\\u002fsUbgeheuxv+xRuB6F67G\\u002fuB6F61G4rr8K16NwPQqnv5qZmZmZmam\\u002fKVyPwvUorL+4HoXrUbiuv7gehetRuK6\\u002fuB6F61G4rr+kcD0K16Owv7gehetRuK6\\u002fmpmZmZmZqb\\u002fsUbgeheuhv3sUrkfhepS\\u002fMzMzMzMzs79I4XoUrkfBv5qZmZmZmcm\\u002fSOF6FK5H0b+uR+F6FK7Xv2ZmZmZmZt6\\u002fXI\\u002fC9Shc479cj8L1KFznv7gehetRuOq\\u002fPQrXo3A97r9I4XoUrkfxv5qZmZmZmfO\\u002fKVyPwvUo9r97FK5H4Xr4v65H4XoUrvm\\u002fUrgehetR+r+F61G4HoX5vwAAAAAAAPi\\u002fH4XrUbge9b\\u002fsUbgehevxv6RwPQrXo+y\\u002fj8L1KFyP5r+amZmZmZnhvzMzMzMzM9u\\u002fw\\u002fUoXI\\u002fC1b\\u002f2KFyPwvXQvz0K16NwPcq\\u002fw\\u002fUoXI\\u002fCxb97FK5H4XrEv4\\u002fC9Shcj8K\\u002fuB6F61G4vr8pXI\\u002fC9Si8vylcj8L1KLy\\u002fw\\u002fUoXI\\u002fCtb8pXI\\u002fC9Sisv5qZmZmZmZm\\u002fAAAAAAAAAACamZmZmZmZPwrXo3A9Cqc\\u002fmpmZmZmZqT+amZmZmZmpP7gehetRuK4\\u002f7FG4HoXrsT8zMzMzMzOzP3sUrkfherQ\\u002fUrgehetRuD\\u002fhehSuR+G6PwAAAAAAAMA\\u002fj8L1KFyPwj97FK5H4XrEP2ZmZmZmZsY\\u002fPQrXo3A9yj9xPQrXo3DNP6RwPQrXo9A\\u002fj8L1KFyP0j9xPQrXo3DVPwAAAAAAANg\\u002f7FG4HoXr2T\\u002fXo3A9CtfbPxSuR+F6FN4\\u002fKVyPwvUo4D9xPQrXo3DhP+F6FK5H4eI\\u002f9ihcj8L15D+PwvUoXI\\u002fmP9ejcD0K1+c\\u002f9ihcj8L16D\\u002fsUbgehevpP7gehetRuOo\\u002fhetRuB6F6z8pXI\\u002fC9SjsP83MzMzMzOw\\u002fpHA9Ctej7D8AAAAAAADsP4XrUbgehes\\u002fXI\\u002fC9Shc6z89CtejcD3qP\\u002fYoXI\\u002fC9eg\\u002f16NwPQrX5z+PwvUoXI\\u002fmP\\u002fYoXI\\u002fC9eQ\\u002fXI\\u002fC9Shc4z\\u002fsUbgehevhP6RwPQrXo+A\\u002fZmZmZmZm3j\\u002fXo3A9CtfbPz0K16NwPdo\\u002fpHA9Ctej2D8UrkfhehTWPzMzMzMzM9M\\u002fSOF6FK5H0T+4HoXrUbjOP+F6FK5H4co\\u002frkfhehSuxz8fhetRuB7FP4\\u002fC9Shcj8I\\u002f7FG4HoXrwT9I4XoUrkfBP0jhehSuR8E\\u002fpHA9CtejwD+4HoXrUbi+Pylcj8L1KLw\\u002fmpmZmZmZuT+amZmZmZm5P5qZmZmZmbk\\u002fUrgehetRuD\\u002fD9Shcj8K1P8P1KFyPwrU\\u002fmpmZmZmZuT9SuB6F61G4P8P1KFyPwrU\\u002fw\\u002fUoXI\\u002fCtT\\u002fD9Shcj8K1P3sUrkfherQ\\u002f7FG4HoXrsT8zMzMzMzOzP3sUrkfherQ\\u002f7FG4HoXrsT8pXI\\u002fC9SisP6RwPQrXo7A\\u002fexSuR+F6tD\\u002fsUbgeheuxPylcj8L1KKw\\u002fpHA9CtejsD97FK5H4Xq0P6RwPQrXo7A\\u002fCtejcD0Kpz+amZmZmZmpP7gehetRuK4\\u002fmpmZmZmZmT8AAAAAAAAAAJqZmZmZmZk\\u002fmpmZmZmZqT+amZmZmZmZP3sUrkfheoQ\\u002fexSuR+F6lD+amZmZmZmZP3sUrkfhenQ\\u002fexSuR+F6dL97FK5H4Xp0v3sUrkfhenS\\u002fexSuR+F6lL97FK5H4XqUvwAAAAAAAAAAexSuR+F6hD8AAAAAAAAAAHsUrkfheoS\\u002fexSuR+F6hL97FK5H4XqEv3sUrkfhepS\\u002fexSuR+F6lL97FK5H4XqUv3sUrkfhepS\\u002fuB6F61G4nr+amZmZmZmZv7gehetRuI6\\u002fmpmZmZmZmb97FK5H4XqkvwrXo3A9Cqe\\u002fCtejcD0Kp78K16NwPQqnvwrXo3A9Cqe\\u002fexSuR+F6pL\\u002fsUbgeheuhv3sUrkfheqS\\u002fmpmZmZmZqb97FK5H4Xqkv7gehetRuJ6\\u002f7FG4HoXrob8K16NwPQqnvylcj8L1KKy\\u002fuB6F61G4rr+4HoXrUbiuv7gehetRuK6\\u002fuB6F61G4rr+4HoXrUbiuv7gehetRuK6\\u002fuB6F61G4rr+amZmZmZmpvwrXo3A9Cqe\\u002fCtejcD0Kp7+amZmZmZmpvylcj8L1KKy\\u002fuB6F61G4rr+4HoXrUbiuv7gehetRuK6\\u002fuB6F61G4rr+4HoXrUbiuv+xRuB6F67G\\u002f7FG4HoXrsb+kcD0K16Owv7gehetRuK6\\u002fuB6F61G4rr+4HoXrUbiuv7gehetRuK6\\u002fuB6F61G4rr+kcD0K16Owv+xRuB6F67G\\u002f7FG4HoXrsb8zMzMzMzOzv3sUrkfherS\\u002f7FG4HoXrsb8pXI\\u002fC9Sisv7gehetRuK6\\u002fpHA9CtejsL+kcD0K16Owv7gehetRuK6\\u002fuB6F61G4rr+kcD0K16Owv6RwPQrXo7C\\u002fuB6F61G4rr97FK5H4Xq0v5qZmZmZmbm\\u002fexSuR+F6tL+4HoXrUbiuvzMzMzMzM7O\\u002fCtejcD0Kt797FK5H4Xq0v6RwPQrXo7C\\u002fpHA9CtejsL+kcD0K16Owv6RwPQrXo7C\\u002f7FG4HoXrsb97FK5H4Xq0vzMzMzMzM7O\\u002fexSuR+F6pL+4HoXrUbiOv3sUrkfheoS\\u002fexSuR+F6dL8AAAAAAAAAAAAAAAAAAAAAAAAAAAAAAAB7FK5H4Xp0v7gehetRuI6\\u002fmpmZmZmZmb97FK5H4Xqkv3sUrkfheqS\\u002fmpmZmZmZmb+4HoXrUbievylcj8L1KKy\\u002f7FG4HoXrsb\\u002fD9Shcj8K1vwrXo3A9Cre\\u002fCtejcD0Kt79SuB6F61G4v5qZmZmZmbm\\u002f4XoUrkfhur8pXI\\u002fC9Si8v+F6FK5H4bq\\u002fUrgehetRuL9SuB6F61G4v1K4HoXrUbi\\u002fUrgehetRuL9SuB6F61G4v1K4HoXrUbi\\u002fCtejcD0Kt78K16NwPQq3v8P1KFyPwrW\\u002fMzMzMzMzs78pXI\\u002fC9Sisv3sUrkfheoQ\\u002fw\\u002fUoXI\\u002fCtT8=\"},\"type\":\"scatter\",\"xaxis\":\"x2\",\"yaxis\":\"y2\"},{\"line\":{\"color\":\"#EF553B\",\"width\":3},\"name\":\"Match at 192\",\"x\":{\"dtype\":\"i2\",\"bdata\":\"wADBAMIAwwDEAMUAxgDHAMgAyQDKAMsAzADNAM4AzwDQANEA0gDTANQA1QDWANcA2ADZANoA2wDcAN0A3gDfAOAA4QDiAOMA5ADlAOYA5wDoAOkA6gDrAOwA7QDuAO8A8ADxAPIA8wD0APUA9gD3APgA+QD6APsA\\u002fAD9AP4A\\u002fwAAAQEBAgEDAQQBBQEGAQcBCAEJAQoBCwEMAQ0BDgEPARABEQESARMBFAEVARYBFwEYARkBGgEbARwBHQEeAR8BIAEhASIBIwEkASUBJgEnASgBKQEqASsBLAEtAS4BLwEwATEBMgEzATQBNQE2ATcBOAE5AToBOwE8AT0BPgE\\u002fAUABQQFCAUMBRAFFAUYBRwFIAUkBSgFLAUwBTQFOAU8BUAFRAVIBUwFUAVUBVgFXAVgBWQFaAVsBXAFdAV4BXwFgAWEBYgFjAWQBZQFmAWcBaAFpAWoBawFsAW0BbgFvAXABcQFyAXMBdAF1AXYBdwF4AXkBegF7AXwBfQF+AX8BgAGBAYIBgwGEAYUBhgGHAYgBiQGKAYsBjAGNAY4BjwGQAZEBkgGTAZQBlQGWAZcBmAGZAZoBmwGcAZ0BngGfAaABoQGiAaMBpAGlAaYBpwGoAakBqgGrAawBrQGuAa8BsAGxAbIBswG0AbUBtgG3AbgBuQG6AbsBvAG9Ab4BvwHAAcEBwgHDAcQBxQHGAccByAHJAcoBywHMAc0BzgHPAdAB0QHSAdMB1AHVAdYB1wHYAdkB2gHbAdwB3QHeAd8B4AHhAeIB4wHkAeUB5gHnAegB6QHqAesB7AHtAe4B7wHwAfEB8gHzAfQB9QH2AfcB+AH5AfoB+wH8Af0B\\u002fgH\\u002fAQACAQICAgMCBAIFAgYCBwIIAgkCCgILAgwCDQIOAg8CEAIRAhICEwIUAhUCFgIXAhgCGQIaAhsCHAIdAh4CHwIgAiECIgIjAiQCJQImAicCKAIpAioCKwIsAi0CLgIvAjACMQIyAjMCNAI1AjYCNwI4AjkCOgI7AjwCPQI+Aj8CQAJBAkICQwJEAkUCRgJHAkgCSQJKAksCTAJNAk4CTwJQAlECUgJTAlQCVQJWAlcCWAJZAloCWwJcAl0CXgJfAmACYQJiAmMCZAI=\"},\"y\":{\"dtype\":\"f8\",\"bdata\":\"7FG4HoXrsb8zMzMzMzOzv5qZmZmZmbm\\u002fmpmZmZmZub\\u002fD9Shcj8K1v8P1KFyPwrW\\u002fw\\u002fUoXI\\u002fCtb97FK5H4Xq0v+xRuB6F67G\\u002fMzMzMzMzs797FK5H4Xq0v+xRuB6F67G\\u002fKVyPwvUorL+amZmZmZmpv5qZmZmZmam\\u002fuB6F61G4rr\\u002fsUbgeheuxv5qZmZmZmam\\u002fuB6F61G4nr8K16NwPQqnv7gehetRuK6\\u002fmpmZmZmZmb8AAAAAAAAAAHsUrkfhenS\\u002fexSuR+F6hL97FK5H4Xp0P7gehetRuI4\\u002fuB6F61G4jj97FK5H4XqUP3sUrkfheqQ\\u002fuB6F61G4rj+4HoXrUbiuPzMzMzMzM7M\\u002f4XoUrkfhuj+kcD0K16PAP6RwPQrXo8A\\u002f7FG4HoXrwT97FK5H4XrEP8P1KFyPwsU\\u002fw\\u002fUoXI\\u002fCxT9mZmZmZmbGP2ZmZmZmZsY\\u002frkfhehSuxz+amZmZmZnJP+F6FK5H4co\\u002f4XoUrkfhyj+amZmZmZnJP65H4XoUrsc\\u002fH4XrUbgexT\\u002fsUbgehevBP3E9CtejcL0\\u002fUrgehetRuD+kcD0K16OwP7gehetRuJ4\\u002fexSuR+F6lD97FK5H4XqUPwAAAAAAAAAAuB6F61G4jr\\u002fsUbgeheuhv7gehetRuK6\\u002fpHA9CtejsL8zMzMzMzOzv8P1KFyPwrW\\u002fUrgehetRuL9SuB6F61G4vwrXo3A9Cre\\u002fCtejcD0Kt78K16NwPQq3v1K4HoXrUbi\\u002fmpmZmZmZub+amZmZmZm5v5qZmZmZmbm\\u002fmpmZmZmZub+amZmZmZm5v+F6FK5H4bq\\u002f4XoUrkfhur9SuB6F61G4vwrXo3A9Cre\\u002fexSuR+F6tL8zMzMzMzOzv8P1KFyPwrW\\u002fw\\u002fUoXI\\u002fCtb\\u002fD9Shcj8K1v8P1KFyPwrW\\u002fw\\u002fUoXI\\u002fCtb97FK5H4Xq0v6RwPQrXo7C\\u002fmpmZmZmZqb8K16NwPQqnvwrXo3A9Cqe\\u002fCtejcD0Kp78K16NwPQqnvwrXo3A9Cqe\\u002fexSuR+F6pL\\u002fsUbgeheuhv3sUrkfheqS\\u002fmpmZmZmZqb97FK5H4Xqkv7gehetRuJ6\\u002f7FG4HoXrob97FK5H4Xqkv+xRuB6F66G\\u002f7FG4HoXrob97FK5H4XqkvwrXo3A9Cqe\\u002fCtejcD0Kp7+amZmZmZmpvylcj8L1KKy\\u002fKVyPwvUorL\\u002fsUbgeheuhv5qZmZmZmZm\\u002fCtejcD0Kp7+4HoXrUbiuv7gehetRuK6\\u002fuB6F61G4rr+kcD0K16Owv+xRuB6F67G\\u002fw\\u002fUoXI\\u002fCtb97FK5H4Xq0vylcj8L1KKy\\u002fCtejcD0Kp78K16NwPQqnv3sUrkfheqS\\u002fuB6F61G4nr+4HoXrUbiev3sUrkfheqS\\u002fexSuR+F6pL+4HoXrUbiev3sUrkfheqS\\u002fuB6F61G4rr+kcD0K16Owv7gehetRuK6\\u002fMzMzMzMzs79SuB6F61G4vwrXo3A9Cre\\u002fMzMzMzMzs797FK5H4Xq0v8P1KFyPwrW\\u002fCtejcD0Kt78K16NwPQq3v1K4HoXrUbi\\u002fUrgehetRuL+amZmZmZm5v5qZmZmZmbm\\u002fmpmZmZmZub+amZmZmZm5v1K4HoXrUbi\\u002fUrgehetRuL+amZmZmZm5v+F6FK5H4bq\\u002fmpmZmZmZub+amZmZmZm5v5qZmZmZmbm\\u002f4XoUrkfhur\\u002fhehSuR+G6v+F6FK5H4bq\\u002fKVyPwvUovL8pXI\\u002fC9Si8vylcj8L1KLy\\u002fcT0K16Nwvb8AAAAAAADAv3E9CtejcL2\\u002f7FG4HoXrsb97FK5H4XqEv+xRuB6F67E\\u002fSOF6FK5HwT+uR+F6FK7HP0jhehSuR8E\\u002fuB6F61G4jj9I4XoUrkfBv4XrUbgehdO\\u002fpHA9Ctej2L\\u002fhehSuR+Hav2ZmZmZmZta\\u002fFK5H4XoUzr97FK5H4XrEv1K4HoXrUbi\\u002fcT0K16Nwvb8zMzMzMzPDvzMzMzMzM8O\\u002fj8L1KFyPwr\\u002fsUbgehevBv+xRuB6F68G\\u002fmpmZmZmZub+4HoXrUbiuv+xRuB6F67G\\u002fexSuR+F6tL+kcD0K16Owv5qZmZmZmam\\u002fpHA9CtejsL97FK5H4Xq0v7gehetRuK6\\u002fmpmZmZmZqb\\u002fsUbgeheuxvzMzMzMzM7O\\u002fmpmZmZmZqb\\u002fsUbgeheuhv5qZmZmZmam\\u002fKVyPwvUorL+amZmZmZmpvwrXo3A9Cqe\\u002fCtejcD0Kp78K16NwPQqnvwrXo3A9Cqe\\u002fexSuR+F6pL97FK5H4XqUv3sUrkfheoS\\u002fexSuR+F6hL97FK5H4Xp0vwAAAAAAAAAAexSuR+F6dD97FK5H4Xp0P3sUrkfheoQ\\u002fuB6F61G4jj+4HoXrUbieP5qZmZmZmak\\u002fpHA9CtejsD97FK5H4Xq0PwrXo3A9Crc\\u002fmpmZmZmZuT+4HoXrUbi+P0jhehSuR8E\\u002f7FG4HoXrwT+PwvUoXI\\u002fCP8P1KFyPwsU\\u002f9ihcj8L1yD+F61G4HoXLP3E9CtejcM0\\u002fuB6F61G4zj9SuB6F61HQP1K4HoXrUdA\\u002fpHA9Ctej0D\\u002fsUbgehevRP+F6FK5H4dI\\u002fPQrXo3A90j+amZmZmZnRP+F6FK5H4dI\\u002fMzMzMzMz0z\\u002fsUbgehevRP1K4HoXrUdA\\u002fFK5H4XoUzj+F61G4HoXLP1K4HoXrUcg\\u002f16NwPQrXwz+4HoXrUbi+P5qZmZmZmbk\\u002fmpmZmZmZuT\\u002fD9Shcj8K1PwrXo3A9Cqc\\u002fmpmZmZmZmT+amZmZmZmZP3sUrkfheoQ\\u002fAAAAAAAAAAB7FK5H4XqEv3sUrkfheoS\\u002fmpmZmZmZmb97FK5H4Xqkv+xRuB6F66G\\u002fexSuR+F6lL+4HoXrUbiev3sUrkfheqS\\u002fCtejcD0Kp78K16NwPQqnv3sUrkfheqS\\u002f7FG4HoXrob\\u002fsUbgeheuhv+xRuB6F66G\\u002fexSuR+F6lL97FK5H4XqEv3sUrkfhepS\\u002fmpmZmZmZmb97FK5H4XqUv7gehetRuI6\\u002fuB6F61G4jr97FK5H4XqEv3sUrkfheoS\\u002fexSuR+F6dL97FK5H4Xp0vwAAAAAAAAAAexSuR+F6dD97FK5H4XqEP3sUrkfhenQ\\u002fexSuR+F6dD97FK5H4XqEP3sUrkfheoQ\\u002fexSuR+F6hD97FK5H4XqEP7gehetRuI4\\u002fuB6F61G4jj+4HoXrUbiOP7gehetRuI4\\u002fexSuR+F6lD+4HoXrUbiOP3sUrkfhenQ\\u002fAAAAAAAAAAAAAAAAAAAAAHsUrkfhenS\\u002fexSuR+F6dL8AAAAAAAAAAAAAAAAAAAAAAAAAAAAAAAAAAAAAAAAAAAAAAAAAAAAAexSuR+F6dL97FK5H4XqEv3sUrkfheoS\\u002fuB6F61G4jr+amZmZmZmZv3sUrkfhepS\\u002fexSuR+F6hL+4HoXrUbiOv3sUrkfhepS\\u002fexSuR+F6hL97FK5H4Xp0v3sUrkfhenS\\u002fexSuR+F6dL97FK5H4XqEv3sUrkfheoS\\u002fexSuR+F6hL97FK5H4Xp0vwAAAAAAAAAAAAAAAAAAAAB7FK5H4Xp0v3sUrkfhepS\\u002fmpmZmZmZqb\\u002fsUbgeheuxv+xRuB6F67G\\u002fpHA9CtejsL+kcD0K16Owv5qZmZmZmam\\u002fmpmZmZmZmb+amZmZmZmZv5qZmZmZmam\\u002f7FG4HoXrsb97FK5H4Xq0v8P1KFyPwrW\\u002fw\\u002fUoXI\\u002fCtb8K16NwPQq3v1K4HoXrUbi\\u002fw\\u002fUoXI\\u002fCtb+kcD0K16Owv+xRuB6F67G\\u002fCtejcD0Kt7\\u002fD9Shcj8K1vzMzMzMzM7O\\u002fMzMzMzMzs78zMzMzMzOzv3sUrkfherS\\u002fCtejcD0Kt79SuB6F61G4v1K4HoXrUbi\\u002fexSuR+F6tL+kcD0K16Owv7gehetRuK6\\u002fmpmZmZmZqb8AAAAAAAAAALgehetRuK4\\u002fj8L1KFyPwj+F61G4HoXLP1K4HoXrUcg\\u002fSOF6FK5HwT8AAAAAAAAAAOxRuB6F68G\\u002f9ihcj8L10L\\u002fD9Shcj8LVvylcj8L1KNS\\u002f9ihcj8L10L8fhetRuB7Fv1K4HoXrUbi\\u002f7FG4HoXrsb+kcD0K16Owv8P1KFyPwrW\\u002fUrgehetRuL9SuB6F61G4vwrXo3A9Cre\\u002fw\\u002fUoXI\\u002fCtb97FK5H4Xq0v+xRuB6F67G\\u002fpHA9CtejsL+kcD0K16Owv7gehetRuK6\\u002fKVyPwvUorL+amZmZmZmpvwrXo3A9Cqe\\u002fCtejcD0Kp7+amZmZmZmpvylcj8L1KKy\\u002fKVyPwvUorL8pXI\\u002fC9Sisv7gehetRuK6\\u002fKVyPwvUorL8K16NwPQqnv3sUrkfheqS\\u002f7FG4HoXrob\\u002fsUbgeheuhv+xRuB6F66G\\u002fexSuR+F6pL97FK5H4Xqkv+xRuB6F66G\\u002f7FG4HoXrob\\u002fsUbgeheuhv7gehetRuJ6\\u002fuB6F61G4jr8AAAAAAAAAAAAAAAAAAAAAAAAAAAAAAAAAAAAAAAAAAHsUrkfhenQ\\u002fuB6F61G4jj97FK5H4XqUP3sUrkfhepQ\\u002fmpmZmZmZmT8K16NwPQqnP7gehetRuK4\\u002fMzMzMzMzsz8K16NwPQq3Pylcj8L1KLw\\u002fcT0K16NwvT9xPQrXo3C9P6RwPQrXo8A\\u002fexSuR+F6xD8=\"},\"type\":\"scatter\",\"xaxis\":\"x2\",\"yaxis\":\"y2\"}],                        {\"template\":{\"data\":{\"histogram2dcontour\":[{\"type\":\"histogram2dcontour\",\"colorbar\":{\"outlinewidth\":0,\"ticks\":\"\"},\"colorscale\":[[0.0,\"#0d0887\"],[0.1111111111111111,\"#46039f\"],[0.2222222222222222,\"#7201a8\"],[0.3333333333333333,\"#9c179e\"],[0.4444444444444444,\"#bd3786\"],[0.5555555555555556,\"#d8576b\"],[0.6666666666666666,\"#ed7953\"],[0.7777777777777778,\"#fb9f3a\"],[0.8888888888888888,\"#fdca26\"],[1.0,\"#f0f921\"]]}],\"choropleth\":[{\"type\":\"choropleth\",\"colorbar\":{\"outlinewidth\":0,\"ticks\":\"\"}}],\"histogram2d\":[{\"type\":\"histogram2d\",\"colorbar\":{\"outlinewidth\":0,\"ticks\":\"\"},\"colorscale\":[[0.0,\"#0d0887\"],[0.1111111111111111,\"#46039f\"],[0.2222222222222222,\"#7201a8\"],[0.3333333333333333,\"#9c179e\"],[0.4444444444444444,\"#bd3786\"],[0.5555555555555556,\"#d8576b\"],[0.6666666666666666,\"#ed7953\"],[0.7777777777777778,\"#fb9f3a\"],[0.8888888888888888,\"#fdca26\"],[1.0,\"#f0f921\"]]}],\"heatmap\":[{\"type\":\"heatmap\",\"colorbar\":{\"outlinewidth\":0,\"ticks\":\"\"},\"colorscale\":[[0.0,\"#0d0887\"],[0.1111111111111111,\"#46039f\"],[0.2222222222222222,\"#7201a8\"],[0.3333333333333333,\"#9c179e\"],[0.4444444444444444,\"#bd3786\"],[0.5555555555555556,\"#d8576b\"],[0.6666666666666666,\"#ed7953\"],[0.7777777777777778,\"#fb9f3a\"],[0.8888888888888888,\"#fdca26\"],[1.0,\"#f0f921\"]]}],\"contourcarpet\":[{\"type\":\"contourcarpet\",\"colorbar\":{\"outlinewidth\":0,\"ticks\":\"\"}}],\"contour\":[{\"type\":\"contour\",\"colorbar\":{\"outlinewidth\":0,\"ticks\":\"\"},\"colorscale\":[[0.0,\"#0d0887\"],[0.1111111111111111,\"#46039f\"],[0.2222222222222222,\"#7201a8\"],[0.3333333333333333,\"#9c179e\"],[0.4444444444444444,\"#bd3786\"],[0.5555555555555556,\"#d8576b\"],[0.6666666666666666,\"#ed7953\"],[0.7777777777777778,\"#fb9f3a\"],[0.8888888888888888,\"#fdca26\"],[1.0,\"#f0f921\"]]}],\"surface\":[{\"type\":\"surface\",\"colorbar\":{\"outlinewidth\":0,\"ticks\":\"\"},\"colorscale\":[[0.0,\"#0d0887\"],[0.1111111111111111,\"#46039f\"],[0.2222222222222222,\"#7201a8\"],[0.3333333333333333,\"#9c179e\"],[0.4444444444444444,\"#bd3786\"],[0.5555555555555556,\"#d8576b\"],[0.6666666666666666,\"#ed7953\"],[0.7777777777777778,\"#fb9f3a\"],[0.8888888888888888,\"#fdca26\"],[1.0,\"#f0f921\"]]}],\"mesh3d\":[{\"type\":\"mesh3d\",\"colorbar\":{\"outlinewidth\":0,\"ticks\":\"\"}}],\"scatter\":[{\"fillpattern\":{\"fillmode\":\"overlay\",\"size\":10,\"solidity\":0.2},\"type\":\"scatter\"}],\"parcoords\":[{\"type\":\"parcoords\",\"line\":{\"colorbar\":{\"outlinewidth\":0,\"ticks\":\"\"}}}],\"scatterpolargl\":[{\"type\":\"scatterpolargl\",\"marker\":{\"colorbar\":{\"outlinewidth\":0,\"ticks\":\"\"}}}],\"bar\":[{\"error_x\":{\"color\":\"#2a3f5f\"},\"error_y\":{\"color\":\"#2a3f5f\"},\"marker\":{\"line\":{\"color\":\"#E5ECF6\",\"width\":0.5},\"pattern\":{\"fillmode\":\"overlay\",\"size\":10,\"solidity\":0.2}},\"type\":\"bar\"}],\"scattergeo\":[{\"type\":\"scattergeo\",\"marker\":{\"colorbar\":{\"outlinewidth\":0,\"ticks\":\"\"}}}],\"scatterpolar\":[{\"type\":\"scatterpolar\",\"marker\":{\"colorbar\":{\"outlinewidth\":0,\"ticks\":\"\"}}}],\"histogram\":[{\"marker\":{\"pattern\":{\"fillmode\":\"overlay\",\"size\":10,\"solidity\":0.2}},\"type\":\"histogram\"}],\"scattergl\":[{\"type\":\"scattergl\",\"marker\":{\"colorbar\":{\"outlinewidth\":0,\"ticks\":\"\"}}}],\"scatter3d\":[{\"type\":\"scatter3d\",\"line\":{\"colorbar\":{\"outlinewidth\":0,\"ticks\":\"\"}},\"marker\":{\"colorbar\":{\"outlinewidth\":0,\"ticks\":\"\"}}}],\"scattermap\":[{\"type\":\"scattermap\",\"marker\":{\"colorbar\":{\"outlinewidth\":0,\"ticks\":\"\"}}}],\"scattermapbox\":[{\"type\":\"scattermapbox\",\"marker\":{\"colorbar\":{\"outlinewidth\":0,\"ticks\":\"\"}}}],\"scatterternary\":[{\"type\":\"scatterternary\",\"marker\":{\"colorbar\":{\"outlinewidth\":0,\"ticks\":\"\"}}}],\"scattercarpet\":[{\"type\":\"scattercarpet\",\"marker\":{\"colorbar\":{\"outlinewidth\":0,\"ticks\":\"\"}}}],\"carpet\":[{\"aaxis\":{\"endlinecolor\":\"#2a3f5f\",\"gridcolor\":\"white\",\"linecolor\":\"white\",\"minorgridcolor\":\"white\",\"startlinecolor\":\"#2a3f5f\"},\"baxis\":{\"endlinecolor\":\"#2a3f5f\",\"gridcolor\":\"white\",\"linecolor\":\"white\",\"minorgridcolor\":\"white\",\"startlinecolor\":\"#2a3f5f\"},\"type\":\"carpet\"}],\"table\":[{\"cells\":{\"fill\":{\"color\":\"#EBF0F8\"},\"line\":{\"color\":\"white\"}},\"header\":{\"fill\":{\"color\":\"#C8D4E3\"},\"line\":{\"color\":\"white\"}},\"type\":\"table\"}],\"barpolar\":[{\"marker\":{\"line\":{\"color\":\"#E5ECF6\",\"width\":0.5},\"pattern\":{\"fillmode\":\"overlay\",\"size\":10,\"solidity\":0.2}},\"type\":\"barpolar\"}],\"pie\":[{\"automargin\":true,\"type\":\"pie\"}]},\"layout\":{\"autotypenumbers\":\"strict\",\"colorway\":[\"#636efa\",\"#EF553B\",\"#00cc96\",\"#ab63fa\",\"#FFA15A\",\"#19d3f3\",\"#FF6692\",\"#B6E880\",\"#FF97FF\",\"#FECB52\"],\"font\":{\"color\":\"#2a3f5f\"},\"hovermode\":\"closest\",\"hoverlabel\":{\"align\":\"left\"},\"paper_bgcolor\":\"white\",\"plot_bgcolor\":\"#E5ECF6\",\"polar\":{\"bgcolor\":\"#E5ECF6\",\"angularaxis\":{\"gridcolor\":\"white\",\"linecolor\":\"white\",\"ticks\":\"\"},\"radialaxis\":{\"gridcolor\":\"white\",\"linecolor\":\"white\",\"ticks\":\"\"}},\"ternary\":{\"bgcolor\":\"#E5ECF6\",\"aaxis\":{\"gridcolor\":\"white\",\"linecolor\":\"white\",\"ticks\":\"\"},\"baxis\":{\"gridcolor\":\"white\",\"linecolor\":\"white\",\"ticks\":\"\"},\"caxis\":{\"gridcolor\":\"white\",\"linecolor\":\"white\",\"ticks\":\"\"}},\"coloraxis\":{\"colorbar\":{\"outlinewidth\":0,\"ticks\":\"\"}},\"colorscale\":{\"sequential\":[[0.0,\"#0d0887\"],[0.1111111111111111,\"#46039f\"],[0.2222222222222222,\"#7201a8\"],[0.3333333333333333,\"#9c179e\"],[0.4444444444444444,\"#bd3786\"],[0.5555555555555556,\"#d8576b\"],[0.6666666666666666,\"#ed7953\"],[0.7777777777777778,\"#fb9f3a\"],[0.8888888888888888,\"#fdca26\"],[1.0,\"#f0f921\"]],\"sequentialminus\":[[0.0,\"#0d0887\"],[0.1111111111111111,\"#46039f\"],[0.2222222222222222,\"#7201a8\"],[0.3333333333333333,\"#9c179e\"],[0.4444444444444444,\"#bd3786\"],[0.5555555555555556,\"#d8576b\"],[0.6666666666666666,\"#ed7953\"],[0.7777777777777778,\"#fb9f3a\"],[0.8888888888888888,\"#fdca26\"],[1.0,\"#f0f921\"]],\"diverging\":[[0,\"#8e0152\"],[0.1,\"#c51b7d\"],[0.2,\"#de77ae\"],[0.3,\"#f1b6da\"],[0.4,\"#fde0ef\"],[0.5,\"#f7f7f7\"],[0.6,\"#e6f5d0\"],[0.7,\"#b8e186\"],[0.8,\"#7fbc41\"],[0.9,\"#4d9221\"],[1,\"#276419\"]]},\"xaxis\":{\"gridcolor\":\"white\",\"linecolor\":\"white\",\"ticks\":\"\",\"title\":{\"standoff\":15},\"zerolinecolor\":\"white\",\"automargin\":true,\"zerolinewidth\":2},\"yaxis\":{\"gridcolor\":\"white\",\"linecolor\":\"white\",\"ticks\":\"\",\"title\":{\"standoff\":15},\"zerolinecolor\":\"white\",\"automargin\":true,\"zerolinewidth\":2},\"scene\":{\"xaxis\":{\"backgroundcolor\":\"#E5ECF6\",\"gridcolor\":\"white\",\"linecolor\":\"white\",\"showbackground\":true,\"ticks\":\"\",\"zerolinecolor\":\"white\",\"gridwidth\":2},\"yaxis\":{\"backgroundcolor\":\"#E5ECF6\",\"gridcolor\":\"white\",\"linecolor\":\"white\",\"showbackground\":true,\"ticks\":\"\",\"zerolinecolor\":\"white\",\"gridwidth\":2},\"zaxis\":{\"backgroundcolor\":\"#E5ECF6\",\"gridcolor\":\"white\",\"linecolor\":\"white\",\"showbackground\":true,\"ticks\":\"\",\"zerolinecolor\":\"white\",\"gridwidth\":2}},\"shapedefaults\":{\"line\":{\"color\":\"#2a3f5f\"}},\"annotationdefaults\":{\"arrowcolor\":\"#2a3f5f\",\"arrowhead\":0,\"arrowwidth\":1},\"geo\":{\"bgcolor\":\"white\",\"landcolor\":\"#E5ECF6\",\"subunitcolor\":\"white\",\"showland\":true,\"showlakes\":true,\"lakecolor\":\"white\"},\"title\":{\"x\":0.05},\"mapbox\":{\"style\":\"light\"}}},\"xaxis\":{\"anchor\":\"y\",\"domain\":[0.0,0.096],\"tickfont\":{\"size\":18,\"color\":\"black\"},\"showgrid\":false,\"linecolor\":\"#000\",\"ticks\":\"outside\",\"linewidth\":1,\"tickwidth\":1,\"mirror\":true},\"yaxis\":{\"anchor\":\"x\",\"domain\":[0.0,1.0],\"tickfont\":{\"size\":18,\"color\":\"black\"},\"showgrid\":false,\"linecolor\":\"#000\",\"ticks\":\"outside\",\"zeroline\":false,\"linewidth\":1,\"tickwidth\":1,\"mirror\":true},\"xaxis2\":{\"anchor\":\"y2\",\"domain\":[0.136,1.0],\"tickfont\":{\"size\":18,\"color\":\"black\"},\"showgrid\":false,\"linecolor\":\"#000\",\"ticks\":\"outside\",\"linewidth\":1,\"tickwidth\":1,\"mirror\":true},\"yaxis2\":{\"anchor\":\"x2\",\"domain\":[0.0,1.0],\"tickfont\":{\"size\":18,\"color\":\"black\"},\"showgrid\":false,\"linecolor\":\"#000\",\"ticks\":\"outside\",\"zeroline\":false,\"linewidth\":1,\"tickwidth\":1,\"mirror\":true},\"annotations\":[{\"font\":{\"size\":24,\"color\":\"black\"},\"showarrow\":false,\"text\":\"Query\",\"x\":0.048,\"xanchor\":\"center\",\"xref\":\"paper\",\"y\":1.0,\"yanchor\":\"bottom\",\"yref\":\"paper\"},{\"font\":{\"size\":24,\"color\":\"black\"},\"showarrow\":false,\"text\":\"Time Series\",\"x\":0.5680000000000001,\"xanchor\":\"center\",\"xref\":\"paper\",\"y\":1.0,\"yanchor\":\"bottom\",\"yref\":\"paper\"}],\"title\":{\"x\":0.5},\"plot_bgcolor\":\"rgba(0,0,0,0)\",\"paper_bgcolor\":\"rgba(0,0,0,0)\",\"showlegend\":true},                        {\"responsive\": true}                    ).then(function(){\n",
              "                            \n",
              "var gd = document.getElementById('6d276951-f93a-4882-9fc1-0da1020f6894');\n",
              "var x = new MutationObserver(function (mutations, observer) {{\n",
              "        var display = window.getComputedStyle(gd).display;\n",
              "        if (!display || display === 'none') {{\n",
              "            console.log([gd, 'removed!']);\n",
              "            Plotly.purge(gd);\n",
              "            observer.disconnect();\n",
              "        }}\n",
              "}});\n",
              "\n",
              "// Listen for the removal of the full notebook cells\n",
              "var notebookContainer = gd.closest('#notebook-container');\n",
              "if (notebookContainer) {{\n",
              "    x.observe(notebookContainer, {childList: true});\n",
              "}}\n",
              "\n",
              "// Listen for the clearing of the current output cell\n",
              "var outputEl = gd.closest('.output');\n",
              "if (outputEl) {{\n",
              "    x.observe(outputEl, {childList: true});\n",
              "}}\n",
              "\n",
              "                        })                };            </script>        </div>\n",
              "</body>\n",
              "</html>"
            ]
          },
          "metadata": {},
          "output_type": "display_data"
        }
      ],
      "source": [
        "import numpy as np\n",
        "from mass_ts import mass\n",
        "import math\n",
        "from modules.bestmatch import topK_match\n",
        "from modules.plots import plot_bestmatch_results\n",
        "from modules.utils import read_ts\n",
        "\n",
        "# Загружаем данные\n",
        "ts_url = './datasets/part1/ECG.csv'\n",
        "query_url = './datasets/part1/ECG_query.csv'\n",
        "\n",
        "ts = read_ts(ts_url).reshape(-1)\n",
        "query = read_ts(query_url).reshape(-1)\n",
        "\n",
        "# Параметры\n",
        "topK = 2\n",
        "excl_zone_frac = 0.5\n",
        "excl_zone = math.ceil(len(query) * excl_zone_frac)\n",
        "\n",
        "# Вычисляем профиль расстояния с помощью MASS\n",
        "dist_profile = mass(ts, query)\n",
        "\n",
        "# Используем только вещественную часть (для версий MASS2/MASS3)\n",
        "dist_profile = np.real(dist_profile)\n",
        "\n",
        "# Находим topK похожих подпоследовательностей\n",
        "bestmatch_results = topK_match(dist_profile, topK=topK, excl_zone=excl_zone)\n",
        "\n",
        "print(bestmatch_results)\n",
        "\n",
        "# Визуализируем результаты\n",
        "plot_bestmatch_results(ts, query, bestmatch_results)\n"
      ]
    },
    {
      "cell_type": "markdown",
      "metadata": {
        "id": "5i7Uhch8VZZz"
      },
      "source": [
        "### **Задача 3.**\n",
        "\n",
        "Проведите две серии экспериментов по сравнению быстродействия алгоритмов грубой силы и трех версий MASS:\n",
        "1. на фиксированной длине запроса $m$ при изменяемой длине временного ряда $n$;\n",
        "2. на фиксированной длине временного ряда $n$ при изменяемой длине запроса $m$.\n",
        "\n",
        "Все необходимые для проведения экспериментов функции находятся в модуле *experiments.py*.\n",
        "\n",
        "Сначала сгенерируйте по аналогии временные ряды и запросы поиска различных длин, как это было сделано в практической работе 1. Далее измерьте время выполнения алгоритмов при заданных входных параметрах и данных с помощью функции `run_experiment()`. Полученные результаты (время выполнения) каждого эксперимента отобразите на линейном графике, воспользовавшись функцией `visualize_plot_times()`.\n",
        "\n",
        "Также вычислите ускорение с помощью функции `calculate_speedup()`, показывающее, во сколько раз алгоритм MASS превосходит по времени выполнения алгоритма грубой силы, по следующей формуле:\n",
        "\\begin{equation}\n",
        "speedup = \\frac{t_{BF}}{t_{MASS}},\n",
        "\\end{equation}\n",
        "где $t_{BF}$ и $t_{MASS}$ — время работы алгоритма грубой силы и MASS соответственно.\n",
        "\n",
        "Полученные ускорения оформите в виде таблицы, для построения используйте функцию `visualize_table_speedup()`."
      ]
    },
    {
      "cell_type": "markdown",
      "metadata": {
        "id": "GOWbuMLAVj4W"
      },
      "source": [
        "Эксперимент 1"
      ]
    },
    {
      "cell_type": "code",
      "execution_count": 31,
      "metadata": {
        "id": "rlBjMrt-wcBG"
      },
      "outputs": [
        {
          "data": {
            "text/html": [
              "<html>\n",
              "<head><meta charset=\"utf-8\" /></head>\n",
              "<body>\n",
              "    <div>            <script src=\"https://cdnjs.cloudflare.com/ajax/libs/mathjax/2.7.5/MathJax.js?config=TeX-AMS-MML_SVG\"></script><script type=\"text/javascript\">if (window.MathJax && window.MathJax.Hub && window.MathJax.Hub.Config) {window.MathJax.Hub.Config({SVG: {font: \"STIX-Web\"}});}</script>                <script type=\"text/javascript\">window.PlotlyConfig = {MathJaxConfig: 'local'};</script>\n",
              "        <script charset=\"utf-8\" src=\"https://cdn.plot.ly/plotly-3.1.1.min.js\" integrity=\"sha256-HUEFyfiTnZJxCxur99FjbKYTvKSzwDaD3/x5TqHpFu4=\" crossorigin=\"anonymous\"></script>                <div id=\"84832aae-1e34-42ec-9ee0-26e97f2da811\" class=\"plotly-graph-div\" style=\"height:600px; width:1000px;\"></div>            <script type=\"text/javascript\">                window.PLOTLYENV=window.PLOTLYENV || {};                                if (document.getElementById(\"84832aae-1e34-42ec-9ee0-26e97f2da811\")) {                    Plotly.newPlot(                        \"84832aae-1e34-42ec-9ee0-26e97f2da811\",                        [{\"line\":{\"width\":3},\"name\":\"brute_force\",\"x\":{\"dtype\":\"i4\",\"bdata\":\"AIAAAAAAAQAAAAIAAAAEAAAACAAAABAA\"},\"y\":{\"dtype\":\"f8\",\"bdata\":\"AICkth7P9j8AgC7X7HLyPwAAo\\u002fhCUvg\\u002fAADI\\u002fVhiCEAAoK3YX+4YQACwNvnS4ChA\"},\"type\":\"scatter\"},{\"line\":{\"width\":3},\"name\":\"mass\",\"x\":{\"dtype\":\"i4\",\"bdata\":\"AIAAAAAAAQAAAAIAAAAEAAAACAAAABAA\"},\"y\":{\"dtype\":\"f8\",\"bdata\":\"AAAATAwTdz8AAECn592IPwAAQOrouJo\\u002fAABwirA8qz8AAOCvNQC8PwAA4F9fRs8\\u002f\"},\"type\":\"scatter\"},{\"line\":{\"width\":3},\"name\":\"mass2\",\"x\":{\"dtype\":\"i4\",\"bdata\":\"AIAAAAAAAQAAAAIAAAAEAAAACAAAABAA\"},\"y\":{\"dtype\":\"f8\",\"bdata\":\"AACASqwxjT8AAKAvGLecPwAAMP59xq0\\u002fAABQdSOHvz8AAKZIGczQPwAAWSsk6uA\\u002f\"},\"type\":\"scatter\"},{\"line\":{\"width\":3},\"name\":\"mass3\",\"x\":{\"dtype\":\"i4\",\"bdata\":\"AIAAAAAAAQAAAAIAAAAEAAAACAAAABAA\"},\"y\":{\"dtype\":\"f8\",\"bdata\":\"AACg3hrYkj8AAJDmj2mhPwAAoMX3arA\\u002fAADAV754wz8AAGR5svbaPwCAMN+wY\\u002fM\\u002f\"},\"type\":\"scatter\"}],                        {\"template\":{\"data\":{\"histogram2dcontour\":[{\"type\":\"histogram2dcontour\",\"colorbar\":{\"outlinewidth\":0,\"ticks\":\"\"},\"colorscale\":[[0.0,\"#0d0887\"],[0.1111111111111111,\"#46039f\"],[0.2222222222222222,\"#7201a8\"],[0.3333333333333333,\"#9c179e\"],[0.4444444444444444,\"#bd3786\"],[0.5555555555555556,\"#d8576b\"],[0.6666666666666666,\"#ed7953\"],[0.7777777777777778,\"#fb9f3a\"],[0.8888888888888888,\"#fdca26\"],[1.0,\"#f0f921\"]]}],\"choropleth\":[{\"type\":\"choropleth\",\"colorbar\":{\"outlinewidth\":0,\"ticks\":\"\"}}],\"histogram2d\":[{\"type\":\"histogram2d\",\"colorbar\":{\"outlinewidth\":0,\"ticks\":\"\"},\"colorscale\":[[0.0,\"#0d0887\"],[0.1111111111111111,\"#46039f\"],[0.2222222222222222,\"#7201a8\"],[0.3333333333333333,\"#9c179e\"],[0.4444444444444444,\"#bd3786\"],[0.5555555555555556,\"#d8576b\"],[0.6666666666666666,\"#ed7953\"],[0.7777777777777778,\"#fb9f3a\"],[0.8888888888888888,\"#fdca26\"],[1.0,\"#f0f921\"]]}],\"heatmap\":[{\"type\":\"heatmap\",\"colorbar\":{\"outlinewidth\":0,\"ticks\":\"\"},\"colorscale\":[[0.0,\"#0d0887\"],[0.1111111111111111,\"#46039f\"],[0.2222222222222222,\"#7201a8\"],[0.3333333333333333,\"#9c179e\"],[0.4444444444444444,\"#bd3786\"],[0.5555555555555556,\"#d8576b\"],[0.6666666666666666,\"#ed7953\"],[0.7777777777777778,\"#fb9f3a\"],[0.8888888888888888,\"#fdca26\"],[1.0,\"#f0f921\"]]}],\"contourcarpet\":[{\"type\":\"contourcarpet\",\"colorbar\":{\"outlinewidth\":0,\"ticks\":\"\"}}],\"contour\":[{\"type\":\"contour\",\"colorbar\":{\"outlinewidth\":0,\"ticks\":\"\"},\"colorscale\":[[0.0,\"#0d0887\"],[0.1111111111111111,\"#46039f\"],[0.2222222222222222,\"#7201a8\"],[0.3333333333333333,\"#9c179e\"],[0.4444444444444444,\"#bd3786\"],[0.5555555555555556,\"#d8576b\"],[0.6666666666666666,\"#ed7953\"],[0.7777777777777778,\"#fb9f3a\"],[0.8888888888888888,\"#fdca26\"],[1.0,\"#f0f921\"]]}],\"surface\":[{\"type\":\"surface\",\"colorbar\":{\"outlinewidth\":0,\"ticks\":\"\"},\"colorscale\":[[0.0,\"#0d0887\"],[0.1111111111111111,\"#46039f\"],[0.2222222222222222,\"#7201a8\"],[0.3333333333333333,\"#9c179e\"],[0.4444444444444444,\"#bd3786\"],[0.5555555555555556,\"#d8576b\"],[0.6666666666666666,\"#ed7953\"],[0.7777777777777778,\"#fb9f3a\"],[0.8888888888888888,\"#fdca26\"],[1.0,\"#f0f921\"]]}],\"mesh3d\":[{\"type\":\"mesh3d\",\"colorbar\":{\"outlinewidth\":0,\"ticks\":\"\"}}],\"scatter\":[{\"fillpattern\":{\"fillmode\":\"overlay\",\"size\":10,\"solidity\":0.2},\"type\":\"scatter\"}],\"parcoords\":[{\"type\":\"parcoords\",\"line\":{\"colorbar\":{\"outlinewidth\":0,\"ticks\":\"\"}}}],\"scatterpolargl\":[{\"type\":\"scatterpolargl\",\"marker\":{\"colorbar\":{\"outlinewidth\":0,\"ticks\":\"\"}}}],\"bar\":[{\"error_x\":{\"color\":\"#2a3f5f\"},\"error_y\":{\"color\":\"#2a3f5f\"},\"marker\":{\"line\":{\"color\":\"#E5ECF6\",\"width\":0.5},\"pattern\":{\"fillmode\":\"overlay\",\"size\":10,\"solidity\":0.2}},\"type\":\"bar\"}],\"scattergeo\":[{\"type\":\"scattergeo\",\"marker\":{\"colorbar\":{\"outlinewidth\":0,\"ticks\":\"\"}}}],\"scatterpolar\":[{\"type\":\"scatterpolar\",\"marker\":{\"colorbar\":{\"outlinewidth\":0,\"ticks\":\"\"}}}],\"histogram\":[{\"marker\":{\"pattern\":{\"fillmode\":\"overlay\",\"size\":10,\"solidity\":0.2}},\"type\":\"histogram\"}],\"scattergl\":[{\"type\":\"scattergl\",\"marker\":{\"colorbar\":{\"outlinewidth\":0,\"ticks\":\"\"}}}],\"scatter3d\":[{\"type\":\"scatter3d\",\"line\":{\"colorbar\":{\"outlinewidth\":0,\"ticks\":\"\"}},\"marker\":{\"colorbar\":{\"outlinewidth\":0,\"ticks\":\"\"}}}],\"scattermap\":[{\"type\":\"scattermap\",\"marker\":{\"colorbar\":{\"outlinewidth\":0,\"ticks\":\"\"}}}],\"scattermapbox\":[{\"type\":\"scattermapbox\",\"marker\":{\"colorbar\":{\"outlinewidth\":0,\"ticks\":\"\"}}}],\"scatterternary\":[{\"type\":\"scatterternary\",\"marker\":{\"colorbar\":{\"outlinewidth\":0,\"ticks\":\"\"}}}],\"scattercarpet\":[{\"type\":\"scattercarpet\",\"marker\":{\"colorbar\":{\"outlinewidth\":0,\"ticks\":\"\"}}}],\"carpet\":[{\"aaxis\":{\"endlinecolor\":\"#2a3f5f\",\"gridcolor\":\"white\",\"linecolor\":\"white\",\"minorgridcolor\":\"white\",\"startlinecolor\":\"#2a3f5f\"},\"baxis\":{\"endlinecolor\":\"#2a3f5f\",\"gridcolor\":\"white\",\"linecolor\":\"white\",\"minorgridcolor\":\"white\",\"startlinecolor\":\"#2a3f5f\"},\"type\":\"carpet\"}],\"table\":[{\"cells\":{\"fill\":{\"color\":\"#EBF0F8\"},\"line\":{\"color\":\"white\"}},\"header\":{\"fill\":{\"color\":\"#C8D4E3\"},\"line\":{\"color\":\"white\"}},\"type\":\"table\"}],\"barpolar\":[{\"marker\":{\"line\":{\"color\":\"#E5ECF6\",\"width\":0.5},\"pattern\":{\"fillmode\":\"overlay\",\"size\":10,\"solidity\":0.2}},\"type\":\"barpolar\"}],\"pie\":[{\"automargin\":true,\"type\":\"pie\"}]},\"layout\":{\"autotypenumbers\":\"strict\",\"colorway\":[\"#636efa\",\"#EF553B\",\"#00cc96\",\"#ab63fa\",\"#FFA15A\",\"#19d3f3\",\"#FF6692\",\"#B6E880\",\"#FF97FF\",\"#FECB52\"],\"font\":{\"color\":\"#2a3f5f\"},\"hovermode\":\"closest\",\"hoverlabel\":{\"align\":\"left\"},\"paper_bgcolor\":\"white\",\"plot_bgcolor\":\"#E5ECF6\",\"polar\":{\"bgcolor\":\"#E5ECF6\",\"angularaxis\":{\"gridcolor\":\"white\",\"linecolor\":\"white\",\"ticks\":\"\"},\"radialaxis\":{\"gridcolor\":\"white\",\"linecolor\":\"white\",\"ticks\":\"\"}},\"ternary\":{\"bgcolor\":\"#E5ECF6\",\"aaxis\":{\"gridcolor\":\"white\",\"linecolor\":\"white\",\"ticks\":\"\"},\"baxis\":{\"gridcolor\":\"white\",\"linecolor\":\"white\",\"ticks\":\"\"},\"caxis\":{\"gridcolor\":\"white\",\"linecolor\":\"white\",\"ticks\":\"\"}},\"coloraxis\":{\"colorbar\":{\"outlinewidth\":0,\"ticks\":\"\"}},\"colorscale\":{\"sequential\":[[0.0,\"#0d0887\"],[0.1111111111111111,\"#46039f\"],[0.2222222222222222,\"#7201a8\"],[0.3333333333333333,\"#9c179e\"],[0.4444444444444444,\"#bd3786\"],[0.5555555555555556,\"#d8576b\"],[0.6666666666666666,\"#ed7953\"],[0.7777777777777778,\"#fb9f3a\"],[0.8888888888888888,\"#fdca26\"],[1.0,\"#f0f921\"]],\"sequentialminus\":[[0.0,\"#0d0887\"],[0.1111111111111111,\"#46039f\"],[0.2222222222222222,\"#7201a8\"],[0.3333333333333333,\"#9c179e\"],[0.4444444444444444,\"#bd3786\"],[0.5555555555555556,\"#d8576b\"],[0.6666666666666666,\"#ed7953\"],[0.7777777777777778,\"#fb9f3a\"],[0.8888888888888888,\"#fdca26\"],[1.0,\"#f0f921\"]],\"diverging\":[[0,\"#8e0152\"],[0.1,\"#c51b7d\"],[0.2,\"#de77ae\"],[0.3,\"#f1b6da\"],[0.4,\"#fde0ef\"],[0.5,\"#f7f7f7\"],[0.6,\"#e6f5d0\"],[0.7,\"#b8e186\"],[0.8,\"#7fbc41\"],[0.9,\"#4d9221\"],[1,\"#276419\"]]},\"xaxis\":{\"gridcolor\":\"white\",\"linecolor\":\"white\",\"ticks\":\"\",\"title\":{\"standoff\":15},\"zerolinecolor\":\"white\",\"automargin\":true,\"zerolinewidth\":2},\"yaxis\":{\"gridcolor\":\"white\",\"linecolor\":\"white\",\"ticks\":\"\",\"title\":{\"standoff\":15},\"zerolinecolor\":\"white\",\"automargin\":true,\"zerolinewidth\":2},\"scene\":{\"xaxis\":{\"backgroundcolor\":\"#E5ECF6\",\"gridcolor\":\"white\",\"linecolor\":\"white\",\"showbackground\":true,\"ticks\":\"\",\"zerolinecolor\":\"white\",\"gridwidth\":2},\"yaxis\":{\"backgroundcolor\":\"#E5ECF6\",\"gridcolor\":\"white\",\"linecolor\":\"white\",\"showbackground\":true,\"ticks\":\"\",\"zerolinecolor\":\"white\",\"gridwidth\":2},\"zaxis\":{\"backgroundcolor\":\"#E5ECF6\",\"gridcolor\":\"white\",\"linecolor\":\"white\",\"showbackground\":true,\"ticks\":\"\",\"zerolinecolor\":\"white\",\"gridwidth\":2}},\"shapedefaults\":{\"line\":{\"color\":\"#2a3f5f\"}},\"annotationdefaults\":{\"arrowcolor\":\"#2a3f5f\",\"arrowhead\":0,\"arrowwidth\":1},\"geo\":{\"bgcolor\":\"white\",\"landcolor\":\"#E5ECF6\",\"subunitcolor\":\"white\",\"showland\":true,\"showlakes\":true,\"lakecolor\":\"white\"},\"title\":{\"x\":0.05},\"mapbox\":{\"style\":\"light\"}}},\"xaxis\":{\"title\":{\"text\":\"Time series length\",\"font\":{\"size\":22,\"color\":\"black\"}},\"tickfont\":{\"size\":18,\"color\":\"black\"},\"showgrid\":false,\"linecolor\":\"#000\",\"ticks\":\"outside\",\"linewidth\":2,\"tickwidth\":2,\"tickvals\":{\"dtype\":\"i4\",\"bdata\":\"AIAAAAAAAQAAAAIAAAAEAAAACAAAABAA\"}},\"yaxis\":{\"title\":{\"text\":\"Runtime, s\",\"font\":{\"size\":22,\"color\":\"black\"}},\"tickfont\":{\"size\":18,\"color\":\"black\"},\"showgrid\":false,\"linecolor\":\"#000\",\"ticks\":\"outside\",\"zeroline\":false,\"linewidth\":2,\"tickwidth\":2},\"title\":{\"font\":{\"size\":24,\"color\":\"black\"},\"text\":\"Runtime depending on Time series length\",\"x\":0.5,\"xanchor\":\"center\"},\"legend\":{\"font\":{\"size\":20,\"color\":\"black\"}},\"plot_bgcolor\":\"rgba(0,0,0,0)\",\"paper_bgcolor\":\"rgba(0,0,0,0)\",\"width\":1000,\"height\":600},                        {\"responsive\": true}                    ).then(function(){\n",
              "                            \n",
              "var gd = document.getElementById('84832aae-1e34-42ec-9ee0-26e97f2da811');\n",
              "var x = new MutationObserver(function (mutations, observer) {{\n",
              "        var display = window.getComputedStyle(gd).display;\n",
              "        if (!display || display === 'none') {{\n",
              "            console.log([gd, 'removed!']);\n",
              "            Plotly.purge(gd);\n",
              "            observer.disconnect();\n",
              "        }}\n",
              "}});\n",
              "\n",
              "// Listen for the removal of the full notebook cells\n",
              "var notebookContainer = gd.closest('#notebook-container');\n",
              "if (notebookContainer) {{\n",
              "    x.observe(notebookContainer, {childList: true});\n",
              "}}\n",
              "\n",
              "// Listen for the clearing of the current output cell\n",
              "var outputEl = gd.closest('.output');\n",
              "if (outputEl) {{\n",
              "    x.observe(outputEl, {childList: true});\n",
              "}}\n",
              "\n",
              "                        })                };            </script>        </div>\n",
              "</body>\n",
              "</html>"
            ]
          },
          "metadata": {},
          "output_type": "display_data"
        },
        {
          "data": {
            "text/html": [
              "<style type=\"text/css\">\n",
              "#T_8c636 th {\n",
              "  border: 1px black solid !important;\n",
              "  text-align: center;\n",
              "}\n",
              "#T_8c636 caption {\n",
              "  font-size: 16px;\n",
              "  font-weight: bold;\n",
              "  padding: 10px 0px 10px 0px;\n",
              "}\n",
              "#T_8c636_row0_col0, #T_8c636_row0_col1, #T_8c636_row0_col2, #T_8c636_row0_col3, #T_8c636_row0_col4, #T_8c636_row0_col5, #T_8c636_row1_col0, #T_8c636_row1_col1, #T_8c636_row1_col2, #T_8c636_row1_col3, #T_8c636_row1_col4, #T_8c636_row1_col5, #T_8c636_row2_col0, #T_8c636_row2_col1, #T_8c636_row2_col2, #T_8c636_row2_col3, #T_8c636_row2_col4, #T_8c636_row2_col5 {\n",
              "  color: green;\n",
              "  border: 1px black solid !important;\n",
              "  text-align: center;\n",
              "}\n",
              "</style>\n",
              "<table id=\"T_8c636\">\n",
              "  <caption>Speedup MASS relative to brute force (variable time series length, fixed query length)</caption>\n",
              "  <thead>\n",
              "    <tr>\n",
              "      <th class=\"blank level0\" >&nbsp;</th>\n",
              "      <th id=\"T_8c636_level0_col0\" class=\"col_heading level0 col0\" >n = 32768</th>\n",
              "      <th id=\"T_8c636_level0_col1\" class=\"col_heading level0 col1\" >n = 65536</th>\n",
              "      <th id=\"T_8c636_level0_col2\" class=\"col_heading level0 col2\" >n = 131072</th>\n",
              "      <th id=\"T_8c636_level0_col3\" class=\"col_heading level0 col3\" >n = 262144</th>\n",
              "      <th id=\"T_8c636_level0_col4\" class=\"col_heading level0 col4\" >n = 524288</th>\n",
              "      <th id=\"T_8c636_level0_col5\" class=\"col_heading level0 col5\" >n = 1048576</th>\n",
              "    </tr>\n",
              "  </thead>\n",
              "  <tbody>\n",
              "    <tr>\n",
              "      <th id=\"T_8c636_level0_row0\" class=\"row_heading level0 row0\" >mass</th>\n",
              "      <td id=\"T_8c636_row0_col0\" class=\"data row0 col0\" >253.056130</td>\n",
              "      <td id=\"T_8c636_row0_col1\" class=\"data row0 col1\" >94.964413</td>\n",
              "      <td id=\"T_8c636_row0_col2\" class=\"data row0 col2\" >58.249670</td>\n",
              "      <td id=\"T_8c636_row0_col3\" class=\"data row0 col3\" >57.296434</td>\n",
              "      <td id=\"T_8c636_row0_col4\" class=\"data row0 col4\" >56.983819</td>\n",
              "      <td id=\"T_8c636_row0_col5\" class=\"data row0 col5\" >50.910040</td>\n",
              "    </tr>\n",
              "    <tr>\n",
              "      <th id=\"T_8c636_level0_row1\" class=\"row_heading level0 row1\" >mass2</th>\n",
              "      <td id=\"T_8c636_row1_col0\" class=\"data row1 col0\" >100.005360</td>\n",
              "      <td id=\"T_8c636_row1_col1\" class=\"data row1 col1\" >41.118668</td>\n",
              "      <td id=\"T_8c636_row1_col2\" class=\"data row1 col2\" >26.138482</td>\n",
              "      <td id=\"T_8c636_row1_col3\" class=\"data row1 col3\" >24.749312</td>\n",
              "      <td id=\"T_8c636_row1_col4\" class=\"data row1 col4\" >23.747824</td>\n",
              "      <td id=\"T_8c636_row1_col5\" class=\"data row1 col5\" >23.532993</td>\n",
              "    </tr>\n",
              "    <tr>\n",
              "      <th id=\"T_8c636_level0_row2\" class=\"row_heading level0 row2\" >mass3</th>\n",
              "      <td id=\"T_8c636_row2_col0\" class=\"data row2 col0\" >77.465910</td>\n",
              "      <td id=\"T_8c636_row2_col1\" class=\"data row2 col1\" >33.904991</td>\n",
              "      <td id=\"T_8c636_row2_col2\" class=\"data row2 col2\" >23.702343</td>\n",
              "      <td id=\"T_8c636_row2_col3\" class=\"data row2 col3\" >20.036650</td>\n",
              "      <td id=\"T_8c636_row2_col4\" class=\"data row2 col4\" >14.793926</td>\n",
              "      <td id=\"T_8c636_row2_col5\" class=\"data row2 col5\" >10.264659</td>\n",
              "    </tr>\n",
              "  </tbody>\n",
              "</table>\n"
            ],
            "text/plain": [
              "<pandas.io.formats.style.Styler at 0x207fc462990>"
            ]
          },
          "metadata": {},
          "output_type": "display_data"
        }
      ],
      "source": [
        "algorithms = ['brute_force', 'mass', 'mass2', 'mass3']\n",
        "algorithms_params = {\n",
        "    'brute_force': None,\n",
        "    'mass': None,\n",
        "    'mass2': None,\n",
        "    'mass3': {'segment_len': 2048},\n",
        "}\n",
        "\n",
        "n_list = [2**15, 2**16, 2**17, 2**18, 2**19, 2**20] # lengths of time series\n",
        "m = 128 # length of query\n",
        "\n",
        "exp1_params = {\n",
        "    'varying': {'n': n_list},\n",
        "    'fixed': {'m': m}\n",
        "}\n",
        "\n",
        "exp1_data = {\n",
        "    'ts': {str(n_val): np.random.randn(n_val) for n_val in n_list},\n",
        "    'query': {str(m): np.random.randn(m)}\n",
        "}\n",
        "\n",
        "task = 'distance_profile'\n",
        "\n",
        "# generate set of time series and query\n",
        "# run experiments for measurement of algorithm runtimes\n",
        "\n",
        "modules_path = os.path.join('.', 'modules')  # путь к папке, где лежит experiments.py\n",
        "sys.path.append(modules_path)\n",
        "import numpy as np\n",
        "from experiments import run_experiment, visualize_plot_times, calculate_speedup, visualize_table_speedup\n",
        "\n",
        "\n",
        "exp1_results = []\n",
        "for alg in algorithms:\n",
        "    res = run_experiment(\n",
        "        algorithm=alg,\n",
        "        task='distance_profile',\n",
        "        data=exp1_data,\n",
        "        exp_params=exp1_params,\n",
        "        alg_params={'segment_len': 2048}  # нужно только для mass3\n",
        "    )\n",
        "    exp1_results.append(res)\n",
        "\n",
        "exp1_results = np.array(exp1_results)\n",
        "\n",
        "# Визуализация времени выполнения\n",
        "visualize_plot_times(\n",
        "    exp1_results,\n",
        "    comparison_param=np.array(algorithms),\n",
        "    exp_params=exp1_params\n",
        ")\n",
        "\n",
        "# Вычисление ускорения MASS относительно brute_force\n",
        "exp1_speedup = calculate_speedup(exp1_results[0], exp1_results[1:])\n",
        "\n",
        "# Визуализация таблицы ускорений\n",
        "tab_index = algorithms[1:]  # исключаем brute_force\n",
        "tab_columns = [f\"n = {n_val}\" for n_val in n_list]\n",
        "tab_title = \"Speedup MASS relative to brute force (variable time series length, fixed query length)\"\n",
        "visualize_table_speedup(exp1_speedup, tab_index, tab_columns, tab_title)"
      ]
    },
    {
      "cell_type": "markdown",
      "metadata": {
        "id": "H5XPO_viV-Fm"
      },
      "source": [
        "Эксперимент 2"
      ]
    },
    {
      "cell_type": "code",
      "execution_count": 38,
      "metadata": {
        "id": "hZZ5Jk7AWAQF"
      },
      "outputs": [
        {
          "data": {
            "text/html": [
              "<html>\n",
              "<head><meta charset=\"utf-8\" /></head>\n",
              "<body>\n",
              "    <div>            <script src=\"https://cdnjs.cloudflare.com/ajax/libs/mathjax/2.7.5/MathJax.js?config=TeX-AMS-MML_SVG\"></script><script type=\"text/javascript\">if (window.MathJax && window.MathJax.Hub && window.MathJax.Hub.Config) {window.MathJax.Hub.Config({SVG: {font: \"STIX-Web\"}});}</script>                <script type=\"text/javascript\">window.PlotlyConfig = {MathJaxConfig: 'local'};</script>\n",
              "        <script charset=\"utf-8\" src=\"https://cdn.plot.ly/plotly-3.1.1.min.js\" integrity=\"sha256-HUEFyfiTnZJxCxur99FjbKYTvKSzwDaD3/x5TqHpFu4=\" crossorigin=\"anonymous\"></script>                <div id=\"bcbf1935-959d-430a-8223-aaca6a9ea2c2\" class=\"plotly-graph-div\" style=\"height:600px; width:1000px;\"></div>            <script type=\"text/javascript\">                window.PLOTLYENV=window.PLOTLYENV || {};                                if (document.getElementById(\"bcbf1935-959d-430a-8223-aaca6a9ea2c2\")) {                    Plotly.newPlot(                        \"bcbf1935-959d-430a-8223-aaca6a9ea2c2\",                        [{\"line\":{\"width\":3},\"name\":\"brute_force\",\"x\":{\"dtype\":\"i2\",\"bdata\":\"IABAAIAAAAEAAgAE\"},\"y\":{\"dtype\":\"f8\",\"bdata\":\"AABw4S8c2T8AAParSmzYPwAASDmYTdk\\u002fAAD4ILpW2T8AANSD3YvaPwAAQAuuXtw\\u002f\"},\"type\":\"scatter\"},{\"line\":{\"width\":3},\"name\":\"mass\",\"x\":{\"dtype\":\"i2\",\"bdata\":\"IABAAIAAAAEAAgAE\"},\"y\":{\"dtype\":\"f8\",\"bdata\":\"AAAAWd3qeT8AAIBfEh14PwAAgNGU+Hc\\u002fAAAACKwcej8AAABbj2d8PwAAAFD5fHk\\u002f\"},\"type\":\"scatter\"},{\"line\":{\"width\":3},\"name\":\"mass2\",\"x\":{\"dtype\":\"i2\",\"bdata\":\"IABAAIAAAAEAAgAE\"},\"y\":{\"dtype\":\"f8\",\"bdata\":\"AACAlwVueD8AAEAArr+APwAAgEuIXos\\u002fAADgcUtQmD8AANDrPranPwAAkLysibc\\u002f\"},\"type\":\"scatter\"},{\"line\":{\"width\":3},\"name\":\"mass3\",\"x\":{\"dtype\":\"i2\",\"bdata\":\"IABAAIAAAAEAAgAE\"},\"y\":{\"dtype\":\"f8\",\"bdata\":\"AACAetdFdj8AAICfU5B\\u002fPwAAgPtQDos\\u002fAAAg3CCkmD8AAJAauKinPwAAULY3rrc\\u002f\"},\"type\":\"scatter\"}],                        {\"template\":{\"data\":{\"histogram2dcontour\":[{\"type\":\"histogram2dcontour\",\"colorbar\":{\"outlinewidth\":0,\"ticks\":\"\"},\"colorscale\":[[0.0,\"#0d0887\"],[0.1111111111111111,\"#46039f\"],[0.2222222222222222,\"#7201a8\"],[0.3333333333333333,\"#9c179e\"],[0.4444444444444444,\"#bd3786\"],[0.5555555555555556,\"#d8576b\"],[0.6666666666666666,\"#ed7953\"],[0.7777777777777778,\"#fb9f3a\"],[0.8888888888888888,\"#fdca26\"],[1.0,\"#f0f921\"]]}],\"choropleth\":[{\"type\":\"choropleth\",\"colorbar\":{\"outlinewidth\":0,\"ticks\":\"\"}}],\"histogram2d\":[{\"type\":\"histogram2d\",\"colorbar\":{\"outlinewidth\":0,\"ticks\":\"\"},\"colorscale\":[[0.0,\"#0d0887\"],[0.1111111111111111,\"#46039f\"],[0.2222222222222222,\"#7201a8\"],[0.3333333333333333,\"#9c179e\"],[0.4444444444444444,\"#bd3786\"],[0.5555555555555556,\"#d8576b\"],[0.6666666666666666,\"#ed7953\"],[0.7777777777777778,\"#fb9f3a\"],[0.8888888888888888,\"#fdca26\"],[1.0,\"#f0f921\"]]}],\"heatmap\":[{\"type\":\"heatmap\",\"colorbar\":{\"outlinewidth\":0,\"ticks\":\"\"},\"colorscale\":[[0.0,\"#0d0887\"],[0.1111111111111111,\"#46039f\"],[0.2222222222222222,\"#7201a8\"],[0.3333333333333333,\"#9c179e\"],[0.4444444444444444,\"#bd3786\"],[0.5555555555555556,\"#d8576b\"],[0.6666666666666666,\"#ed7953\"],[0.7777777777777778,\"#fb9f3a\"],[0.8888888888888888,\"#fdca26\"],[1.0,\"#f0f921\"]]}],\"contourcarpet\":[{\"type\":\"contourcarpet\",\"colorbar\":{\"outlinewidth\":0,\"ticks\":\"\"}}],\"contour\":[{\"type\":\"contour\",\"colorbar\":{\"outlinewidth\":0,\"ticks\":\"\"},\"colorscale\":[[0.0,\"#0d0887\"],[0.1111111111111111,\"#46039f\"],[0.2222222222222222,\"#7201a8\"],[0.3333333333333333,\"#9c179e\"],[0.4444444444444444,\"#bd3786\"],[0.5555555555555556,\"#d8576b\"],[0.6666666666666666,\"#ed7953\"],[0.7777777777777778,\"#fb9f3a\"],[0.8888888888888888,\"#fdca26\"],[1.0,\"#f0f921\"]]}],\"surface\":[{\"type\":\"surface\",\"colorbar\":{\"outlinewidth\":0,\"ticks\":\"\"},\"colorscale\":[[0.0,\"#0d0887\"],[0.1111111111111111,\"#46039f\"],[0.2222222222222222,\"#7201a8\"],[0.3333333333333333,\"#9c179e\"],[0.4444444444444444,\"#bd3786\"],[0.5555555555555556,\"#d8576b\"],[0.6666666666666666,\"#ed7953\"],[0.7777777777777778,\"#fb9f3a\"],[0.8888888888888888,\"#fdca26\"],[1.0,\"#f0f921\"]]}],\"mesh3d\":[{\"type\":\"mesh3d\",\"colorbar\":{\"outlinewidth\":0,\"ticks\":\"\"}}],\"scatter\":[{\"fillpattern\":{\"fillmode\":\"overlay\",\"size\":10,\"solidity\":0.2},\"type\":\"scatter\"}],\"parcoords\":[{\"type\":\"parcoords\",\"line\":{\"colorbar\":{\"outlinewidth\":0,\"ticks\":\"\"}}}],\"scatterpolargl\":[{\"type\":\"scatterpolargl\",\"marker\":{\"colorbar\":{\"outlinewidth\":0,\"ticks\":\"\"}}}],\"bar\":[{\"error_x\":{\"color\":\"#2a3f5f\"},\"error_y\":{\"color\":\"#2a3f5f\"},\"marker\":{\"line\":{\"color\":\"#E5ECF6\",\"width\":0.5},\"pattern\":{\"fillmode\":\"overlay\",\"size\":10,\"solidity\":0.2}},\"type\":\"bar\"}],\"scattergeo\":[{\"type\":\"scattergeo\",\"marker\":{\"colorbar\":{\"outlinewidth\":0,\"ticks\":\"\"}}}],\"scatterpolar\":[{\"type\":\"scatterpolar\",\"marker\":{\"colorbar\":{\"outlinewidth\":0,\"ticks\":\"\"}}}],\"histogram\":[{\"marker\":{\"pattern\":{\"fillmode\":\"overlay\",\"size\":10,\"solidity\":0.2}},\"type\":\"histogram\"}],\"scattergl\":[{\"type\":\"scattergl\",\"marker\":{\"colorbar\":{\"outlinewidth\":0,\"ticks\":\"\"}}}],\"scatter3d\":[{\"type\":\"scatter3d\",\"line\":{\"colorbar\":{\"outlinewidth\":0,\"ticks\":\"\"}},\"marker\":{\"colorbar\":{\"outlinewidth\":0,\"ticks\":\"\"}}}],\"scattermap\":[{\"type\":\"scattermap\",\"marker\":{\"colorbar\":{\"outlinewidth\":0,\"ticks\":\"\"}}}],\"scattermapbox\":[{\"type\":\"scattermapbox\",\"marker\":{\"colorbar\":{\"outlinewidth\":0,\"ticks\":\"\"}}}],\"scatterternary\":[{\"type\":\"scatterternary\",\"marker\":{\"colorbar\":{\"outlinewidth\":0,\"ticks\":\"\"}}}],\"scattercarpet\":[{\"type\":\"scattercarpet\",\"marker\":{\"colorbar\":{\"outlinewidth\":0,\"ticks\":\"\"}}}],\"carpet\":[{\"aaxis\":{\"endlinecolor\":\"#2a3f5f\",\"gridcolor\":\"white\",\"linecolor\":\"white\",\"minorgridcolor\":\"white\",\"startlinecolor\":\"#2a3f5f\"},\"baxis\":{\"endlinecolor\":\"#2a3f5f\",\"gridcolor\":\"white\",\"linecolor\":\"white\",\"minorgridcolor\":\"white\",\"startlinecolor\":\"#2a3f5f\"},\"type\":\"carpet\"}],\"table\":[{\"cells\":{\"fill\":{\"color\":\"#EBF0F8\"},\"line\":{\"color\":\"white\"}},\"header\":{\"fill\":{\"color\":\"#C8D4E3\"},\"line\":{\"color\":\"white\"}},\"type\":\"table\"}],\"barpolar\":[{\"marker\":{\"line\":{\"color\":\"#E5ECF6\",\"width\":0.5},\"pattern\":{\"fillmode\":\"overlay\",\"size\":10,\"solidity\":0.2}},\"type\":\"barpolar\"}],\"pie\":[{\"automargin\":true,\"type\":\"pie\"}]},\"layout\":{\"autotypenumbers\":\"strict\",\"colorway\":[\"#636efa\",\"#EF553B\",\"#00cc96\",\"#ab63fa\",\"#FFA15A\",\"#19d3f3\",\"#FF6692\",\"#B6E880\",\"#FF97FF\",\"#FECB52\"],\"font\":{\"color\":\"#2a3f5f\"},\"hovermode\":\"closest\",\"hoverlabel\":{\"align\":\"left\"},\"paper_bgcolor\":\"white\",\"plot_bgcolor\":\"#E5ECF6\",\"polar\":{\"bgcolor\":\"#E5ECF6\",\"angularaxis\":{\"gridcolor\":\"white\",\"linecolor\":\"white\",\"ticks\":\"\"},\"radialaxis\":{\"gridcolor\":\"white\",\"linecolor\":\"white\",\"ticks\":\"\"}},\"ternary\":{\"bgcolor\":\"#E5ECF6\",\"aaxis\":{\"gridcolor\":\"white\",\"linecolor\":\"white\",\"ticks\":\"\"},\"baxis\":{\"gridcolor\":\"white\",\"linecolor\":\"white\",\"ticks\":\"\"},\"caxis\":{\"gridcolor\":\"white\",\"linecolor\":\"white\",\"ticks\":\"\"}},\"coloraxis\":{\"colorbar\":{\"outlinewidth\":0,\"ticks\":\"\"}},\"colorscale\":{\"sequential\":[[0.0,\"#0d0887\"],[0.1111111111111111,\"#46039f\"],[0.2222222222222222,\"#7201a8\"],[0.3333333333333333,\"#9c179e\"],[0.4444444444444444,\"#bd3786\"],[0.5555555555555556,\"#d8576b\"],[0.6666666666666666,\"#ed7953\"],[0.7777777777777778,\"#fb9f3a\"],[0.8888888888888888,\"#fdca26\"],[1.0,\"#f0f921\"]],\"sequentialminus\":[[0.0,\"#0d0887\"],[0.1111111111111111,\"#46039f\"],[0.2222222222222222,\"#7201a8\"],[0.3333333333333333,\"#9c179e\"],[0.4444444444444444,\"#bd3786\"],[0.5555555555555556,\"#d8576b\"],[0.6666666666666666,\"#ed7953\"],[0.7777777777777778,\"#fb9f3a\"],[0.8888888888888888,\"#fdca26\"],[1.0,\"#f0f921\"]],\"diverging\":[[0,\"#8e0152\"],[0.1,\"#c51b7d\"],[0.2,\"#de77ae\"],[0.3,\"#f1b6da\"],[0.4,\"#fde0ef\"],[0.5,\"#f7f7f7\"],[0.6,\"#e6f5d0\"],[0.7,\"#b8e186\"],[0.8,\"#7fbc41\"],[0.9,\"#4d9221\"],[1,\"#276419\"]]},\"xaxis\":{\"gridcolor\":\"white\",\"linecolor\":\"white\",\"ticks\":\"\",\"title\":{\"standoff\":15},\"zerolinecolor\":\"white\",\"automargin\":true,\"zerolinewidth\":2},\"yaxis\":{\"gridcolor\":\"white\",\"linecolor\":\"white\",\"ticks\":\"\",\"title\":{\"standoff\":15},\"zerolinecolor\":\"white\",\"automargin\":true,\"zerolinewidth\":2},\"scene\":{\"xaxis\":{\"backgroundcolor\":\"#E5ECF6\",\"gridcolor\":\"white\",\"linecolor\":\"white\",\"showbackground\":true,\"ticks\":\"\",\"zerolinecolor\":\"white\",\"gridwidth\":2},\"yaxis\":{\"backgroundcolor\":\"#E5ECF6\",\"gridcolor\":\"white\",\"linecolor\":\"white\",\"showbackground\":true,\"ticks\":\"\",\"zerolinecolor\":\"white\",\"gridwidth\":2},\"zaxis\":{\"backgroundcolor\":\"#E5ECF6\",\"gridcolor\":\"white\",\"linecolor\":\"white\",\"showbackground\":true,\"ticks\":\"\",\"zerolinecolor\":\"white\",\"gridwidth\":2}},\"shapedefaults\":{\"line\":{\"color\":\"#2a3f5f\"}},\"annotationdefaults\":{\"arrowcolor\":\"#2a3f5f\",\"arrowhead\":0,\"arrowwidth\":1},\"geo\":{\"bgcolor\":\"white\",\"landcolor\":\"#E5ECF6\",\"subunitcolor\":\"white\",\"showland\":true,\"showlakes\":true,\"lakecolor\":\"white\"},\"title\":{\"x\":0.05},\"mapbox\":{\"style\":\"light\"}}},\"xaxis\":{\"title\":{\"text\":\"Query length\",\"font\":{\"size\":22,\"color\":\"black\"}},\"tickfont\":{\"size\":18,\"color\":\"black\"},\"showgrid\":false,\"linecolor\":\"#000\",\"ticks\":\"outside\",\"linewidth\":2,\"tickwidth\":2,\"tickvals\":{\"dtype\":\"i2\",\"bdata\":\"IABAAIAAAAEAAgAE\"}},\"yaxis\":{\"title\":{\"text\":\"Runtime, s\",\"font\":{\"size\":22,\"color\":\"black\"}},\"tickfont\":{\"size\":18,\"color\":\"black\"},\"showgrid\":false,\"linecolor\":\"#000\",\"ticks\":\"outside\",\"zeroline\":false,\"linewidth\":2,\"tickwidth\":2},\"title\":{\"font\":{\"size\":24,\"color\":\"black\"},\"text\":\"Runtime depending on Query length\",\"x\":0.5,\"xanchor\":\"center\"},\"legend\":{\"font\":{\"size\":20,\"color\":\"black\"}},\"plot_bgcolor\":\"rgba(0,0,0,0)\",\"paper_bgcolor\":\"rgba(0,0,0,0)\",\"width\":1000,\"height\":600},                        {\"responsive\": true}                    ).then(function(){\n",
              "                            \n",
              "var gd = document.getElementById('bcbf1935-959d-430a-8223-aaca6a9ea2c2');\n",
              "var x = new MutationObserver(function (mutations, observer) {{\n",
              "        var display = window.getComputedStyle(gd).display;\n",
              "        if (!display || display === 'none') {{\n",
              "            console.log([gd, 'removed!']);\n",
              "            Plotly.purge(gd);\n",
              "            observer.disconnect();\n",
              "        }}\n",
              "}});\n",
              "\n",
              "// Listen for the removal of the full notebook cells\n",
              "var notebookContainer = gd.closest('#notebook-container');\n",
              "if (notebookContainer) {{\n",
              "    x.observe(notebookContainer, {childList: true});\n",
              "}}\n",
              "\n",
              "// Listen for the clearing of the current output cell\n",
              "var outputEl = gd.closest('.output');\n",
              "if (outputEl) {{\n",
              "    x.observe(outputEl, {childList: true});\n",
              "}}\n",
              "\n",
              "                        })                };            </script>        </div>\n",
              "</body>\n",
              "</html>"
            ]
          },
          "metadata": {},
          "output_type": "display_data"
        },
        {
          "data": {
            "text/html": [
              "<style type=\"text/css\">\n",
              "#T_3f34d th {\n",
              "  border: 1px black solid !important;\n",
              "  text-align: center;\n",
              "}\n",
              "#T_3f34d caption {\n",
              "  font-size: 16px;\n",
              "  font-weight: bold;\n",
              "  padding: 10px 0px 10px 0px;\n",
              "}\n",
              "#T_3f34d_row0_col0, #T_3f34d_row0_col1, #T_3f34d_row0_col2, #T_3f34d_row0_col3, #T_3f34d_row0_col4, #T_3f34d_row0_col5, #T_3f34d_row1_col0, #T_3f34d_row1_col1, #T_3f34d_row1_col2, #T_3f34d_row1_col3, #T_3f34d_row1_col4, #T_3f34d_row1_col5, #T_3f34d_row2_col0, #T_3f34d_row2_col1, #T_3f34d_row2_col2, #T_3f34d_row2_col3, #T_3f34d_row2_col4, #T_3f34d_row2_col5 {\n",
              "  color: green;\n",
              "  border: 1px black solid !important;\n",
              "  text-align: center;\n",
              "}\n",
              "</style>\n",
              "<table id=\"T_3f34d\">\n",
              "  <caption>Speedup MASS relative to brute force (variable query length, fixed time series length)</caption>\n",
              "  <thead>\n",
              "    <tr>\n",
              "      <th class=\"blank level0\" >&nbsp;</th>\n",
              "      <th id=\"T_3f34d_level0_col0\" class=\"col_heading level0 col0\" >m = 32</th>\n",
              "      <th id=\"T_3f34d_level0_col1\" class=\"col_heading level0 col1\" >m = 64</th>\n",
              "      <th id=\"T_3f34d_level0_col2\" class=\"col_heading level0 col2\" >m = 128</th>\n",
              "      <th id=\"T_3f34d_level0_col3\" class=\"col_heading level0 col3\" >m = 256</th>\n",
              "      <th id=\"T_3f34d_level0_col4\" class=\"col_heading level0 col4\" >m = 512</th>\n",
              "      <th id=\"T_3f34d_level0_col5\" class=\"col_heading level0 col5\" >m = 1024</th>\n",
              "    </tr>\n",
              "  </thead>\n",
              "  <tbody>\n",
              "    <tr>\n",
              "      <th id=\"T_3f34d_level0_row0\" class=\"row_heading level0 row0\" >mass</th>\n",
              "      <td id=\"T_3f34d_row0_col0\" class=\"data row0 col0\" >62.006385</td>\n",
              "      <td id=\"T_3f34d_row0_col1\" class=\"data row0 col1\" >64.821321</td>\n",
              "      <td id=\"T_3f34d_row0_col2\" class=\"data row0 col2\" >67.556516</td>\n",
              "      <td id=\"T_3f34d_row0_col3\" class=\"data row0 col3\" >62.104847</td>\n",
              "      <td id=\"T_3f34d_row0_col4\" class=\"data row0 col4\" >59.813215</td>\n",
              "      <td id=\"T_3f34d_row0_col5\" class=\"data row0 col5\" >71.235766</td>\n",
              "    </tr>\n",
              "    <tr>\n",
              "      <th id=\"T_3f34d_level0_row1\" class=\"row_heading level0 row1\" >mass2</th>\n",
              "      <td id=\"T_3f34d_row1_col0\" class=\"data row1 col0\" >65.782305</td>\n",
              "      <td id=\"T_3f34d_row1_col1\" class=\"data row1 col1\" >46.662379</td>\n",
              "      <td id=\"T_3f34d_row1_col2\" class=\"data row1 col2\" >29.584253</td>\n",
              "      <td id=\"T_3f34d_row1_col3\" class=\"data row1 col3\" >16.674601</td>\n",
              "      <td id=\"T_3f34d_row1_col4\" class=\"data row1 col4\" >8.956297</td>\n",
              "      <td id=\"T_3f34d_row1_col5\" class=\"data row1 col5\" >4.821156</td>\n",
              "    </tr>\n",
              "    <tr>\n",
              "      <th id=\"T_3f34d_level0_row2\" class=\"row_heading level0 row2\" >mass3</th>\n",
              "      <td id=\"T_3f34d_row2_col0\" class=\"data row2 col0\" >72.152822</td>\n",
              "      <td id=\"T_3f34d_row2_col1\" class=\"data row2 col1\" >49.521100</td>\n",
              "      <td id=\"T_3f34d_row2_col2\" class=\"data row2 col2\" >29.926879</td>\n",
              "      <td id=\"T_3f34d_row2_col3\" class=\"data row2 col3\" >16.453000</td>\n",
              "      <td id=\"T_3f34d_row2_col4\" class=\"data row2 col4\" >8.976299</td>\n",
              "      <td id=\"T_3f34d_row2_col5\" class=\"data row2 col5\" >4.792094</td>\n",
              "    </tr>\n",
              "  </tbody>\n",
              "</table>\n"
            ],
            "text/plain": [
              "<pandas.io.formats.style.Styler at 0x20780238cd0>"
            ]
          },
          "metadata": {},
          "output_type": "display_data"
        }
      ],
      "source": [
        "alg_params = {'segment_len': 2048} \n",
        "m_list = [2**5, 2**6, 2**7, 2**8, 2**9, 2**10]  # длины запросов\n",
        "n = 2**15  # длина временного ряда\n",
        "\n",
        "exp2_params = {\n",
        "    'varying': {'m': m_list},\n",
        "    'fixed': {'n': n}\n",
        "}\n",
        "\n",
        "# Генерация данных\n",
        "exp2_data = {\n",
        "    'ts': {str(n): np.random.randn(n)},  # один временной ряд фиксированной длины\n",
        "    'query': {str(m_val): np.random.randn(m_val) for m_val in m_list}  # уникальный массив для каждого запроса\n",
        "}\n",
        "\n",
        "# Запуск экспериментов для всех алгоритмов\n",
        "exp2_results_list = []\n",
        "for algo in algorithms:\n",
        "    times = run_experiment(\n",
        "        algorithm=algo,\n",
        "        task='distance_profile',\n",
        "        data=exp2_data,\n",
        "        exp_params=exp2_params,\n",
        "        alg_params=alg_params\n",
        "    )\n",
        "    # Приводим к двумерному виду: [num_algorithms x num_points]\n",
        "    exp2_results_list.append(times)\n",
        "\n",
        "exp2_results = np.array(exp2_results_list)\n",
        "\n",
        "# Визуализация времени выполнения\n",
        "visualize_plot_times(\n",
        "    exp2_results,\n",
        "    comparison_param=np.array(algorithms),\n",
        "    exp_params=exp2_params\n",
        ")\n",
        "\n",
        "# Вычисление ускорения MASS относительно brute_force\n",
        "exp2_speedup = calculate_speedup(exp2_results[0], exp2_results[1:])\n",
        "\n",
        "# Визуализация таблицы ускорений\n",
        "tab_index = algorithms[1:]  # исключаем brute_force\n",
        "tab_columns = [f\"m = {m_val}\" for m_val in m_list]\n",
        "tab_title = \"Speedup MASS relative to brute force (variable query length, fixed time series length)\"\n",
        "visualize_table_speedup(exp2_speedup, table_index=tab_index, table_columns=tab_columns, table_caption=tab_title)"
      ]
    },
    {
      "cell_type": "markdown",
      "metadata": {
        "id": "cDPCTjJ7F86f"
      },
      "source": [
        "![equation.png](data:image/png;base64,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)\n",
        "Проанализируйте и изложите содержательный смысл полученных\n",
        "результатов."
      ]
    },
    {
      "cell_type": "markdown",
      "metadata": {
        "id": "48LIjyHcF9G-"
      },
      "source": [
        "Алгоритмы MASS значительно превосходят грубую силу по времени выполнения. Их эффективность зависит от соотношения длины запроса и временного ряда:\n",
        "\n",
        "Короткие запросы + длинные ряды → MASS3 выигрывает\n",
        "\n",
        "Длинные запросы → массовые алгоритмы теряют преимущество, но всё равно быстрее грубой силы\n",
        "\n",
        "Это подтверждает известный принцип: применение FFT для поиска подобий в рядах выгодно при больших данных, а оптимизация сегментации помогает при очень больших объемах данных."
      ]
    },
    {
      "cell_type": "markdown",
      "metadata": {
        "id": "rLjwtj6q5h1S"
      },
      "source": [
        "## **Часть 2.** Ускорение вычисления DTW меры техникой ограничения полосы Сако—Чиба. Наивный алгоритм поиска по образцу на основе DTW меры."
      ]
    },
    {
      "cell_type": "markdown",
      "metadata": {
        "id": "7wX-rtvznzmW"
      },
      "source": [
        "### **Задача 4.**\n",
        "\n",
        "Поскольку DTW мера имеет квадратичную вычислительную сложность от\n",
        "длины временного ряда $O(n^2)$, то в данном задании вам предстоит реализовать технику ограничения полосы Сако–Чиба. Данная техника не позволяет отклоняться пути трансформации более чем на $r$ ячеек от диагонали матрицы трансформации и тем самым сокращает вычисление меры до $O(rn)$.\n",
        "\n",
        "Добавьте в функцию `DTW_distance()` из модуля *metrics.py* возможность ограничения полосы Сако—Чиба. Сравните результаты выполнения вашей реализации с результатами функции [`dtw_distance()`](https://www.sktime.net/en/stable/api_reference/auto_generated/sktime.distances.dtw_distance.html) из библиотеки *sktime*, задав различные значения параметра $r$ (например, от 0 до 1 с шагом 0.05).\n",
        "\n",
        "**Мера DTW с ограничением полосы Сако–Чиба** вычисляется следующим образом:\n",
        "\\begin{equation}\n",
        "\\text{DTW}(T_1, T_2) = d(n,n),\n",
        "\\\\ d(i,j) = (t_{1,i} - t_{2,j})^2 + \\min \\left\\{\n",
        "\t\\begin{array}{l l}\n",
        "\td(i-1,j), \\\\\n",
        "\td(i,j-1), \\\\\n",
        "\td(i-1,j-1),\n",
        "\t\\end{array}\n",
        "\t\\right.\n",
        "\\\\ d(0,0)=0, \\quad d(i,0)=d(0,j)=\\infty, \\quad  1 \\leqslant i,j \\leqslant n;\n",
        "\\\\ 0 \\leqslant r \\leqslant n-1, \\quad j-r \\leqslant i \\leqslant j+r,\n",
        "\\\\ d(i,j) = \\infty, \\quad j+r < i < j-r.\n",
        "\\end{equation}"
      ]
    },
    {
      "cell_type": "code",
      "execution_count": null,
      "metadata": {
        "id": "GSC1DxbeREZl"
      },
      "outputs": [],
      "source": [
        "def test_distances(dist1: float, dist2: float) -> None:\n",
        "    \"\"\"\n",
        "    Check whether your distance function is implemented correctly\n",
        "\n",
        "    Parameters\n",
        "    ----------\n",
        "    dist1 : distance between two time series calculated by sktime\n",
        "    dist2 : distance between two time series calculated by your function\n",
        "    \"\"\"\n",
        "\n",
        "    np.testing.assert_equal(round(dist1, 5), round(dist2, 5), 'Distances are not equal')"
      ]
    },
    {
      "cell_type": "code",
      "execution_count": null,
      "metadata": {
        "id": "J5Fg6TYpRGfm"
      },
      "outputs": [],
      "source": [
        "from sktime.distances import dtw_distance\n",
        "from modules.metrics import DTW_distance\n",
        "\n",
        "# INSERT YOUR CODE"
      ]
    },
    {
      "cell_type": "markdown",
      "metadata": {
        "id": "79O3m81VRM9i"
      },
      "source": [
        "### **Задача 5.**\n",
        "\n",
        "Реализуйте самостоятельно наивный алгоритм поиска $topK$ подпоследовательностей временного ряда, похожих на образец поиска в смысле меры DTW. Для этого уже подготовлен шаблон класса `NaiveBestMatchFinder` в модуле *bestmatch.py*. Напишите метод `perform()`, выполняющий обнаружение подпоследовательностей ряда, похожих на образец поиска. Метод должен избегать попадания в результирующее множество пересекающихся подпоследовательностей. Для этого используйте функцию `topK_match()`. При реализации опирайтесь на псевдокод наивного алгоритма поиска, который представлен ниже.\n",
        "\n",
        "<center><img src=\"https://github.com/mzym/TimeSeriesCourse/blob/main/practice/02%20Similarity%20search/img/naive_algorithm.png?raw=true\" width=\"550\"></center>\n",
        "\n",
        "Для этой задачи используйте временной ряд и запрос ЭКГ из части 1. Если они не загружены, то выполните их считывание из соответствующих файлов."
      ]
    },
    {
      "cell_type": "code",
      "execution_count": null,
      "metadata": {
        "id": "qh6dWGjnRfzs"
      },
      "outputs": [],
      "source": [
        "topK = 2\n",
        "r = 0.01\n",
        "excl_zone_frac = 0.5\n",
        "is_normalize = True\n",
        "\n",
        "naive_bestmatch_results = {}\n",
        "\n",
        "# INSERT YOUR CODE"
      ]
    },
    {
      "cell_type": "markdown",
      "metadata": {
        "id": "36tTUoi2RyG3"
      },
      "source": [
        "Чтобы было легче интерпретировать результаты поиска, выполните визуализацию с помощью `plot_bestmatch_results()` из модуля *plots.py*."
      ]
    },
    {
      "cell_type": "code",
      "execution_count": null,
      "metadata": {
        "id": "8A687WTMR2lU"
      },
      "outputs": [],
      "source": [
        "plot_bestmatch_results(ts, query, naive_bestmatch_results)"
      ]
    },
    {
      "cell_type": "markdown",
      "metadata": {
        "id": "afNxi72mR2rY"
      },
      "source": [
        "### **Задача 6**.\n",
        "\n",
        "Проведите две серии экспериментов, в которых необходимо исследовать следующее:\n",
        "1. влияние длины запроса $m$ и ширины полосы Сако—Чиба $r$ на время выполнения наивного алгоритма при фиксированной длине ряда $n$;\n",
        "2. влияние длины ряда $n$ и ширины полосы Сако—Чиба $r$ на время выполнения наивного алгоритма при фиксированной длине запроса $m$.\n",
        "\n",
        "Для провдения экспериментов используйте функции из модуля *experiments.py*.\n",
        "Эксперименты проведите на синтетических временных рядах и запросах указанных длин. Полученные результаты каждого эксперимента отобразите на линейном графике."
      ]
    },
    {
      "cell_type": "markdown",
      "metadata": {
        "id": "bj4h7lmFSYLr"
      },
      "source": [
        "Эксперимент 1"
      ]
    },
    {
      "cell_type": "code",
      "execution_count": null,
      "metadata": {
        "id": "844hE-u5zXmF"
      },
      "outputs": [],
      "source": [
        "algorithm = 'naive'\n",
        "algorithm_params = {\n",
        "    'topK': 3,\n",
        "    'excl_zone_frac': 1,\n",
        "    'is_normalize': True,\n",
        "}\n",
        "\n",
        "n_list = [2**10, 2**11, 2**12, 2**13, 2**14, 2**15] # lengths of time series\n",
        "r_list = np.round(np.arange(0, 0.6, 0.1), 2).tolist() # sizes of warping window\n",
        "m = 2**6 # length of query\n",
        "\n",
        "exp1_params = {\n",
        "    'varying': {'n': n_list,\n",
        "                'r': r_list},\n",
        "    'fixed': {'m': m}\n",
        "}\n",
        "exp1_data = {\n",
        "    'ts': dict.fromkeys(map(str, n_list), []),\n",
        "    'query': {str(m): []}\n",
        "}\n",
        "\n",
        "task = 'best_match'\n",
        "\n",
        "# generate set of time series and query\n",
        "# run experiments for measurement of algorithm runtimes\n",
        "\n",
        "# INSERT YOUR CODE"
      ]
    },
    {
      "cell_type": "code",
      "execution_count": null,
      "metadata": {
        "id": "NdTfg0g0pWvT"
      },
      "outputs": [],
      "source": [
        "# visualize plot with results of experiment\n",
        "comparison_param = np.array(r_list)\n",
        "\n",
        "# INSERT YOUR CODE"
      ]
    },
    {
      "cell_type": "markdown",
      "metadata": {
        "id": "fndpoOBMR3OB"
      },
      "source": [
        "Эксперимент 2"
      ]
    },
    {
      "cell_type": "code",
      "execution_count": null,
      "metadata": {
        "id": "C9Uh9kYER2x0"
      },
      "outputs": [],
      "source": [
        "m_list = [2**4, 2**5, 2**6, 2**7, 2**8] # lengths of query\n",
        "r_list = np.round(np.arange(0, 0.6, 0.1), 2).tolist() # sizes of warping window\n",
        "n = 2**12 # length of time series\n",
        "\n",
        "exp2_params = {\n",
        "    'varying': {'m': m_list,\n",
        "                'r': r_list},\n",
        "    'fixed': {'n': n}\n",
        "}\n",
        "exp2_data = {\n",
        "    'ts': {str(n): []},\n",
        "    'query': dict.fromkeys(map(str, m_list), []),\n",
        "}\n",
        "\n",
        "# INSERT YOUR CODE"
      ]
    },
    {
      "cell_type": "code",
      "execution_count": null,
      "metadata": {
        "id": "M1JGjIJOpu9E"
      },
      "outputs": [],
      "source": [
        "comparison_param = np.array(r_list)\n",
        "\n",
        "# INSERT YOUR CODE"
      ]
    },
    {
      "cell_type": "markdown",
      "metadata": {
        "id": "qPGthdr0R3cq"
      },
      "source": [
        "![equation.png](data:image/png;base64,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)\n",
        "Проанализируйте и изложите содержательный смысл полученных\n",
        "результатов."
      ]
    },
    {
      "cell_type": "markdown",
      "metadata": {
        "id": "w1UWIAOhLLYE"
      },
      "source": [
        "*# WRITE YOUR ANSWER*"
      ]
    },
    {
      "cell_type": "markdown",
      "metadata": {
        "id": "qLknW-6QbxZN"
      },
      "source": [
        "## **Часть 3.** Алгоритм UCR-DTW.\n",
        "\n",
        "Третья часть практической работы посвящена алгоритму UCR-DTW, который использует нижние границы схожести $\\text{LB}_{\\text{Kim}}\\text{FL}$, $\\text{LB}_{\\text{Keogh}}\\text{EQ}$ и $\\text{LB}_{\\text{Keogh}}\\text{EC}$, применяющиеся каскадным образом. Псевдокод алгоритма UCR-DTW представлен ниже.\n",
        "\n",
        "<center><img src=\"https://github.com/mzym/TimeSeriesCourse/blob/main/practice/02%20Similarity%20search/img/ucr_dtw.png?raw=true\" width=\"650\"></center>\n",
        "\n",
        "**Нижняя граница схожести (lower bound, LB)** представляет собой функцию, вычислительная сложность которой меньше вычислительной сложности меры DTW. Нижняя граница используется для отбрасывания кандидатов (подпоследовательностей временного ряда), заведомо не похожих на запрос, без вычисления меры DTW.\n",
        "\n",
        "Нижние границы между кандидатом\n",
        "$C$ и запросом $Q$ длины $n$, применяемые в UCR-DTW, вычисляются следующим образом:\n",
        "<ul>\n",
        "<li><b>Нижняя граница $\\text{LB}_{\\text{Kim}}\\text{FL}$</b> определяется как сумма квадратов разностей между первыми и последними точками запроса $Q$ и\n",
        "подпоследовательности $C$:\n",
        "\\begin{equation}\n",
        "    \\text{LB}_{\\text{Kim}}\\text{FL}(Q, C) = (q_1 - c_1)^2 + (q_n - c_n)^2.\n",
        "\\end{equation}\n",
        "</li>\n",
        "\n",
        "<li><b>Нижняя граница $\\text{LB}_{\\text{Keogh}}\\text{EQ}$</b> показывает расстояние между верхней или нижней оболочкой $U$ и $L$, построенными вокруг запроса $Q$, и кандидатом $C$:\n",
        "\\begin{equation}\n",
        "    \\text{LB}_{\\text{Keogh}}\\text{EQ}(Q,C) = \\sum_{i=1}^n{\\left\\{\n",
        "            \\begin{array}{cl}\n",
        "            (c_i - u_i)^2, & \\text{if} \\; c_i > u_i \\\\\n",
        "            (c_i - l_i)^2, & \\text{if} \\; c_i < l_i\\\\\n",
        "            0, & \\text{otherwise}.\n",
        "            \\end{array}\n",
        "            \\right.}\n",
        "\\end{equation}\n",
        "\n",
        "Нижней и верхней оболочкой (lower and upper envelope) запроса $Q$ называют соответственно последовательности $L = (l_1,..., l_n)$ и $U = (u_1,..., u_n)$, вычисляемые как минимумы и максимумы запроса в скользящем окне заданной длины $r$ ($1 < r < m$):\n",
        "\\begin{equation}\n",
        "    u_i = \\max_{\\max(1,i-r) \\leqslant k \\leqslant \\min(m, i+r)} q_{k}, \\\\\n",
        "    l_i = \\min_{\\max(1,i-r) \\leqslant k \\leqslant \\min(m, i+r)} q_{k},\n",
        "\\end{equation}\n",
        "где $r$ – ширина полосы Сако–Чиба.\n",
        "</li>\n",
        "\n",
        "<li><b>Нижняя граница $\\text{LB}_{\\text{Keogh}}\\text{EC}$</b> представляет собой расстояние между запросом $Q$ и оболочкой кандидата $C$, т.е. является реверс-версией нижней границы $\\text{LB}_{\\text{Keogh}}\\text{EQ}$:\n",
        "\\begin{equation}\n",
        "    \\text{LB}_{\\text{Keogh}}\\text{EC}(Q,C) = \\text{LB}_{\\text{Keogh}}\\text{EQ}(C, Q).\n",
        "\\end{equation}\n",
        "</li>\n",
        "</ul>"
      ]
    },
    {
      "cell_type": "markdown",
      "metadata": {
        "id": "YyOAHK2sGuHS"
      },
      "source": [
        "### **Задача 7.**\n",
        "  \n",
        "Реализуйте технику каскадного применения нижних границ и сами нижние границы,  заполнив пропуски в классе `UCR_DTW`, в модуле *bestmatch.py*.\n",
        "Выполните алгоритм UCR-DTW на данных ЭКГ из предыдущих частей, задав такие же значения входных параметров, что и для наивного алгоритма из части 2, и визуализируйте результаты. Убедитесь, что результаты UCR-DTW совпадают с результатами наивного алгоритма."
      ]
    },
    {
      "cell_type": "code",
      "execution_count": null,
      "metadata": {
        "id": "xifzxtl1G1Kb"
      },
      "outputs": [],
      "source": [
        "top_k = 2\n",
        "r = 0.01\n",
        "excl_zone_frac = 1\n",
        "is_normalize = True\n",
        "\n",
        "ucr_dtw_results = {}\n",
        "\n",
        "# INSERT YOUR CODE"
      ]
    },
    {
      "cell_type": "markdown",
      "metadata": {
        "id": "1j8hUNGqG7_K"
      },
      "source": [
        "Визуализируйте количество неотброшенных и отброшенных каждой нижней границей подпоследовательностей временного ряда в виде круговой диаграммы с помощью функции `pie_chart()` из модуля *plots.py*."
      ]
    },
    {
      "cell_type": "code",
      "execution_count": null,
      "metadata": {
        "id": "CvDoTKakHO1n"
      },
      "outputs": [],
      "source": [
        "# INSERT YOUR CODE"
      ]
    },
    {
      "cell_type": "markdown",
      "metadata": {
        "id": "yMBrrQIGIG41"
      },
      "source": [
        "### **Задача 8.**\n",
        "\n",
        "Проведите эксперименты, аналогичные тем, которые выполнялись для исследования эффективности наивного алгоритма в задаче 6. Постройте графики и вычислите ускорение алгоритма UCR-DTW относительно наивного алгоритма. Для справедливого сравнения алгоритмов используйте сгенерированные временные ряды и запросы из задачи 6."
      ]
    },
    {
      "cell_type": "markdown",
      "metadata": {
        "id": "AHVSwkGOJ_Wn"
      },
      "source": [
        "Эксперимент 1"
      ]
    },
    {
      "cell_type": "code",
      "execution_count": null,
      "metadata": {
        "id": "-jFvyr3m0SXO"
      },
      "outputs": [],
      "source": [
        "algorithm = 'ucr-dtw'\n",
        "algorithm_params = {\n",
        "    'topK': 3,\n",
        "    'excl_zone_frac': 1,\n",
        "    'is_normalize': True,\n",
        "}\n",
        "\n",
        "n_list = [2**10, 2**11, 2**12, 2**13, 2**14, 2**15] # lengths of time series\n",
        "r_list = np.round(np.arange(0, 0.6, 0.1), 2).tolist() # sizes of warping window\n",
        "m = 2**6 # length of query\n",
        "\n",
        "exp1_params = {\n",
        "    'varying': {'n': n_list,\n",
        "                'r': r_list},\n",
        "    'fixed': {'m': m}\n",
        "}\n",
        "exp1_data = {\n",
        "    'ts': dict.fromkeys(map(str, n_list), []),\n",
        "    'query': {str(m): []}\n",
        "}\n",
        "\n",
        "task = 'best_match'\n",
        "\n",
        "# generate set of time series and query\n",
        "# run experiments for measurement of algorithm runtimes\n",
        "\n",
        "# INSERT YOUR CODE"
      ]
    },
    {
      "cell_type": "code",
      "execution_count": null,
      "metadata": {
        "id": "9g_YLPtqpkIN"
      },
      "outputs": [],
      "source": [
        "#visualize plot with results of experiment\n",
        "comparison_param = np.array(r_list)\n",
        "\n",
        "# INSERT YOUR CODE"
      ]
    },
    {
      "cell_type": "code",
      "execution_count": null,
      "metadata": {
        "id": "eceQ2DqFJMCQ"
      },
      "outputs": [],
      "source": [
        "# visualize table with speedup\n",
        "tab_index = [f\"n = {n}\" for n in n_list]\n",
        "tab_columns = [f\"r = {r}\" for r in r_list]\n",
        "tab_title = \"Speedup UCR-DTW relative to the naive algorithm <br> (variable time series length and warping path size, fixed query length)\"\n",
        "\n",
        "# INSERT YOUR CODE"
      ]
    },
    {
      "cell_type": "markdown",
      "metadata": {
        "id": "-ahl7EPgJ7U9"
      },
      "source": [
        "Эксперимент 2"
      ]
    },
    {
      "cell_type": "code",
      "execution_count": null,
      "metadata": {
        "id": "uwYSqQEa0d1C"
      },
      "outputs": [],
      "source": [
        "m_list = [2**4, 2**5, 2**6, 2**7, 2**8] # lengths of query\n",
        "r_list = np.round(np.arange(0, 0.6, 0.1), 2).tolist() # sizes of warping window\n",
        "n = 2**12 # length of time series\n",
        "\n",
        "exp_params = {\n",
        "    'varying': {'m': m_list,\n",
        "                'r': r_list},\n",
        "    'fixed': {'n': n}\n",
        "}\n",
        "data = {\n",
        "    'ts': {str(n): []},\n",
        "    'query': dict.fromkeys(map(str, m_list), []),\n",
        "}\n",
        "\n",
        "# INSERT YOUR CODE"
      ]
    },
    {
      "cell_type": "code",
      "execution_count": null,
      "metadata": {
        "id": "TDbP4WWlplAi"
      },
      "outputs": [],
      "source": [
        "comparison_param = np.array(r_list)\n",
        "\n",
        "# INSERT YOUR CODE"
      ]
    },
    {
      "cell_type": "code",
      "execution_count": null,
      "metadata": {
        "id": "OaUXmsV8IxAB"
      },
      "outputs": [],
      "source": [
        "tab_index = [f\"m = {m}\" for m in m_list]\n",
        "tab_columns = [f\"r = {r}\" for r in r_list]\n",
        "tab_title = \"Speedup UCR-DTW relative to the naive algorithm <br> (variable query length and warping path size, fixed time series length)\"\n",
        "\n",
        "# INSERT YOUR CODE"
      ]
    },
    {
      "cell_type": "markdown",
      "metadata": {
        "id": "d7uYZir1JLJi"
      },
      "source": [
        "![equation.png](data:image/png;base64,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)\n",
        "Проанализируйте и изложите содержательный смысл полученных\n",
        "результатов."
      ]
    },
    {
      "cell_type": "markdown",
      "metadata": {
        "id": "_e2qnLfU9e1W"
      },
      "source": [
        "*# WRITE YOUR ANSWER*"
      ]
    },
    {
      "cell_type": "markdown",
      "metadata": {
        "id": "mza7NVIBKm7o"
      },
      "source": [
        "### **Задача 9.**\n",
        "\n",
        "В данном задании вам предстоит определелить, какую функцию расстояния ED или DTW лучше всего использовать на практике для поиска наиболее похожих подпоследовательностей временного ряда на запрос. Чтобы это сделать, рассмотрим две задачи из различных предметных областей, решить которые предлагается с помощью алгоритмов поиска по образцу.\n",
        "\n",
        "Начнем с **первой задачи из области физиологии человека**. На человеке сначала закрепляют множество акселерометров и гироскопов, после чего он выполняет в помещении последовательность заранее определенных действий (активностей) в течение некоторого промежутка времени. Примерами таких активностей являются открывание/закрывание дверей, включение/выключение света, питье из чашки стоя/сидя и др. В то время как человек выполняет эти активности, датчики фиксируют его скорость и направление наклона тела. Задача дата-сайентиста заключается в том, что необходимо распознать в снятых данных все активности, которые выполнял человек.  \n",
        "\n",
        "Данную задачу упростим, и будем выполнять поиск только одной активности во временном ряде при условии, что у нас имеется образец этой активности. В качестве данных возьмем временной ряд показаний гироскопа, закрепленного на правом запятье руки человека, из набора данных [Opportunity](https://archive.ics.uci.edu/dataset/226/opportunity+activity+recognition) и образец искомой активности, питья из чашки стоя. Данный ряд соответствует примерно 14-минутной записи.\n",
        "\n",
        "Загрузите временной ряд и образец поиска из директории `./datasets/part3/Opportunity` в ноутбук.    "
      ]
    },
    {
      "cell_type": "code",
      "execution_count": null,
      "metadata": {
        "id": "buXZPR1xKmSP"
      },
      "outputs": [],
      "source": [
        "# INSERT YOUR CODE"
      ]
    },
    {
      "cell_type": "markdown",
      "metadata": {
        "id": "Zj1vvjS2LbE1"
      },
      "source": [
        "Выполните поиск похожих подпоследовательностей на запрос с помощью реализованных вами ранее алгоритмов MASS и UCR-DTW. Согласно истинной разметке, искомую активность человек выполнял 7 раз, поэтому параметр $topK=7$."
      ]
    },
    {
      "cell_type": "code",
      "execution_count": null,
      "metadata": {
        "id": "02W5Sw_zLbXr"
      },
      "outputs": [],
      "source": [
        "topK = 7\n",
        "r = 0.1\n",
        "excl_zone_frac = 1\n",
        "is_normalize = True\n",
        "\n",
        "# INSERT YOUR CODE"
      ]
    },
    {
      "cell_type": "markdown",
      "metadata": {
        "id": "sWnpk5egLbeK"
      },
      "source": [
        "Чтобы оценить качество распознавания активности, загрузите имеющуюся истинную разметку, хранящуюся в файле *labels.csv*. В разметке значением 1 обозначаются моменты времени, когда человек пил из чашки стоя, и значением 0 – в противном случае. Вычислите среди найденных $topK$ подпоследовательностей количество TP (True Positive) и FN (False Negative) с помощью функции `calculate_task1_accuracy()` и сравните между собой показатели, полученные с помощью MASS и UCR-DTW."
      ]
    },
    {
      "cell_type": "code",
      "execution_count": null,
      "metadata": {
        "id": "BiAQO1SDMLxQ"
      },
      "outputs": [],
      "source": [
        "def calculate_task1_accuracy(labels: np.array, predicted_results: np.array) -> dict:\n",
        "    \"\"\"\n",
        "    Calculate the accuracy of the algorithm which performs the activity recognition\n",
        "\n",
        "    Parameters\n",
        "    ----------\n",
        "    labels: true labels\n",
        "    predicted_results: results are predicted by algorithm\n",
        "\n",
        "    Returns\n",
        "    -------\n",
        "        The number of True Positive and False Negative examples\n",
        "    \"\"\"\n",
        "\n",
        "    TP = 0\n",
        "    FN = 0\n",
        "\n",
        "    topK = len(predicted_results['indices'])\n",
        "\n",
        "    for i in range(topK):\n",
        "        idx = predicted_results['indices'][i]\n",
        "        if (labels[idx] == 1):\n",
        "            TP = TP + 1\n",
        "\n",
        "    FN = topK - TP\n",
        "\n",
        "    return {'TP': TP,\n",
        "            'FN': FN}"
      ]
    },
    {
      "cell_type": "code",
      "execution_count": null,
      "metadata": {
        "id": "8WERGe60LbjP"
      },
      "outputs": [],
      "source": [
        "# INSERT YOUR CODE"
      ]
    },
    {
      "cell_type": "markdown",
      "metadata": {
        "id": "B22pE5hOLboG"
      },
      "source": [
        "Итоговый вывод о преимуществе одной функции расстояния над другой в задаче поиска по образцу на данный момент делать еще рано, поэтому решим **вторую задачу из области транспорта**. Данная задача заключается в прогнозировании потока пешеходов в некоторой точке города на основе прошлых данных.\n",
        "\n",
        "Прогнозирование ряда $T$ длины $n$ будем выполнять следующим образом. Сначала сформируем запрос $Q$, состоящий из $m$ последних по времени элементов ряда, $Q = T_{n-m+1,m}$. Далее среди всех подпоследовательностей ряда $T$, начинающихся с 1 до $n-2m$ позиций, найдем $topK$ похожих на запрос $Q$. Обозначим за $h > 0$ горизонт прогнозирования, определяющий количество элементов ряда, значения которых необходимо спрогнозировать. Для нахождения будущих значений будем брать $h$ элементов ряда, которые следуют за концевыми точками найденных похожих подпоследовательностей. В итоге, будущие значения будут получаться путем применения агрегатной функции к этим элементам. В качестве агрегатной функции может использоваться среднее арифметическое, взвешенное среднее, медиана и др.\n",
        "\n",
        "Загрузите временной ряд из файла *pedestrian_count.csv*, расположенного в директории *./datasets/part3/Melbourne*. Данный ряд содержит почасовую статистику о количестве пешеходов на улице Бурке в Мельбурне (Австралия), являющейся одной из главных улиц города. Данные собраны за период с 1 марта 2020 по 31 октября 2022 гг. Полный набор данных и его детальное описание доступны по следующей [ссылке](https://data.melbourne.vic.gov.au/explore/dataset/pedestrian-counting-system-monthly-counts-per-hour/information/)."
      ]
    },
    {
      "cell_type": "code",
      "execution_count": null,
      "metadata": {
        "id": "l9ZRT3e7LbtI"
      },
      "outputs": [],
      "source": [
        "data_path = './datasets/part3/Melbourne/pedestrian_count.csv'\n",
        "\n",
        "data = pd.read_csv(data_path, header=0)"
      ]
    },
    {
      "cell_type": "markdown",
      "metadata": {
        "id": "tp6lalDuLbxc"
      },
      "source": [
        "Реализуйте алгоритм прогнозирования временного ряда на основе UCR-DTW и MASS, следуя приведенному выше описанию. За прогнозирование отвечает класс `BestMatchPredictor` из модуля *prediction.py*, дополните его недостающим кодом.  \n",
        "\n",
        "Далее выполните прогнозирование потока людей для исходных данных на 1 день вперед (24 значения). Для этого установите следующие входные параметры:\n",
        "<ul>\n",
        "  <li>$h = 24$ (горизонт прогнозирования);</li>\n",
        "  <li>$m = 168$ (длина запроса и подпоследовательностей, соответствующая 1 неделе);</li>\n",
        "  <li>$aggr\\_func = \\text{'average'}$ (агрегатная функция);</li>\n",
        "  <li>для алгоритма UCR-DTW:\n",
        "    <ul>\n",
        "      <li>$topK = 5$ (количество похожих подпоследовательностей на запрос);</li>\n",
        "      <li>$r = 0.1$ (ширина полосы Сако–Чиба);</li>\n",
        "      <li>$excl\\_zone\\_frac = 1$ (доля от длины подпоследовательностей, на основе которой определяется, являются ли подпоследоватлеьности тривиальными совпадениями);</li>\n",
        "      <li>$is\\_normalize = True$ ($z$-нормализация запроса и подпоследовательностей);</li>\n",
        "    </ul>\n",
        "  </li>\n",
        "  <li>для алгоритма MASS:</li>\n",
        "    <ul>\n",
        "      <li>$topK = 5$ (количество похожих подпоследовательностей на запрос);</li>\n",
        "      <li>$excl\\_zone\\_frac = 1$ (доля от длины подпоследовательностей, на основе которой определяется, являются ли подпоследоватлеьности тривиальными совпадениями).</li>\n",
        "    </ul>\n",
        "</ul>\n",
        "\n",
        "Будем считать, что последние $h$ значений в загруженном временном ряде $T$ длины $n$ отсутствуют. Поэтому перед тем как находить прогнозные значения,  подготовьте данные. Разделите загруженный временной ряд $T$ на три части:\n",
        "<ol>\n",
        "  <li>ряд $T_{train}$, в котором будет выполняться поиск похожих подпоследовательностей на запрос $Q$: $T_{train} = T[0:(n-m-h)]$</li>\n",
        "  <li>запрос $Q$: $Q = T[(n-m-h) : (n-h)]$</li>\n",
        "  <li>реальные значения ряда $real\\_values$, которые необходимо спрогнозировать: $real\\_values = T[-h:] $</li>\n",
        "</ol>"
      ]
    },
    {
      "cell_type": "code",
      "execution_count": null,
      "metadata": {
        "id": "UxzzgpvOP9FU"
      },
      "outputs": [],
      "source": [
        "ucr_dtw_params = {\n",
        "    'topK': # INSERT VALUE,\n",
        "    'r': # INSERT VALUE,\n",
        "    'excl_zone_frac': # INSERT VALUE,\n",
        "    'is_normalize': # INSERT VALUE\n",
        "}\n",
        "\n",
        "# INSERT YOUR CODE"
      ]
    },
    {
      "cell_type": "code",
      "execution_count": null,
      "metadata": {
        "id": "PZpmc9lhP_rq"
      },
      "outputs": [],
      "source": [
        "mass_params = {\n",
        "    'topK': # INSERT VALUE,\n",
        "    'excl_zone_frac': # INSERT VALUE\n",
        "}\n",
        "\n",
        "# INSERT YOUR CODE"
      ]
    },
    {
      "cell_type": "markdown",
      "metadata": {
        "id": "5QeOFSuAO0m_"
      },
      "source": [
        "Далее выполните сравнение эффективности алгоритма при UCR-DTW и MASS по точности прогнозирования. Для оценки точности используйте **меру\n",
        "среднеквадратичной ошибки RMSE (Root Mean Square Error)**, которая определяется следующим образом:\n",
        "\\begin{equation}\n",
        "RMSE = \\sqrt{\\frac{1}{h}\\sum_{i=1}^h{(t_i-\\tilde{t}_i)}^2},\n",
        "\\end{equation}\n",
        "где $t_i$ и $\\tilde{t}_i$ — фактическое и прогнозное значения элемента ряда, $h$ — количество прогнозных элементов временного ряда."
      ]
    },
    {
      "cell_type": "code",
      "execution_count": null,
      "metadata": {
        "id": "o6CWLkibO0s4"
      },
      "outputs": [],
      "source": [
        "from sklearn.metrics import mean_squared_error\n",
        "\n",
        "# INSERT YOUR CODE"
      ]
    },
    {
      "cell_type": "markdown",
      "metadata": {
        "id": "sOTIGbhSO0xZ"
      },
      "source": [
        "![equation.png](data:image/png;base64,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) Сделайте вывод о влиянии функции расстояния ED и DTW на точность решения задач интеллектульного анализа данных, которые основаны на алгоритмах поиска по образцу.  "
      ]
    },
    {
      "cell_type": "markdown",
      "metadata": {
        "id": "CpNKtCw2O06_"
      },
      "source": [
        "*# WRITE YOUR ANSWER*"
      ]
    }
  ],
  "metadata": {
    "colab": {
      "collapsed_sections": [
        "X5XwzbI867MC"
      ],
      "provenance": []
    },
    "kernelspec": {
      "display_name": "Python 3",
      "name": "python3"
    },
    "language_info": {
      "codemirror_mode": {
        "name": "ipython",
        "version": 3
      },
      "file_extension": ".py",
      "mimetype": "text/x-python",
      "name": "python",
      "nbconvert_exporter": "python",
      "pygments_lexer": "ipython3",
      "version": "3.13.3"
    }
  },
  "nbformat": 4,
  "nbformat_minor": 0
}
